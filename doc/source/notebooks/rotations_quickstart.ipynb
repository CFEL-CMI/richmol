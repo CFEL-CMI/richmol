{
 "cells": [
  {
   "cell_type": "markdown",
   "metadata": {},
   "source": [
    "# Rotational dynamics Quickstart"
   ]
  },
  {
   "cell_type": "markdown",
   "metadata": {},
   "source": [
    "Calculation of rotational dynamics proceeds in two steps. At the first step, we obtain molecular field-free rotational energies, wave functions, and matrix elements of desired electric and magnetic property tensors, such as, for example, dipole moment or polarizability. At the second step, we solve the time-dependent problem with applied external electric and magnetic fields using the field-free solutions obtained at the first step as basis."
   ]
  },
  {
   "cell_type": "markdown",
   "metadata": {},
   "source": [
    "## Molecular field-free rotational states"
   ]
  },
  {
   "cell_type": "code",
   "execution_count": 1,
   "metadata": {},
   "outputs": [],
   "source": [
    "from richmol.rot import Molecule, mol_tensor\n",
    "from richmol.rot import solve"
   ]
  },
  {
   "cell_type": "markdown",
   "metadata": {},
   "source": [
    "There are three common ways to define molecule and its properties, using calculated or experimental data or combination of both:\n",
    "\n",
    "1. Provide Cartesian coordinates of atoms and molecular property tensors, referring to the same coordinate frame, obtained, for example, from quantum chemical calculations.\n",
    "\n",
    "2. Provide spectroscopic constants ($A$, $B$, $C$, $\\Delta_{J}$, $\\Delta_{J,K}$ ...) and molecular property tensors in the coordinate frame of principal axes of inertia (PAI).\n",
    "\n",
    "3. Provide spectroscopic constants ($A$, $B$, $C$, $\\Delta_{J}$, $\\Delta_{J,K}$ ...) and molecular property tensors which are not in the PAI frame. In this case, the Cartesian coordinates of atoms, defined with respect to the same frame as property tensors, must be provided. These will be used only for transforming the property tensors to the PAI frame."
   ]
  },
  {
   "cell_type": "markdown",
   "metadata": {},
   "source": [
    "### Molecular geometry and property tensors"
   ]
  },
  {
   "cell_type": "markdown",
   "metadata": {},
   "source": [
    "Here is an example for water molecule, using data obtained from a quantum chemical calculation"
   ]
  },
  {
   "cell_type": "code",
   "execution_count": 2,
   "metadata": {},
   "outputs": [
    {
     "name": "stdout",
     "output_type": "stream",
     "text": [
      "Masses and Cartesian coordinates of atoms\n",
      "O 15.99491462 [0.         0.         0.06559636]\n",
      "H 1.0078250322 [ 0.         -0.7572668  -0.52053088]\n",
      "H 1.0078250322 [ 0.          0.7572668  -0.52053088]\n"
     ]
    }
   ],
   "source": [
    "water = Molecule()\n",
    "\n",
    "# Cartesian coordinates of atoms\n",
    "water.XYZ = (\"bohr\",\n",
    "             \"O\",  0.00000000,   0.00000000,   0.12395915,\n",
    "             \"H\",  0.00000000,  -1.43102686,  -0.98366080,\n",
    "             \"H\",  0.00000000,   1.43102686,  -0.98366080)\n",
    "\n",
    "# dipole moment (au)\n",
    "water.dip = [0, 0, -0.7288]\n",
    "\n",
    "# polarizability tensor (au)\n",
    "water.pol = [[9.1369, 0, 0], [0, 9.8701, 0], [0, 0, 9.4486]]\n",
    "\n",
    "print(\"Masses and Cartesian coordinates of atoms\")\n",
    "for atom in water.XYZ:\n",
    "    print(atom['label'], atom['mass'], atom['xyz'])"
   ]
  },
  {
   "cell_type": "markdown",
   "metadata": {},
   "source": [
    "By default, calculations are carried out for the main isotopologue. To specify a non-standard isotope, put the corresponding isotope number next to the atom label, for example, \"O18\" for oxygen-18 or \"H2\" for deuterium"
   ]
  },
  {
   "cell_type": "code",
   "execution_count": 3,
   "metadata": {},
   "outputs": [
    {
     "name": "stdout",
     "output_type": "stream",
     "text": [
      "Masses and Cartesian coordinates of atoms\n",
      "O18 17.999159613 [0.         0.         0.06559636]\n",
      "H2 2.0141017781 [ 0.         -0.7572668  -0.52053088]\n",
      "H2 2.0141017781 [ 0.          0.7572668  -0.52053088]\n"
     ]
    }
   ],
   "source": [
    "# example of D2^{18}O\n",
    "D2_18O = Molecule()\n",
    "D2_18O.XYZ = (\"bohr\",\n",
    "             \"O18\",  0.00000000,   0.00000000,   0.12395915,\n",
    "             \"H2\",   0.00000000,  -1.43102686,  -0.98366080,\n",
    "             \"H2\",   0.00000000,   1.43102686,  -0.98366080)\n",
    "\n",
    "print(\"Masses and Cartesian coordinates of atoms\")\n",
    "for atom in D2_18O.XYZ:\n",
    "    print(atom['label'], atom['mass'], atom['xyz'])"
   ]
  },
  {
   "cell_type": "markdown",
   "metadata": {},
   "source": [
    "We can also read/store the geometry from/to XYZ file"
   ]
  },
  {
   "cell_type": "code",
   "execution_count": 4,
   "metadata": {},
   "outputs": [
    {
     "name": "stdout",
     "output_type": "stream",
     "text": [
      "Masses and Cartesian coordinates of atoms\n",
      "O 15.99491462 [0.         0.         0.06559636]\n",
      "H 1.0078250322 [ 0.         -0.7572668  -0.52053088]\n",
      "H 1.0078250322 [ 0.          0.7572668  -0.52053088]\n"
     ]
    }
   ],
   "source": [
    "# store Cartesian coordinates of atoms into XYZ file\n",
    "water.store_xyz(\"water.xyz\", \"some comment line\")\n",
    "\n",
    "# read Cartesian coordinates of atoms from XYZ file\n",
    "water2 = Molecule()\n",
    "water2.XYZ = \"water.xyz\"\n",
    "\n",
    "print(\"Masses and Cartesian coordinates of atoms\")\n",
    "for atom in water2.XYZ:\n",
    "    print(atom['label'], atom['mass'], atom['xyz'])"
   ]
  },
  {
   "cell_type": "markdown",
   "metadata": {},
   "source": [
    "The molecular frame embedding, i.e., the orientation of $x,y,z$ axes with respect to molecule, can be altered using `frame`.\n",
    "The molecule properties `dip` for the dipole moment and `pol` for the polarizability tensor (and few others) will be dynamically rotated to a new coordinate frame whenever the latter is changed"
   ]
  },
  {
   "cell_type": "code",
   "execution_count": 5,
   "metadata": {},
   "outputs": [
    {
     "name": "stdout",
     "output_type": "stream",
     "text": [
      "coordinates of atoms\n",
      " [('O', 15.99491462, [ 0.        ,  0.06559636,  0.        ])\n",
      " ('H',  1.00782503, [-0.7572668 , -0.52053088,  0.        ])\n",
      " ('H',  1.00782503, [ 0.7572668 , -0.52053088,  0.        ])]\n",
      "dipole moment\n",
      " [ 0.     -0.7288  0.    ]\n",
      "polarizability\n",
      " [[9.8701 0.     0.    ]\n",
      " [0.     9.4486 0.    ]\n",
      " [0.     0.     9.1369]]\n",
      "inertia tensor\n",
      " [[ 0.61496945 -0.         -0.        ]\n",
      " [-0.          1.1558806  -0.        ]\n",
      " [-0.         -0.          1.77085004]]\n"
     ]
    }
   ],
   "source": [
    "# change frame to inertial principal axes system (ipas)\n",
    "water.frame = \"ipas\"\n",
    "\n",
    "# or equivalently\n",
    "water.frame = \"diag(inertia)\" # reads as: frame where the inertia tensor is diagonal\n",
    "\n",
    "print(\"coordinates of atoms\\n\", water.XYZ)\n",
    "print(\"dipole moment\\n\", water.dip)\n",
    "print(\"polarizability\\n\", water.pol)\n",
    "\n",
    "print(\"inertia tensor\\n\", water.inertia)"
   ]
  },
  {
   "cell_type": "markdown",
   "metadata": {},
   "source": [
    "Multiple frame operations can be combined together, for example, we can rotate to the inertial principal axes system and then permute $x$ and $z$ axes"
   ]
  },
  {
   "cell_type": "code",
   "execution_count": 6,
   "metadata": {},
   "outputs": [
    {
     "name": "stdout",
     "output_type": "stream",
     "text": [
      "coordinates of atoms\n",
      " [('O', 15.99491462, [ 0.        ,  0.06559636,  0.        ])\n",
      " ('H',  1.00782503, [ 0.        , -0.52053088, -0.7572668 ])\n",
      " ('H',  1.00782503, [ 0.        , -0.52053088,  0.7572668 ])]\n",
      "dipole moment\n",
      " [ 0.     -0.7288  0.    ]\n",
      "polarizability\n",
      " [[9.1369 0.     0.    ]\n",
      " [0.     9.4486 0.    ]\n",
      " [0.     0.     9.8701]]\n",
      "inertia tensor\n",
      " [[ 1.77085004 -0.         -0.        ]\n",
      " [-0.          1.1558806  -0.        ]\n",
      " [-0.         -0.          0.61496945]]\n"
     ]
    }
   ],
   "source": [
    "water.frame = \"ipas\"\n",
    "water.frame = \"zyx\"\n",
    "\n",
    "# or equivalently in one line (with operations performed form right to left)\n",
    "water.frame = \"zyx,ipas\"\n",
    "\n",
    "print(\"coordinates of atoms\\n\", water.XYZ)\n",
    "print(\"dipole moment\\n\", water.dip)\n",
    "print(\"polarizability\\n\", water.pol)\n",
    "\n",
    "print(\"inertia tensor\\n\", water.inertia)"
   ]
  },
  {
   "cell_type": "markdown",
   "metadata": {},
   "source": [
    "The principal axes system can be defined with respect to any rank-2 symmetric matrix. For example, in many cases it is convenient to choose molecular frame such that polarizability tensor becomes diagonal"
   ]
  },
  {
   "cell_type": "code",
   "execution_count": 7,
   "metadata": {},
   "outputs": [
    {
     "name": "stdout",
     "output_type": "stream",
     "text": [
      "coordinates of atoms\n",
      " [('O', 15.99491462, [ 0.        ,  0.06559636,  0.        ])\n",
      " ('H',  1.00782503, [ 0.        , -0.52053088, -0.7572668 ])\n",
      " ('H',  1.00782503, [ 0.        , -0.52053088,  0.7572668 ])]\n",
      "dipole moment\n",
      " [ 0.     -0.7288  0.    ]\n",
      "polarizability\n",
      " [[9.1369 0.     0.    ]\n",
      " [0.     9.4486 0.    ]\n",
      " [0.     0.     9.8701]]\n"
     ]
    }
   ],
   "source": [
    "water.frame = \"diag(pol)\" # reads as: frame where tensor 'pol' is diagonal\n",
    "\n",
    "print(\"coordinates of atoms\\n\", water.XYZ)\n",
    "print(\"dipole moment\\n\", water.dip)\n",
    "print(\"polarizability\\n\", water.pol)\n"
   ]
  },
  {
   "cell_type": "markdown",
   "metadata": {},
   "source": [
    "We can also define custom rotation matrix or principal axis matrix, as demonstrated below"
   ]
  },
  {
   "cell_type": "code",
   "execution_count": 8,
   "metadata": {},
   "outputs": [],
   "source": [
    "import numpy as np\n",
    "import scipy.linalg as la\n",
    "\n",
    "# generate random matrix\n",
    "mat = np.random.rand(3,3)\n",
    "\n",
    "# random rotation matrix\n",
    "water.custom_rot = la.expm((mat - mat.T)/2)\n",
    "\n",
    "# random symmetric matrix\n",
    "water.custom_pam = (mat + mat.T)/2\n",
    "\n",
    "# use 'custom_rot' (orthogonal) matrix to rotate the frame\n",
    "water.frame = \"custom_rot\"\n",
    "\n",
    "# alternatively use 'custom_pam' (symmetric) matrix as principal axes matrix\n",
    "water.frame = \"diag(custom_pam)\""
   ]
  },
  {
   "cell_type": "markdown",
   "metadata": {},
   "source": [
    "Multiple occurences of `frame` assignments lead to the accumulation of the corresponding frame transformations. Use `frame`=None or `frame`=\"None\" to reset the frame to the one defined by the input Cartesian coordinates of atoms"
   ]
  },
  {
   "cell_type": "code",
   "execution_count": 9,
   "metadata": {},
   "outputs": [
    {
     "name": "stdout",
     "output_type": "stream",
     "text": [
      "[('O', 15.99491462, [ 0.        ,  0.06559636,  0.        ])\n",
      " ('H',  1.00782503, [ 0.        , -0.52053088, -0.7572668 ])\n",
      " ('H',  1.00782503, [ 0.        , -0.52053088,  0.7572668 ])]\n"
     ]
    }
   ],
   "source": [
    "water.frame = \"diag(inertia)\" # rotate to ipas\n",
    "water.frame = \"zxy\" # then permute axes (123)\n",
    "\n",
    "# now we want to permute axes (23) in the original frame, reset frame rotation\n",
    "water.frame = None\n",
    "water.frame = \"xzy\"\n",
    "\n",
    "# or equivalently in one line\n",
    "water.frame = \"xzy,None\"\n",
    "\n",
    "print(water.XYZ)"
   ]
  },
  {
   "cell_type": "markdown",
   "metadata": {},
   "source": [
    "Only certain molecule properties (such as `dip`, `pol`, `inertia`, `XYZ`, and few others) are automatically rotated when the frame is altered. This is demonstrated in the following example"
   ]
  },
  {
   "cell_type": "code",
   "execution_count": 10,
   "metadata": {},
   "outputs": [
    {
     "name": "stdout",
     "output_type": "stream",
     "text": [
      "vec\n",
      " [1, 2, 3]\n",
      "mat\n",
      " [[1, 2, 3], [4, 5, 6], [7, 8, 9]]\n",
      "dip\n",
      " [-0.7288  0.      0.    ]\n"
     ]
    }
   ],
   "source": [
    "water.vec = [1,2,3]\n",
    "water.mat = [[1,2,3],[4,5,6],[7,8,9]]\n",
    "\n",
    "water.frame = \"zyx,null\"\n",
    "\n",
    "# axes permutation (13) does not affect vec and mat, but dip\n",
    "print(\"vec\\n\", water.vec)\n",
    "print(\"mat\\n\", water.mat)\n",
    "print(\"dip\\n\", water.dip)"
   ]
  },
  {
   "cell_type": "markdown",
   "metadata": {},
   "source": [
    "To declare a custom Cartesian tensor which is dynamically rotated to a new frame, use `mol_tensor` function"
   ]
  },
  {
   "cell_type": "code",
   "execution_count": 11,
   "metadata": {},
   "outputs": [
    {
     "name": "stdout",
     "output_type": "stream",
     "text": [
      "vec\n",
      " [3. 2. 1.]\n",
      "mat\n",
      " [[9. 8. 7.]\n",
      " [6. 5. 4.]\n",
      " [3. 2. 1.]]\n",
      "dip\n",
      " [-0.7288  0.      0.    ]\n",
      "\n",
      "new vec\n",
      " [9. 8. 7.]\n",
      "new mat\n",
      " [[19. 18. 17.]\n",
      " [16. 15. 14.]\n",
      " [13. 12. 11.]]\n"
     ]
    }
   ],
   "source": [
    "water.vec = mol_tensor([1,2,3])\n",
    "water.mat = mol_tensor([[1,2,3],[4,5,6],[7,8,9]])\n",
    "\n",
    "water.frame = \"zyx,null\"\n",
    "\n",
    "# axes permutation (13) now affects also vec and mat\n",
    "print(\"vec\\n\", water.vec)\n",
    "print(\"mat\\n\", water.mat)\n",
    "print(\"dip\\n\", water.dip)\n",
    "\n",
    "# we can then change vec and mat values, they will still be dynamically rotated\n",
    "water.vec = [7,8,9]\n",
    "water.mat = [[11,12,13],[14,15,16],[17,18,19]]\n",
    "\n",
    "print(\"\\nnew vec\\n\", water.vec)\n",
    "print(\"new mat\\n\", water.mat)"
   ]
  },
  {
   "cell_type": "markdown",
   "metadata": {},
   "source": [
    "### Rotational constants"
   ]
  },
  {
   "cell_type": "markdown",
   "metadata": {},
   "source": [
    "The rotational constants $B_x$, $B_y$, $B_z$ (in units of cm$^{-1}$) can be calculated from the input molecular geometry using `B`. This will work only if the molecular frame is set to the inertial principal axes system or if the inertia tensor happens to be diagonal"
   ]
  },
  {
   "cell_type": "code",
   "execution_count": 12,
   "metadata": {},
   "outputs": [
    {
     "name": "stdout",
     "output_type": "stream",
     "text": [
      "[9.519512542010801, 14.584230612810305, 27.412141069544163]\n",
      "[27.412141069544163, 14.584230612810305, 9.519512542010801]\n"
     ]
    }
   ],
   "source": [
    "water.frame = \"diag(pol)\" # frame where polarizability tensor is diagonal\n",
    "print(water.B) # works, because inertia tensor happens to be diagonal in the selected frame\n",
    "\n",
    "water.frame = \"diag(inertia)\"\n",
    "print(water.B) # the rotational constants in the inertia frame will be sorted in ascending order"
   ]
  },
  {
   "cell_type": "markdown",
   "metadata": {},
   "source": [
    "The values of rotational constants can also be user specified, for example, by setting them to experimental values. In these case, `B` will always return the user-defined values. To access the rotational constants calculated from the molecular geometry, use `B_geom`"
   ]
  },
  {
   "cell_type": "code",
   "execution_count": 13,
   "metadata": {},
   "outputs": [
    {
     "name": "stdout",
     "output_type": "stream",
     "text": [
      "water.B  [27.412141069544163, 14.584230612810305, 9.519512542010801]\n",
      "water.B  [27.877, 14.512, 9.285]\n",
      "water.B_geom  [27.412141069544163, 14.584230612810305, 9.519512542010801]\n"
     ]
    }
   ],
   "source": [
    "print(\"water.B \", water.B)\n",
    "water.B = (27.877, 14.512, 9.285) # user-defined rotational constants in units of cm^-1\n",
    "print(\"water.B \", water.B)\n",
    "print(\"water.B_geom \", water.B_geom)"
   ]
  },
  {
   "cell_type": "markdown",
   "metadata": {},
   "source": [
    "***************************\n",
    "\n",
    "**Important**: If user-defined rotational constants have been specified, the rotational Hamiltonian is built using these values\n",
    "\n",
    "***************************"
   ]
  },
  {
   "cell_type": "markdown",
   "metadata": {},
   "source": [
    "For linear and spherical-top molecules, use `B` to print and assign the rotational constant"
   ]
  },
  {
   "cell_type": "code",
   "execution_count": 14,
   "metadata": {},
   "outputs": [
    {
     "name": "stdout",
     "output_type": "stream",
     "text": [
      "[0.20286, 0.20286, 0]\n",
      "[0.20317859211971495, 0.20317859211971495, 0]\n",
      "True\n"
     ]
    }
   ],
   "source": [
    "ocs = Molecule()\n",
    "ocs.B = 0.20286 # experimental value\n",
    "print(ocs.B)\n",
    "\n",
    "ocs.XYZ = (\"angstrom\", \"C\", 0, 0, 0, \"S\", 0, 0, -1.56, \"O\", 0, 0, 1.16)\n",
    "print(ocs.B_geom) # calculated value\n",
    "\n",
    "print(ocs.linear()) # True if molecule is linear"
   ]
  },
  {
   "cell_type": "markdown",
   "metadata": {},
   "source": [
    "If the molecular geometry is specified, the user-input rotational constants are always checked to agree within 5% difference with the values calculated from molecular geometry. Here is an example of an error produced when molecular frame is not in the inertial principal axes system"
   ]
  },
  {
   "cell_type": "code",
   "execution_count": 15,
   "metadata": {},
   "outputs": [
    {
     "name": "stdout",
     "output_type": "stream",
     "text": [
      "inertia frame\n",
      "calculated Bx, By, Bz [27.412141069544163, 14.584230612810305, 9.519512542010801]\n",
      "input Bx, By, Bz      [27.877, 14.512, 9.285]\n",
      "\n",
      "polarizability frame\n",
      "calculated Bx, By, Bz [9.519512542010801, 14.584230612810305, 27.412141069544163]\n"
     ]
    },
    {
     "ename": "ValueError",
     "evalue": "input rotational constants disagree much with geometry\n        inp          calc       inp-calc\nBx    27.877000     9.519513    18.357487\nBy    14.512000    14.584231    -0.072231\nBz     9.285000    27.412141   -18.127141",
     "output_type": "error",
     "traceback": [
      "\u001b[0;31m---------------------------------------------------------------------------\u001b[0m",
      "\u001b[0;31mValueError\u001b[0m                                Traceback (most recent call last)",
      "\u001b[0;32m<ipython-input-15-e84abaa66c72>\u001b[0m in \u001b[0;36m<module>\u001b[0;34m\u001b[0m\n\u001b[1;32m     18\u001b[0m \u001b[0mprint\u001b[0m\u001b[0;34m(\u001b[0m\u001b[0;34m\"\\npolarizability frame\"\u001b[0m\u001b[0;34m)\u001b[0m\u001b[0;34m\u001b[0m\u001b[0;34m\u001b[0m\u001b[0m\n\u001b[1;32m     19\u001b[0m \u001b[0mprint\u001b[0m\u001b[0;34m(\u001b[0m\u001b[0;34m\"calculated Bx, By, Bz\"\u001b[0m\u001b[0;34m,\u001b[0m \u001b[0mwater2\u001b[0m\u001b[0;34m.\u001b[0m\u001b[0mB_geom\u001b[0m\u001b[0;34m)\u001b[0m\u001b[0;34m\u001b[0m\u001b[0;34m\u001b[0m\u001b[0m\n\u001b[0;32m---> 20\u001b[0;31m \u001b[0mprint\u001b[0m\u001b[0;34m(\u001b[0m\u001b[0;34m\"input Bx, By, Bz     \"\u001b[0m\u001b[0;34m,\u001b[0m \u001b[0mwater2\u001b[0m\u001b[0;34m.\u001b[0m\u001b[0mB\u001b[0m\u001b[0;34m)\u001b[0m \u001b[0;31m# specified rotaitonal constants disagree much with the geometry\u001b[0m\u001b[0;34m\u001b[0m\u001b[0;34m\u001b[0m\u001b[0m\n\u001b[0m",
      "\u001b[0;32m~/.local/lib/python3.8/site-packages/richmol-0.1a1-py3.8-linux-x86_64.egg/richmol/rot/molecule.py\u001b[0m in \u001b[0;36mB\u001b[0;34m(self)\u001b[0m\n\u001b[1;32m    320\u001b[0m         \"\"\"\n\u001b[1;32m    321\u001b[0m         \u001b[0;32mtry\u001b[0m\u001b[0;34m:\u001b[0m\u001b[0;34m\u001b[0m\u001b[0;34m\u001b[0m\u001b[0m\n\u001b[0;32m--> 322\u001b[0;31m             \u001b[0mself\u001b[0m\u001b[0;34m.\u001b[0m\u001b[0mcheck_B\u001b[0m\u001b[0;34m(\u001b[0m\u001b[0;34m)\u001b[0m\u001b[0;34m\u001b[0m\u001b[0;34m\u001b[0m\u001b[0m\n\u001b[0m\u001b[1;32m    323\u001b[0m             \u001b[0;32mreturn\u001b[0m \u001b[0mself\u001b[0m\u001b[0;34m.\u001b[0m\u001b[0mB_exp\u001b[0m\u001b[0;34m\u001b[0m\u001b[0;34m\u001b[0m\u001b[0m\n\u001b[1;32m    324\u001b[0m         \u001b[0;32mexcept\u001b[0m \u001b[0mAttributeError\u001b[0m\u001b[0;34m:\u001b[0m\u001b[0;34m\u001b[0m\u001b[0;34m\u001b[0m\u001b[0m\n",
      "\u001b[0;32m~/.local/lib/python3.8/site-packages/richmol-0.1a1-py3.8-linux-x86_64.egg/richmol/rot/molecule.py\u001b[0m in \u001b[0;36mcheck_B\u001b[0;34m(self)\u001b[0m\n\u001b[1;32m    350\u001b[0m             err = \"\\n\".join( abc + \" %12.6f\"%e + \" %12.6f\"%c + \" %12.6f\"%(e-c) \\\n\u001b[1;32m    351\u001b[0m                              for abc,e,c in zip((\"Bx\",\"By\",\"Bz\"), B_exp, B_geom) )\n\u001b[0;32m--> 352\u001b[0;31m             raise ValueError(f\"input rotational constants disagree much with geometry\\n\" + \\\n\u001b[0m\u001b[1;32m    353\u001b[0m                 f\"        inp          calc       inp-calc\\n\" + err) from None\n\u001b[1;32m    354\u001b[0m         \u001b[0;32mreturn\u001b[0m\u001b[0;34m\u001b[0m\u001b[0;34m\u001b[0m\u001b[0m\n",
      "\u001b[0;31mValueError\u001b[0m: input rotational constants disagree much with geometry\n        inp          calc       inp-calc\nBx    27.877000     9.519513    18.357487\nBy    14.512000    14.584231    -0.072231\nBz     9.285000    27.412141   -18.127141"
     ]
    }
   ],
   "source": [
    "water2 = Molecule()\n",
    "water2.B = water.B = (27.877, 14.512, 9.285) # user-defined rotational constants in units of cm^-1\n",
    "\n",
    "water2.XYZ = (\"bohr\",\n",
    "              \"O\",  0.00000000,   0.00000000,   0.12395915,\n",
    "              \"H\",  0.00000000,  -1.43102686,  -0.98366080,\n",
    "              \"H\",  0.00000000,   1.43102686,  -0.98366080)\n",
    "\n",
    "# polarizability tensor (au)\n",
    "water2.pol = [[9.1369, 0, 0], [0, 9.8701, 0], [0, 0, 9.4486]]\n",
    "\n",
    "water2.frame = 'ipas' # inertia principal axes system\n",
    "print(\"inertia frame\")\n",
    "print(\"calculated Bx, By, Bz\", water2.B_geom)\n",
    "print(\"input Bx, By, Bz     \", water2.B)\n",
    "\n",
    "water2.frame = 'diag(pol)' # polarizability principal axes system\n",
    "print(\"\\npolarizability frame\")\n",
    "print(\"calculated Bx, By, Bz\", water2.B_geom)\n",
    "print(\"input Bx, By, Bz     \", water2.B) # specified rotaitonal constants disagree much with the geometry "
   ]
  },
  {
   "cell_type": "markdown",
   "metadata": {},
   "source": [
    "### Rotational solutions "
   ]
  },
  {
   "cell_type": "markdown",
   "metadata": {},
   "source": [
    "The rotational energies and wave functions can be calculated for a specified range of $J$ quantum number using function `solve`"
   ]
  },
  {
   "cell_type": "code",
   "execution_count": 16,
   "metadata": {},
   "outputs": [],
   "source": [
    "sol = solve(water, Jmin=0, Jmax=10)"
   ]
  },
  {
   "cell_type": "markdown",
   "metadata": {},
   "source": [
    "Returned object is a dictionary `sol[J][sym]` containing solutions for different values of $J$ and different symetries (of $C_1$ group by default). The state energies (in cm$^{-1}$) and assignments (by $J, k, \\tau$ quantum numbers) can be printed out as following"
   ]
  },
  {
   "cell_type": "code",
   "execution_count": 17,
   "metadata": {
    "tags": []
   },
   "outputs": [
    {
     "name": "stdout",
     "output_type": "stream",
     "text": [
      "J  sym #    energy      J   k  tau  |leading coef|^2\n",
      "0    A 0     0.000000 ['0' '0' '0' ' 1.000000']\n",
      "1    A 0    23.797000 ['1' '1' '1' ' 1.000000']\n",
      "1    A 1    37.162000 ['1' '1' '0' ' 1.000000']\n",
      "1    A 2    42.389000 ['1' '0' '1' ' 1.000000']\n",
      "2    A 0    70.133328 ['2' '2' '0' ' 0.858561']\n",
      "2    A 1    79.529000 ['2' '2' '1' ' 1.000000']\n",
      "2    A 2    95.210000 ['2' '1' '0' ' 1.000000']\n",
      "2    A 3   135.305000 ['2' '1' '1' ' 1.000000']\n",
      "2    A 4   136.562672 ['2' '0' '0' ' 0.858561']\n",
      "3    A 0   136.909477 ['3' '3' '1' ' 0.864669']\n",
      "3    A 1   142.369084 ['3' '3' '0' ' 0.967023']\n",
      "3    A 2   173.535239 ['3' '2' '1' ' 0.709013']\n",
      "3    A 3   206.696000 ['3' '2' '0' ' 1.000000']\n",
      "3    A 4   212.568523 ['3' '1' '1' ' 0.864669']\n",
      "3    A 5   287.298916 ['3' '1' '0' ' 0.967023']\n",
      "3    A 6   287.494761 ['3' '0' '1' ' 0.709013']\n",
      "4    A 0   222.369478 ['4' '4' '0' ' 0.896649']\n",
      "4    A 1   225.067555 ['4' '4' '1' ' 0.948133']\n",
      "4    A 2   276.014787 ['4' '3' '0' ' 0.629522']\n",
      "4    A 3   300.891698 ['4' '3' '1' ' 0.918376']\n",
      "4    A 4   316.467065 ['4' '2' '0' ' 0.532625']\n",
      "4    A 5   384.522445 ['4' '2' '1' ' 0.948133']\n",
      "4    A 6   385.845213 ['4' '1' '0' ' 0.629522']\n",
      "4    A 7   494.618302 ['4' '1' '1' ' 0.918376']\n",
      "4    A 8   494.643456 ['4' '0' '0' ' 0.611920']\n",
      "5    A 0   325.904850 ['5' '5' '1' ' 0.918977']\n",
      "5    A 1   327.096090 ['5' '5' '0' ' 0.940650']\n",
      "5    A 2   400.581905 ['5' '4' '1' ' 0.643200']\n",
      "5    A 3   417.095984 ['5' '4' '0' ' 0.858561']\n",
      "5    A 4   447.924940 ['5' '1' '1' ' 0.528378']\n",
      "5    A 5   506.187057 ['5' '3' '0' ' 0.813657']\n",
      "5    A 6   511.103325 ['5' '0' '1' ' 0.363246']\n",
      "5    A 7   616.384016 ['5' '2' '0' ' 0.858561']\n",
      "5    A 8   616.605210 ['5' '3' '1' ' 0.527744']\n",
      "5    A 9   757.626853 ['5' '1' '0' ' 0.868831']\n",
      "5    A 10   757.629769 ['5' '0' '1' ' 0.546444']\n",
      "6    A 0   447.599446 ['6' '6' '0' ' 0.930613']\n",
      "6    A 1   448.088529 ['6' '6' '1' ' 0.938929']\n",
      "6    A 2   544.853509 ['6' '5' '0' ' 0.694584']\n",
      "6    A 3   554.434256 ['6' '5' '1' ' 0.826057']\n",
      "6    A 4   605.510686 ['6' '2' '0' ' 0.398085']\n",
      "6    A 5   651.859161 ['6' '4' '1' ' 0.707757']\n",
      "6    A 6   664.829678 ['6' '1' '0' ' 0.555679']\n",
      "6    A 7   763.189409 ['6' '3' '1' ' 0.667046']\n",
      "6    A 8   764.250215 ['6' '4' '0' ' 0.533751']\n",
      "6    A 9   903.627310 ['6' '2' '1' ' 0.760886']\n",
      "6    A 10   903.658813 ['6' '3' '0' ' 0.601918']\n",
      "6    A 11  1076.383335 ['6' '1' '1' ' 0.823528']\n",
      "6    A 12  1076.383652 ['6' '0' '0' ' 0.498603']\n",
      "7    A 0   587.641514 ['7' '7' '1' ' 0.936448']\n",
      "7    A 1   587.832828 ['7' '7' '0' ' 0.939478']\n",
      "7    A 2   707.150495 ['7' '6' '1' ' 0.745130']\n",
      "7    A 3   712.071291 ['7' '6' '0' ' 0.812652']\n",
      "7    A 4   787.117900 ['7' '5' '1' ' 0.378256']\n",
      "7    A 5   820.814666 ['7' '5' '0' ' 0.641752']\n",
      "7    A 6   847.669393 ['7' '2' '1' ' 0.418388']\n",
      "7    A 7   935.093985 ['7' '4' '0' ' 0.520021']\n",
      "7    A 8   938.717803 ['7' '5' '1' ' 0.475129']\n",
      "7    A 9  1074.737996 ['7' '3' '0' ' 0.515449']\n",
      "7    A 10  1074.921568 ['7' '4' '1' ' 0.608049']\n",
      "7    A 11  1246.578723 ['7' '2' '0' ' 0.671354']\n",
      "7    A 12  1246.582784 ['7' '3' '1' ' 0.626878']\n",
      "7    A 13  1450.894510 ['7' '1' '0' ' 0.783322']\n",
      "7    A 14  1450.894543 ['7' '2' '1' ' 0.476487']\n",
      "8    A 0   746.150442 ['8' '8' '0' ' 0.939605']\n",
      "8    A 1   746.222754 ['8' '8' '1' ' 0.940674']\n",
      "8    A 2   887.017097 ['8' '7' '0' ' 0.779525']\n",
      "8    A 3   889.320855 ['8' '7' '1' ' 0.810109']\n",
      "8    A 4   990.140685 ['8' '6' '0' ' 0.423009']\n",
      "8    A 5  1012.133558 ['8' '6' '1' ' 0.606478']\n",
      "8    A 6  1058.750356 ['8' '1' '0' ' 0.377711']\n",
      "8    A 7  1131.879066 ['8' '5' '1' ' 0.427515']\n",
      "8    A 8  1141.573018 ['8' '6' '0' ' 0.389495']\n",
      "8    A 9  1271.230370 ['8' '2' '1' ' 0.347811']\n",
      "8    A 10  1271.990740 ['8' '5' '0' ' 0.552238']\n",
      "8    A 11  1441.827472 ['8' '5' '1' ' 0.390135']\n",
      "8    A 12  1441.855243 ['8' '4' '0' ' 0.602795']\n",
      "8    A 13  1645.289318 ['8' '2' '1' ' 0.594197']\n",
      "8    A 14  1645.289806 ['8' '3' '0' ' 0.624819']\n",
      "8    A 15  1881.160608 ['8' '1' '1' ' 0.747822']\n",
      "8    A 16  1881.160611 ['8' '2' '0' ' 0.484037']\n",
      "9    A 0   923.184206 ['9' '9' '1' ' 0.941530']\n",
      "9    A 1   923.210846 ['9' '9' '0' ' 0.941899']\n",
      "9    A 2  1084.689410 ['9' '8' '1' ' 0.799868']\n",
      "9    A 3  1085.699491 ['9' '8' '0' ' 0.812648']\n",
      "9    A 4  1212.033720 ['9' '7' '1' ' 0.480199']\n",
      "9    A 5  1224.828202 ['9' '7' '0' ' 0.591925']\n",
      "9    A 6  1296.074482 ['9' '4' '1' ' 0.298864']\n",
      "9    A 7  1353.002055 ['9' '6' '0' ' 0.374391']\n",
      "9    A 8  1374.214294 ['9' '1' '1' ' 0.424466']\n",
      "9    A 9  1493.273872 ['9' '3' '0' ' 0.392923']\n",
      "9    A 10  1495.760196 ['9' '6' '1' ' 0.479054']\n",
      "9    A 11  1662.416485 ['9' '6' '0' ' 0.413327']\n",
      "9    A 12  1662.550755 ['9' '5' '1' ' 0.518099']\n",
      "9    A 13  1864.675734 ['9' '5' '0' ' 0.454211']\n",
      "9    A 14  1864.679566 ['9' '4' '1' ' 0.558578']\n",
      "9    A 15  2099.761970 ['9' '2' '0' ' 0.528922']\n",
      "9    A 16  2099.762025 ['9' '3' '1' ' 0.608392']\n",
      "9    A 17  2367.181346 ['9' '1' '0' ' 0.716385']\n",
      "9    A 18  2367.181346 ['9' '2' '1' ' 0.486567']\n",
      "10    A 0  1118.768185 ['10' '10' '0' ' 0.942846']\n",
      "10    A 1  1118.777805 ['10' '10' '1' ' 0.942971']\n",
      "10    A 2  1300.490705 ['10' '9' '0' ' 0.811875']\n",
      "10    A 3  1300.913168 ['10' '9' '1' ' 0.816944']\n",
      "10    A 4  1451.264316 ['10' '8' '0' ' 0.530681']\n",
      "10    A 5  1457.977536 ['10' '8' '1' ' 0.590062']\n",
      "10    A 6  1556.988444 ['10' '5' '0' ' 0.287706']\n",
      "10    A 7  1597.634515 ['10' '5' '1' ' 0.355618']\n",
      "10    A 8  1636.837487 ['10' '2' '0' ' 0.342468']\n",
      "10    A 9  1740.831055 ['10' '4' '1' ' 0.384579']\n",
      "10    A 10  1747.571107 ['10' '7' '0' ' 0.402992']\n",
      "10    A 11  1908.633990 ['10' '7' '1' ' 0.406274']\n",
      "10    A 12  1909.146191 ['10' '6' '0' ' 0.430611']\n",
      "10    A 13  2109.304208 ['10' '6' '1' ' 0.468340']\n",
      "10    A 14  2109.325343 ['10' '5' '0' ' 0.435375']\n",
      "10    A 15  2343.306809 ['10' '5' '1' ' 0.486181']\n",
      "10    A 16  2343.307304 ['10' '4' '0' ' 0.498711']\n",
      "10    A 17  2609.994395 ['10' '2' '1' ' 0.473823']\n",
      "10    A 18  2609.994401 ['10' '3' '0' ' 0.584735']\n",
      "10    A 19  2908.956518 ['10' '1' '1' ' 0.688389']\n",
      "10    A 20  2908.956518 ['10' '2' '0' ' 0.485892']\n"
     ]
    }
   ],
   "source": [
    "print(\"J  sym #    energy      J   k  tau  |leading coef|^2\")\n",
    "for J, sol_J in sol.items():\n",
    "    for symmetry, sol_sym in sol_J.items():\n",
    "        for istate in range(sol_sym.nstates):\n",
    "            print(J, \"%4s\"%symmetry, istate, \"%12.6f\"%sol_sym.enr[istate], sol_sym.assign[istate])"
   ]
  },
  {
   "cell_type": "markdown",
   "metadata": {},
   "source": [
    "The energies are in units of cm$^{-1}$ and the assignment is a list of numbers ($J$, $k$, $\\tau$, $c$) denoting the leading symmetric-top function in the expansion of state wave function. $\\tau$ is the pairty of rotational state, defined as $(-1)^\\tau$, and $c$ is the absolute value of the leading coefficient.\n",
    "\n",
    "It is easy to print more than one leading contribution in the assignment"
   ]
  },
  {
   "cell_type": "code",
   "execution_count": 18,
   "metadata": {
    "tags": []
   },
   "outputs": [
    {
     "name": "stdout",
     "output_type": "stream",
     "text": [
      "J  sym #    energy      J   k  tau  |leading coef|^2\n",
      "0    A 0     0.000000 ['0' '0' '0' ' 1.000000']\n",
      "1    A 0    23.797000 ['1' '1' '1' ' 1.000000' '1' '0' '1' ' 0.000000' '1' '1' '0' ' 0.000000']\n",
      "1    A 1    37.162000 ['1' '1' '0' ' 1.000000' '1' '0' '1' ' 0.000000' '1' '1' '1' ' 0.000000']\n",
      "1    A 2    42.389000 ['1' '0' '1' ' 1.000000' '1' '1' '0' ' 0.000000' '1' '1' '1' ' 0.000000']\n",
      "2    A 0    70.133328 ['2' '2' '0' ' 0.858561' '2' '0' '0' ' 0.141439' '2' '1' '0' ' 0.000000']\n",
      "2    A 1    79.529000 ['2' '2' '1' ' 1.000000' '2' '0' '0' ' 0.000000' '2' '1' '0' ' 0.000000']\n",
      "2    A 2    95.210000 ['2' '1' '0' ' 1.000000' '2' '0' '0' ' 0.000000' '2' '1' '1' ' 0.000000']\n",
      "2    A 3   135.305000 ['2' '1' '1' ' 1.000000' '2' '0' '0' ' 0.000000' '2' '1' '0' ' 0.000000']\n",
      "2    A 4   136.562672 ['2' '0' '0' ' 0.858561' '2' '2' '0' ' 0.141439' '2' '1' '0' ' 0.000000']\n",
      "3    A 0   136.909477 ['3' '3' '1' ' 0.864669' '3' '1' '1' ' 0.135331' '3' '2' '0' ' 0.000000']\n",
      "3    A 1   142.369084 ['3' '3' '0' ' 0.967023' '3' '1' '0' ' 0.032977' '3' '2' '1' ' 0.000000']\n",
      "3    A 2   173.535239 ['3' '2' '1' ' 0.709013' '3' '0' '1' ' 0.290987' '3' '1' '0' ' 0.000000']\n",
      "3    A 3   206.696000 ['3' '2' '0' ' 1.000000' '3' '1' '1' ' 0.000000' '3' '3' '1' ' 0.000000']\n",
      "3    A 4   212.568523 ['3' '1' '1' ' 0.864669' '3' '3' '1' ' 0.135331' '3' '2' '0' ' 0.000000']\n",
      "3    A 5   287.298916 ['3' '1' '0' ' 0.967023' '3' '3' '0' ' 0.032977' '3' '0' '1' ' 0.000000']\n",
      "3    A 6   287.494761 ['3' '0' '1' ' 0.709013' '3' '2' '1' ' 0.290987' '3' '1' '0' ' 0.000000']\n",
      "4    A 0   222.369478 ['4' '4' '0' ' 0.896649' '4' '2' '0' ' 0.086275' '4' '0' '0' ' 0.017076']\n",
      "4    A 1   225.067555 ['4' '4' '1' ' 0.948133' '4' '2' '1' ' 0.051867' '4' '3' '0' ' 0.000000']\n",
      "4    A 2   276.014787 ['4' '3' '0' ' 0.629522' '4' '1' '0' ' 0.370478' '4' '4' '1' ' 0.000000']\n",
      "4    A 3   300.891698 ['4' '3' '1' ' 0.918376' '4' '1' '1' ' 0.081624' '4' '2' '1' ' 0.000000']\n",
      "4    A 4   316.467065 ['4' '2' '0' ' 0.532625' '4' '0' '0' ' 0.371003' '4' '4' '0' ' 0.096372']\n",
      "4    A 5   384.522445 ['4' '2' '1' ' 0.948133' '4' '4' '1' ' 0.051867' '4' '1' '0' ' 0.000000']\n",
      "4    A 6   385.845213 ['4' '1' '0' ' 0.629522' '4' '3' '0' ' 0.370478' '4' '2' '1' ' 0.000000']\n",
      "4    A 7   494.618302 ['4' '1' '1' ' 0.918376' '4' '3' '1' ' 0.081624' '4' '1' '0' ' 0.000000']\n",
      "4    A 8   494.643456 ['4' '0' '0' ' 0.611920' '4' '2' '0' ' 0.381101' '4' '4' '0' ' 0.006979']\n",
      "5    A 0   325.904850 ['5' '5' '1' ' 0.918977' '5' '3' '1' ' 0.067985' '5' '1' '1' ' 0.013038']\n",
      "5    A 1   327.096090 ['5' '5' '0' ' 0.940650' '5' '3' '0' ' 0.056654' '5' '1' '0' ' 0.002696']\n",
      "5    A 2   400.581905 ['5' '4' '1' ' 0.643200' '5' '2' '1' ' 0.266490' '5' '0' '1' ' 0.090310']\n",
      "5    A 3   417.095984 ['5' '4' '0' ' 0.858561' '5' '2' '0' ' 0.141439' '5' '5' '0' ' 0.000000']\n",
      "5    A 4   447.924940 ['5' '1' '1' ' 0.528378' '5' '3' '1' ' 0.404271' '5' '5' '1' ' 0.067351']\n",
      "5    A 5   506.187057 ['5' '3' '0' ' 0.813657' '5' '1' '0' ' 0.128473' '5' '5' '0' ' 0.057870']\n",
      "5    A 6   511.103325 ['5' '0' '1' ' 0.363246' '5' '4' '1' ' 0.335435' '5' '2' '1' ' 0.301319']\n",
      "5    A 7   616.384016 ['5' '2' '0' ' 0.858561' '5' '4' '0' ' 0.141439' '5' '3' '1' ' 0.000000']\n",
      "5    A 8   616.605210 ['5' '3' '1' ' 0.527744' '5' '1' '1' ' 0.458583' '5' '5' '1' ' 0.013672']\n",
      "5    A 9   757.626853 ['5' '1' '0' ' 0.868831' '5' '3' '0' ' 0.129688' '5' '5' '0' ' 0.001481']\n",
      "5    A 10   757.629769 ['5' '0' '1' ' 0.546444' '5' '2' '1' ' 0.432191' '5' '4' '1' ' 0.021365']\n",
      "6    A 0   447.599446 ['6' '6' '0' ' 0.930613' '6' '4' '0' ' 0.060372' '6' '2' '0' ' 0.007566']\n",
      "6    A 1   448.088529 ['6' '6' '1' ' 0.938929' '6' '4' '1' ' 0.056679' '6' '2' '1' ' 0.004392']\n",
      "6    A 2   544.853509 ['6' '5' '0' ' 0.694584' '6' '3' '0' ' 0.213390' '6' '1' '0' ' 0.092026']\n",
      "6    A 3   554.434256 ['6' '5' '1' ' 0.826057' '6' '3' '1' ' 0.161865' '6' '1' '1' ' 0.012078']\n",
      "6    A 4   605.510686 ['6' '2' '0' ' 0.398085' '6' '4' '0' ' 0.365712' '6' '0' '0' ' 0.184283']\n",
      "6    A 5   651.859161 ['6' '4' '1' ' 0.707757' '6' '2' '1' ' 0.234722' '6' '6' '1' ' 0.057521']\n",
      "6    A 6   664.829678 ['6' '1' '0' ' 0.555679' '6' '5' '0' ' 0.259629' '6' '3' '0' ' 0.184691']\n",
      "6    A 7   763.189409 ['6' '3' '1' ' 0.667046' '6' '5' '1' ' 0.168561' '6' '1' '1' ' 0.164394']\n",
      "6    A 8   764.250215 ['6' '4' '0' ' 0.533751' '6' '0' '0' ' 0.315665' '6' '2' '0' ' 0.133429']\n",
      "6    A 9   903.627310 ['6' '2' '1' ' 0.760886' '6' '4' '1' ' 0.235563' '6' '6' '1' ' 0.003551']\n",
      "6    A 10   903.658813 ['6' '3' '0' ' 0.601918' '6' '1' '0' ' 0.352295' '6' '5' '0' ' 0.045787']\n",
      "6    A 11  1076.383335 ['6' '1' '1' ' 0.823528' '6' '3' '1' ' 0.171090' '6' '5' '1' ' 0.005382']\n",
      "6    A 12  1076.383652 ['6' '0' '0' ' 0.498603' '6' '2' '0' ' 0.460920' '6' '4' '0' ' 0.040164']\n",
      "7    A 0   587.641514 ['7' '7' '1' ' 0.936448' '7' '5' '1' ' 0.056693' '7' '3' '1' ' 0.005772']\n",
      "7    A 1   587.832828 ['7' '7' '0' ' 0.939478' '7' '5' '0' ' 0.055498' '7' '3' '0' ' 0.004784']\n",
      "7    A 2   707.150495 ['7' '6' '1' ' 0.745130' '7' '4' '1' ' 0.185469' '7' '2' '1' ' 0.053659']\n",
      "7    A 3   712.071291 ['7' '6' '0' ' 0.812652' '7' '4' '0' ' 0.165124' '7' '2' '0' ' 0.022224']\n",
      "7    A 4   787.117900 ['7' '5' '1' ' 0.378256' '7' '3' '1' ' 0.329673' '7' '1' '1' ' 0.246567']\n",
      "7    A 5   820.814666 ['7' '5' '0' ' 0.641752' '7' '3' '0' ' 0.274838' '7' '7' '0' ' 0.055134']\n",
      "7    A 6   847.669393 ['7' '2' '1' ' 0.418388' '7' '0' '1' ' 0.245493' '7' '6' '1' ' 0.190231']\n",
      "7    A 7   935.093985 ['7' '4' '0' ' 0.520021' '7' '2' '0' ' 0.306422' '7' '6' '0' ' 0.173557']\n",
      "7    A 8   938.717803 ['7' '5' '1' ' 0.475129' '7' '1' '1' ' 0.470030' '7' '3' '1' ' 0.037677']\n",
      "7    A 9  1074.737996 ['7' '3' '0' ' 0.515449' '7' '5' '0' ' 0.291067' '7' '1' '0' ' 0.188162']\n",
      "7    A 10  1074.921568 ['7' '4' '1' ' 0.608049' '7' '0' '1' ' 0.277166' '7' '6' '1' ' 0.063320']\n",
      "7    A 11  1246.578723 ['7' '2' '0' ' 0.671354' '7' '4' '0' ' 0.314855' '7' '6' '0' ' 0.013791']\n",
      "7    A 12  1246.582784 ['7' '3' '1' ' 0.626878' '7' '1' '1' ' 0.282317' '7' '5' '1' ' 0.089922']\n",
      "7    A 13  1450.894510 ['7' '1' '0' ' 0.783322' '7' '3' '0' ' 0.204929' '7' '5' '0' ' 0.011683']\n",
      "7    A 14  1450.894543 ['7' '2' '1' ' 0.476487' '7' '0' '1' ' 0.461599' '7' '4' '1' ' 0.060594']\n",
      "8    A 0   746.150442 ['8' '8' '0' ' 0.939605' '8' '6' '0' ' 0.054595' '8' '4' '0' ' 0.005036']\n",
      "8    A 1   746.222754 ['8' '8' '1' ' 0.940674' '8' '6' '1' ' 0.054211' '8' '4' '1' ' 0.004726']\n",
      "8    A 2   887.017097 ['8' '7' '0' ' 0.779525' '8' '5' '0' ' 0.170214' '8' '3' '0' ' 0.037362']\n",
      "8    A 3   889.320855 ['8' '7' '1' ' 0.810109' '8' '5' '1' ' 0.162492' '8' '3' '1' ' 0.025633']\n",
      "8    A 4   990.140685 ['8' '6' '0' ' 0.423009' '8' '4' '0' ' 0.296804' '8' '2' '0' ' 0.169511']\n",
      "8    A 5  1012.133558 ['8' '6' '1' ' 0.606478' '8' '4' '1' ' 0.283223' '8' '2' '1' ' 0.057602']\n",
      "8    A 6  1058.750356 ['8' '1' '0' ' 0.377711' '8' '3' '0' ' 0.337803' '8' '7' '0' ' 0.145017']\n",
      "8    A 7  1131.879066 ['8' '5' '1' ' 0.427515' '8' '3' '1' ' 0.357391' '8' '7' '1' ' 0.167569']\n",
      "8    A 8  1141.573018 ['8' '6' '0' ' 0.389495' '8' '2' '0' ' 0.330058' '8' '0' '0' ' 0.251323']\n",
      "8    A 9  1271.230370 ['8' '2' '1' ' 0.347811' '8' '4' '1' ' 0.337552' '8' '6' '1' ' 0.308222']\n",
      "8    A 10  1271.990740 ['8' '5' '0' ' 0.552238' '8' '1' '0' ' 0.376218' '8' '7' '0' ' 0.071526']\n",
      "8    A 11  1441.827472 ['8' '5' '1' ' 0.390135' '8' '3' '1' ' 0.384973' '8' '1' '1' ' 0.202887']\n",
      "8    A 12  1441.855243 ['8' '4' '0' ' 0.602795' '8' '0' '0' ' 0.250293' '8' '6' '0' ' 0.129652']\n",
      "8    A 13  1645.289318 ['8' '2' '1' ' 0.594197' '8' '4' '1' ' 0.374500' '8' '6' '1' ' 0.031089']\n",
      "8    A 14  1645.289806 ['8' '3' '0' ' 0.624819' '8' '1' '0' ' 0.233172' '8' '5' '0' ' 0.138078']\n",
      "8    A 15  1881.160608 ['8' '1' '1' ' 0.747822' '8' '3' '1' ' 0.232002' '8' '5' '1' ' 0.019859']\n",
      "8    A 16  1881.160611 ['8' '2' '0' ' 0.484037' '8' '0' '0' ' 0.431835' '8' '4' '0' ' 0.080866']\n",
      "9    A 0   923.184206 ['9' '9' '1' ' 0.941530' '9' '7' '1' ' 0.053217' '9' '5' '1' ' 0.004663']\n",
      "9    A 1   923.210846 ['9' '9' '0' ' 0.941899' '9' '7' '0' ' 0.053093' '9' '5' '0' ' 0.004565']\n",
      "9    A 2  1084.689410 ['9' '8' '1' ' 0.799868' '9' '6' '1' ' 0.161263' '9' '4' '1' ' 0.030040']\n",
      "9    A 3  1085.699491 ['9' '8' '0' ' 0.812648' '9' '6' '0' ' 0.158424' '9' '4' '0' ' 0.025782']\n",
      "9    A 4  1212.033720 ['9' '7' '1' ' 0.480199' '9' '5' '1' ' 0.281490' '9' '3' '1' ' 0.123503']\n",
      "9    A 5  1224.828202 ['9' '7' '0' ' 0.591925' '9' '5' '0' ' 0.280069' '9' '3' '0' ' 0.070944']\n",
      "9    A 6  1296.074482 ['9' '4' '1' ' 0.298864' '9' '2' '1' ' 0.289966' '9' '6' '1' ' 0.152107']\n",
      "9    A 7  1353.002055 ['9' '6' '0' ' 0.374391' '9' '4' '0' ' 0.363890' '9' '8' '0' ' 0.158114']\n",
      "9    A 8  1374.214294 ['9' '1' '1' ' 0.424466' '9' '7' '1' ' 0.302786' '9' '3' '1' ' 0.250463']\n",
      "9    A 9  1493.273872 ['9' '3' '0' ' 0.392923' '9' '7' '0' ' 0.302765' '9' '5' '0' ' 0.231880']\n",
      "9    A 10  1495.760196 ['9' '6' '1' ' 0.479054' '9' '0' '1' ' 0.223298' '9' '2' '1' ' 0.214076']\n",
      "9    A 11  1662.416485 ['9' '6' '0' ' 0.413327' '9' '2' '0' ' 0.364327' '9' '4' '0' ' 0.194185']\n",
      "9    A 12  1662.550755 ['9' '5' '1' ' 0.518099' '9' '1' '1' ' 0.308943' '9' '7' '1' ' 0.153787']\n",
      "9    A 13  1864.675734 ['9' '5' '0' ' 0.454211' '9' '3' '0' ' 0.282248' '9' '1' '0' ' 0.211786']\n",
      "9    A 14  1864.679566 ['9' '4' '1' ' 0.558578' '9' '0' '1' ' 0.230510' '9' '6' '1' ' 0.201430']\n",
      "9    A 15  2099.761970 ['9' '2' '0' ' 0.528922' '9' '4' '0' ' 0.416143' '9' '6' '0' ' 0.053858']\n",
      "9    A 16  2099.762025 ['9' '3' '1' ' 0.608392' '9' '1' '1' ' 0.196965' '9' '5' '1' ' 0.184580']\n",
      "9    A 17  2367.181346 ['9' '1' '0' ' 0.716385' '9' '3' '0' ' 0.253463' '9' '5' '0' ' 0.029276']\n",
      "9    A 18  2367.181346 ['9' '2' '1' ' 0.486567' '9' '0' '1' ' 0.407203' '9' '4' '1' ' 0.100009']\n",
      "10    A 0  1118.768185 ['10' '10' '0' ' 0.942846' '10' '8' '0' ' 0.052216' '10' '6' '0'\n",
      " ' 0.004435']\n",
      "10    A 1  1118.777805 ['10' '10' '1' ' 0.942971' '10' '8' '1' ' 0.052176' '10' '6' '1'\n",
      " ' 0.004404']\n",
      "10    A 2  1300.490705 ['10' '9' '0' ' 0.811875' '10' '7' '0' ' 0.155477' '10' '5' '0'\n",
      " ' 0.026360']\n",
      "10    A 3  1300.913168 ['10' '9' '1' ' 0.816944' '10' '7' '1' ' 0.154458' '10' '5' '1'\n",
      " ' 0.024841']\n",
      "10    A 4  1451.264316 ['10' '8' '0' ' 0.530681' '10' '6' '0' ' 0.273003' '10' '4' '0'\n",
      " ' 0.097119']\n",
      "10    A 5  1457.977536 ['10' '8' '1' ' 0.590062' '10' '6' '1' ' 0.273838' '10' '4' '1'\n",
      " ' 0.074085']\n",
      "10    A 6  1556.988444 ['10' '5' '0' ' 0.287706' '10' '3' '0' ' 0.231608' '10' '1' '0'\n",
      " ' 0.186176']\n",
      "10    A 7  1597.634515 ['10' '5' '1' ' 0.355618' '10' '7' '1' ' 0.347209' '10' '9' '1'\n",
      " ' 0.149178']\n",
      "10    A 8  1636.837487 ['10' '2' '0' ' 0.342468' '10' '8' '0' ' 0.235084' '10' '4' '0'\n",
      " ' 0.211387']\n",
      "10    A 9  1740.831055 ['10' '4' '1' ' 0.384579' '10' '8' '1' ' 0.286705' '10' '6' '1'\n",
      " ' 0.173517']\n",
      "10    A 10  1747.571107 ['10' '7' '0' ' 0.402992' '10' '1' '0' ' 0.381921' '10' '3' '0'\n",
      " ' 0.127222']\n",
      "10    A 11  1908.633990 ['10' '7' '1' ' 0.406274' '10' '3' '1' ' 0.387790' '10' '5' '1'\n",
      " ' 0.093986']\n",
      "10    A 12  1909.146191 ['10' '6' '0' ' 0.430611' '10' '0' '0' ' 0.196820' '10' '8' '0'\n",
      " ' 0.163163']\n",
      "10    A 13  2109.304208 ['10' '6' '1' ' 0.468340' '10' '2' '1' ' 0.365330' '10' '4' '1'\n",
      " ' 0.097716']\n",
      "10    A 14  2109.325343 ['10' '5' '0' ' 0.435375' '10' '1' '0' ' 0.261144' '10' '7' '0'\n",
      " ' 0.241853']\n",
      "10    A 15  2343.306809 ['10' '5' '1' ' 0.486181' '10' '1' '1' ' 0.216981' '10' '3' '1'\n",
      " ' 0.204431']\n",
      "10    A 16  2343.307304 ['10' '4' '0' ' 0.498711' '10' '6' '0' ' 0.267364' '10' '0' '0'\n",
      " ' 0.215074']\n",
      "10    A 17  2609.994395 ['10' '2' '1' ' 0.473823' '10' '4' '1' ' 0.443207' '10' '6' '1'\n",
      " ' 0.079900']\n",
      "10    A 18  2609.994401 ['10' '3' '0' ' 0.584735' '10' '5' '0' ' 0.226344' '10' '1' '0'\n",
      " ' 0.169325']\n",
      "10    A 19  2908.956518 ['10' '1' '1' ' 0.688389' '10' '3' '1' ' 0.270399' '10' '5' '1'\n",
      " ' 0.039374']\n",
      "10    A 20  2908.956518 ['10' '2' '0' ' 0.485892' '10' '0' '0' ' 0.386373' '10' '4' '0'\n",
      " ' 0.117576']\n"
     ]
    }
   ],
   "source": [
    "print(\"J  sym #    energy      J   k  tau  |leading coef|^2\")\n",
    "for J,sol_J in sol.items():\n",
    "    for symmetry,sol_sym in sol_J.items():\n",
    "        sol_sym.assign_nprim = 3 # print up to three leading contributions\n",
    "        for istate in range(sol_sym.nstates):\n",
    "            print(J, \"%4s\"%symmetry, istate, \"%12.6f\"%sol_sym.enr[istate], sol_sym.assign[istate])"
   ]
  },
  {
   "cell_type": "markdown",
   "metadata": {},
   "source": [
    "Example of rotational energies for a linear molecule"
   ]
  },
  {
   "cell_type": "code",
   "execution_count": 19,
   "metadata": {},
   "outputs": [
    {
     "name": "stdout",
     "output_type": "stream",
     "text": [
      "J  sym #    energy      J   k  tau  |leading coef|^2\n",
      "0    A 0     0.000000 ['0' '0' '0' ' 1.000000']\n",
      "1    A 0     0.405720 ['1' '0' '1' ' 1.000000']\n",
      "2    A 0     1.217160 ['2' '0' '0' ' 1.000000']\n",
      "3    A 0     2.434320 ['3' '0' '1' ' 1.000000']\n",
      "4    A 0     4.057200 ['4' '0' '0' ' 1.000000']\n",
      "5    A 0     6.085800 ['5' '0' '1' ' 1.000000']\n",
      "6    A 0     8.520120 ['6' '0' '0' ' 1.000000']\n",
      "7    A 0    11.360160 ['7' '0' '1' ' 1.000000']\n",
      "8    A 0    14.605920 ['8' '0' '0' ' 1.000000']\n",
      "9    A 0    18.257400 ['9' '0' '1' ' 1.000000']\n",
      "10    A 0    22.314600 ['10' '0' '0' ' 1.000000']\n"
     ]
    }
   ],
   "source": [
    "ocs = Molecule()\n",
    "ocs.B = 0.20286 # experimental value\n",
    "\n",
    "\n",
    "sol = solve(ocs, Jmin=0, Jmax=10)\n",
    "\n",
    "print(\"J  sym #    energy      J   k  tau  |leading coef|^2\")\n",
    "for J, sol_J in sol.items():\n",
    "    for symmetry, sol_sym in sol_J.items():\n",
    "        for istate in range(sol_sym.nstates):\n",
    "            print(J, \"%4s\"%symmetry, istate, \"%12.6f\"%sol_sym.enr[istate], sol_sym.assign[istate])"
   ]
  },
  {
   "cell_type": "markdown",
   "metadata": {},
   "source": [
    "### Symmetry"
   ]
  },
  {
   "cell_type": "markdown",
   "metadata": {},
   "source": [
    "The molecular symmetry can be specified using molecule property `sym`, for example, the above calculation can be done using the $D_2$ or $C_{2v}$ rotational symmetry groups"
   ]
  },
  {
   "cell_type": "code",
   "execution_count": 20,
   "metadata": {
    "tags": []
   },
   "outputs": [
    {
     "name": "stdout",
     "output_type": "stream",
     "text": [
      "D2 solutions\n",
      "J  sym #    energy      J   k  tau  |leading coef|^2\n",
      "0    A 0     0.000000 ['0' '0' '0' ' 1.000000']\n",
      "1   B1 0    42.389000 ['1' '0' '1' ' 1.000000']\n",
      "1   B2 0    37.162000 ['1' '1' '0' ' 1.000000']\n",
      "1   B3 0    23.797000 ['1' '1' '1' ' 1.000000']\n",
      "2    A 0    70.133328 ['2' '2' '0' ' 0.858561']\n",
      "2    A 1   136.562672 ['2' '0' '0' ' 0.858561']\n",
      "2   B1 0    79.529000 ['2' '2' '1' ' 1.000000']\n",
      "2   B2 0    95.210000 ['2' '1' '0' ' 1.000000']\n",
      "2   B3 0   135.305000 ['2' '1' '1' ' 1.000000']\n",
      "3    A 0   206.696000 ['3' '2' '0' ' 1.000000']\n",
      "3   B1 0   173.535239 ['3' '2' '1' ' 0.709013']\n",
      "3   B1 1   287.494761 ['3' '0' '1' ' 0.709013']\n",
      "3   B2 0   142.369084 ['3' '3' '0' ' 0.967023']\n",
      "3   B2 1   287.298916 ['3' '1' '0' ' 0.967023']\n",
      "3   B3 0   136.909477 ['3' '3' '1' ' 0.864669']\n",
      "3   B3 1   212.568523 ['3' '1' '1' ' 0.864669']\n",
      "C2v solutions\n",
      "J  sym #    energy      J   k  tau  |leading coef|^2\n",
      "0   A1 0     0.000000 ['0' '0' '0' ' 1.000000']\n",
      "1   A2 0    42.389000 ['1' '0' '1' ' 1.000000']\n",
      "1   B1 0    37.162000 ['1' '1' '0' ' 1.000000']\n",
      "1   B2 0    23.797000 ['1' '1' '1' ' 1.000000']\n",
      "2   A1 0    70.133328 ['2' '2' '0' ' 0.858561']\n",
      "2   A1 1   136.562672 ['2' '0' '0' ' 0.858561']\n",
      "2   A2 0    79.529000 ['2' '2' '1' ' 1.000000']\n",
      "2   B1 0    95.210000 ['2' '1' '0' ' 1.000000']\n",
      "2   B2 0   135.305000 ['2' '1' '1' ' 1.000000']\n",
      "3   A1 0   206.696000 ['3' '2' '0' ' 1.000000']\n",
      "3   A2 0   173.535239 ['3' '2' '1' ' 0.709013']\n",
      "3   A2 1   287.494761 ['3' '0' '1' ' 0.709013']\n",
      "3   B1 0   142.369084 ['3' '3' '0' ' 0.967023']\n",
      "3   B1 1   287.298916 ['3' '1' '0' ' 0.967023']\n",
      "3   B2 0   136.909477 ['3' '3' '1' ' 0.864669']\n",
      "3   B2 1   212.568523 ['3' '1' '1' ' 0.864669']\n"
     ]
    }
   ],
   "source": [
    "water.sym = 'D2'\n",
    "sol_d2 = solve(water, Jmin=0, Jmax=3)\n",
    "\n",
    "water.sym = 'C2v'\n",
    "sol_c2v = solve(water, Jmin=0, Jmax=3)\n",
    "\n",
    "print(\"D2 solutions\")\n",
    "print(\"J  sym #    energy      J   k  tau  |leading coef|^2\")\n",
    "for J,sol_J in sol_d2.items():\n",
    "    for symmetry,sol_sym in sol_J.items():\n",
    "        for istate in range(sol_sym.nstates):\n",
    "            print(J, \"%4s\"%symmetry, istate, \"%12.6f\"%sol_sym.enr[istate], sol_sym.assign[istate])\n",
    "\n",
    "print(\"C2v solutions\")\n",
    "print(\"J  sym #    energy      J   k  tau  |leading coef|^2\")\n",
    "for J,sol_J in sol_c2v.items():\n",
    "    for symmetry,sol_sym in sol_J.items():\n",
    "        for istate in range(sol_sym.nstates):\n",
    "            print(J, \"%4s\"%symmetry, istate, \"%12.6f\"%sol_sym.enr[istate], sol_sym.assign[istate])"
   ]
  },
  {
   "cell_type": "markdown",
   "metadata": {},
   "source": [
    "We can restrict solutions to have only certain symmetries, by specifying a state filter function in the parameter `filter`. This function takes as arguments state's J (and m) quantum number and symmetry and returns True or False depending on if the corresponding state need to be included. The use of filter function is demonstrated in the example below"
   ]
  },
  {
   "cell_type": "code",
   "execution_count": 21,
   "metadata": {},
   "outputs": [
    {
     "name": "stdout",
     "output_type": "stream",
     "text": [
      "D2 solutions\n",
      "J  sym #    energy      J   k  tau  |leading coef|^2\n",
      "0    A 0     0.000000 ['0' '0' '0' ' 1.000000']\n",
      "1   B1 0    42.389000 ['1' '0' '1' ' 1.000000']\n",
      "2    A 0    70.133328 ['2' '2' '0' ' 0.858561']\n",
      "2    A 1   136.562672 ['2' '0' '0' ' 0.858561']\n",
      "3   B1 0   173.535239 ['3' '2' '1' ' 0.709013']\n",
      "3   B1 1   287.494761 ['3' '0' '1' ' 0.709013']\n",
      "4    A 0   222.369478 ['4' '4' '0' ' 0.896649']\n",
      "4    A 1   316.467065 ['4' '2' '0' ' 0.532625']\n",
      "4    A 2   494.643456 ['4' '0' '0' ' 0.611920']\n",
      "5   B1 0   400.581905 ['5' '4' '1' ' 0.643200']\n",
      "5   B1 1   511.103325 ['5' '0' '1' ' 0.363246']\n",
      "5   B1 2   757.629769 ['5' '0' '1' ' 0.546444']\n",
      "C2v solutions\n",
      "J  sym #    energy      J   k  tau  |leading coef|^2\n",
      "1   A2 0    42.389000 ['1' '0' '1' ' 1.000000']\n",
      "1   B2 0    23.797000 ['1' '1' '1' ' 1.000000']\n",
      "2   A2 0    79.529000 ['2' '2' '1' ' 1.000000']\n",
      "2   B2 0   135.305000 ['2' '1' '1' ' 1.000000']\n",
      "3   A2 0   173.535239 ['3' '2' '1' ' 0.709013']\n",
      "3   A2 1   287.494761 ['3' '0' '1' ' 0.709013']\n",
      "3   B2 0   136.909477 ['3' '3' '1' ' 0.864669']\n",
      "3   B2 1   212.568523 ['3' '1' '1' ' 0.864669']\n",
      "4   A2 0   225.067555 ['4' '4' '1' ' 0.948133']\n",
      "4   A2 1   384.522445 ['4' '2' '1' ' 0.948133']\n",
      "4   B2 0   300.891698 ['4' '3' '1' ' 0.918376']\n",
      "4   B2 1   494.618302 ['4' '1' '1' ' 0.918376']\n",
      "5   A2 0   400.581905 ['5' '4' '1' ' 0.643200']\n",
      "5   A2 1   511.103325 ['5' '0' '1' ' 0.363246']\n",
      "5   A2 2   757.629769 ['5' '0' '1' ' 0.546444']\n",
      "5   B2 0   325.904850 ['5' '5' '1' ' 0.918977']\n",
      "5   B2 1   447.924940 ['5' '1' '1' ' 0.528378']\n",
      "5   B2 2   616.605210 ['5' '3' '1' ' 0.527744']\n"
     ]
    }
   ],
   "source": [
    "Jmin = 0\n",
    "Jmax = 5\n",
    "\n",
    "# desired D2-symmetry solutions: A for even and B1 for odd J, for max J = 5\n",
    "\n",
    "def filter_D2(**kw):\n",
    "    pass_J, pass_sym = (True, True)\n",
    "    if 'J' in kw:\n",
    "        J = kw['J']\n",
    "        pass_J = J <= 5\n",
    "    if 'sym' in kw:\n",
    "        sym = kw['sym']\n",
    "        pass_sym = sym in ['A'] if J % 2 == 0 else sym in ['B1']\n",
    "    return pass_J * pass_sym\n",
    "\n",
    "# desired C2v-symmetry solutions: A2 and B2, for max J = 5\n",
    "\n",
    "def filter_C2v(**kw):\n",
    "    pass_J, pass_sym = (True, True)\n",
    "    if 'J' in kw:\n",
    "        J = kw['J']\n",
    "        pass_J = J <= 5\n",
    "    if 'sym' in kw:\n",
    "        sym = kw['sym']\n",
    "        pass_sym = sym in ['A2', 'B2']\n",
    "    return pass_J * pass_sym\n",
    "\n",
    "# obtain D2 solutions\n",
    "\n",
    "water.sym = 'D2'\n",
    "sol_d2 = solve(water, Jmin=0, Jmax=10, filter=filter_D2)\n",
    "\n",
    "# obtain C2v solutions\n",
    "\n",
    "water.sym = 'C2v'\n",
    "sol_c2v = solve(water, Jmin=0, Jmax=10, filter=filter_C2v)\n",
    "\n",
    "# print D2 solutions\n",
    "\n",
    "print(\"D2 solutions\")\n",
    "print(\"J  sym #    energy      J   k  tau  |leading coef|^2\")\n",
    "for J,sol_J in sol_d2.items():\n",
    "    for symmetry,sol_sym in sol_J.items():\n",
    "        for istate in range(sol_sym.nstates):\n",
    "            print(J, \"%4s\"%symmetry, istate, \"%12.6f\"%sol_sym.enr[istate], sol_sym.assign[istate])\n",
    "\n",
    "# print C2v solutions\n",
    "\n",
    "print(\"C2v solutions\")\n",
    "print(\"J  sym #    energy      J   k  tau  |leading coef|^2\")\n",
    "for J,sol_J in sol_c2v.items():\n",
    "    for symmetry,sol_sym in sol_J.items():\n",
    "        for istate in range(sol_sym.nstates):\n",
    "            print(J, \"%4s\"%symmetry, istate, \"%12.6f\"%sol_sym.enr[istate], sol_sym.assign[istate])\n"
   ]
  },
  {
   "cell_type": "markdown",
   "metadata": {},
   "source": [
    "### Centrifugal distortion rotational constants (experimental)"
   ]
  },
  {
   "cell_type": "markdown",
   "metadata": {},
   "source": [
    "The centrifugal distortion constants are used to build the Watson-type asymmetric top Hamiltonian in the $A$ or $S$ standard reduced form (J. K. G. Watson in \"Vibrational Spectra and Structure\" (Ed: J. Durig) Vol 6 p 1, Elsevier, Amsterdam, 1977)\n",
    "\n",
    "* A-form: $H_A = H_\\text{rigrot} - \\Delta_{J} J^{4} - \\Delta_{JK} J^{2} J_{z}^{2} - \\Delta_{K} J_{z}^{4} - \\frac{1}{2}  [ \\delta_{J} J^{2} + \\delta_{K} J_{z}^{2}, J_{+}^{2} + J_{-}^{2} ]_{+} + H_{J} J^{6} + H_{JK} J^{4} J_{z}^{2} + H_{KJ} J^{2} J_{z}^{4} + H_{K} J_{z}^{6} + \\frac{1}{2} [ \\phi_{J} J^{4} + \\phi_{JK} J^{2} J_{z}^{2} + \\phi_{K} J_{z}^{4}, J_{+}^{2} + J_{-}^{2} ]_{+}$\n",
    "\n",
    "* S-form: $H_S = H_\\text{rigrot} - \\Delta_{J} J^{4} - \\Delta_{JK} J^{2} J_{z}^{2} - \\Delta_{K} J_{z}^{4} + d_{1} J^{2} (J_{+}^{2} + J_{-}^{2}) + d_{2} (J_{+}^{4} + J_{-}^{4}) + H_{J} J^{6} + H_{JK} J^{4} J_{z}^{2} + H_{KJ} J^{2} J_{z}^{4} + H_{K} J_{z}^{6} + h_{1} J^{4} (J_{+}^{2} + J_{-}^{2}) + h_{2} J^{2} (J_{+}^{4} + J_{-}^{4}) + h_{3} (J_{+}^{6} + J_{-}^{6})$\n",
    "\n",
    "The type of Watson Hamiltonian can be specified using `watson` molecule property, while the centrifugal constants are defined as molecule attributes `DeltaJ`, `DeltaJK`, `DeltaK`, `deltaJ`, `deltaK`, `HJ`, `HJK`, `HKJ`, `HK`, `phiJ`, `phiJK`, `phiK`, `d1`, `d2`, `h1`, `h2`, `h3`."
   ]
  },
  {
   "cell_type": "code",
   "execution_count": 24,
   "metadata": {},
   "outputs": [
    {
     "name": "stdout",
     "output_type": "stream",
     "text": [
      "\n",
      "J  sym #    energy      J   k  tau  |leading coef|^2\n",
      "0   A1 0     0.000000 ['0' '0' '0' ' 1.000000']\n",
      "1   A2 0    42.397389 ['1' '0' '1' ' 1.000000']\n",
      "1   B1 0    37.130134 ['1' '1' '0' ' 1.000000']\n",
      "1   B2 0    23.775970 ['1' '1' '1' ' 1.000000']\n",
      "2   A1 0    69.785745 ['2' '2' '0' ' 0.860423']\n",
      "2   A1 1   136.469744 ['2' '0' '0' ' 0.860423']\n",
      "2   A2 0    79.093317 ['2' '2' '1' ' 1.000000']\n",
      "2   B1 0    95.215643 ['2' '1' '0' ' 1.000000']\n",
      "2   B2 0   135.265943 ['2' '1' '1' ' 1.000000']\n",
      "3   A1 0   206.302065 ['3' '2' '0' ' 1.000000']\n",
      "3   A2 0   173.328764 ['3' '2' '1' ' 0.710454']\n",
      "3   A2 1   287.208033 ['3' '0' '1' ' 0.710454']\n",
      "3   B1 0   140.304109 ['3' '3' '0' ' 0.968078']\n",
      "3   B1 1   287.064563 ['3' '1' '0' ' 0.968078']\n",
      "3   B2 0   135.088211 ['3' '3' '1' ' 0.871633']\n",
      "3   B2 1   212.216433 ['3' '1' '1' ' 0.871633']\n",
      "4   A1 0   216.448947 ['4' '4' '0' ' 0.908485']\n",
      "4   A1 1   315.616635 ['4' '2' '0' ' 0.542602']\n",
      "4   A1 2   493.935142 ['4' '0' '0' ' 0.613149']\n",
      "4   A2 0   218.815285 ['4' '4' '1' ' 0.952173']\n",
      "4   A2 1   383.658853 ['4' '2' '1' ' 0.952173']\n",
      "4   B1 0   274.871067 ['4' '3' '0' ' 0.637905']\n",
      "4   B1 1   384.816588 ['4' '1' '0' ' 0.637905']\n",
      "4   B2 0   299.105919 ['4' '3' '1' ' 0.920056']\n",
      "4   B2 1   493.940512 ['4' '1' '1' ' 0.920056']\n",
      "5   A1 0   411.818592 ['5' '4' '0' ' 0.866103']\n",
      "5   A1 1   614.538679 ['5' '2' '0' ' 0.866103']\n",
      "5   A2 0   396.638107 ['5' '4' '1' ' 0.667042']\n",
      "5   A2 1   508.538626 ['5' '0' '1' ' 0.370087']\n",
      "5   A2 2   756.102047 ['5' '0' '1' ' 0.547678']\n",
      "5   B1 0   312.374803 ['5' '5' '0' ' 0.949019']\n",
      "5   B1 1   503.621956 ['5' '3' '0' ' 0.823282']\n",
      "5   B1 2   756.123323 ['5' '1' '0' ' 0.870765']\n",
      "5   B2 0   311.471780 ['5' '5' '1' ' 0.933530']\n",
      "5   B2 1   446.120020 ['5' '1' '1' ' 0.525638']\n",
      "5   B2 2   614.642500 ['5' '3' '1' ' 0.522972']\n"
     ]
    }
   ],
   "source": [
    "from richmol.rot.molecule import Molecule\n",
    "from richmol.rot.solution import solve\n",
    "from richmol.convert_units import MHz_to_invcm\n",
    "import sys\n",
    "\n",
    "# NIST values of rotational constants for H2O (in MHz)\n",
    "\n",
    "water = Molecule()\n",
    "water.B = MHz_to_invcm(835840.288, 435351.717, 278138.700)\n",
    "\n",
    "water.watson = 'watson_a' # or 'watson_s' for S-type\n",
    "\n",
    "water.DeltaJ = 37.59422 * MHz_to_invcm()\n",
    "water.DeltaJK = -172.9128 * MHz_to_invcm()\n",
    "water.DeltaK = 973.29052 * MHz_to_invcm()\n",
    "water.deltaJ = 15.210402 * MHz_to_invcm()\n",
    "water.deltaK = 41.0502 * MHz_to_invcm()\n",
    "water.HJ = 1.56556e-2 * MHz_to_invcm()\n",
    "water.HJK = -4.2081e-2 * MHz_to_invcm()\n",
    "water.HKJ = -5.09508e-1 * MHz_to_invcm()\n",
    "water.HK = 3.733028 * MHz_to_invcm()\n",
    "water.phiJ = 7.79579e-3 * MHz_to_invcm()\n",
    "water.phiJK = -2.5165e-2 * MHz_to_invcm()\n",
    "water.phiK = 1.0971 * MHz_to_invcm()\n",
    "\n",
    "water.sym = \"C2v\"\n",
    "\n",
    "sol = solve(water, Jmin=0, Jmax=5, verbose=False) # set verbose=True to check which of the above 'water' attributes are used to build the Watson Hamiltonian\n",
    "\n",
    "print(\"\\nJ  sym #    energy      J   k  tau  |leading coef|^2\")\n",
    "for J,sol_J in sol.items():\n",
    "    for symmetry,sol_sym in sol_J.items():\n",
    "        for istate in range(sol_sym.nstates):\n",
    "            print(J, \"%4s\"%symmetry, istate, \"%12.6f\"%sol_sym.enr[istate], sol_sym.assign[istate])"
   ]
  },
  {
   "cell_type": "markdown",
   "metadata": {},
   "source": [
    "### Matrix elements of laboratory-frame Cartesian tensor operators"
   ]
  },
  {
   "cell_type": "markdown",
   "metadata": {},
   "source": [
    "The matrix elements of laboratory-frame Cartesian tensor operators, such as, for example, dipole moment or polarizability, can be computed using `LabTensor` class. The rotational solutions, obtained by `solve`, can also be represented by `LabTensor`class. In the following example, we compute matrix elements of dipole moment and polarizability for water molecule"
   ]
  },
  {
   "cell_type": "code",
   "execution_count": 25,
   "metadata": {},
   "outputs": [],
   "source": [
    "from richmol.rot import LabTensor\n",
    "\n",
    "Jmax = 5\n",
    "water.sym = 'D2'\n",
    "\n",
    "sol = solve(water, Jmin=0, Jmax=Jmax)\n",
    "\n",
    "# laboratory-frame dipole moment operator\n",
    "dip = LabTensor(water.dip, sol)\n",
    "\n",
    "# laboratory-frame polarizability tensor\n",
    "pol = LabTensor(water.pol, sol)\n",
    "\n",
    "# field-free Hamiltonian\n",
    "h0 = LabTensor(water, sol)"
   ]
  },
  {
   "cell_type": "markdown",
   "metadata": {},
   "source": [
    "One can obtain a matrix representation of tensor by using `tomat` method. For example, below, we print out the matrix elements of polarizability $XZ$ component in the CSR sparse matrix format"
   ]
  },
  {
   "cell_type": "code",
   "execution_count": 26,
   "metadata": {
    "tags": []
   },
   "outputs": [
    {
     "name": "stdout",
     "output_type": "stream",
     "text": [
      "  (0, 12)\t(0.1037899239461464-1.9210933149810924e-17j)\n",
      "  (0, 13)\t(0.052608694027253294-9.737574377459066e-18j)\n",
      "  (0, 16)\t(-0.10378992394614643+2.9423205850070633e-17j)\n",
      "  (0, 17)\t(-0.05260869402725331+1.4913937451870803e-17j)\n",
      "  (1, 2)\t(-0.007764032457428717+2.2010106235368977e-18j)\n",
      "  (1, 20)\t(-0.09465571298130933+1.752024190012078e-17j)\n",
      "  (1, 22)\t(0.11592909902177288-3.286451723676681e-17j)\n",
      "  (1, 44)\t(0.06243621711133084-1.1556593814205144e-17j)\n",
      "  (1, 45)\t(0.05086867342170339-9.415506316691844e-18j)\n",
      "  (1, 48)\t(-0.034197724517165955+9.694647127737301e-18j)\n",
      "  (1, 49)\t(-0.02786191990343046+7.89852206773153e-18j)\n",
      "  (2, 1)\t(-0.007764032457428713+1.4370788882167125e-18j)\n",
      "  (2, 3)\t(0.0077640324574287135-2.201010623536897e-18j)\n",
      "  (2, 21)\t(0.06693169652713132-1.2388681855604087e-17j)\n",
      "  (2, 23)\t(0.06693169652713134-1.8974337873434413e-17j)\n",
      "  (2, 46)\t(0.05584465028754854-1.0336531742766512e-17j)\n",
      "  (2, 47)\t(0.045498324678466255-8.421484866680653e-18j)\n",
      "  (2, 50)\t(-0.05584465028754856+1.5831292466196615e-17j)\n",
      "  (2, 51)\t(-0.04549832467846626+1.2898232525369973e-17j)\n",
      "  (3, 2)\t(0.007764032457428715-1.4370788882167135e-18j)\n",
      "  (3, 22)\t(0.11592909902177286-2.145782641271296e-17j)\n",
      "  (3, 24)\t(-0.09465571298130934+2.6833765957660412e-17j)\n",
      "  (3, 48)\t(0.034197724517165955-6.329807119964825e-18j)\n",
      "  (3, 49)\t(0.027861919903430458-5.1570851999845045e-18j)\n",
      "  (3, 52)\t(-0.06243621711133086+1.7699923063047953e-17j)\n",
      "  :\t:\n",
      "  (282, 82)\t(-0.006751247057501584+1.2496179876460553e-18j)\n",
      "  (282, 83)\t(0.0313041931981156-5.794230691890716e-18j)\n",
      "  (282, 161)\t(-0.02483865700998008+4.597496184672046e-18j)\n",
      "  (282, 162)\t(-0.045182730495494774+8.363070152409544e-18j)\n",
      "  (282, 277)\t(-0.011599172954560909+2.1469418971612817e-18j)\n",
      "  (282, 278)\t(-0.040061335479224046+7.415128641802004e-18j)\n",
      "  (282, 279)\t(-0.02884309439007838+5.338695097695517e-18j)\n",
      "  (282, 283)\t(-0.011115659661075116+3.1511569710450966e-18j)\n",
      "  (282, 284)\t(-0.03839137260041532+1.0883496354375373e-17j)\n",
      "  (282, 285)\t(-0.027640765601853468+7.835827460273249e-18j)\n",
      "  (283, 163)\t(0.07571131283830546-1.4013739622507075e-17j)\n",
      "  (283, 164)\t(-0.0060961984312463795+1.1283721586637184e-18j)\n",
      "  (283, 280)\t(0.007861907160811097-1.4551949471966973e-18j)\n",
      "  (283, 281)\t(-0.03820941434951213+7.072348421247279e-18j)\n",
      "  (283, 282)\t(-0.011115659661075123+2.0574462967692794e-18j)\n",
      "  (284, 163)\t(0.03402898941770706-6.298575198864147e-18j)\n",
      "  (284, 164)\t(-0.02181585314800091+4.037992133511902e-18j)\n",
      "  (284, 280)\t(-0.03820941434951212+7.072348421247279e-18j)\n",
      "  (284, 281)\t(0.08332239550084873-1.5422508361018445e-17j)\n",
      "  (284, 282)\t(-0.03839137260041535+7.106027873560705e-18j)\n",
      "  (285, 163)\t(-0.055540925544117124+1.0280313995222621e-17j)\n",
      "  (285, 164)\t(-0.10103165679697906+1.8700393361387265e-17j)\n",
      "  (285, 280)\t(-0.011115659661075116+2.05744629676928e-18j)\n",
      "  (285, 281)\t(-0.03839137260041532+7.1060278735607e-18j)\n",
      "  (285, 282)\t(-0.027640765601853468+5.116150778396595e-18j)\n"
     ]
    }
   ],
   "source": [
    "alpha_xz = pol.tomat(form='full', repres='csr_matrix', cart='xz', thresh=1e-6) # consider only elements that are larger than 'thresh'\n",
    "print(alpha_xz)"
   ]
  },
  {
   "cell_type": "markdown",
   "metadata": {},
   "source": [
    "Sometimes, matrix representation of tensor is needed in a subspace of the full basis. The representation of a tensor in a reduced basis can be generated using `filter` method (in place) or `filter` function (creates new object). In the following example, we generate field-free Hamiltonian, dipole moment, and polarizability tensors for different values of the $m$ quantum number, using `filter` function"
   ]
  },
  {
   "cell_type": "code",
   "execution_count": 27,
   "metadata": {},
   "outputs": [],
   "source": [
    "from richmol.field import filter\n",
    "\n",
    "def flt(**kw):\n",
    "    \"\"\"Filter function to select states with m = _m\"\"\"\n",
    "    if 'm' in kw:\n",
    "        m = kw['m']\n",
    "        return m == _m\n",
    "    return True\n",
    "\n",
    "# dicts to keep tensors for different m quanta\n",
    "dip_m = {}\n",
    "pol_m = {}\n",
    "h0_m = {}\n",
    "\n",
    "for _m in range(-Jmax, Jmax+1):\n",
    "    dip_m[_m] = filter(dip, bra=flt, ket=flt)\n",
    "    pol_m[_m] = filter(pol, bra=flt, ket=flt)\n",
    "    h0_m[_m] = filter(h0, bra=flt, ket=flt)"
   ]
  },
  {
   "cell_type": "markdown",
   "metadata": {},
   "source": [
    "Now we can use these tensors to compute Stark shifts for water, by applying electric field along the $Z$ axis"
   ]
  },
  {
   "cell_type": "code",
   "execution_count": 28,
   "metadata": {},
   "outputs": [
    {
     "data": {
      "image/png": "[encoded data removed]",
      "text/plain": [
       "<Figure size 432x288 with 1 Axes>"
      ]
     },
     "metadata": {
      "needs_background": "light"
     },
     "output_type": "display_data"
    }
   ],
   "source": [
    "from richmol.convert_units import AUdip_x_Vm_to_invcm, AUpol_x_Vm_to_invcm\n",
    "import numpy as np\n",
    "import matplotlib.pyplot as plt\n",
    "\n",
    "\n",
    "fac1 = AUdip_x_Vm_to_invcm() # conversion factor for dipole[au] * field[V/m] into energy[cm^-1]\n",
    "fac2 = AUpol_x_Vm_to_invcm() # conversion factor for polarizability[au] * field**2[V**2/m**2] into energy[cm^-1]\n",
    "\n",
    "energies = []\n",
    "fz = np.linspace(1, 1000, 10) # max field is MV/cm\n",
    "\n",
    "for f in fz:\n",
    "\n",
    "    field = [0, 0, f*1000*100] # X, Y, Z field components in V/m\n",
    "    enr = []\n",
    "\n",
    "    for m in dip_m.keys():\n",
    "\n",
    "        # Hamiltonian\n",
    "        h = h0_m[m] - dip_m[m] * fac1 * field - 1/2 * pol_m[m] * fac2 * field\n",
    "\n",
    "        # eigenproblem solution\n",
    "        e,v = np.linalg.eigh(h.tomat(form='full', repres='dense'))\n",
    "\n",
    "        enr += [elem for elem in e]\n",
    "\n",
    "    energies.append(enr)\n",
    "\n",
    "energies = np.array(energies)\n",
    "\n",
    "# plot energies vs field\n",
    "for i in range(energies.shape[1]):\n",
    "    plt.plot(fz, energies[:,i])"
   ]
  },
  {
   "cell_type": "markdown",
   "metadata": {},
   "source": []
  }
 ],
 "metadata": {
  "kernelspec": {
   "display_name": "Python 3",
   "language": "python",
   "name": "python3"
  },
  "language_info": {
   "codemirror_mode": {
    "name": "ipython",
    "version": 3
   },
   "file_extension": ".py",
   "mimetype": "text/x-python",
   "name": "python",
   "nbconvert_exporter": "python",
   "pygments_lexer": "ipython3",
   "version": "3.8.5"
  },
  "metadata": {
   "interpreter": {
    "hash": "31f2aee4e71d21fbe5cf8b01ff0e069b9275f58929596ceb00d14d90e3e16cd6"
   }
  }
 },
 "nbformat": 4,
 "nbformat_minor": 4
}
