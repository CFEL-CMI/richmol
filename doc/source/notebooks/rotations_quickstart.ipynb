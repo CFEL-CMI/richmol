{
 "cells": [
  {
   "cell_type": "markdown",
   "metadata": {},
   "source": [
    "# Rotational dynamics Quickstart"
   ]
  },
  {
   "cell_type": "markdown",
   "metadata": {},
   "source": [
    "Calculation of rotational dynamics proceeds in two steps. At the first step, we obtain molecular field-free rotational energies, wave functions, and matrix elements of desired electric and magnetic property tensors, such as, for example, dipole moment or polarizability. At the second step, we solve the time-dependent problem with applied external electric and magnetic fields using the field-free solutions obtained at the first step as basis."
   ]
  },
  {
   "cell_type": "markdown",
   "metadata": {},
   "source": [
    "## Molecular field-free rotational states"
   ]
  },
  {
   "cell_type": "code",
   "execution_count": 1,
   "metadata": {},
   "outputs": [],
   "source": [
    "from richmol.rot import Molecule, mol_tensor\n",
    "from richmol.rot import solve"
   ]
  },
  {
   "cell_type": "markdown",
   "metadata": {},
   "source": [
    "There are three common ways to define molecule and its properties, using calculated or experimental data or combination of both:\n",
    "\n",
    "1. Provide Cartesian coordinates of atoms and molecular property tensors, referring to the same coordinate frame, obtained, for example, from quantum chemical calculations.\n",
    "\n",
    "2. Provide spectroscopic constants ($A$, $B$, $C$, $\\Delta_{J}$, $\\Delta_{J,K}$ ...) and molecular property tensors in the coordinate frame of principal axes of inertia (PAI).\n",
    "\n",
    "3. Provide spectroscopic constants ($A$, $B$, $C$, $\\Delta_{J}$, $\\Delta_{J,K}$ ...) and molecular property tensors which are not in the PAI frame. In this case, the Cartesian coordinates of atoms, defined with respect to the same frame as property tensors, must be provided. These will be used only for transforming the property tensors to the PAI frame."
   ]
  },
  {
   "cell_type": "markdown",
   "metadata": {},
   "source": [
    "### Molecular geometry and property tensors"
   ]
  },
  {
   "cell_type": "markdown",
   "metadata": {},
   "source": [
    "Here is an example for water molecule, using data obtained from a quantum chemical calculation"
   ]
  },
  {
   "cell_type": "code",
   "execution_count": 2,
   "metadata": {},
   "outputs": [
    {
     "name": "stdout",
     "output_type": "stream",
     "text": [
      "Masses and Cartesian coordinates of atoms\n",
      "O 15.99491462 [0.         0.         0.06559636]\n",
      "H 1.0078250322 [ 0.         -0.7572668  -0.52053088]\n",
      "H 1.0078250322 [ 0.          0.7572668  -0.52053088]\n"
     ]
    }
   ],
   "source": [
    "water = Molecule()\n",
    "\n",
    "# Cartesian coordinates of atoms\n",
    "water.XYZ = (\"bohr\",\n",
    "             \"O\",  0.00000000,   0.00000000,   0.12395915,\n",
    "             \"H\",  0.00000000,  -1.43102686,  -0.98366080,\n",
    "             \"H\",  0.00000000,   1.43102686,  -0.98366080)\n",
    "\n",
    "# dipole moment (au)\n",
    "water.dip = [0, 0, -0.7288]\n",
    "\n",
    "# polarizability tensor (au)\n",
    "water.pol = [[9.1369, 0, 0], [0, 9.8701, 0], [0, 0, 9.4486]]\n",
    "\n",
    "print(\"Masses and Cartesian coordinates of atoms\")\n",
    "for atom in water.XYZ:\n",
    "    print(atom['label'], atom['mass'], atom['xyz'])"
   ]
  },
  {
   "cell_type": "markdown",
   "metadata": {},
   "source": [
    "By default, calculations are carried out for the main isotopologue. To specify a non-standard isotope, put the corresponding isotope number next to the atom label, for example, \"O18\" for oxygen-18 or \"H2\" for deuterium"
   ]
  },
  {
   "cell_type": "code",
   "execution_count": 3,
   "metadata": {},
   "outputs": [
    {
     "name": "stdout",
     "output_type": "stream",
     "text": [
      "Masses and Cartesian coordinates of atoms\n",
      "O18 17.999159613 [0.         0.         0.06559636]\n",
      "H2 2.0141017781 [ 0.         -0.7572668  -0.52053088]\n",
      "H2 2.0141017781 [ 0.          0.7572668  -0.52053088]\n"
     ]
    }
   ],
   "source": [
    "# example of D2^{18}O\n",
    "D2_18O = Molecule()\n",
    "D2_18O.XYZ = (\"bohr\",\n",
    "             \"O18\",  0.00000000,   0.00000000,   0.12395915,\n",
    "             \"H2\",   0.00000000,  -1.43102686,  -0.98366080,\n",
    "             \"H2\",   0.00000000,   1.43102686,  -0.98366080)\n",
    "\n",
    "print(\"Masses and Cartesian coordinates of atoms\")\n",
    "for atom in D2_18O.XYZ:\n",
    "    print(atom['label'], atom['mass'], atom['xyz'])"
   ]
  },
  {
   "cell_type": "markdown",
   "metadata": {},
   "source": [
    "We can also read/store the geometry from/to XYZ file"
   ]
  },
  {
   "cell_type": "code",
   "execution_count": 4,
   "metadata": {},
   "outputs": [
    {
     "name": "stdout",
     "output_type": "stream",
     "text": [
      "Masses and Cartesian coordinates of atoms\n",
      "O 15.99491462 [0.         0.         0.06559636]\n",
      "H 1.0078250322 [ 0.         -0.7572668  -0.52053088]\n",
      "H 1.0078250322 [ 0.          0.7572668  -0.52053088]\n"
     ]
    }
   ],
   "source": [
    "# store Cartesian coordinates of atoms into XYZ file\n",
    "water.store_xyz(\"water.xyz\", \"some comment line\")\n",
    "\n",
    "# read Cartesian coordinates of atoms from XYZ file\n",
    "water2 = Molecule()\n",
    "water2.XYZ = \"water.xyz\"\n",
    "\n",
    "print(\"Masses and Cartesian coordinates of atoms\")\n",
    "for atom in water2.XYZ:\n",
    "    print(atom['label'], atom['mass'], atom['xyz'])"
   ]
  },
  {
   "cell_type": "markdown",
   "metadata": {},
   "source": [
    "The molecular frame embedding, i.e., the orientation of $x,y,z$ axes with respect to molecule, can be altered using `frame`.\n",
    "The molecule properties `dip` for the dipole moment and `pol` for the polarizability tensor (and few others) will be dynamically rotated to a new coordinate frame whenever the latter is changed"
   ]
  },
  {
   "cell_type": "code",
   "execution_count": 5,
   "metadata": {},
   "outputs": [
    {
     "name": "stdout",
     "output_type": "stream",
     "text": [
      "coordinates of atoms\n",
      " [('O', 15.99491462, [ 0.        ,  0.06559636,  0.        ])\n",
      " ('H',  1.00782503, [-0.7572668 , -0.52053088,  0.        ])\n",
      " ('H',  1.00782503, [ 0.7572668 , -0.52053088,  0.        ])]\n",
      "dipole moment\n",
      " [ 0.     -0.7288  0.    ]\n",
      "polarizability\n",
      " [[9.8701 0.     0.    ]\n",
      " [0.     9.4486 0.    ]\n",
      " [0.     0.     9.1369]]\n",
      "inertia tensor\n",
      " [[ 0.61496945 -0.         -0.        ]\n",
      " [-0.          1.1558806  -0.        ]\n",
      " [-0.         -0.          1.77085004]]\n"
     ]
    }
   ],
   "source": [
    "# change frame to inertial principal axes system (ipas)\n",
    "water.frame = \"ipas\"\n",
    "\n",
    "# or equivalently\n",
    "water.frame = \"diag(inertia)\" # reads as: frame where the inertia tensor is diagonal\n",
    "\n",
    "print(\"coordinates of atoms\\n\", water.XYZ)\n",
    "print(\"dipole moment\\n\", water.dip)\n",
    "print(\"polarizability\\n\", water.pol)\n",
    "\n",
    "print(\"inertia tensor\\n\", water.inertia)"
   ]
  },
  {
   "cell_type": "markdown",
   "metadata": {},
   "source": [
    "Multiple frame operations can be combined together, for example, we can rotate to the inertial principal axes system and then permute $x$ and $z$ axes"
   ]
  },
  {
   "cell_type": "code",
   "execution_count": 6,
   "metadata": {},
   "outputs": [
    {
     "name": "stdout",
     "output_type": "stream",
     "text": [
      "coordinates of atoms\n",
      " [('O', 15.99491462, [ 0.        ,  0.06559636,  0.        ])\n",
      " ('H',  1.00782503, [ 0.        , -0.52053088, -0.7572668 ])\n",
      " ('H',  1.00782503, [ 0.        , -0.52053088,  0.7572668 ])]\n",
      "dipole moment\n",
      " [ 0.     -0.7288  0.    ]\n",
      "polarizability\n",
      " [[9.1369 0.     0.    ]\n",
      " [0.     9.4486 0.    ]\n",
      " [0.     0.     9.8701]]\n",
      "inertia tensor\n",
      " [[ 1.77085004 -0.         -0.        ]\n",
      " [-0.          1.1558806  -0.        ]\n",
      " [-0.         -0.          0.61496945]]\n"
     ]
    }
   ],
   "source": [
    "water.frame = \"ipas\"\n",
    "water.frame = \"zyx\"\n",
    "\n",
    "# or equivalently in one line (with operations performed form right to left)\n",
    "water.frame = \"zyx,ipas\"\n",
    "\n",
    "print(\"coordinates of atoms\\n\", water.XYZ)\n",
    "print(\"dipole moment\\n\", water.dip)\n",
    "print(\"polarizability\\n\", water.pol)\n",
    "\n",
    "print(\"inertia tensor\\n\", water.inertia)"
   ]
  },
  {
   "cell_type": "markdown",
   "metadata": {},
   "source": [
    "The principal axes system can be defined with respect to any rank-2 symmetric matrix. For example, in many cases it is convenient to choose molecular frame such that polarizability tensor becomes diagonal"
   ]
  },
  {
   "cell_type": "code",
   "execution_count": 7,
   "metadata": {},
   "outputs": [
    {
     "name": "stdout",
     "output_type": "stream",
     "text": [
      "coordinates of atoms\n",
      " [('O', 15.99491462, [ 0.        ,  0.06559636,  0.        ])\n",
      " ('H',  1.00782503, [ 0.        , -0.52053088, -0.7572668 ])\n",
      " ('H',  1.00782503, [ 0.        , -0.52053088,  0.7572668 ])]\n",
      "dipole moment\n",
      " [ 0.     -0.7288  0.    ]\n",
      "polarizability\n",
      " [[9.1369 0.     0.    ]\n",
      " [0.     9.4486 0.    ]\n",
      " [0.     0.     9.8701]]\n"
     ]
    }
   ],
   "source": [
    "water.frame = \"diag(pol)\" # reads as: frame where tensor 'pol' is diagonal\n",
    "\n",
    "print(\"coordinates of atoms\\n\", water.XYZ)\n",
    "print(\"dipole moment\\n\", water.dip)\n",
    "print(\"polarizability\\n\", water.pol)\n"
   ]
  },
  {
   "cell_type": "markdown",
   "metadata": {},
   "source": [
    "We can also define custom rotation matrix or principal axis matrix, as demonstrated below"
   ]
  },
  {
   "cell_type": "code",
   "execution_count": 8,
   "metadata": {},
   "outputs": [],
   "source": [
    "import numpy as np\n",
    "import scipy.linalg as la\n",
    "\n",
    "# generate random matrix\n",
    "mat = np.random.rand(3,3)\n",
    "\n",
    "# random rotation matrix\n",
    "water.custom_rot = la.expm((mat - mat.T)/2)\n",
    "\n",
    "# random symmetric matrix\n",
    "water.custom_pam = (mat + mat.T)/2\n",
    "\n",
    "# use 'custom_rot' (orthogonal) matrix to rotate the frame\n",
    "water.frame = \"custom_rot\"\n",
    "\n",
    "# alternatively use 'custom_pam' (symmetric) matrix as principal axes matrix\n",
    "water.frame = \"diag(custom_pam)\""
   ]
  },
  {
   "cell_type": "markdown",
   "metadata": {},
   "source": [
    "Multiple occurences of `frame` assignments lead to the accumulation of the corresponding frame transformations. Use `frame`=None or `frame`=\"None\" to reset the frame to the one defined by the input Cartesian coordinates of atoms"
   ]
  },
  {
   "cell_type": "code",
   "execution_count": 9,
   "metadata": {},
   "outputs": [
    {
     "name": "stdout",
     "output_type": "stream",
     "text": [
      "[('O', 15.99491462, [ 0.        ,  0.06559636,  0.        ])\n",
      " ('H',  1.00782503, [ 0.        , -0.52053088, -0.7572668 ])\n",
      " ('H',  1.00782503, [ 0.        , -0.52053088,  0.7572668 ])]\n"
     ]
    }
   ],
   "source": [
    "water.frame = \"diag(inertia)\" # rotate to ipas\n",
    "water.frame = \"zxy\" # then permute axes (123)\n",
    "\n",
    "# now we want to permute axes (23) in the original frame, reset frame rotation\n",
    "water.frame = None\n",
    "water.frame = \"xzy\"\n",
    "\n",
    "# or equivalently in one line\n",
    "water.frame = \"xzy,None\"\n",
    "\n",
    "print(water.XYZ)"
   ]
  },
  {
   "cell_type": "markdown",
   "metadata": {},
   "source": [
    "Only certain molecule properties (such as `dip`, `pol`, `inertia`, `XYZ`, and few others) are automatically rotated when the frame is altered. This is demonstrated in the following example"
   ]
  },
  {
   "cell_type": "code",
   "execution_count": 10,
   "metadata": {},
   "outputs": [
    {
     "name": "stdout",
     "output_type": "stream",
     "text": [
      "vec\n",
      " [1, 2, 3]\n",
      "mat\n",
      " [[1, 2, 3], [4, 5, 6], [7, 8, 9]]\n",
      "dip\n",
      " [-0.7288  0.      0.    ]\n"
     ]
    }
   ],
   "source": [
    "water.vec = [1,2,3]\n",
    "water.mat = [[1,2,3],[4,5,6],[7,8,9]]\n",
    "\n",
    "water.frame = \"zyx,null\"\n",
    "\n",
    "# axes permutation (13) does not affect vec and mat, but dip\n",
    "print(\"vec\\n\", water.vec)\n",
    "print(\"mat\\n\", water.mat)\n",
    "print(\"dip\\n\", water.dip)"
   ]
  },
  {
   "cell_type": "markdown",
   "metadata": {},
   "source": [
    "To declare a custom Cartesian tensor which is dynamically rotated to a new frame, use `mol_tensor` function"
   ]
  },
  {
   "cell_type": "code",
   "execution_count": 11,
   "metadata": {},
   "outputs": [
    {
     "name": "stdout",
     "output_type": "stream",
     "text": [
      "vec\n",
      " [3. 2. 1.]\n",
      "mat\n",
      " [[9. 8. 7.]\n",
      " [6. 5. 4.]\n",
      " [3. 2. 1.]]\n",
      "dip\n",
      " [-0.7288  0.      0.    ]\n",
      "\n",
      "new vec\n",
      " [9. 8. 7.]\n",
      "new mat\n",
      " [[19. 18. 17.]\n",
      " [16. 15. 14.]\n",
      " [13. 12. 11.]]\n"
     ]
    }
   ],
   "source": [
    "water.vec = mol_tensor([1,2,3])\n",
    "water.mat = mol_tensor([[1,2,3],[4,5,6],[7,8,9]])\n",
    "\n",
    "water.frame = \"zyx,null\"\n",
    "\n",
    "# axes permutation (13) now affects also vec and mat\n",
    "print(\"vec\\n\", water.vec)\n",
    "print(\"mat\\n\", water.mat)\n",
    "print(\"dip\\n\", water.dip)\n",
    "\n",
    "# we can then change vec and mat values, they will still be dynamically rotated\n",
    "water.vec = [7,8,9]\n",
    "water.mat = [[11,12,13],[14,15,16],[17,18,19]]\n",
    "\n",
    "print(\"\\nnew vec\\n\", water.vec)\n",
    "print(\"new mat\\n\", water.mat)"
   ]
  },
  {
   "cell_type": "markdown",
   "metadata": {},
   "source": [
    "### Rotational constants"
   ]
  },
  {
   "cell_type": "markdown",
   "metadata": {},
   "source": [
    "The rotational constants (in units of cm$^{-1}$) can be calculated from the input molecular geometry using `ABC`. This will work only if the molecular frame is set to the inertial principal axes system or if the inertia tensor is diagonal"
   ]
  },
  {
   "cell_type": "code",
   "execution_count": 12,
   "metadata": {},
   "outputs": [
    {
     "name": "stdout",
     "output_type": "stream",
     "text": [
      "[9.519512542010801, 14.584230612810305, 27.412141069544163]\n",
      "[27.412141069544163, 14.584230612810305, 9.519512542010801]\n"
     ]
    }
   ],
   "source": [
    "water.frame = \"diag(pol)\" # frame where polarizability tensor is diagonal\n",
    "print(water.ABC) # works because inertia tensor happens to be diagonal in the selected frame\n",
    "\n",
    "water.frame = \"diag(inertia)\"\n",
    "print(water.ABC) # the rotational constants in the inertia frame will be sorted in ascending order"
   ]
  },
  {
   "cell_type": "markdown",
   "metadata": {},
   "source": [
    "The values of rotational constants can also be user specified, for example, by setting them to experimental values. In these case, `ABC` will always return the user-defined values. To access the rotational constants calculated from the molecular geometry, use `ABC_geom`"
   ]
  },
  {
   "cell_type": "code",
   "execution_count": 13,
   "metadata": {},
   "outputs": [
    {
     "name": "stdout",
     "output_type": "stream",
     "text": [
      "water.ABC  [27.412141069544163, 14.584230612810305, 9.519512542010801]\n",
      "water.ABC  [27.877, 14.512, 9.285]\n",
      "water.ABC_geom  [27.412141069544163, 14.584230612810305, 9.519512542010801]\n"
     ]
    }
   ],
   "source": [
    "print(\"water.ABC \", water.ABC)\n",
    "water.ABC = (9.285, 14.512, 27.877) # user-defined rotational constants in units of cm^-1\n",
    "print(\"water.ABC \", water.ABC)\n",
    "print(\"water.ABC_geom \", water.ABC_geom)"
   ]
  },
  {
   "cell_type": "markdown",
   "metadata": {},
   "source": [
    "***************************\n",
    "\n",
    "**Important**: If user-defined rotational constants have been specified, the rotational Hamiltonian is built using these values\n",
    "\n",
    "***************************"
   ]
  },
  {
   "cell_type": "markdown",
   "metadata": {},
   "source": [
    "For linear and spherical-top molecules, use `B` to print and assign the rotational constant"
   ]
  },
  {
   "cell_type": "code",
   "execution_count": 14,
   "metadata": {},
   "outputs": [
    {
     "name": "stdout",
     "output_type": "stream",
     "text": [
      "0.20286\n",
      "0.20317859211971495\n",
      "True\n"
     ]
    }
   ],
   "source": [
    "ocs = Molecule()\n",
    "ocs.B = 0.20286 # experimental value\n",
    "print(ocs.B)\n",
    "\n",
    "ocs.XYZ = (\"angstrom\", \"C\", 0, 0, 0, \"S\", 0, 0, -1.56, \"O\", 0, 0, 1.16)\n",
    "print(ocs.B_geom) # calculated value\n",
    "\n",
    "print(ocs.linear()) # True if molecule is linear"
   ]
  },
  {
   "cell_type": "markdown",
   "metadata": {},
   "source": [
    "If the molecular geometry is specified, the user-input rotational constants are always checked to agree within 5% difference with the values calculated from molecular geometry. Here is an example of an error produced when molecular frame is not in the inertial principal axes system"
   ]
  },
  {
   "cell_type": "code",
   "execution_count": 15,
   "metadata": {},
   "outputs": [
    {
     "name": "stdout",
     "output_type": "stream",
     "text": [
      "inertia frame\n",
      "calculated ABC [27.412141069544163, 14.584230612810305, 9.519512542010801]\n",
      "input ABC      [27.877, 14.512, 9.285]\n",
      "\n",
      "polarizability frame\n",
      "calculated ABC [9.519512542010801, 14.584230612810305, 27.412141069544163]\n"
     ]
    },
    {
     "ename": "ValueError",
     "evalue": "input rotational constants disagree much with geometry\n        exp          calc       exp-calc\nA    27.877000     9.519513    18.357487\nB    14.512000    14.584231    -0.072231\nC     9.285000    27.412141   -18.127141",
     "output_type": "error",
     "traceback": [
      "\u001b[0;31m---------------------------------------------------------------------------\u001b[0m",
      "\u001b[0;31mValueError\u001b[0m                                Traceback (most recent call last)",
      "\u001b[0;32m<ipython-input-15-9ec55285a260>\u001b[0m in \u001b[0;36m<module>\u001b[0;34m\u001b[0m\n\u001b[1;32m     18\u001b[0m \u001b[0mprint\u001b[0m\u001b[0;34m(\u001b[0m\u001b[0;34m\"\\npolarizability frame\"\u001b[0m\u001b[0;34m)\u001b[0m\u001b[0;34m\u001b[0m\u001b[0;34m\u001b[0m\u001b[0m\n\u001b[1;32m     19\u001b[0m \u001b[0mprint\u001b[0m\u001b[0;34m(\u001b[0m\u001b[0;34m\"calculated ABC\"\u001b[0m\u001b[0;34m,\u001b[0m \u001b[0mwater2\u001b[0m\u001b[0;34m.\u001b[0m\u001b[0mABC_geom\u001b[0m\u001b[0;34m)\u001b[0m\u001b[0;34m\u001b[0m\u001b[0;34m\u001b[0m\u001b[0m\n\u001b[0;32m---> 20\u001b[0;31m \u001b[0mprint\u001b[0m\u001b[0;34m(\u001b[0m\u001b[0;34m\"input ABC     \"\u001b[0m\u001b[0;34m,\u001b[0m \u001b[0mwater2\u001b[0m\u001b[0;34m.\u001b[0m\u001b[0mABC\u001b[0m\u001b[0;34m)\u001b[0m \u001b[0;31m# specified rotaitonal constants disagree much with the geometry\u001b[0m\u001b[0;34m\u001b[0m\u001b[0;34m\u001b[0m\u001b[0m\n\u001b[0m",
      "\u001b[0;32m~/.local/lib/python3.8/site-packages/richmol-0.1a1-py3.8-linux-x86_64.egg/richmol/rot/molecule.py\u001b[0m in \u001b[0;36mABC\u001b[0;34m(self)\u001b[0m\n\u001b[1;32m    318\u001b[0m         \"\"\"\n\u001b[1;32m    319\u001b[0m         \u001b[0;32mtry\u001b[0m\u001b[0;34m:\u001b[0m\u001b[0;34m\u001b[0m\u001b[0;34m\u001b[0m\u001b[0m\n\u001b[0;32m--> 320\u001b[0;31m             \u001b[0mself\u001b[0m\u001b[0;34m.\u001b[0m\u001b[0mcheck_ABC\u001b[0m\u001b[0;34m(\u001b[0m\u001b[0;34m)\u001b[0m\u001b[0;34m\u001b[0m\u001b[0;34m\u001b[0m\u001b[0m\n\u001b[0m\u001b[1;32m    321\u001b[0m             \u001b[0;32mreturn\u001b[0m \u001b[0mself\u001b[0m\u001b[0;34m.\u001b[0m\u001b[0mABC_exp\u001b[0m\u001b[0;34m\u001b[0m\u001b[0;34m\u001b[0m\u001b[0m\n\u001b[1;32m    322\u001b[0m         \u001b[0;32mexcept\u001b[0m \u001b[0mAttributeError\u001b[0m\u001b[0;34m:\u001b[0m\u001b[0;34m\u001b[0m\u001b[0;34m\u001b[0m\u001b[0m\n",
      "\u001b[0;32m~/.local/lib/python3.8/site-packages/richmol-0.1a1-py3.8-linux-x86_64.egg/richmol/rot/molecule.py\u001b[0m in \u001b[0;36mcheck_ABC\u001b[0;34m(self)\u001b[0m\n\u001b[1;32m    386\u001b[0m             err = \"\\n\".join( abc + \" %12.6f\"%e + \" %12.6f\"%c + \" %12.6f\"%(e-c) \\\n\u001b[1;32m    387\u001b[0m                              for abc,e,c in zip((\"A\",\"B\",\"C\"), ABC_exp, ABC_geom) )\n\u001b[0;32m--> 388\u001b[0;31m             raise ValueError(f\"input rotational constants disagree much with geometry\\n\" + \\\n\u001b[0m\u001b[1;32m    389\u001b[0m                 f\"        exp          calc       exp-calc\\n\" + err) from None\n\u001b[1;32m    390\u001b[0m         \u001b[0;32mreturn\u001b[0m\u001b[0;34m\u001b[0m\u001b[0;34m\u001b[0m\u001b[0m\n",
      "\u001b[0;31mValueError\u001b[0m: input rotational constants disagree much with geometry\n        exp          calc       exp-calc\nA    27.877000     9.519513    18.357487\nB    14.512000    14.584231    -0.072231\nC     9.285000    27.412141   -18.127141"
     ]
    }
   ],
   "source": [
    "water2 = Molecule()\n",
    "water2.ABC = (9.285, 14.512, 27.877) # user-defined rotational constants in units of cm^-1\n",
    "\n",
    "water2.XYZ = (\"bohr\",\n",
    "              \"O\",  0.00000000,   0.00000000,   0.12395915,\n",
    "              \"H\",  0.00000000,  -1.43102686,  -0.98366080,\n",
    "              \"H\",  0.00000000,   1.43102686,  -0.98366080)\n",
    "\n",
    "# polarizability tensor (au)\n",
    "water2.pol = [[9.1369, 0, 0], [0, 9.8701, 0], [0, 0, 9.4486]]\n",
    "\n",
    "water2.frame = 'ipas' # inertia principal axes system\n",
    "print(\"inertia frame\")\n",
    "print(\"calculated ABC\", water2.ABC_geom)\n",
    "print(\"input ABC     \", water2.ABC)\n",
    "\n",
    "water2.frame = 'diag(pol)' # polarizability principal axes system\n",
    "print(\"\\npolarizability frame\")\n",
    "print(\"calculated ABC\", water2.ABC_geom)\n",
    "print(\"input ABC     \", water2.ABC) # specified rotaitonal constants disagree much with the geometry "
   ]
  },
  {
   "cell_type": "markdown",
   "metadata": {},
   "source": [
    "### Rotational solutions "
   ]
  },
  {
   "cell_type": "markdown",
   "metadata": {},
   "source": [
    "The rotational energies and wave functions can be calculated for a specified range of $J$ quantum number using function `solve`"
   ]
  },
  {
   "cell_type": "code",
   "execution_count": 16,
   "metadata": {},
   "outputs": [],
   "source": [
    "sol = solve(water, Jmin=0, Jmax=10)"
   ]
  },
  {
   "cell_type": "markdown",
   "metadata": {},
   "source": [
    "Returned object is a dictionary `sol[J][sym]` containing solutions for different values of $J$ and different symetries (of $C_1$ group by default). The state energies (in cm$^{-1}$) and assignments (by $J, k, \\tau$ quantum numbers) can be printed out as following"
   ]
  },
  {
   "cell_type": "code",
   "execution_count": 17,
   "metadata": {
    "tags": []
   },
   "outputs": [
    {
     "name": "stdout",
     "output_type": "stream",
     "text": [
      "J  sym #    energy      J   k  tau  |leading coef|^2\n",
      "0    A 0     0.000000 ['0' '0' '0' ' 1.000000']\n",
      "1    A 0    23.797000 ['1' '0' '1' ' 1.000000']\n",
      "1    A 1    37.162000 ['1' '1' '0' ' 1.000000']\n",
      "1    A 2    42.389000 ['1' '1' '1' ' 1.000000']\n",
      "2    A 0    70.133328 ['2' '0' '0' ' 0.981068']\n",
      "2    A 1    79.529000 ['2' '1' '1' ' 1.000000']\n",
      "2    A 2    95.210000 ['2' '1' '0' ' 1.000000']\n",
      "2    A 3   135.305000 ['2' '2' '1' ' 1.000000']\n",
      "2    A 4   136.562672 ['2' '2' '0' ' 0.981068']\n",
      "3    A 0   136.909477 ['3' '0' '1' ' 0.922382']\n",
      "3    A 1   142.369084 ['3' '1' '0' ' 0.995098']\n",
      "3    A 2   173.535239 ['3' '1' '1' ' 0.992048']\n",
      "3    A 3   206.696000 ['3' '2' '0' ' 1.000000']\n",
      "3    A 4   212.568523 ['3' '2' '1' ' 0.922382']\n",
      "3    A 5   287.298916 ['3' '3' '0' ' 0.995098']\n",
      "3    A 6   287.494761 ['3' '3' '1' ' 0.992048']\n",
      "4    A 0   222.369478 ['4' '0' '0' ' 0.834399']\n",
      "4    A 1   225.067555 ['4' '1' '1' ' 0.982779']\n",
      "4    A 2   276.014787 ['4' '1' '0' ' 0.962955']\n",
      "4    A 3   300.891698 ['4' '2' '1' ' 0.994878']\n",
      "4    A 4   316.467065 ['4' '2' '0' ' 0.829445']\n",
      "4    A 5   384.522445 ['4' '3' '1' ' 0.982779']\n",
      "4    A 6   385.845213 ['4' '3' '0' ' 0.962955']\n",
      "4    A 7   494.618302 ['4' '4' '1' ' 0.994878']\n",
      "4    A 8   494.643456 ['4' '4' '0' ' 0.994516']\n",
      "5    A 0   325.904850 ['5' '0' '1' ' 0.746777']\n",
      "5    A 1   327.096090 ['5' '1' '0' ' 0.962995']\n",
      "5    A 2   400.581905 ['5' '1' '1' ' 0.895560']\n",
      "5    A 3   417.095984 ['5' '2' '0' ' 0.981068']\n",
      "5    A 4   447.924940 ['5' '2' '1' ' 0.727879']\n",
      "5    A 5   506.187057 ['5' '3' '0' ' 0.958321']\n",
      "5    A 6   511.103325 ['5' '3' '1' ' 0.891055']\n",
      "5    A 7   616.384016 ['5' '4' '0' ' 0.981068']\n",
      "5    A 8   616.605210 ['5' '4' '1' ' 0.977950']\n",
      "5    A 9   757.626853 ['5' '5' '0' ' 0.995234']\n",
      "5    A 10   757.629769 ['5' '5' '1' ' 0.995196']\n",
      "6    A 0   447.599446 ['6' '0' '0' ' 0.674283']\n",
      "6    A 1   448.088529 ['6' '1' '1' ' 0.937727']\n",
      "6    A 2   544.853509 ['6' '1' '0' ' 0.786176']\n",
      "6    A 3   554.434256 ['6' '2' '1' ' 0.955896']\n",
      "6    A 4   605.510686 ['6' '2' '0' ' 0.626507']\n",
      "6    A 5   651.859161 ['6' '3' '1' ' 0.920975']\n",
      "6    A 6   664.829678 ['6' '3' '0' ' 0.770747']\n",
      "6    A 7   763.189409 ['6' '4' '1' ' 0.951514']\n",
      "6    A 8   764.250215 ['6' '4' '0' ' 0.937198']\n",
      "6    A 9   903.627310 ['6' '5' '1' ' 0.982691']\n",
      "6    A 10   903.658813 ['6' '5' '0' ' 0.982284']\n",
      "6    A 11  1076.383335 ['6' '6' '1' ' 0.995514']\n",
      "6    A 12  1076.383652 ['6' '6' '0' ' 0.995510']\n",
      "7    A 0   587.641514 ['7' '0' '1' ' 0.617339']\n",
      "7    A 1   587.832828 ['7' '1' '0' ' 0.909570']\n",
      "7    A 2   707.150495 ['7' '1' '1' ' 0.659123']\n",
      "7    A 3   712.071291 ['7' '2' '0' ' 0.918887']\n",
      "7    A 4   787.117900 ['7' '2' '1' ' 0.518895']\n",
      "7    A 5   820.814666 ['7' '3' '0' ' 0.870785']\n",
      "7    A 6   847.669393 ['7' '3' '1' ' 0.625041']\n",
      "7    A 7   935.093985 ['7' '4' '0' ' 0.903726']\n",
      "7    A 8   938.717803 ['7' '4' '1' ' 0.858727']\n",
      "7    A 9  1074.737996 ['7' '5' '0' ' 0.955102']\n",
      "7    A 10  1074.921568 ['7' '5' '1' ' 0.952802']\n",
      "7    A 11  1246.578723 ['7' '6' '0' ' 0.984159']\n",
      "7    A 12  1246.582784 ['7' '6' '1' ' 0.984111']\n",
      "7    A 13  1450.894510 ['7' '7' '0' ' 0.995705']\n",
      "7    A 14  1450.894543 ['7' '7' '1' ' 0.995704']\n",
      "8    A 0   746.150442 ['8' '0' '0' ' 0.572379']\n",
      "8    A 1   746.222754 ['8' '1' '1' ' 0.880666']\n",
      "8    A 2   887.017097 ['8' '1' '0' ' 0.544041']\n",
      "8    A 3   889.320855 ['8' '2' '1' ' 0.872157']\n",
      "8    A 4   990.140685 ['8' '2' '0' ' 0.400128']\n",
      "8    A 5  1012.133558 ['8' '3' '1' ' 0.808292']\n",
      "8    A 6  1058.750356 ['8' '3' '0' ' 0.481904']\n",
      "8    A 7  1131.879066 ['8' '4' '1' ' 0.838022']\n",
      "8    A 8  1141.573018 ['8' '4' '0' ' 0.733872']\n",
      "8    A 9  1271.230370 ['8' '5' '1' ' 0.908565']\n",
      "8    A 10  1271.990740 ['8' '5' '0' ' 0.899535']\n",
      "8    A 11  1441.827472 ['8' '6' '1' ' 0.959290']\n",
      "8    A 12  1441.855243 ['8' '6' '0' ' 0.958970']\n",
      "8    A 13  1645.289318 ['8' '7' '1' ' 0.985184']\n",
      "8    A 14  1645.289806 ['8' '7' '0' ' 0.985179']\n",
      "8    A 15  1881.160608 ['8' '8' '1' ' 0.995839']\n",
      "8    A 16  1881.160611 ['8' '8' '0' ' 0.995839']\n",
      "9    A 0   923.184206 ['9' '0' '1' ' 0.536071']\n",
      "9    A 1   923.210846 ['9' '1' '0' ' 0.852384']\n",
      "9    A 2  1084.689410 ['9' '3' '1' ' 0.514026']\n",
      "9    A 3  1085.699491 ['9' '2' '0' ' 0.819485']\n",
      "9    A 4  1212.033720 ['9' '0' '1' ' 0.380052']\n",
      "9    A 5  1224.828202 ['9' '3' '0' ' 0.735113']\n",
      "9    A 6  1296.074482 ['9' '1' '1' ' 0.527629']\n",
      "9    A 7  1353.002055 ['9' '4' '0' ' 0.756972']\n",
      "9    A 8  1374.214294 ['9' '4' '1' ' 0.574219']\n",
      "9    A 9  1493.273872 ['9' '5' '0' ' 0.841267']\n",
      "9    A 10  1495.760196 ['9' '5' '1' ' 0.814241']\n",
      "9    A 11  1662.416485 ['9' '6' '0' ' 0.917155']\n",
      "9    A 12  1662.550755 ['9' '6' '1' ' 0.915669']\n",
      "9    A 13  1864.675734 ['9' '7' '0' ' 0.962385']\n",
      "9    A 14  1864.679566 ['9' '7' '1' ' 0.962344']\n",
      "9    A 15  2099.761970 ['9' '8' '0' ' 0.985905']\n",
      "9    A 16  2099.762025 ['9' '8' '1' ' 0.985904']\n",
      "9    A 17  2367.181346 ['9' '9' '0' ' 0.995939']\n",
      "9    A 18  2367.181346 ['9' '9' '1' ' 0.995939']\n",
      "10    A 0  1118.768185 ['10' '0' '0' ' 0.506029']\n",
      "10    A 1  1118.777805 ['10' '1' '1' ' 0.825444']\n",
      "10    A 2  1300.490705 ['10' '3' '0' ' 0.562907']\n",
      "10    A 3  1300.913168 ['10' '2' '1' ' 0.764806']\n",
      "10    A 4  1451.264316 ['10' '4' '0' ' 0.435795']\n",
      "10    A 5  1457.977536 ['10' '3' '1' ' 0.654519']\n",
      "10    A 6  1556.988444 ['10' '1' '0' ' 0.567562']\n",
      "10    A 7  1597.634515 ['10' '4' '1' ' 0.664353']\n",
      "10    A 8  1636.837487 ['10' '4' '0' ' 0.410590']\n",
      "10    A 9  1740.831055 ['10' '5' '1' ' 0.754464']\n",
      "10    A 10  1747.571107 ['10' '5' '0' ' 0.690800']\n",
      "10    A 11  1908.633990 ['10' '6' '1' ' 0.855009']\n",
      "10    A 12  1909.146191 ['10' '6' '0' ' 0.849710']\n",
      "10    A 13  2109.304208 ['10' '7' '1' ' 0.924129']\n",
      "10    A 14  2109.325343 ['10' '7' '0' ' 0.923912']\n",
      "10    A 15  2343.306809 ['10' '8' '1' ' 0.964583']\n",
      "10    A 16  2343.307304 ['10' '8' '0' ' 0.964578']\n",
      "10    A 17  2609.994395 ['10' '9' '1' ' 0.986434']\n",
      "10    A 18  2609.994401 ['10' '9' '0' ' 0.986434']\n",
      "10    A 19  2908.956518 ['10' '10' '1' ' 0.996016']\n",
      "10    A 20  2908.956518 ['10' '10' '0' ' 0.996016']\n"
     ]
    }
   ],
   "source": [
    "print(\"J  sym #    energy      J   k  tau  |leading coef|^2\")\n",
    "for J, sol_J in sol.items():\n",
    "    for symmetry, sol_sym in sol_J.items():\n",
    "        for istate in range(sol_sym.nstates):\n",
    "            print(J, \"%4s\"%symmetry, istate, \"%12.6f\"%sol_sym.enr[istate], sol_sym.assign[istate])"
   ]
  },
  {
   "cell_type": "markdown",
   "metadata": {},
   "source": [
    "The energies are in units of cm$^{-1}$ and the assignment is a list of numbers ($J$, $k$, $\\tau$, $c$) denoting the leading symmetric-top function in the expansion of state wave function. $\\tau$ is the pairty of rotational state, defined as $(-1)^\\tau$, and $c$ is the absolute value of the leading coefficient.\n",
    "\n",
    "It is easy to print more than one leading contribution in the assignment"
   ]
  },
  {
   "cell_type": "code",
   "execution_count": 18,
   "metadata": {
    "tags": []
   },
   "outputs": [
    {
     "name": "stdout",
     "output_type": "stream",
     "text": [
      "J  sym #    energy      J   k  tau  |leading coef|^2\n",
      "0    A 0     0.000000 ['0' '0' '0' ' 1.000000']\n",
      "1    A 0    23.797000 ['1' '0' '1' ' 1.000000' '1' '1' '0' ' 0.000000' '1' '1' '1' ' 0.000000']\n",
      "1    A 1    37.162000 ['1' '1' '0' ' 1.000000' '1' '0' '1' ' 0.000000' '1' '1' '1' ' 0.000000']\n",
      "1    A 2    42.389000 ['1' '1' '1' ' 1.000000' '1' '0' '1' ' 0.000000' '1' '1' '0' ' 0.000000']\n",
      "2    A 0    70.133328 ['2' '0' '0' ' 0.981068' '2' '2' '0' ' 0.018932' '2' '1' '0' ' 0.000000']\n",
      "2    A 1    79.529000 ['2' '1' '1' ' 1.000000' '2' '0' '0' ' 0.000000' '2' '1' '0' ' 0.000000']\n",
      "2    A 2    95.210000 ['2' '1' '0' ' 1.000000' '2' '2' '0' ' 0.000000' '2' '0' '0' ' 0.000000']\n",
      "2    A 3   135.305000 ['2' '2' '1' ' 1.000000' '2' '0' '0' ' 0.000000' '2' '1' '0' ' 0.000000']\n",
      "2    A 4   136.562672 ['2' '2' '0' ' 0.981068' '2' '0' '0' ' 0.018932' '2' '1' '0' ' 0.000000']\n",
      "3    A 0   136.909477 ['3' '0' '1' ' 0.922382' '3' '2' '1' ' 0.077618' '3' '1' '0' ' 0.000000']\n",
      "3    A 1   142.369084 ['3' '1' '0' ' 0.995098' '3' '3' '0' ' 0.004902' '3' '0' '1' ' 0.000000']\n",
      "3    A 2   173.535239 ['3' '1' '1' ' 0.992048' '3' '3' '1' ' 0.007952' '3' '1' '0' ' 0.000000']\n",
      "3    A 3   206.696000 ['3' '2' '0' ' 1.000000' '3' '3' '1' ' 0.000000' '3' '1' '1' ' 0.000000']\n",
      "3    A 4   212.568523 ['3' '2' '1' ' 0.922382' '3' '0' '1' ' 0.077618' '3' '1' '0' ' 0.000000']\n",
      "3    A 5   287.298916 ['3' '3' '0' ' 0.995098' '3' '1' '0' ' 0.004902' '3' '3' '1' ' 0.000000']\n",
      "3    A 6   287.494761 ['3' '3' '1' ' 0.992048' '3' '1' '1' ' 0.007952' '3' '2' '0' ' 0.000000']\n",
      "4    A 0   222.369478 ['4' '0' '0' ' 0.834399' '4' '2' '0' ' 0.165171' '4' '4' '0' ' 0.000429']\n",
      "4    A 1   225.067555 ['4' '1' '1' ' 0.982779' '4' '3' '1' ' 0.017221' '4' '0' '0' ' 0.000000']\n",
      "4    A 2   276.014787 ['4' '1' '0' ' 0.962955' '4' '3' '0' ' 0.037045' '4' '2' '1' ' 0.000000']\n",
      "4    A 3   300.891698 ['4' '2' '1' ' 0.994878' '4' '4' '1' ' 0.005122' '4' '1' '0' ' 0.000000']\n",
      "4    A 4   316.467065 ['4' '2' '0' ' 0.829445' '4' '0' '0' ' 0.165500' '4' '4' '0' ' 0.005054']\n",
      "4    A 5   384.522445 ['4' '3' '1' ' 0.982779' '4' '1' '1' ' 0.017221' '4' '4' '0' ' 0.000000']\n",
      "4    A 6   385.845213 ['4' '3' '0' ' 0.962955' '4' '1' '0' ' 0.037045' '4' '2' '1' ' 0.000000']\n",
      "4    A 7   494.618302 ['4' '4' '1' ' 0.994878' '4' '2' '1' ' 0.005122' '4' '1' '0' ' 0.000000']\n",
      "4    A 8   494.643456 ['4' '4' '0' ' 0.994516' '4' '2' '0' ' 0.005383' '4' '0' '0' ' 0.000100']\n",
      "5    A 0   325.904850 ['5' '0' '1' ' 0.746777' '5' '2' '1' ' 0.250971' '5' '4' '1' ' 0.002252']\n",
      "5    A 1   327.096090 ['5' '1' '0' ' 0.962995' '5' '3' '0' ' 0.036944' '5' '5' '0' ' 0.000062']\n",
      "5    A 2   400.581905 ['5' '1' '1' ' 0.895560' '5' '3' '1' ' 0.104187' '5' '5' '1' ' 0.000253']\n",
      "5    A 3   417.095984 ['5' '2' '0' ' 0.981068' '5' '4' '0' ' 0.018932' '5' '1' '0' ' 0.000000']\n",
      "5    A 4   447.924940 ['5' '2' '1' ' 0.727879' '5' '0' '1' ' 0.252323' '5' '4' '1' ' 0.019798']\n",
      "5    A 5   506.187057 ['5' '3' '0' ' 0.958321' '5' '1' '0' ' 0.036975' '5' '5' '0' ' 0.004704']\n",
      "5    A 6   511.103325 ['5' '3' '1' ' 0.891055' '5' '1' '1' ' 0.104394' '5' '5' '1' ' 0.004551']\n",
      "5    A 7   616.384016 ['5' '4' '0' ' 0.981068' '5' '2' '0' ' 0.018932' '5' '1' '0' ' 0.000000']\n",
      "5    A 8   616.605210 ['5' '4' '1' ' 0.977950' '5' '2' '1' ' 0.021150' '5' '0' '1' ' 0.000900']\n",
      "5    A 9   757.626853 ['5' '5' '0' ' 0.995234' '5' '3' '0' ' 0.004736' '5' '1' '0' ' 0.000030']\n",
      "5    A 10   757.629769 ['5' '5' '1' ' 0.995196' '5' '3' '1' ' 0.004758' '5' '1' '1' ' 0.000046']\n",
      "6    A 0   447.599446 ['6' '0' '0' ' 0.674283' '6' '2' '0' ' 0.319462' '6' '4' '0' ' 0.006248']\n",
      "6    A 1   448.088529 ['6' '1' '1' ' 0.937727' '6' '3' '1' ' 0.061930' '6' '5' '1' ' 0.000343']\n",
      "6    A 2   544.853509 ['6' '1' '0' ' 0.786176' '6' '3' '0' ' 0.211921' '6' '5' '0' ' 0.001902']\n",
      "6    A 3   554.434256 ['6' '2' '1' ' 0.955896' '6' '4' '1' ' 0.044031' '6' '6' '1' ' 0.000073']\n",
      "6    A 4   605.510686 ['6' '2' '0' ' 0.626507' '6' '0' '0' ' 0.321289' '6' '4' '0' ' 0.052098']\n",
      "6    A 5   651.859161 ['6' '3' '1' ' 0.920975' '6' '1' '1' ' 0.062059' '6' '5' '1' ' 0.016966']\n",
      "6    A 6   664.829678 ['6' '3' '0' ' 0.770747' '6' '1' '0' ' 0.213439' '6' '5' '0' ' 0.015814']\n",
      "6    A 7   763.189409 ['6' '4' '1' ' 0.951514' '6' '2' '1' ' 0.044073' '6' '6' '1' ' 0.004413']\n",
      "6    A 8   764.250215 ['6' '4' '0' ' 0.937198' '6' '2' '0' ' 0.053998' '6' '0' '0' ' 0.004428']\n",
      "6    A 9   903.627310 ['6' '5' '1' ' 0.982691' '6' '3' '1' ' 0.017095' '6' '1' '1' ' 0.000214']\n",
      "6    A 10   903.658813 ['6' '5' '0' ' 0.982284' '6' '3' '0' ' 0.017332' '6' '1' '0' ' 0.000384']\n",
      "6    A 11  1076.383335 ['6' '6' '1' ' 0.995514' '6' '4' '1' ' 0.004455' '6' '2' '1' ' 0.000031']\n",
      "6    A 12  1076.383652 ['6' '6' '0' ' 0.995510' '6' '4' '0' ' 0.004457' '6' '2' '0' ' 0.000033']\n",
      "7    A 0   587.641514 ['7' '0' '1' ' 0.617339' '7' '2' '1' ' 0.369994' '7' '4' '1' ' 0.012619']\n",
      "7    A 1   587.832828 ['7' '1' '0' ' 0.909570' '7' '3' '0' ' 0.089368' '7' '5' '0' ' 0.001061']\n",
      "7    A 2   707.150495 ['7' '1' '1' ' 0.659123' '7' '3' '1' ' 0.333816' '7' '5' '1' ' 0.007053']\n",
      "7    A 3   712.071291 ['7' '2' '0' ' 0.918887' '7' '4' '0' ' 0.080654' '7' '6' '0' ' 0.000460']\n",
      "7    A 4   787.117900 ['7' '2' '1' ' 0.518895' '7' '0' '1' ' 0.367222' '7' '4' '1' ' 0.113009']\n",
      "7    A 5   820.814666 ['7' '3' '0' ' 0.870785' '7' '1' '0' ' 0.089583' '7' '5' '0' ' 0.039570']\n",
      "7    A 6   847.669393 ['7' '3' '1' ' 0.625041' '7' '1' '1' ' 0.339020' '7' '5' '1' ' 0.035878']\n",
      "7    A 7   935.093985 ['7' '4' '0' ' 0.903726' '7' '2' '0' ' 0.080893' '7' '6' '0' ' 0.015381']\n",
      "7    A 8   938.717803 ['7' '4' '1' ' 0.858727' '7' '2' '1' ' 0.110875' '7' '0' '1' ' 0.015432']\n",
      "7    A 9  1074.737996 ['7' '5' '0' ' 0.955102' '7' '3' '0' ' 0.039819' '7' '7' '0' ' 0.004232']\n",
      "7    A 10  1074.921568 ['7' '5' '1' ' 0.952802' '7' '3' '1' ' 0.041114' '7' '7' '1' ' 0.004226']\n",
      "7    A 11  1246.578723 ['7' '6' '0' ' 0.984159' '7' '4' '0' ' 0.015621' '7' '2' '0' ' 0.000220']\n",
      "7    A 12  1246.582784 ['7' '6' '1' ' 0.984111' '7' '4' '1' ' 0.015645' '7' '2' '1' ' 0.000236']\n",
      "7    A 13  1450.894510 ['7' '7' '0' ' 0.995705' '7' '5' '0' ' 0.004267' '7' '3' '0' ' 0.000029']\n",
      "7    A 14  1450.894543 ['7' '7' '1' ' 0.995704' '7' '5' '1' ' 0.004267' '7' '3' '1' ' 0.000029']\n",
      "8    A 0   746.150442 ['8' '0' '0' ' 0.572379' '8' '2' '0' ' 0.406340' '8' '4' '0' ' 0.021113']\n",
      "8    A 1   746.222754 ['8' '1' '1' ' 0.880666' '8' '3' '1' ' 0.116909' '8' '5' '1' ' 0.002418']\n",
      "8    A 2   887.017097 ['8' '1' '0' ' 0.544041' '8' '3' '0' ' 0.438481' '8' '5' '0' ' 0.017413']\n",
      "8    A 3   889.320855 ['8' '2' '1' ' 0.872157' '8' '4' '1' ' 0.126238' '8' '6' '1' ' 0.001604']\n",
      "8    A 4   990.140685 ['8' '2' '0' ' 0.400128' '8' '0' '0' ' 0.386737' '8' '4' '0' ' 0.209118']\n",
      "8    A 5  1012.133558 ['8' '3' '1' ' 0.808292' '8' '1' '1' ' 0.116907' '8' '5' '1' ' 0.074395']\n",
      "8    A 6  1058.750356 ['8' '3' '0' ' 0.481904' '8' '1' '0' ' 0.449231' '8' '5' '0' ' 0.068429']\n",
      "8    A 7  1131.879066 ['8' '4' '1' ' 0.838022' '8' '2' '1' ' 0.126954' '8' '6' '1' ' 0.034972']\n",
      "8    A 8  1141.573018 ['8' '4' '0' ' 0.733872' '8' '2' '0' ' 0.192529' '8' '0' '0' ' 0.040833']\n",
      "8    A 9  1271.230370 ['8' '5' '1' ' 0.908565' '8' '3' '1' ' 0.074606' '8' '7' '1' ' 0.014403']\n",
      "8    A 10  1271.990740 ['8' '5' '0' ' 0.899535' '8' '3' '0' ' 0.079421' '8' '7' '0' ' 0.014319']\n",
      "8    A 11  1441.827472 ['8' '6' '1' ' 0.959290' '8' '4' '1' ' 0.035713' '8' '8' '1' ' 0.004108']\n",
      "8    A 12  1441.855243 ['8' '6' '0' ' 0.958970' '8' '4' '0' ' 0.035870' '8' '8' '0' ' 0.004107']\n",
      "8    A 13  1645.289318 ['8' '7' '1' ' 0.985184' '8' '5' '1' ' 0.014621' '8' '3' '1' ' 0.000193']\n",
      "8    A 14  1645.289806 ['8' '7' '0' ' 0.985179' '8' '5' '0' ' 0.014624' '8' '3' '0' ' 0.000194']\n",
      "8    A 15  1881.160608 ['8' '8' '1' ' 0.995839' '8' '6' '1' ' 0.004134' '8' '4' '1' ' 0.000027']\n",
      "8    A 16  1881.160611 ['8' '8' '0' ' 0.995839' '8' '6' '0' ' 0.004134' '8' '4' '0' ' 0.000027']\n",
      "9    A 0   923.184206 ['9' '0' '1' ' 0.536071' '9' '2' '1' ' 0.432245' '9' '4' '1' ' 0.031251']\n",
      "9    A 1   923.210846 ['9' '1' '0' ' 0.852384' '9' '3' '0' ' 0.143047' '9' '5' '0' ' 0.004543']\n",
      "9    A 2  1084.689410 ['9' '3' '1' ' 0.514026' '9' '1' '1' ' 0.452373' '9' '5' '1' ' 0.033323']\n",
      "9    A 3  1085.699491 ['9' '2' '0' ' 0.819485' '9' '4' '0' ' 0.176434' '9' '6' '0' ' 0.004069']\n",
      "9    A 4  1212.033720 ['9' '0' '1' ' 0.380052' '9' '4' '1' ' 0.327249' '9' '2' '1' ' 0.280014']\n",
      "9    A 5  1224.828202 ['9' '3' '0' ' 0.735113' '9' '1' '0' ' 0.142038' '9' '5' '0' ' 0.121335']\n",
      "9    A 6  1296.074482 ['9' '1' '1' ' 0.527629' '9' '3' '1' ' 0.350910' '9' '5' '1' ' 0.119563']\n",
      "9    A 7  1353.002055 ['9' '4' '0' ' 0.756972' '9' '2' '0' ' 0.177843' '9' '6' '0' ' 0.064855']\n",
      "9    A 8  1374.214294 ['9' '4' '1' ' 0.574219' '9' '2' '1' ' 0.284508' '9' '0' '1' ' 0.083627']\n",
      "9    A 9  1493.273872 ['9' '5' '0' ' 0.841267' '9' '3' '0' ' 0.121083' '9' '7' '0' ' 0.032041']\n",
      "9    A 10  1495.760196 ['9' '5' '1' ' 0.814241' '9' '3' '1' ' 0.134295' '9' '7' '1' ' 0.031446']\n",
      "9    A 11  1662.416485 ['9' '6' '0' ' 0.917155' '9' '4' '0' ' 0.066421' '9' '8' '0' ' 0.013755']\n",
      "9    A 12  1662.550755 ['9' '6' '1' ' 0.915669' '9' '4' '1' ' 0.067109' '9' '8' '1' ' 0.013741']\n",
      "9    A 13  1864.675734 ['9' '7' '0' ' 0.962385' '9' '5' '0' ' 0.032830' '9' '9' '0' ' 0.004016']\n",
      "9    A 14  1864.679566 ['9' '7' '1' ' 0.962344' '9' '5' '1' ' 0.032848' '9' '9' '1' ' 0.004016']\n",
      "9    A 15  2099.761970 ['9' '8' '0' ' 0.985905' '9' '6' '0' ' 0.013921' '9' '4' '0' ' 0.000172']\n",
      "9    A 16  2099.762025 ['9' '8' '1' ' 0.985904' '9' '6' '1' ' 0.013921' '9' '4' '1' ' 0.000172']\n",
      "9    A 17  2367.181346 ['9' '9' '0' ' 0.995939' '9' '7' '0' ' 0.004036' '9' '5' '0' ' 0.000025']\n",
      "9    A 18  2367.181346 ['9' '9' '1' ' 0.995939' '9' '7' '1' ' 0.004036' '9' '5' '1' ' 0.000025']\n",
      "10    A 0  1118.768185 ['10' '0' '0' ' 0.506029' '10' '2' '0' ' 0.450564' '10' '4' '0'\n",
      " ' 0.042499']\n",
      "10    A 1  1118.777805 ['10' '1' '1' ' 0.825444' '10' '3' '1' ' 0.167004' '10' '5' '1'\n",
      " ' 0.007478']\n",
      "10    A 2  1300.490705 ['10' '3' '0' ' 0.562907' '10' '1' '0' ' 0.382228' '10' '5' '0'\n",
      " ' 0.054056']\n",
      "10    A 3  1300.913168 ['10' '2' '1' ' 0.764806' '10' '4' '1' ' 0.226772' '10' '6' '1'\n",
      " ' 0.008373']\n",
      "10    A 4  1451.264316 ['10' '4' '0' ' 0.435795' '10' '0' '0' ' 0.356263' '10' '2' '0'\n",
      " ' 0.178131']\n",
      "10    A 5  1457.977536 ['10' '3' '1' ' 0.654519' '10' '5' '1' ' 0.177604' '10' '1' '1'\n",
      " ' 0.163719']\n",
      "10    A 6  1556.988444 ['10' '1' '0' ' 0.567562' '10' '3' '0' ' 0.231417' '10' '5' '0'\n",
      " ' 0.194600']\n",
      "10    A 7  1597.634515 ['10' '4' '1' ' 0.664353' '10' '2' '1' ' 0.228623' '10' '6' '1'\n",
      " ' 0.105787']\n",
      "10    A 8  1636.837487 ['10' '4' '0' ' 0.410590' '10' '2' '0' ' 0.362545' '10' '0' '0'\n",
      " ' 0.136722']\n",
      "10    A 9  1740.831055 ['10' '5' '1' ' 0.754464' '10' '3' '1' ' 0.176230' '10' '7' '1'\n",
      " ' 0.058243']\n",
      "10    A 10  1747.571107 ['10' '5' '0' ' 0.690800' '10' '3' '0' ' 0.203359' '10' '7' '0'\n",
      " ' 0.055474']\n",
      "10    A 11  1908.633990 ['10' '6' '1' ' 0.855009' '10' '4' '1' ' 0.108220' '10' '8' '1'\n",
      " ' 0.030173']\n",
      "10    A 12  1909.146191 ['10' '6' '0' ' 0.849710' '10' '4' '0' ' 0.110461' '10' '8' '0'\n",
      " ' 0.030059']\n",
      "10    A 13  2109.304208 ['10' '7' '1' ' 0.924129' '10' '5' '1' ' 0.060295' '10' '9' '1'\n",
      " ' 0.013280']\n",
      "10    A 14  2109.325343 ['10' '7' '0' ' 0.923912' '10' '5' '0' ' 0.060386' '10' '9' '0'\n",
      " ' 0.013278']\n",
      "10    A 15  2343.306809 ['10' '8' '1' ' 0.964583' '10' '6' '1' ' 0.030807' '10' '10' '1'\n",
      " ' 0.003944']\n",
      "10    A 16  2343.307304 ['10' '8' '0' ' 0.964578' '10' '6' '0' ' 0.030809' '10' '10' '0'\n",
      " ' 0.003944']\n",
      "10    A 17  2609.994395 ['10' '9' '1' ' 0.986434' '10' '7' '1' ' 0.013407' '10' '5' '1'\n",
      " ' 0.000158']\n",
      "10    A 18  2609.994401 ['10' '9' '0' ' 0.986434' '10' '7' '0' ' 0.013407' '10' '5' '0'\n",
      " ' 0.000158']\n",
      "10    A 19  2908.956518 ['10' '10' '1' ' 0.996016' '10' '8' '1' ' 0.003960' '10' '6' '1'\n",
      " ' 0.000024']\n",
      "10    A 20  2908.956518 ['10' '10' '0' ' 0.996016' '10' '8' '0' ' 0.003960' '10' '6' '0'\n",
      " ' 0.000024']\n"
     ]
    }
   ],
   "source": [
    "print(\"J  sym #    energy      J   k  tau  |leading coef|^2\")\n",
    "for J,sol_J in sol.items():\n",
    "    for symmetry,sol_sym in sol_J.items():\n",
    "        sol_sym.assign_nprim = 3 # print up to three leading contributions\n",
    "        for istate in range(sol_sym.nstates):\n",
    "            print(J, \"%4s\"%symmetry, istate, \"%12.6f\"%sol_sym.enr[istate], sol_sym.assign[istate])"
   ]
  },
  {
   "cell_type": "markdown",
   "metadata": {},
   "source": [
    "### Symmetry"
   ]
  },
  {
   "cell_type": "markdown",
   "metadata": {},
   "source": [
    "The molecular symmetry can be specified using molecule property `sym`, for example, the above calculation can be done using the $D_2$ or $C_{2v}$ rotational symmetry groups"
   ]
  },
  {
   "cell_type": "code",
   "execution_count": 19,
   "metadata": {
    "tags": []
   },
   "outputs": [
    {
     "name": "stdout",
     "output_type": "stream",
     "text": [
      "D2 solutions\n",
      "J  sym #    energy      J   k  tau  |leading coef|^2\n",
      "0    A 0     0.000000 ['0' '0' '0' ' 1.000000']\n",
      "1   B1 0    23.797000 ['1' '0' '1' ' 1.000000']\n",
      "1   B2 0    37.162000 ['1' '1' '0' ' 1.000000']\n",
      "1   B3 0    42.389000 ['1' '1' '1' ' 1.000000']\n",
      "2    A 0    70.133328 ['2' '0' '0' ' 0.981068']\n",
      "2    A 1   136.562672 ['2' '2' '0' ' 0.981068']\n",
      "2   B1 0   135.305000 ['2' '2' '1' ' 1.000000']\n",
      "2   B2 0    95.210000 ['2' '1' '0' ' 1.000000']\n",
      "2   B3 0    79.529000 ['2' '1' '1' ' 1.000000']\n",
      "3    A 0   206.696000 ['3' '2' '0' ' 1.000000']\n",
      "3   B1 0   136.909477 ['3' '0' '1' ' 0.922382']\n",
      "3   B1 1   212.568523 ['3' '2' '1' ' 0.922382']\n",
      "3   B2 0   142.369084 ['3' '1' '0' ' 0.995098']\n",
      "3   B2 1   287.298916 ['3' '3' '0' ' 0.995098']\n",
      "3   B3 0   173.535239 ['3' '1' '1' ' 0.992048']\n",
      "3   B3 1   287.494761 ['3' '3' '1' ' 0.992048']\n",
      "C2v solutions\n",
      "J  sym #    energy      J   k  tau  |leading coef|^2\n",
      "0   A1 0     0.000000 ['0' '0' '0' ' 1.000000']\n",
      "1   A2 0    23.797000 ['1' '0' '1' ' 1.000000']\n",
      "1   B1 0    37.162000 ['1' '1' '0' ' 1.000000']\n",
      "1   B2 0    42.389000 ['1' '1' '1' ' 1.000000']\n",
      "2   A1 0    70.133328 ['2' '0' '0' ' 0.981068']\n",
      "2   A1 1   136.562672 ['2' '2' '0' ' 0.981068']\n",
      "2   A2 0   135.305000 ['2' '2' '1' ' 1.000000']\n",
      "2   B1 0    95.210000 ['2' '1' '0' ' 1.000000']\n",
      "2   B2 0    79.529000 ['2' '1' '1' ' 1.000000']\n",
      "3   A1 0   206.696000 ['3' '2' '0' ' 1.000000']\n",
      "3   A2 0   136.909477 ['3' '0' '1' ' 0.922382']\n",
      "3   A2 1   212.568523 ['3' '2' '1' ' 0.922382']\n",
      "3   B1 0   142.369084 ['3' '1' '0' ' 0.995098']\n",
      "3   B1 1   287.298916 ['3' '3' '0' ' 0.995098']\n",
      "3   B2 0   173.535239 ['3' '1' '1' ' 0.992048']\n",
      "3   B2 1   287.494761 ['3' '3' '1' ' 0.992048']\n"
     ]
    }
   ],
   "source": [
    "water.sym = 'D2'\n",
    "sol_d2 = solve(water, Jmin=0, Jmax=3)\n",
    "\n",
    "water.sym = 'C2v'\n",
    "sol_c2v = solve(water, Jmin=0, Jmax=3)\n",
    "\n",
    "print(\"D2 solutions\")\n",
    "print(\"J  sym #    energy      J   k  tau  |leading coef|^2\")\n",
    "for J,sol_J in sol_d2.items():\n",
    "    for symmetry,sol_sym in sol_J.items():\n",
    "        for istate in range(sol_sym.nstates):\n",
    "            print(J, \"%4s\"%symmetry, istate, \"%12.6f\"%sol_sym.enr[istate], sol_sym.assign[istate])\n",
    "\n",
    "print(\"C2v solutions\")\n",
    "print(\"J  sym #    energy      J   k  tau  |leading coef|^2\")\n",
    "for J,sol_J in sol_c2v.items():\n",
    "    for symmetry,sol_sym in sol_J.items():\n",
    "        for istate in range(sol_sym.nstates):\n",
    "            print(J, \"%4s\"%symmetry, istate, \"%12.6f\"%sol_sym.enr[istate], sol_sym.assign[istate])"
   ]
  },
  {
   "cell_type": "markdown",
   "metadata": {},
   "source": [
    "We can restrict solutions to have only certain symmetries, by specifying a state filter function in the parameter `filter`. This function takes as arguments state's J (and m) quantum number and symmetry and returns True or False depending on if the corresponding state need to be included. The use of filter function is demonstrated in the example below"
   ]
  },
  {
   "cell_type": "code",
   "execution_count": 20,
   "metadata": {},
   "outputs": [
    {
     "name": "stdout",
     "output_type": "stream",
     "text": [
      "D2 solutions\n",
      "J  sym #    energy      J   k  tau  |leading coef|^2\n",
      "0    A 0     0.000000 ['0' '0' '0' ' 1.000000']\n",
      "1   B1 0    23.797000 ['1' '0' '1' ' 1.000000']\n",
      "2    A 0    70.133328 ['2' '0' '0' ' 0.981068']\n",
      "2    A 1   136.562672 ['2' '2' '0' ' 0.981068']\n",
      "3   B1 0   136.909477 ['3' '0' '1' ' 0.922382']\n",
      "3   B1 1   212.568523 ['3' '2' '1' ' 0.922382']\n",
      "4    A 0   222.369478 ['4' '0' '0' ' 0.834399']\n",
      "4    A 1   316.467065 ['4' '2' '0' ' 0.829445']\n",
      "4    A 2   494.643456 ['4' '4' '0' ' 0.994516']\n",
      "5   B1 0   325.904850 ['5' '0' '1' ' 0.746777']\n",
      "5   B1 1   447.924940 ['5' '2' '1' ' 0.727879']\n",
      "5   B1 2   616.605210 ['5' '4' '1' ' 0.977950']\n",
      "C2v solutions\n",
      "J  sym #    energy      J   k  tau  |leading coef|^2\n",
      "1   A2 0    23.797000 ['1' '0' '1' ' 1.000000']\n",
      "1   B2 0    42.389000 ['1' '1' '1' ' 1.000000']\n",
      "2   A2 0   135.305000 ['2' '2' '1' ' 1.000000']\n",
      "2   B2 0    79.529000 ['2' '1' '1' ' 1.000000']\n",
      "3   A2 0   136.909477 ['3' '0' '1' ' 0.922382']\n",
      "3   A2 1   212.568523 ['3' '2' '1' ' 0.922382']\n",
      "3   B2 0   173.535239 ['3' '1' '1' ' 0.992048']\n",
      "3   B2 1   287.494761 ['3' '3' '1' ' 0.992048']\n",
      "4   A2 0   300.891698 ['4' '2' '1' ' 0.994878']\n",
      "4   A2 1   494.618302 ['4' '4' '1' ' 0.994878']\n",
      "4   B2 0   225.067555 ['4' '1' '1' ' 0.982779']\n",
      "4   B2 1   384.522445 ['4' '3' '1' ' 0.982779']\n",
      "5   A2 0   325.904850 ['5' '0' '1' ' 0.746777']\n",
      "5   A2 1   447.924940 ['5' '2' '1' ' 0.727879']\n",
      "5   A2 2   616.605210 ['5' '4' '1' ' 0.977950']\n",
      "5   B2 0   400.581905 ['5' '1' '1' ' 0.895560']\n",
      "5   B2 1   511.103325 ['5' '3' '1' ' 0.891055']\n",
      "5   B2 2   757.629769 ['5' '5' '1' ' 0.995196']\n"
     ]
    }
   ],
   "source": [
    "Jmin = 0\n",
    "Jmax = 5\n",
    "\n",
    "# desired D2-symmetry solutions: A for even and B1 for odd J, for max J = 5\n",
    "\n",
    "def filter_D2(**kw):\n",
    "    pass_J, pass_sym = (True, True)\n",
    "    if 'J' in kw:\n",
    "        J = kw['J']\n",
    "        pass_J = J <= 5\n",
    "    if 'sym' in kw:\n",
    "        sym = kw['sym']\n",
    "        pass_sym = sym in ['A'] if J % 2 == 0 else sym in ['B1']\n",
    "    return pass_J * pass_sym\n",
    "\n",
    "# desired C2v-symmetry solutions: A2 and B2, for max J = 5\n",
    "\n",
    "def filter_C2v(**kw):\n",
    "    pass_J, pass_sym = (True, True)\n",
    "    if 'J' in kw:\n",
    "        J = kw['J']\n",
    "        pass_J = J <= 5\n",
    "    if 'sym' in kw:\n",
    "        sym = kw['sym']\n",
    "        pass_sym = sym in ['A2', 'B2']\n",
    "    return pass_J * pass_sym\n",
    "\n",
    "# obtain D2 solutions\n",
    "\n",
    "water.sym = 'D2'\n",
    "sol_d2 = solve(water, Jmin=0, Jmax=10, filter=filter_D2)\n",
    "\n",
    "# obtain C2v solutions\n",
    "\n",
    "water.sym = 'C2v'\n",
    "sol_c2v = solve(water, Jmin=0, Jmax=10, filter=filter_C2v)\n",
    "\n",
    "# print D2 solutions\n",
    "\n",
    "print(\"D2 solutions\")\n",
    "print(\"J  sym #    energy      J   k  tau  |leading coef|^2\")\n",
    "for J,sol_J in sol_d2.items():\n",
    "    for symmetry,sol_sym in sol_J.items():\n",
    "        for istate in range(sol_sym.nstates):\n",
    "            print(J, \"%4s\"%symmetry, istate, \"%12.6f\"%sol_sym.enr[istate], sol_sym.assign[istate])\n",
    "\n",
    "# print C2v solutions\n",
    "\n",
    "print(\"C2v solutions\")\n",
    "print(\"J  sym #    energy      J   k  tau  |leading coef|^2\")\n",
    "for J,sol_J in sol_c2v.items():\n",
    "    for symmetry,sol_sym in sol_J.items():\n",
    "        for istate in range(sol_sym.nstates):\n",
    "            print(J, \"%4s\"%symmetry, istate, \"%12.6f\"%sol_sym.enr[istate], sol_sym.assign[istate])\n"
   ]
  },
  {
   "cell_type": "markdown",
   "metadata": {},
   "source": [
    "### Centrifugal distortion rotational constants"
   ]
  },
  {
   "cell_type": "markdown",
   "metadata": {},
   "source": [
    "The centrifugal distortion constants are used to build the Watson-type asymmetric top Hamiltonian in the $A$ or $S$ standard reduced form (J. K. G. Watson in \"Vibrational Spectra and Structure\" (Ed: J. Durig) Vol 6 p 1, Elsevier, Amsterdam, 1977)\n",
    "\n",
    "* A-form: $H_A = H_\\text{rigrot} - \\Delta_{J} J^{4} - \\Delta_{JK} J^{2} J_{z}^{2} - \\Delta_{K} J_{z}^{4} - \\frac{1}{2}  [ \\delta_{J} J^{2} + \\delta_{K} J_{z}^{2}, J_{+}^{2} + J_{-}^{2} ]_{+} + H_{J} J^{6} + H_{JK} J^{4} J_{z}^{2} + H_{KJ} J^{2} J_{z}^{4} + H_{K} J_{z}^{6} + \\frac{1}{2} [ \\phi_{J} J^{4} + \\phi_{JK} J^{2} J_{z}^{2} + \\phi_{K} J_{z}^{4}, J_{+}^{2} + J_{-}^{2} ]_{+}$\n",
    "\n",
    "* S-form: $H_S = H_\\text{rigrot} - \\Delta_{J} J^{4} - \\Delta_{JK} J^{2} J_{z}^{2} - \\Delta_{K} J_{z}^{4} + d_{1} J^{2} (J_{+}^{2} + J_{-}^{2}) + d_{2} (J_{+}^{4} + J_{-}^{4}) + H_{J} J^{6} + H_{JK} J^{4} J_{z}^{2} + H_{KJ} J^{2} J_{z}^{4} + H_{K} J_{z}^{6} + h_{1} J^{4} (J_{+}^{2} + J_{-}^{2}) + h_{2} J^{2} (J_{+}^{4} + J_{-}^{4}) + h_{3} (J_{+}^{6} + J_{-}^{6})$\n",
    "\n",
    "The type of Watson Hamiltonian can be specified using `watson` molecule property, while the centrifugal constants are defined as molecule attributes `DeltaJ`, `DeltaJK`, `DeltaK`, `deltaJ`, `deltaK`, `HJ`, `HJK`, `HKJ`, `HK`, `phiJ`, `phiJK`, `phiK`, `d1`, `d2`, `h1`, `h2`, `h3`."
   ]
  },
  {
   "cell_type": "code",
   "execution_count": 21,
   "metadata": {},
   "outputs": [
    {
     "name": "stdout",
     "output_type": "stream",
     "text": [
      "\n",
      "J  sym #    energy      J   k  tau  |leading coef|^2\n",
      "0   A1 0     0.000000 ['0' '0' '0' ' 1.000000']\n",
      "1   A2 0    23.794467 ['1' '0' '1' ' 1.000000']\n",
      "1   B1 0    37.130134 ['1' '1' '0' ' 1.000000']\n",
      "1   B2 0    42.378893 ['1' '1' '1' ' 1.000000']\n",
      "2   A1 0    70.072679 ['2' '0' '0' ' 0.980627']\n",
      "2   A1 1   136.182810 ['2' '2' '0' ' 0.980627']\n",
      "2   A2 0   134.902085 ['2' '2' '1' ' 1.000000']\n",
      "2   B1 0    95.215643 ['2' '1' '0' ' 1.000000']\n",
      "2   B2 0    79.457175 ['2' '1' '1' ' 1.000000']\n",
      "3   A1 0   206.302065 ['3' '2' '0' ' 1.000000']\n",
      "3   A2 0   136.643677 ['3' '0' '1' ' 0.921019']\n",
      "3   A2 1   212.275585 ['3' '2' '1' ' 0.921019']\n",
      "3   B1 0   142.123511 ['3' '1' '0' ' 0.994869']\n",
      "3   B1 1   285.245161 ['3' '3' '0' ' 0.994869']\n",
      "3   B2 0   173.469733 ['3' '1' '1' ' 0.991592']\n",
      "3   B2 1   285.452446 ['3' '3' '1' ' 0.991592']\n",
      "4   A1 0   221.642650 ['4' '0' '0' ' 0.832425']\n",
      "4   A1 1   316.133850 ['4' '2' '0' ' 0.826967']\n",
      "4   A1 2   488.224224 ['4' '4' '0' ' 0.993957']\n",
      "4   A2 0   300.307950 ['4' '2' '1' ' 0.994384']\n",
      "4   A2 1   488.195414 ['4' '4' '1' ' 0.994384']\n",
      "4   B1 0   275.665380 ['4' '1' '0' ' 0.960960']\n",
      "4   B1 1   384.022275 ['4' '3' '0' ' 0.960960']\n",
      "4   B2 0   224.390688 ['4' '1' '1' ' 0.982087']\n",
      "4   B2 1   382.626517 ['4' '3' '1' ' 0.982087']\n",
      "5   A1 0   415.960055 ['5' '2' '0' ' 0.979383']\n",
      "5   A1 1   610.397216 ['5' '4' '0' ' 0.979383']\n",
      "5   A2 0   324.320361 ['5' '0' '1' ' 0.744715']\n",
      "5   A2 1   447.265431 ['5' '2' '1' ' 0.723938']\n",
      "5   A2 2   610.649150 ['5' '4' '1' ' 0.975749']\n",
      "5   B1 0   325.575927 ['5' '1' '0' ' 0.961741']\n",
      "5   B1 1   504.181188 ['5' '3' '0' ' 0.956308']\n",
      "5   B1 2   742.362966 ['5' '5' '0' ' 0.994458']\n",
      "5   B2 0   399.565032 ['5' '1' '1' ' 0.890714']\n",
      "5   B2 1   509.346341 ['5' '3' '1' ' 0.885479']\n",
      "5   B2 2   742.366765 ['5' '5' '1' ' 0.994406']\n"
     ]
    }
   ],
   "source": [
    "from richmol.rot.molecule import Molecule\n",
    "from richmol.rot.solution import solve\n",
    "from richmol.convert_units import MHz_to_invcm\n",
    "import sys\n",
    "\n",
    "# NIST values of rotational constants for H2O (in MHz)\n",
    "\n",
    "water = Molecule()\n",
    "water.ABC = MHz_to_invcm(835840.288, 435351.717, 278138.700)\n",
    "\n",
    "water.watson = 'watson_a' # or 'watson_s' for S-type\n",
    "\n",
    "water.DeltaJ = 37.59422 * MHz_to_invcm()\n",
    "water.DeltaJK = -172.9128 * MHz_to_invcm()\n",
    "water.DeltaK = 973.29052 * MHz_to_invcm()\n",
    "water.deltaJ = 15.210402 * MHz_to_invcm()\n",
    "water.deltaK = 41.0502 * MHz_to_invcm()\n",
    "water.HJ = 1.56556e-2 * MHz_to_invcm()\n",
    "water.HJK = -4.2081e-2 * MHz_to_invcm()\n",
    "water.HKJ = -5.09508e-1 * MHz_to_invcm()\n",
    "water.HK = 3.733028 * MHz_to_invcm()\n",
    "water.phiJ = 7.79579e-3 * MHz_to_invcm()\n",
    "water.phiJK = -2.5165e-2 * MHz_to_invcm()\n",
    "water.phiK = 1.0971 * MHz_to_invcm()\n",
    "\n",
    "water.sym = \"C2v\"\n",
    "\n",
    "sol = solve(water, Jmin=0, Jmax=5, verbose=False) # set verbose=True to check which of the above 'water' attributes are used to build the Watson Hamiltonian\n",
    "\n",
    "print(\"\\nJ  sym #    energy      J   k  tau  |leading coef|^2\")\n",
    "for J,sol_J in sol.items():\n",
    "    for symmetry,sol_sym in sol_J.items():\n",
    "        for istate in range(sol_sym.nstates):\n",
    "            print(J, \"%4s\"%symmetry, istate, \"%12.6f\"%sol_sym.enr[istate], sol_sym.assign[istate])"
   ]
  },
  {
   "cell_type": "markdown",
   "metadata": {},
   "source": [
    "### Matrix elements of laboratory-frame Cartesian tensor operators"
   ]
  },
  {
   "cell_type": "markdown",
   "metadata": {},
   "source": [
    "The matrix elements of laboratory-frame Cartesian tensor operators, such as, for example, dipole moment or polarizability, can be computed using `LabTensor` class. The rotational solutions, obtained by `solve`, can also be represented by `LabTensor`class. In the following example, we compute matrix elements of dipole moment and polarizability for water molecule"
   ]
  },
  {
   "cell_type": "code",
   "execution_count": 22,
   "metadata": {},
   "outputs": [],
   "source": [
    "from richmol.rot import LabTensor\n",
    "\n",
    "Jmax = 5\n",
    "water.sym = 'D2'\n",
    "\n",
    "sol = solve(water, Jmin=0, Jmax=Jmax)\n",
    "\n",
    "# laboratory-frame dipole moment operator\n",
    "dip = LabTensor(water.dip, sol)\n",
    "\n",
    "# laboratory-frame polarizability tensor\n",
    "pol = LabTensor(water.pol, sol)\n",
    "\n",
    "# field-free Hamiltonian\n",
    "h0 = LabTensor(water, sol)"
   ]
  },
  {
   "cell_type": "markdown",
   "metadata": {},
   "source": [
    "One can obtain a matrix representation of tensor by using `tomat` method. For example, below, we print out the matrix elements of polarizability $XZ$ component in the CSR sparse matrix format"
   ]
  },
  {
   "cell_type": "code",
   "execution_count": 23,
   "metadata": {
    "tags": []
   },
   "outputs": [
    {
     "name": "stdout",
     "output_type": "stream",
     "text": [
      "  (0, 12)\t(0.10373344509600721-1.9200479231230494e-17j)\n",
      "  (0, 13)\t(-0.052719971249174255+9.758171167495539e-18j)\n",
      "  (0, 16)\t(-0.10373344509600724+2.940719476950868e-17j)\n",
      "  (0, 17)\t(0.05271997124917427-1.4945483217418366e-17j)\n",
      "  (1, 2)\t(-0.07388558756618278+2.094568306496896e-17j)\n",
      "  (1, 20)\t(-0.05441541601421423+1.0071988490044882e-17j)\n",
      "  (1, 22)\t(0.06664500168804863-1.8893063305097118e-17j)\n",
      "  (1, 44)\t(0.0976757147180158-1.8079227293599675e-17j)\n",
      "  (1, 45)\t(-0.019317539329672864+3.575568249512794e-18j)\n",
      "  (1, 48)\t(-0.053499192271496625+1.5166383085833237e-17j)\n",
      "  (1, 49)\t(0.010580652046355056-2.9994886916904296e-18j)\n",
      "  (2, 1)\t(-0.07388558756618274+1.3675808108356735e-17j)\n",
      "  (2, 3)\t(0.07388558756618276-2.0945683064968953e-17j)\n",
      "  (2, 21)\t(0.038477509664737924-7.121971361343592e-18j)\n",
      "  (2, 23)\t(0.03847750966473793-1.0907915185014462e-17j)\n",
      "  (2, 46)\t(0.08736381514414403-1.617055248366337e-17j)\n",
      "  (2, 47)\t(-0.0172781324396697+3.198085465640215e-18j)\n",
      "  (2, 50)\t(-0.08736381514414404+2.476659986924587e-17j)\n",
      "  (2, 51)\t(0.017278132439669705-4.898144522593228e-18j)\n",
      "  (3, 2)\t(0.07388558756618277-1.3675808108356743e-17j)\n",
      "  (3, 22)\t(0.06664500168804863-1.2335616247897587e-17j)\n",
      "  (3, 24)\t(-0.054415416014214235+1.5426121591862876e-17j)\n",
      "  (3, 48)\t(0.05349919227149662-9.902400610967618e-18j)\n",
      "  (3, 49)\t(-0.010580652046355055+1.958419386157418e-18j)\n",
      "  (3, 52)\t(-0.09767571471801582+2.7689900439585574e-17j)\n",
      "  :\t:\n",
      "  (282, 82)\t(0.0027544418398300586-5.098317451072969e-19j)\n",
      "  (282, 83)\t(0.05007887975340434-9.269319935712223e-18j)\n",
      "  (282, 161)\t(-0.0013637320329035715+2.524191551769509e-19j)\n",
      "  (282, 162)\t(-0.023304797280925053+4.31358734655253e-18j)\n",
      "  (282, 277)\t(0.004691297191689811-8.683328141006395e-19j)\n",
      "  (282, 278)\t(-0.025779849717984048+4.771705679265525e-18j)\n",
      "  (282, 279)\t(-0.09616019624319345+1.7798713318830586e-17j)\n",
      "  (282, 283)\t(0.004495739752830977-1.2744886128303482e-18j)\n",
      "  (282, 284)\t(-0.02470521275106048+7.003633230537995e-18j)\n",
      "  (282, 285)\t(-0.09215174379835735+2.612392055156438e-17j)\n",
      "  (283, 163)\t(0.010676101725492982-1.9760865867427182e-18j)\n",
      "  (283, 164)\t(-0.054515081752800745+1.0090436059601881e-17j)\n",
      "  (283, 280)\t(0.0649505720855995-1.2021986826253527e-17j)\n",
      "  (283, 281)\t(0.054551057867093175-1.0097095036700858e-17j)\n",
      "  (283, 282)\t(0.004495739752830976-8.321362283240221e-19j)\n",
      "  (284, 163)\t(-0.038314981502703814+7.091888309568557e-18j)\n",
      "  (284, 164)\t(0.08923759969355448-1.6517379500653486e-17j)\n",
      "  (284, 280)\t(0.05455105786709317-1.0097095036700856e-17j)\n",
      "  (284, 281)\t(0.03387844261826705-6.270709830146267e-18j)\n",
      "  (284, 282)\t(-0.024705212751060475+4.572796400339794e-18j)\n",
      "  (285, 163)\t(-0.0030493975286663656+5.6442638979873e-19j)\n",
      "  (285, 164)\t(-0.05211111092200068+9.645474533774401e-18j)\n",
      "  (285, 280)\t(0.004495739752830977-8.321362283240218e-19j)\n",
      "  (285, 281)\t(-0.02470521275106048+4.572796400339794e-18j)\n",
      "  (285, 282)\t(-0.09215174379835735+1.7056771239829745e-17j)\n"
     ]
    }
   ],
   "source": [
    "alpha_xz = pol.tomat(form='full', repres='csr_matrix', cart='xz', thresh=1e-6) # consider only elements that are larger than 'thresh'\n",
    "print(alpha_xz)"
   ]
  },
  {
   "cell_type": "markdown",
   "metadata": {},
   "source": [
    "Sometimes, matrix representation of tensor is needed in a subspace of the full basis. The representation of a tensor in a reduced basis can be generated using `filter` method (in place) or `filter` function (creates new object). In the following example, we generate field-free Hamiltonian, dipole moment, and polarizability tensors for different values of the $m$ quantum number, using `filter` function"
   ]
  },
  {
   "cell_type": "code",
   "execution_count": 24,
   "metadata": {},
   "outputs": [],
   "source": [
    "from richmol.field import filter\n",
    "\n",
    "def flt(**kw):\n",
    "    \"\"\"Filter function to select states with m = _m\"\"\"\n",
    "    if 'm' in kw:\n",
    "        m = kw['m']\n",
    "        return m == _m\n",
    "    return True\n",
    "\n",
    "# dicts to keep tensors for different m quanta\n",
    "dip_m = {}\n",
    "pol_m = {}\n",
    "h0_m = {}\n",
    "\n",
    "for _m in range(-Jmax, Jmax+1):\n",
    "    dip_m[_m] = filter(dip, bra=flt, ket=flt)\n",
    "    pol_m[_m] = filter(pol, bra=flt, ket=flt)\n",
    "    h0_m[_m] = filter(h0, bra=flt, ket=flt)"
   ]
  },
  {
   "cell_type": "markdown",
   "metadata": {},
   "source": [
    "Now we can use these tensors to compute Stark shifts for water, by applying electric field along the $Z$ axis"
   ]
  },
  {
   "cell_type": "code",
   "execution_count": null,
   "metadata": {},
   "outputs": [],
   "source": [
    "from richmol.convert_units import AUdip_x_Vm_to_invcm, AUpol_x_Vm_to_invcm\n",
    "import numpy as np\n",
    "import matplotlib.pyplot as plt\n",
    "\n",
    "\n",
    "fac1 = AUdip_x_Vm_to_invcm() # conversion factor for dipole[au] * field[V/m] into energy[cm^-1]\n",
    "fac2 = AUpol_x_Vm_to_invcm() # conversion factor for polarizability[au] * field**2[V**2/m**2] into energy[cm^-1]\n",
    "\n",
    "energies = []\n",
    "fz = np.linspace(1, 1000, 10) # max field is MV/cm\n",
    "\n",
    "for f in fz:\n",
    "\n",
    "    field = [0, 0, f*1000*100] # X, Y, Z field components in V/m\n",
    "    enr = []\n",
    "\n",
    "    for m in dip_m.keys():\n",
    "\n",
    "        # Hamiltonian\n",
    "        h = h0_m[m] - dip_m[m] * fac1 * field - 1/2 * pol_m[m] * fac2 * field\n",
    "\n",
    "        # eigenproblem solution\n",
    "        e,v = np.linalg.eigh(h.tomat(form='full', repres='dense'))\n",
    "\n",
    "        enr += [elem for elem in e]\n",
    "\n",
    "    energies.append(enr)\n",
    "\n",
    "energies = np.array(energies)\n",
    "\n",
    "# plot energies vs field\n",
    "for i in range(energies.shape[1]):\n",
    "    plt.plot(fz, energies[:,i])"
   ]
  },
  {
   "cell_type": "markdown",
   "metadata": {},
   "source": []
  }
 ],
 "metadata": {
  "kernelspec": {
   "display_name": "Python 3",
   "language": "python",
   "name": "python3"
  },
  "language_info": {
   "codemirror_mode": {
    "name": "ipython",
    "version": 3
   },
   "file_extension": ".py",
   "mimetype": "text/x-python",
   "name": "python",
   "nbconvert_exporter": "python",
   "pygments_lexer": "ipython3",
   "version": "3.8.5"
  },
  "metadata": {
   "interpreter": {
    "hash": "31f2aee4e71d21fbe5cf8b01ff0e069b9275f58929596ceb00d14d90e3e16cd6"
   }
  }
 },
 "nbformat": 4,
 "nbformat_minor": 4
}
