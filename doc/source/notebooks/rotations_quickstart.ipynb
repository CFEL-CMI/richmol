{
 "cells": [
  {
   "cell_type": "markdown",
   "metadata": {},
   "source": [
    "# Rotational dynamics Quickstart"
   ]
  },
  {
   "cell_type": "markdown",
   "metadata": {},
   "source": [
    "Calculation of rotational dynamics proceeds in two steps. At the first step, we obtain molecular field-free rotational energies, wave functions, and matrix elements of desired electric and magnetic property tensors, such as, for example, dipole moment or polarizability. At the second step, we solve the time-dependent problem with applied external electric and magnetic fields using the field-free solutions, obtained at the first step, as a basis."
   ]
  },
  {
   "cell_type": "markdown",
   "metadata": {},
   "source": [
    "## Molecular field-free rotational states"
   ]
  },
  {
   "cell_type": "code",
   "execution_count": 1,
   "metadata": {},
   "outputs": [],
   "source": [
    "from richmol.rot.molecule import Molecule, mol_tensor\n",
    "from richmol.rot.solution import solve"
   ]
  },
  {
   "cell_type": "markdown",
   "metadata": {},
   "source": [
    "There are three common ways to define molecule and its properties using calculated or experimental data or combination of both:\n",
    "\n",
    "1. Provide Cartesian coordinates of atoms and molecular property tensors, referring to the same coordinate frame, obtained, for example, from quantum chemical calculations.\n",
    "\n",
    "2a. Provide spectroscopic constants ($A$, $B$, $C$, $\\Delta_{J}$, $\\Delta_{J,K}$ ...) and molecular property tensors in the coordinate frame of principal axes of inertia (PAI).\n",
    "\n",
    "2b. Provide spectroscopic constants ($A$, $B$, $C$, $\\Delta_{J}$, $\\Delta_{J,K}$ ...) and molecular property tensors which are not in the PAI frame. In this case, the Cartesian coordinates of atoms, referring to the same frame as property tensors, must be provided. These will be used only for rotating the property tensors to the PAI frame."
   ]
  },
  {
   "cell_type": "markdown",
   "metadata": {},
   "source": [
    "### Molecular geometry and property tensors"
   ]
  },
  {
   "cell_type": "markdown",
   "metadata": {},
   "source": [
    "Here is an example for water molecule, using data obtained from a quantum chemical calculation"
   ]
  },
  {
   "cell_type": "code",
   "execution_count": 2,
   "metadata": {},
   "outputs": [
    {
     "output_type": "stream",
     "name": "stdout",
     "text": [
      "Masses and Cartesian coordinates of atoms\nO 15.99491462 [0.         0.         0.06559636]\nH 1.0078250322 [ 0.         -0.7572668  -0.52053088]\nH 1.0078250322 [ 0.          0.7572668  -0.52053088]\n"
     ]
    }
   ],
   "source": [
    "water = Molecule()\n",
    "\n",
    "# Cartesian coordinates of atoms\n",
    "water.XYZ = (\"bohr\",\n",
    "             \"O\",  0.00000000,   0.00000000,   0.12395915,\n",
    "             \"H\",  0.00000000,  -1.43102686,  -0.98366080,\n",
    "             \"H\",  0.00000000,   1.43102686,  -0.98366080)\n",
    "\n",
    "# dipole moment (au)\n",
    "water.dip = [0, 0, -0.7288]\n",
    "\n",
    "# polarizability tensor (au)\n",
    "water.pol = [[9.1369, 0, 0], [0, 9.8701, 0], [0, 0, 9.4486]]\n",
    "\n",
    "print(\"Masses and Cartesian coordinates of atoms\")\n",
    "for atom in water.XYZ:\n",
    "    print(atom['label'], atom['mass'], atom['xyz'])"
   ]
  },
  {
   "cell_type": "markdown",
   "metadata": {},
   "source": [
    "By default, calculations are carried out for the main isotopologue. To specify a non-standard isotope, put the corresponding isotope number next to the atom label, for example, \"O18\" for oxygen-18 or \"H2\" for deuterium"
   ]
  },
  {
   "cell_type": "code",
   "execution_count": 3,
   "metadata": {},
   "outputs": [
    {
     "output_type": "stream",
     "name": "stdout",
     "text": [
      "Masses and Cartesian coordinates of atoms\nO18 17.999159613 [0.         0.         0.06559636]\nH2 2.0141017781 [ 0.         -0.7572668  -0.52053088]\nH2 2.0141017781 [ 0.          0.7572668  -0.52053088]\n"
     ]
    }
   ],
   "source": [
    "# example of D2^{18}O\n",
    "D2_18O = Molecule()\n",
    "D2_18O.XYZ = (\"bohr\",\n",
    "             \"O18\",  0.00000000,   0.00000000,   0.12395915,\n",
    "             \"H2\",   0.00000000,  -1.43102686,  -0.98366080,\n",
    "             \"H2\",   0.00000000,   1.43102686,  -0.98366080)\n",
    "\n",
    "print(\"Masses and Cartesian coordinates of atoms\")\n",
    "for atom in D2_18O.XYZ:\n",
    "    print(atom['label'], atom['mass'], atom['xyz'])"
   ]
  },
  {
   "cell_type": "markdown",
   "metadata": {},
   "source": [
    "We can also read/store the geometry from/to XYZ file"
   ]
  },
  {
   "cell_type": "code",
   "execution_count": 4,
   "metadata": {},
   "outputs": [
    {
     "output_type": "stream",
     "name": "stdout",
     "text": [
      "Masses and Cartesian coordinates of atoms\nO 15.99491462 [0.         0.         0.06559636]\nH 1.0078250322 [ 0.         -0.7572668  -0.52053088]\nH 1.0078250322 [ 0.          0.7572668  -0.52053088]\n"
     ]
    }
   ],
   "source": [
    "# store Cartesian coordinates of atoms into XYZ file\n",
    "water.store_xyz(\"water.xyz\", \"some comment line\")\n",
    "\n",
    "# read Cartesian coordinates of atoms from XYZ file\n",
    "water2 = Molecule()\n",
    "water2.XYZ = \"water.xyz\"\n",
    "\n",
    "print(\"Masses and Cartesian coordinates of atoms\")\n",
    "for atom in water2.XYZ:\n",
    "    print(atom['label'], atom['mass'], atom['xyz'])"
   ]
  },
  {
   "cell_type": "markdown",
   "metadata": {},
   "source": [
    "The molecular frame embedding, i.e., the orientation of $x,y,z$ axes with respect to molecule, can be altered using `frame`.\n",
    "The molecule properties `dip` for the dipole moment and `pol` for the polarizability tensor (and few others) will be dynamically rotated to a new coordinate frame whenever the latter is changed"
   ]
  },
  {
   "cell_type": "code",
   "execution_count": 5,
   "metadata": {},
   "outputs": [
    {
     "output_type": "stream",
     "name": "stdout",
     "text": [
      "coordinates of atoms\n [('O', 15.99491462, [ 0.        ,  0.06559636,  0.        ])\n ('H',  1.00782503, [-0.7572668 , -0.52053088,  0.        ])\n ('H',  1.00782503, [ 0.7572668 , -0.52053088,  0.        ])]\ndipole moment\n [ 0.     -0.7288  0.    ]\npolarizability\n [[9.8701 0.     0.    ]\n [0.     9.4486 0.    ]\n [0.     0.     9.1369]]\ninertia tensor\n [[ 0.61496944 -0.         -0.        ]\n [-0.          1.15588059 -0.        ]\n [-0.         -0.          1.77085002]]\n"
     ]
    }
   ],
   "source": [
    "# change frame to inertial principal axes system (ipas)\n",
    "water.frame = \"ipas\"\n",
    "\n",
    "# or equivalently\n",
    "water.frame = \"diag(inertia)\" # frame where inertia tensor is diagonal\n",
    "\n",
    "print(\"coordinates of atoms\\n\", water.XYZ)\n",
    "print(\"dipole moment\\n\", water.dip)\n",
    "print(\"polarizability\\n\", water.pol)\n",
    "\n",
    "print(\"inertia tensor\\n\", water.inertia)"
   ]
  },
  {
   "cell_type": "markdown",
   "metadata": {},
   "source": [
    "Multiple frame operations can be combined together, for example, we can rotate to the inertial principal axes system and then permute $x$ and $z$ axes"
   ]
  },
  {
   "cell_type": "code",
   "execution_count": 6,
   "metadata": {},
   "outputs": [
    {
     "output_type": "stream",
     "name": "stdout",
     "text": [
      "coordinates of atoms\n [('O', 15.99491462, [ 0.        ,  0.06559636,  0.        ])\n ('H',  1.00782503, [ 0.        , -0.52053088, -0.7572668 ])\n ('H',  1.00782503, [ 0.        , -0.52053088,  0.7572668 ])]\ndipole moment\n [ 0.     -0.7288  0.    ]\npolarizability\n [[9.1369 0.     0.    ]\n [0.     9.4486 0.    ]\n [0.     0.     9.8701]]\ninertia tensor\n [[ 1.77085002 -0.         -0.        ]\n [-0.          1.15588059 -0.        ]\n [-0.         -0.          0.61496944]]\n"
     ]
    }
   ],
   "source": [
    "water.frame = \"ipas\"\n",
    "water.frame = \"zyx\"\n",
    "\n",
    "# or, equivalently in one line (with operatiorns performed form right to left)\n",
    "water.frame = \"zyx,ipas\"\n",
    "\n",
    "print(\"coordinates of atoms\\n\", water.XYZ)\n",
    "print(\"dipole moment\\n\", water.dip)\n",
    "print(\"polarizability\\n\", water.pol)\n",
    "\n",
    "print(\"inertia tensor\\n\", water.inertia)"
   ]
  },
  {
   "cell_type": "markdown",
   "metadata": {},
   "source": [
    "The principal axes system can be defined with respect to any rank-2 symmetric matrix. In many cases it is convenient to choose molecular frame such that polarizability tensor becomes diagonal"
   ]
  },
  {
   "cell_type": "code",
   "execution_count": 7,
   "metadata": {},
   "outputs": [
    {
     "output_type": "stream",
     "name": "stdout",
     "text": [
      "coordinates of atoms\n [('O', 15.99491462, [ 0.        ,  0.06559636,  0.        ])\n ('H',  1.00782503, [ 0.        , -0.52053088, -0.7572668 ])\n ('H',  1.00782503, [ 0.        , -0.52053088,  0.7572668 ])]\ndipole moment\n [ 0.     -0.7288  0.    ]\npolarizability\n [[9.1369 0.     0.    ]\n [0.     9.4486 0.    ]\n [0.     0.     9.8701]]\n"
     ]
    }
   ],
   "source": [
    "water.frame = \"diag(pol)\" # can also be combined with axes permutations, e.g., \"xzy,diag(pol)\"\n",
    "\n",
    "print(\"coordinates of atoms\\n\", water.XYZ)\n",
    "print(\"dipole moment\\n\", water.dip)\n",
    "print(\"polarizability\\n\", water.pol)\n"
   ]
  },
  {
   "cell_type": "markdown",
   "metadata": {},
   "source": [
    "We can also define custom rotation matrix or principal axis matrix, as demonstrated below"
   ]
  },
  {
   "cell_type": "code",
   "execution_count": 8,
   "metadata": {},
   "outputs": [],
   "source": [
    "import numpy as np\n",
    "import scipy\n",
    "\n",
    "# generate random matrix\n",
    "mat = np.random.rand(3,3)\n",
    "\n",
    "# random rotation matrix\n",
    "water.custom_rot = scipy.linalg.expm((mat - mat.T)/2)\n",
    "\n",
    "# random symmetric matrix\n",
    "water.custom_pam = (mat + mat.T)/2\n",
    "\n",
    "# use 'custom_rot' (orthogonal) matrix to rotate the frame\n",
    "water.frame = \"custom_rot\"\n",
    "\n",
    "# alternatively use 'custom_pam' (symmetric) matrix as principal axes matrix\n",
    "water.frame = \"diag(custom_pam)\""
   ]
  },
  {
   "cell_type": "markdown",
   "metadata": {},
   "source": [
    "Multiple occurences of `frame` assignments lead to the accumulation of the corresponding frame transformations. Use `frame`=None or `frame`=\"None\" to reset the frame to the one defined by the input Cartesian coordinates of atoms"
   ]
  },
  {
   "cell_type": "code",
   "execution_count": 20,
   "metadata": {},
   "outputs": [
    {
     "output_type": "stream",
     "name": "stdout",
     "text": [
      "[('O', 15.99491462, [ 0.        ,  0.06559636,  0.        ])\n ('H',  1.00782503, [ 0.        , -0.52053088, -0.7572668 ])\n ('H',  1.00782503, [ 0.        , -0.52053088,  0.7572668 ])]\n"
     ]
    }
   ],
   "source": [
    "water.frame = \"diag(inertia)\" # rotate to ipas\n",
    "water.frame = \"zxy\" # then permute axes (123)\n",
    "\n",
    "# now we want to permute axes (23) in the original frame, reset frame rotation\n",
    "water.frame = None\n",
    "water.frame = \"xzy\"\n",
    "\n",
    "# or equivalently in one line\n",
    "#water.frame = \"xzy,None\"\n",
    "\n",
    "print(water.XYZ)"
   ]
  },
  {
   "cell_type": "markdown",
   "metadata": {},
   "source": [
    "Only certain molecule properties (such as `dip`, `pol`, `inertia`, `XYZ`, and few others) are automatically rotated when the frame is altered. This is demonstrated in the following example"
   ]
  },
  {
   "cell_type": "code",
   "execution_count": 21,
   "metadata": {},
   "outputs": [
    {
     "output_type": "stream",
     "name": "stdout",
     "text": [
      "vec\n [1, 2, 3]\nmat\n [[1, 2, 3], [4, 5, 6], [7, 8, 9]]\ndip\n [-0.7288  0.      0.    ]\n"
     ]
    }
   ],
   "source": [
    "water.vec = [1,2,3]\n",
    "water.mat = [[1,2,3],[4,5,6],[7,8,9]]\n",
    "\n",
    "water.frame = \"zyx,null\"\n",
    "\n",
    "# axes permutation (13) does not affect vec and mat, but dip\n",
    "print(\"vec\\n\", water.vec)\n",
    "print(\"mat\\n\", water.mat)\n",
    "print(\"dip\\n\", water.dip)"
   ]
  },
  {
   "cell_type": "markdown",
   "metadata": {},
   "source": [
    "If we want to declare custom Cartesian tensor which is dynamically rotated to a new frame, we use `mol_tensor` function"
   ]
  },
  {
   "cell_type": "code",
   "execution_count": 22,
   "metadata": {},
   "outputs": [
    {
     "output_type": "stream",
     "name": "stdout",
     "text": [
      "vec\n [3. 2. 1.]\nmat\n [[9. 8. 7.]\n [6. 5. 4.]\n [3. 2. 1.]]\ndip\n [-0.7288  0.      0.    ]\n\nnew vec\n [9. 8. 7.]\nnew mat\n [[19. 18. 17.]\n [16. 15. 14.]\n [13. 12. 11.]]\n"
     ]
    }
   ],
   "source": [
    "water.vec = mol_tensor([1,2,3])\n",
    "water.mat = mol_tensor([[1,2,3],[4,5,6],[7,8,9]])\n",
    "\n",
    "water.frame = \"zyx,null\"\n",
    "\n",
    "# axes permutation (13) now affects also vec and mat\n",
    "print(\"vec\\n\", water.vec)\n",
    "print(\"mat\\n\", water.mat)\n",
    "print(\"dip\\n\", water.dip)\n",
    "\n",
    "# we can then change vec and mat values, they will still be dynamically rotated\n",
    "water.vec = [7,8,9]\n",
    "water.mat = [[11,12,13],[14,15,16],[17,18,19]]\n",
    "\n",
    "print(\"\\nnew vec\\n\", water.vec)\n",
    "print(\"new mat\\n\", water.mat)"
   ]
  },
  {
   "source": [
    "### Rotational constants"
   ],
   "cell_type": "markdown",
   "metadata": {}
  },
  {
   "cell_type": "markdown",
   "metadata": {},
   "source": [
    "The rotational constants (in units of cm$^{-1}$) can be calculated from the input molecular geometry using `ABC`. This will work only if the molecular frame is set to the inertia principal axes system or if the inertia tensor is diagonal\n",
    "!!!! define constants MHz, GHz to convert units to cm^-1 or MHz_to_invcm() !!!!!"
   ]
  },
  {
   "cell_type": "code",
   "execution_count": 25,
   "metadata": {},
   "outputs": [
    {
     "output_type": "stream",
     "name": "stdout",
     "text": [
      "[9.51951209577557, 14.584229929162115, 27.41213978457678]\n[27.41213978457678, 14.584229929162115, 9.51951209577557]\n"
     ]
    }
   ],
   "source": [
    "water.frame = \"diag(pol)\"\n",
    "print(water.ABC) # works because inertia tensor is diagonal in the polarizability principal axes system of water\n",
    "\n",
    "water.frame = \"diag(inertia)\"\n",
    "print(water.ABC) # the constants in inertia frame will be sorted in ascending order"
   ]
  },
  {
   "cell_type": "markdown",
   "metadata": {},
   "source": [
    "The values of rotational constants can also be user specified, for example, using the experimental values. In these case, `ABC` will return the user-defined values. If we want to access rotational constants calculated from the molecular geometry, we should use `ABC_calc` !!! ABC_geom !!!"
   ]
  },
  {
   "cell_type": "code",
   "execution_count": 26,
   "metadata": {},
   "outputs": [
    {
     "output_type": "stream",
     "name": "stdout",
     "text": [
      "calculated ABC [27.41213978457678, 14.584229929162115, 9.51951209577557]\nuser input ABC  [27.877, 14.512, 9.285]\ncalculated ABC [27.41213978457678, 14.584229929162115, 9.51951209577557]\n"
     ]
    }
   ],
   "source": [
    "print(\"calculated ABC\", water.ABC)\n",
    "water.ABC = (9.285, 14.512, 27.877) # user-defined rotational constants in units of cm^-1\n",
    "print(\"user input ABC \", water.ABC)\n",
    "print(\"calculated ABC\", water.ABC_calc)"
   ]
  },
  {
   "cell_type": "markdown",
   "metadata": {},
   "source": [
    "***************************\n",
    "\n",
    "**Important**: If user-defined rotational constants have been specified, the rotational Hamiltonian is built using these values\n",
    "\n",
    "***************************"
   ]
  },
  {
   "cell_type": "markdown",
   "metadata": {},
   "source": [
    "For linear and spherical-top molecules, use `B` to print or assign the rotational constant"
   ]
  },
  {
   "cell_type": "code",
   "execution_count": 27,
   "metadata": {},
   "outputs": [
    {
     "output_type": "stream",
     "name": "stdout",
     "text": [
      "0.20286\n0.20317858059669255\nTrue\n"
     ]
    }
   ],
   "source": [
    "ocs = Molecule()\n",
    "ocs.B = 0.20286 # experimental value\n",
    "print(ocs.B)\n",
    "\n",
    "ocs.XYZ = (\"angstrom\", \"C\", 0, 0, 0, \"S\", 0, 0, -1.56, \"O\", 0, 0, 1.16)\n",
    "print(ocs.B_calc) # calculated value\n",
    "\n",
    "print(ocs.linear()) # True if molecule is linear"
   ]
  },
  {
   "cell_type": "markdown",
   "metadata": {},
   "source": [
    "If molecular geometry is specified, the input rotational constants are always checked to agree within 5% difference with the calculated values. Here is an example of an error produced when molecular frame is not in the inertia principal axes system"
   ]
  },
  {
   "cell_type": "code",
   "execution_count": 29,
   "metadata": {},
   "outputs": [
    {
     "output_type": "stream",
     "name": "stdout",
     "text": [
      "inertia frame\ncalculated ABC [27.41213978457678, 14.584229929162115, 9.51951209577557]\ninput ABC      [27.877, 14.512, 9.285]\n\npolarizability frame\ncalculated ABC [9.51951209577557, 14.584229929162115, 27.41213978457678]\n"
     ]
    },
    {
     "output_type": "error",
     "ename": "ValueError",
     "evalue": "input experimental rotational constants differ much from the calculated once\n        exp          calc       exp-calc\nA    27.877000     9.519512    18.357488\nB    14.512000    14.584230    -0.072230\nC     9.285000    27.412140   -18.127140",
     "traceback": [
      "\u001b[0;31m---------------------------------------------------------------------------\u001b[0m",
      "\u001b[0;31mValueError\u001b[0m                                Traceback (most recent call last)",
      "\u001b[0;32m<ipython-input-29-23383a92f8fb>\u001b[0m in \u001b[0;36m<module>\u001b[0;34m\u001b[0m\n\u001b[1;32m     18\u001b[0m \u001b[0mprint\u001b[0m\u001b[0;34m(\u001b[0m\u001b[0;34m\"\\npolarizability frame\"\u001b[0m\u001b[0;34m)\u001b[0m\u001b[0;34m\u001b[0m\u001b[0;34m\u001b[0m\u001b[0m\n\u001b[1;32m     19\u001b[0m \u001b[0mprint\u001b[0m\u001b[0;34m(\u001b[0m\u001b[0;34m\"calculated ABC\"\u001b[0m\u001b[0;34m,\u001b[0m \u001b[0mwater2\u001b[0m\u001b[0;34m.\u001b[0m\u001b[0mABC_calc\u001b[0m\u001b[0;34m)\u001b[0m\u001b[0;34m\u001b[0m\u001b[0;34m\u001b[0m\u001b[0m\n\u001b[0;32m---> 20\u001b[0;31m \u001b[0mprint\u001b[0m\u001b[0;34m(\u001b[0m\u001b[0;34m\"input ABC     \"\u001b[0m\u001b[0;34m,\u001b[0m \u001b[0mwater2\u001b[0m\u001b[0;34m.\u001b[0m\u001b[0mABC\u001b[0m\u001b[0;34m)\u001b[0m \u001b[0;31m# specified rotaitonal constants disagree much with the geometry\u001b[0m\u001b[0;34m\u001b[0m\u001b[0;34m\u001b[0m\u001b[0m\n\u001b[0m",
      "\u001b[0;32m~/.local/lib/python3.6/site-packages/richmol-0.1a1-py3.6-linux-x86_64.egg/richmol/rot/molecule.py\u001b[0m in \u001b[0;36mABC\u001b[0;34m(self)\u001b[0m\n\u001b[1;32m    236\u001b[0m         \u001b[0;34m\"\"\"Returns experimental rotational constants if available, otherwise - calculated once\"\"\"\u001b[0m\u001b[0;34m\u001b[0m\u001b[0;34m\u001b[0m\u001b[0m\n\u001b[1;32m    237\u001b[0m         \u001b[0;32mtry\u001b[0m\u001b[0;34m:\u001b[0m\u001b[0;34m\u001b[0m\u001b[0;34m\u001b[0m\u001b[0m\n\u001b[0;32m--> 238\u001b[0;31m             \u001b[0mself\u001b[0m\u001b[0;34m.\u001b[0m\u001b[0mcheck_ABC\u001b[0m\u001b[0;34m(\u001b[0m\u001b[0;34m)\u001b[0m\u001b[0;34m\u001b[0m\u001b[0;34m\u001b[0m\u001b[0m\n\u001b[0m\u001b[1;32m    239\u001b[0m             \u001b[0;32mreturn\u001b[0m \u001b[0mself\u001b[0m\u001b[0;34m.\u001b[0m\u001b[0mABC_exp\u001b[0m\u001b[0;34m\u001b[0m\u001b[0;34m\u001b[0m\u001b[0m\n\u001b[1;32m    240\u001b[0m         \u001b[0;32mexcept\u001b[0m \u001b[0mAttributeError\u001b[0m\u001b[0;34m:\u001b[0m\u001b[0;34m\u001b[0m\u001b[0;34m\u001b[0m\u001b[0m\n",
      "\u001b[0;32m~/.local/lib/python3.6/site-packages/richmol-0.1a1-py3.6-linux-x86_64.egg/richmol/rot/molecule.py\u001b[0m in \u001b[0;36mcheck_ABC\u001b[0;34m(self)\u001b[0m\n\u001b[1;32m    295\u001b[0m                              for abc,e,c in zip((\"A\",\"B\",\"C\"), ABC_exp, ABC_calc) )\n\u001b[1;32m    296\u001b[0m             raise ValueError(f\"input experimental rotational constants differ much from the calculated once\\n\" + \\\n\u001b[0;32m--> 297\u001b[0;31m                 f\"        exp          calc       exp-calc\\n\" + err) from None\n\u001b[0m\u001b[1;32m    298\u001b[0m         \u001b[0;32mreturn\u001b[0m\u001b[0;34m\u001b[0m\u001b[0;34m\u001b[0m\u001b[0m\n\u001b[1;32m    299\u001b[0m \u001b[0;34m\u001b[0m\u001b[0m\n",
      "\u001b[0;31mValueError\u001b[0m: input experimental rotational constants differ much from the calculated once\n        exp          calc       exp-calc\nA    27.877000     9.519512    18.357488\nB    14.512000    14.584230    -0.072230\nC     9.285000    27.412140   -18.127140"
     ]
    }
   ],
   "source": [
    "water2 = Molecule()\n",
    "water2.ABC = (9.285, 14.512, 27.877) # user-defined rotational constants in units of cm^-1\n",
    "\n",
    "water2.XYZ = (\"bohr\",\n",
    "              \"O\",  0.00000000,   0.00000000,   0.12395915,\n",
    "              \"H\",  0.00000000,  -1.43102686,  -0.98366080,\n",
    "              \"H\",  0.00000000,   1.43102686,  -0.98366080)\n",
    "\n",
    "# polarizability tensor (au)\n",
    "water2.pol = [[9.1369, 0, 0], [0, 9.8701, 0], [0, 0, 9.4486]]\n",
    "\n",
    "water2.frame = 'ipas' # inertia principal axes system\n",
    "print(\"inertia frame\")\n",
    "print(\"calculated ABC\", water2.ABC_calc)\n",
    "print(\"input ABC     \", water2.ABC)\n",
    "\n",
    "water2.frame = 'diag(pol)' # polarizability principal axes system\n",
    "print(\"\\npolarizability frame\")\n",
    "print(\"calculated ABC\", water2.ABC_calc)\n",
    "print(\"input ABC     \", water2.ABC) # specified rotaitonal constants disagree much with the geometry "
   ]
  },
  {
   "cell_type": "markdown",
   "metadata": {},
   "source": [
    "### Rotational solutions "
   ]
  },
  {
   "source": [
    "The rotational energies and wave functions can be calculated for a specified range of $J$ quantum number using function `solve`"
   ],
   "cell_type": "markdown",
   "metadata": {}
  },
  {
   "cell_type": "code",
   "execution_count": 30,
   "metadata": {},
   "outputs": [],
   "source": [
    "sol = solve(water, Jmin=0, Jmax=10)"
   ]
  },
  {
   "source": [
    "Returned object is a dictionary `sol[J][sym]` containing solutions for different values of $J$ and different symetries (of $C_1$ group by default). The state energies (in cm$^{-1}$) and assignments (by $J, k, \\tau$ quantum numbers) can be printed out as following"
   ],
   "cell_type": "markdown",
   "metadata": {}
  },
  {
   "cell_type": "code",
   "execution_count": 31,
   "metadata": {
    "tags": []
   },
   "outputs": [
    {
     "output_type": "stream",
     "name": "stdout",
     "text": [
      "J  sym #    energy      J   k  tau  |leading coef|^2\n0    A 0     0.000000 ['0' '0' '0' ' 1.000000']\n1    A 0    23.797000 ['1' '0' '1' ' 1.000000']\n1    A 1    37.162000 ['1' '1' '0' ' 1.000000']\n1    A 2    42.389000 ['1' '1' '1' ' 1.000000']\n2    A 0    70.133328 ['2' '0' '0' ' 0.981068']\n2    A 1    79.529000 ['2' '1' '1' ' 1.000000']\n2    A 2    95.210000 ['2' '1' '0' ' 1.000000']\n2    A 3   135.305000 ['2' '2' '1' ' 1.000000']\n2    A 4   136.562672 ['2' '2' '0' ' 0.981068']\n3    A 0   136.909477 ['3' '0' '1' ' 0.922382']\n3    A 1   142.369084 ['3' '1' '0' ' 0.995098']\n3    A 2   173.535239 ['3' '1' '1' ' 0.992048']\n3    A 3   206.696000 ['3' '2' '0' ' 1.000000']\n3    A 4   212.568523 ['3' '2' '1' ' 0.922382']\n3    A 5   287.298916 ['3' '3' '0' ' 0.995098']\n3    A 6   287.494761 ['3' '3' '1' ' 0.992048']\n4    A 0   222.369478 ['4' '0' '0' ' 0.834399']\n4    A 1   225.067555 ['4' '1' '1' ' 0.982779']\n4    A 2   276.014787 ['4' '1' '0' ' 0.962955']\n4    A 3   300.891698 ['4' '2' '1' ' 0.994878']\n4    A 4   316.467065 ['4' '2' '0' ' 0.829445']\n4    A 5   384.522445 ['4' '3' '1' ' 0.982779']\n4    A 6   385.845213 ['4' '3' '0' ' 0.962955']\n4    A 7   494.618302 ['4' '4' '1' ' 0.994878']\n4    A 8   494.643456 ['4' '4' '0' ' 0.994516']\n5    A 0   325.904850 ['5' '0' '1' ' 0.746777']\n5    A 1   327.096090 ['5' '1' '0' ' 0.962995']\n5    A 2   400.581905 ['5' '1' '1' ' 0.895560']\n5    A 3   417.095984 ['5' '2' '0' ' 0.981068']\n5    A 4   447.924940 ['5' '2' '1' ' 0.727879']\n5    A 5   506.187057 ['5' '3' '0' ' 0.958321']\n5    A 6   511.103325 ['5' '3' '1' ' 0.891055']\n5    A 7   616.384016 ['5' '4' '0' ' 0.981068']\n5    A 8   616.605210 ['5' '4' '1' ' 0.977950']\n5    A 9   757.626853 ['5' '5' '0' ' 0.995234']\n5    A 10   757.629769 ['5' '5' '1' ' 0.995196']\n6    A 0   447.599446 ['6' '0' '0' ' 0.674283']\n6    A 1   448.088529 ['6' '1' '1' ' 0.937727']\n6    A 2   544.853509 ['6' '1' '0' ' 0.786176']\n6    A 3   554.434256 ['6' '2' '1' ' 0.955896']\n6    A 4   605.510686 ['6' '2' '0' ' 0.626507']\n6    A 5   651.859161 ['6' '3' '1' ' 0.920975']\n6    A 6   664.829678 ['6' '3' '0' ' 0.770747']\n6    A 7   763.189409 ['6' '4' '1' ' 0.951514']\n6    A 8   764.250215 ['6' '4' '0' ' 0.937198']\n6    A 9   903.627310 ['6' '5' '1' ' 0.982691']\n6    A 10   903.658813 ['6' '5' '0' ' 0.982284']\n6    A 11  1076.383335 ['6' '6' '1' ' 0.995514']\n6    A 12  1076.383652 ['6' '6' '0' ' 0.995510']\n7    A 0   587.641514 ['7' '0' '1' ' 0.617339']\n7    A 1   587.832828 ['7' '1' '0' ' 0.909570']\n7    A 2   707.150495 ['7' '1' '1' ' 0.659123']\n7    A 3   712.071291 ['7' '2' '0' ' 0.918887']\n7    A 4   787.117900 ['7' '2' '1' ' 0.518895']\n7    A 5   820.814666 ['7' '3' '0' ' 0.870785']\n7    A 6   847.669393 ['7' '3' '1' ' 0.625041']\n7    A 7   935.093985 ['7' '4' '0' ' 0.903726']\n7    A 8   938.717803 ['7' '4' '1' ' 0.858727']\n7    A 9  1074.737996 ['7' '5' '0' ' 0.955102']\n7    A 10  1074.921568 ['7' '5' '1' ' 0.952802']\n7    A 11  1246.578723 ['7' '6' '0' ' 0.984159']\n7    A 12  1246.582784 ['7' '6' '1' ' 0.984111']\n7    A 13  1450.894510 ['7' '7' '0' ' 0.995705']\n7    A 14  1450.894543 ['7' '7' '1' ' 0.995704']\n8    A 0   746.150442 ['8' '0' '0' ' 0.572379']\n8    A 1   746.222754 ['8' '1' '1' ' 0.880666']\n8    A 2   887.017097 ['8' '1' '0' ' 0.544041']\n8    A 3   889.320855 ['8' '2' '1' ' 0.872157']\n8    A 4   990.140685 ['8' '2' '0' ' 0.400128']\n8    A 5  1012.133558 ['8' '3' '1' ' 0.808292']\n8    A 6  1058.750356 ['8' '3' '0' ' 0.481904']\n8    A 7  1131.879066 ['8' '4' '1' ' 0.838022']\n8    A 8  1141.573018 ['8' '4' '0' ' 0.733872']\n8    A 9  1271.230370 ['8' '5' '1' ' 0.908565']\n8    A 10  1271.990740 ['8' '5' '0' ' 0.899535']\n8    A 11  1441.827472 ['8' '6' '1' ' 0.959290']\n8    A 12  1441.855243 ['8' '6' '0' ' 0.958970']\n8    A 13  1645.289318 ['8' '7' '1' ' 0.985184']\n8    A 14  1645.289806 ['8' '7' '0' ' 0.985179']\n8    A 15  1881.160608 ['8' '8' '1' ' 0.995839']\n8    A 16  1881.160611 ['8' '8' '0' ' 0.995839']\n9    A 0   923.184206 ['9' '0' '1' ' 0.536071']\n9    A 1   923.210846 ['9' '1' '0' ' 0.852384']\n9    A 2  1084.689410 ['9' '3' '1' ' 0.514026']\n9    A 3  1085.699491 ['9' '2' '0' ' 0.819485']\n9    A 4  1212.033720 ['9' '0' '1' ' 0.380052']\n9    A 5  1224.828202 ['9' '3' '0' ' 0.735113']\n9    A 6  1296.074482 ['9' '1' '1' ' 0.527629']\n9    A 7  1353.002055 ['9' '4' '0' ' 0.756972']\n9    A 8  1374.214294 ['9' '4' '1' ' 0.574219']\n9    A 9  1493.273872 ['9' '5' '0' ' 0.841267']\n9    A 10  1495.760196 ['9' '5' '1' ' 0.814241']\n9    A 11  1662.416485 ['9' '6' '0' ' 0.917155']\n9    A 12  1662.550755 ['9' '6' '1' ' 0.915669']\n9    A 13  1864.675734 ['9' '7' '0' ' 0.962385']\n9    A 14  1864.679566 ['9' '7' '1' ' 0.962344']\n9    A 15  2099.761970 ['9' '8' '0' ' 0.985905']\n9    A 16  2099.762025 ['9' '8' '1' ' 0.985904']\n9    A 17  2367.181346 ['9' '9' '0' ' 0.995939']\n9    A 18  2367.181346 ['9' '9' '1' ' 0.995939']\n10    A 0  1118.768185 ['10' '0' '0' ' 0.506029']\n10    A 1  1118.777805 ['10' '1' '1' ' 0.825444']\n10    A 2  1300.490705 ['10' '3' '0' ' 0.562907']\n10    A 3  1300.913168 ['10' '2' '1' ' 0.764806']\n10    A 4  1451.264316 ['10' '4' '0' ' 0.435795']\n10    A 5  1457.977536 ['10' '3' '1' ' 0.654519']\n10    A 6  1556.988444 ['10' '1' '0' ' 0.567562']\n10    A 7  1597.634515 ['10' '4' '1' ' 0.664353']\n10    A 8  1636.837487 ['10' '4' '0' ' 0.410590']\n10    A 9  1740.831055 ['10' '5' '1' ' 0.754464']\n10    A 10  1747.571107 ['10' '5' '0' ' 0.690800']\n10    A 11  1908.633990 ['10' '6' '1' ' 0.855009']\n10    A 12  1909.146191 ['10' '6' '0' ' 0.849710']\n10    A 13  2109.304208 ['10' '7' '1' ' 0.924129']\n10    A 14  2109.325343 ['10' '7' '0' ' 0.923912']\n10    A 15  2343.306809 ['10' '8' '1' ' 0.964583']\n10    A 16  2343.307304 ['10' '8' '0' ' 0.964578']\n10    A 17  2609.994395 ['10' '9' '1' ' 0.986434']\n10    A 18  2609.994401 ['10' '9' '0' ' 0.986434']\n10    A 19  2908.956518 ['10' '10' '1' ' 0.996016']\n10    A 20  2908.956518 ['10' '10' '0' ' 0.996016']\n"
     ]
    }
   ],
   "source": [
    "print(\"J  sym #    energy      J   k  tau  |leading coef|^2\")\n",
    "for J, sol_J in sol.items():\n",
    "    for symmetry, sol_sym in sol_J.items():\n",
    "        for istate in range(sol_sym.nstates):\n",
    "            print(J, \"%4s\"%symmetry, istate, \"%12.6f\"%sol_sym.enr[istate], sol_sym.assign[istate])"
   ]
  },
  {
   "source": [
    "The energies are in units of cm$^{-1}$ and the assignment is a list of numbers ($J$, $k$, $\\tau$, $c$) denoting the leading symmetric-top function in the expansion of wave function. $\\tau$ is the pairty of rotational state, defined as $(-1)^\\tau$, and $c$ is the absolute value of the leading coefficient.\n",
    "\n",
    "We can print more than one leading contribution in the assignment"
   ],
   "cell_type": "markdown",
   "metadata": {}
  },
  {
   "cell_type": "code",
   "execution_count": 18,
   "metadata": {
    "tags": []
   },
   "outputs": [
    {
     "output_type": "stream",
     "name": "stdout",
     "text": [
      "J  sym #    energy      J   k  tau  |leading coef|^2\n0    A 0     0.000000 ['0' '0' '0' ' 1.000000']\n1    A 0    23.797000 ['1' '0' '1' ' 1.000000' '1' '1' '0' ' 0.000000' '1' '1' '1' ' 0.000000']\n1    A 1    37.162000 ['1' '1' '0' ' 1.000000' '1' '0' '1' ' 0.000000' '1' '1' '1' ' 0.000000']\n1    A 2    42.389000 ['1' '1' '1' ' 1.000000' '1' '0' '1' ' 0.000000' '1' '1' '0' ' 0.000000']\n2    A 0    70.133328 ['2' '0' '0' ' 0.981068' '2' '2' '0' ' 0.018932' '2' '1' '0' ' 0.000000']\n2    A 1    79.529000 ['2' '1' '1' ' 1.000000' '2' '1' '0' ' 0.000000' '2' '0' '0' ' 0.000000']\n2    A 2    95.210000 ['2' '1' '0' ' 1.000000' '2' '1' '1' ' 0.000000' '2' '2' '0' ' 0.000000']\n2    A 3   135.305000 ['2' '2' '1' ' 1.000000' '2' '0' '0' ' 0.000000' '2' '1' '0' ' 0.000000']\n2    A 4   136.562672 ['2' '2' '0' ' 0.981068' '2' '0' '0' ' 0.018932' '2' '1' '0' ' 0.000000']\n3    A 0   136.909477 ['3' '0' '1' ' 0.922382' '3' '2' '1' ' 0.077618' '3' '1' '0' ' 0.000000']\n3    A 1   142.369084 ['3' '1' '0' ' 0.995098' '3' '3' '0' ' 0.004902' '3' '0' '1' ' 0.000000']\n3    A 2   173.535239 ['3' '1' '1' ' 0.992048' '3' '3' '1' ' 0.007952' '3' '2' '0' ' 0.000000']\n3    A 3   206.696000 ['3' '2' '0' ' 1.000000' '3' '1' '1' ' 0.000000' '3' '3' '0' ' 0.000000']\n3    A 4   212.568523 ['3' '2' '1' ' 0.922382' '3' '0' '1' ' 0.077618' '3' '1' '0' ' 0.000000']\n3    A 5   287.298916 ['3' '3' '0' ' 0.995098' '3' '1' '0' ' 0.004902' '3' '2' '0' ' 0.000000']\n3    A 6   287.494761 ['3' '3' '1' ' 0.992048' '3' '1' '1' ' 0.007952' '3' '2' '0' ' 0.000000']\n4    A 0   222.369478 ['4' '0' '0' ' 0.834399' '4' '2' '0' ' 0.165171' '4' '4' '0' ' 0.000429']\n4    A 1   225.067555 ['4' '1' '1' ' 0.982779' '4' '3' '1' ' 0.017221' '4' '2' '1' ' 0.000000']\n4    A 2   276.014787 ['4' '1' '0' ' 0.962955' '4' '3' '0' ' 0.037045' '4' '2' '0' ' 0.000000']\n4    A 3   300.891698 ['4' '2' '1' ' 0.994878' '4' '4' '1' ' 0.005122' '4' '1' '1' ' 0.000000']\n4    A 4   316.467065 ['4' '2' '0' ' 0.829445' '4' '0' '0' ' 0.165500' '4' '4' '0' ' 0.005054']\n4    A 5   384.522445 ['4' '3' '1' ' 0.982779' '4' '1' '1' ' 0.017221' '4' '3' '0' ' 0.000000']\n4    A 6   385.845213 ['4' '3' '0' ' 0.962955' '4' '1' '0' ' 0.037045' '4' '3' '1' ' 0.000000']\n4    A 7   494.618302 ['4' '4' '1' ' 0.994878' '4' '2' '1' ' 0.005122' '4' '3' '0' ' 0.000000']\n4    A 8   494.643456 ['4' '4' '0' ' 0.994516' '4' '2' '0' ' 0.005383' '4' '0' '0' ' 0.000100']\n5    A 0   325.904850 ['5' '0' '1' ' 0.746777' '5' '2' '1' ' 0.250971' '5' '4' '1' ' 0.002252']\n5    A 1   327.096090 ['5' '1' '0' ' 0.962995' '5' '3' '0' ' 0.036944' '5' '5' '0' ' 0.000062']\n5    A 2   400.581905 ['5' '1' '1' ' 0.895560' '5' '3' '1' ' 0.104187' '5' '5' '1' ' 0.000253']\n5    A 3   417.095984 ['5' '2' '0' ' 0.981068' '5' '4' '0' ' 0.018932' '5' '0' '1' ' 0.000000']\n5    A 4   447.924940 ['5' '2' '1' ' 0.727879' '5' '0' '1' ' 0.252323' '5' '4' '1' ' 0.019798']\n5    A 5   506.187057 ['5' '3' '0' ' 0.958321' '5' '1' '0' ' 0.036975' '5' '5' '0' ' 0.004704']\n5    A 6   511.103325 ['5' '3' '1' ' 0.891055' '5' '1' '1' ' 0.104394' '5' '5' '1' ' 0.004551']\n5    A 7   616.384016 ['5' '4' '0' ' 0.981068' '5' '2' '0' ' 0.018932' '5' '0' '1' ' 0.000000']\n5    A 8   616.605210 ['5' '4' '1' ' 0.977950' '5' '2' '1' ' 0.021150' '5' '0' '1' ' 0.000900']\n5    A 9   757.626853 ['5' '5' '0' ' 0.995234' '5' '3' '0' ' 0.004736' '5' '1' '0' ' 0.000030']\n5    A 10   757.629769 ['5' '5' '1' ' 0.995196' '5' '3' '1' ' 0.004758' '5' '1' '1' ' 0.000046']\n6    A 0   447.599446 ['6' '0' '0' ' 0.674283' '6' '2' '0' ' 0.319462' '6' '4' '0' ' 0.006248']\n6    A 1   448.088529 ['6' '1' '1' ' 0.937727' '6' '3' '1' ' 0.061930' '6' '5' '1' ' 0.000343']\n6    A 2   544.853509 ['6' '1' '0' ' 0.786176' '6' '3' '0' ' 0.211921' '6' '5' '0' ' 0.001902']\n6    A 3   554.434256 ['6' '2' '1' ' 0.955896' '6' '4' '1' ' 0.044031' '6' '6' '1' ' 0.000073']\n6    A 4   605.510686 ['6' '2' '0' ' 0.626507' '6' '0' '0' ' 0.321289' '6' '4' '0' ' 0.052098']\n6    A 5   651.859161 ['6' '3' '1' ' 0.920975' '6' '1' '1' ' 0.062059' '6' '5' '1' ' 0.016966']\n6    A 6   664.829678 ['6' '3' '0' ' 0.770747' '6' '1' '0' ' 0.213439' '6' '5' '0' ' 0.015814']\n6    A 7   763.189409 ['6' '4' '1' ' 0.951514' '6' '2' '1' ' 0.044073' '6' '6' '1' ' 0.004413']\n6    A 8   764.250215 ['6' '4' '0' ' 0.937198' '6' '2' '0' ' 0.053998' '6' '0' '0' ' 0.004428']\n6    A 9   903.627310 ['6' '5' '1' ' 0.982691' '6' '3' '1' ' 0.017095' '6' '1' '1' ' 0.000214']\n6    A 10   903.658813 ['6' '5' '0' ' 0.982284' '6' '3' '0' ' 0.017332' '6' '1' '0' ' 0.000384']\n6    A 11  1076.383335 ['6' '6' '1' ' 0.995514' '6' '4' '1' ' 0.004455' '6' '2' '1' ' 0.000031']\n6    A 12  1076.383652 ['6' '6' '0' ' 0.995510' '6' '4' '0' ' 0.004457' '6' '2' '0' ' 0.000033']\n7    A 0   587.641514 ['7' '0' '1' ' 0.617339' '7' '2' '1' ' 0.369994' '7' '4' '1' ' 0.012619']\n7    A 1   587.832828 ['7' '1' '0' ' 0.909570' '7' '3' '0' ' 0.089368' '7' '5' '0' ' 0.001061']\n7    A 2   707.150495 ['7' '1' '1' ' 0.659123' '7' '3' '1' ' 0.333816' '7' '5' '1' ' 0.007053']\n7    A 3   712.071291 ['7' '2' '0' ' 0.918887' '7' '4' '0' ' 0.080654' '7' '6' '0' ' 0.000460']\n7    A 4   787.117900 ['7' '2' '1' ' 0.518895' '7' '0' '1' ' 0.367222' '7' '4' '1' ' 0.113009']\n7    A 5   820.814666 ['7' '3' '0' ' 0.870785' '7' '1' '0' ' 0.089583' '7' '5' '0' ' 0.039570']\n7    A 6   847.669393 ['7' '3' '1' ' 0.625041' '7' '1' '1' ' 0.339020' '7' '5' '1' ' 0.035878']\n7    A 7   935.093985 ['7' '4' '0' ' 0.903726' '7' '2' '0' ' 0.080893' '7' '6' '0' ' 0.015381']\n7    A 8   938.717803 ['7' '4' '1' ' 0.858727' '7' '2' '1' ' 0.110875' '7' '0' '1' ' 0.015432']\n7    A 9  1074.737996 ['7' '5' '0' ' 0.955102' '7' '3' '0' ' 0.039819' '7' '7' '0' ' 0.004232']\n7    A 10  1074.921568 ['7' '5' '1' ' 0.952802' '7' '3' '1' ' 0.041114' '7' '7' '1' ' 0.004226']\n7    A 11  1246.578723 ['7' '6' '0' ' 0.984159' '7' '4' '0' ' 0.015621' '7' '2' '0' ' 0.000220']\n7    A 12  1246.582784 ['7' '6' '1' ' 0.984111' '7' '4' '1' ' 0.015645' '7' '2' '1' ' 0.000236']\n7    A 13  1450.894510 ['7' '7' '0' ' 0.995705' '7' '5' '0' ' 0.004267' '7' '3' '0' ' 0.000029']\n7    A 14  1450.894543 ['7' '7' '1' ' 0.995704' '7' '5' '1' ' 0.004267' '7' '3' '1' ' 0.000029']\n8    A 0   746.150442 ['8' '0' '0' ' 0.572379' '8' '2' '0' ' 0.406340' '8' '4' '0' ' 0.021113']\n8    A 1   746.222754 ['8' '1' '1' ' 0.880666' '8' '3' '1' ' 0.116909' '8' '5' '1' ' 0.002418']\n8    A 2   887.017097 ['8' '1' '0' ' 0.544041' '8' '3' '0' ' 0.438481' '8' '5' '0' ' 0.017413']\n8    A 3   889.320855 ['8' '2' '1' ' 0.872157' '8' '4' '1' ' 0.126238' '8' '6' '1' ' 0.001604']\n8    A 4   990.140685 ['8' '2' '0' ' 0.400128' '8' '0' '0' ' 0.386737' '8' '4' '0' ' 0.209118']\n8    A 5  1012.133558 ['8' '3' '1' ' 0.808292' '8' '1' '1' ' 0.116907' '8' '5' '1' ' 0.074395']\n8    A 6  1058.750356 ['8' '3' '0' ' 0.481904' '8' '1' '0' ' 0.449231' '8' '5' '0' ' 0.068429']\n8    A 7  1131.879066 ['8' '4' '1' ' 0.838022' '8' '2' '1' ' 0.126954' '8' '6' '1' ' 0.034972']\n8    A 8  1141.573018 ['8' '4' '0' ' 0.733872' '8' '2' '0' ' 0.192529' '8' '0' '0' ' 0.040833']\n8    A 9  1271.230370 ['8' '5' '1' ' 0.908565' '8' '3' '1' ' 0.074606' '8' '7' '1' ' 0.014403']\n8    A 10  1271.990740 ['8' '5' '0' ' 0.899535' '8' '3' '0' ' 0.079421' '8' '7' '0' ' 0.014319']\n8    A 11  1441.827472 ['8' '6' '1' ' 0.959290' '8' '4' '1' ' 0.035713' '8' '8' '1' ' 0.004108']\n8    A 12  1441.855243 ['8' '6' '0' ' 0.958970' '8' '4' '0' ' 0.035870' '8' '8' '0' ' 0.004107']\n8    A 13  1645.289318 ['8' '7' '1' ' 0.985184' '8' '5' '1' ' 0.014621' '8' '3' '1' ' 0.000193']\n8    A 14  1645.289806 ['8' '7' '0' ' 0.985179' '8' '5' '0' ' 0.014624' '8' '3' '0' ' 0.000194']\n8    A 15  1881.160608 ['8' '8' '1' ' 0.995839' '8' '6' '1' ' 0.004134' '8' '4' '1' ' 0.000027']\n8    A 16  1881.160611 ['8' '8' '0' ' 0.995839' '8' '6' '0' ' 0.004134' '8' '4' '0' ' 0.000027']\n9    A 0   923.184206 ['9' '0' '1' ' 0.536071' '9' '2' '1' ' 0.432245' '9' '4' '1' ' 0.031251']\n9    A 1   923.210846 ['9' '1' '0' ' 0.852384' '9' '3' '0' ' 0.143047' '9' '5' '0' ' 0.004543']\n9    A 2  1084.689410 ['9' '3' '1' ' 0.514026' '9' '1' '1' ' 0.452373' '9' '5' '1' ' 0.033323']\n9    A 3  1085.699491 ['9' '2' '0' ' 0.819485' '9' '4' '0' ' 0.176434' '9' '6' '0' ' 0.004069']\n9    A 4  1212.033720 ['9' '0' '1' ' 0.380052' '9' '4' '1' ' 0.327249' '9' '2' '1' ' 0.280014']\n9    A 5  1224.828202 ['9' '3' '0' ' 0.735113' '9' '1' '0' ' 0.142038' '9' '5' '0' ' 0.121335']\n9    A 6  1296.074482 ['9' '1' '1' ' 0.527629' '9' '3' '1' ' 0.350910' '9' '5' '1' ' 0.119563']\n9    A 7  1353.002055 ['9' '4' '0' ' 0.756972' '9' '2' '0' ' 0.177843' '9' '6' '0' ' 0.064855']\n9    A 8  1374.214294 ['9' '4' '1' ' 0.574219' '9' '2' '1' ' 0.284508' '9' '0' '1' ' 0.083627']\n9    A 9  1493.273872 ['9' '5' '0' ' 0.841267' '9' '3' '0' ' 0.121083' '9' '7' '0' ' 0.032041']\n9    A 10  1495.760196 ['9' '5' '1' ' 0.814241' '9' '3' '1' ' 0.134295' '9' '7' '1' ' 0.031446']\n9    A 11  1662.416485 ['9' '6' '0' ' 0.917155' '9' '4' '0' ' 0.066421' '9' '8' '0' ' 0.013755']\n9    A 12  1662.550755 ['9' '6' '1' ' 0.915669' '9' '4' '1' ' 0.067109' '9' '8' '1' ' 0.013741']\n9    A 13  1864.675734 ['9' '7' '0' ' 0.962385' '9' '5' '0' ' 0.032830' '9' '9' '0' ' 0.004016']\n9    A 14  1864.679566 ['9' '7' '1' ' 0.962344' '9' '5' '1' ' 0.032848' '9' '9' '1' ' 0.004016']\n9    A 15  2099.761970 ['9' '8' '0' ' 0.985905' '9' '6' '0' ' 0.013921' '9' '4' '0' ' 0.000172']\n9    A 16  2099.762025 ['9' '8' '1' ' 0.985904' '9' '6' '1' ' 0.013921' '9' '4' '1' ' 0.000172']\n9    A 17  2367.181346 ['9' '9' '0' ' 0.995939' '9' '7' '0' ' 0.004036' '9' '5' '0' ' 0.000025']\n9    A 18  2367.181346 ['9' '9' '1' ' 0.995939' '9' '7' '1' ' 0.004036' '9' '5' '1' ' 0.000025']\n10    A 0  1118.768185 ['10' '0' '0' ' 0.506029' '10' '2' '0' ' 0.450564' '10' '4' '0'\n ' 0.042499']\n10    A 1  1118.777805 ['10' '1' '1' ' 0.825444' '10' '3' '1' ' 0.167004' '10' '5' '1'\n ' 0.007478']\n10    A 2  1300.490705 ['10' '3' '0' ' 0.562907' '10' '1' '0' ' 0.382228' '10' '5' '0'\n ' 0.054056']\n10    A 3  1300.913168 ['10' '2' '1' ' 0.764806' '10' '4' '1' ' 0.226772' '10' '6' '1'\n ' 0.008373']\n10    A 4  1451.264316 ['10' '4' '0' ' 0.435795' '10' '0' '0' ' 0.356263' '10' '2' '0'\n ' 0.178131']\n10    A 5  1457.977536 ['10' '3' '1' ' 0.654519' '10' '5' '1' ' 0.177604' '10' '1' '1'\n ' 0.163719']\n10    A 6  1556.988444 ['10' '1' '0' ' 0.567562' '10' '3' '0' ' 0.231417' '10' '5' '0'\n ' 0.194600']\n10    A 7  1597.634515 ['10' '4' '1' ' 0.664353' '10' '2' '1' ' 0.228623' '10' '6' '1'\n ' 0.105787']\n10    A 8  1636.837487 ['10' '4' '0' ' 0.410590' '10' '2' '0' ' 0.362545' '10' '0' '0'\n ' 0.136722']\n10    A 9  1740.831055 ['10' '5' '1' ' 0.754464' '10' '3' '1' ' 0.176230' '10' '7' '1'\n ' 0.058243']\n10    A 10  1747.571107 ['10' '5' '0' ' 0.690800' '10' '3' '0' ' 0.203359' '10' '7' '0'\n ' 0.055474']\n10    A 11  1908.633990 ['10' '6' '1' ' 0.855009' '10' '4' '1' ' 0.108220' '10' '8' '1'\n ' 0.030173']\n10    A 12  1909.146191 ['10' '6' '0' ' 0.849710' '10' '4' '0' ' 0.110461' '10' '8' '0'\n ' 0.030059']\n10    A 13  2109.304208 ['10' '7' '1' ' 0.924129' '10' '5' '1' ' 0.060295' '10' '9' '1'\n ' 0.013280']\n10    A 14  2109.325343 ['10' '7' '0' ' 0.923912' '10' '5' '0' ' 0.060386' '10' '9' '0'\n ' 0.013278']\n10    A 15  2343.306809 ['10' '8' '1' ' 0.964583' '10' '6' '1' ' 0.030807' '10' '10' '1'\n ' 0.003944']\n10    A 16  2343.307304 ['10' '8' '0' ' 0.964578' '10' '6' '0' ' 0.030809' '10' '10' '0'\n ' 0.003944']\n10    A 17  2609.994395 ['10' '9' '1' ' 0.986434' '10' '7' '1' ' 0.013407' '10' '5' '1'\n ' 0.000158']\n10    A 18  2609.994401 ['10' '9' '0' ' 0.986434' '10' '7' '0' ' 0.013407' '10' '5' '0'\n ' 0.000158']\n10    A 19  2908.956518 ['10' '10' '1' ' 0.996016' '10' '8' '1' ' 0.003960' '10' '6' '1'\n ' 0.000024']\n10    A 20  2908.956518 ['10' '10' '0' ' 0.996016' '10' '8' '0' ' 0.003960' '10' '6' '0'\n ' 0.000024']\n"
     ]
    }
   ],
   "source": [
    "print(\"J  sym #    energy      J   k  tau  |leading coef|^2\")\n",
    "for J,sol_J in sol.items():\n",
    "    for symmetry,sol_sym in sol_J.items():\n",
    "        sol_sym.assign_nprim = 3 # print up to three leading contributions\n",
    "        for istate in range(sol_sym.nstates):\n",
    "            print(J, \"%4s\"%symmetry, istate, \"%12.6f\"%sol_sym.enr[istate], sol_sym.assign[istate])"
   ]
  },
  {
   "cell_type": "markdown",
   "metadata": {},
   "source": [
    "### Symmetry"
   ]
  },
  {
   "source": [
    "The molecular symmetry can be specified using molecule property `sym`, for example, the above calculation can be done using the $D_2$ or $C_{2v}$ rotational symmetry groups"
   ],
   "cell_type": "markdown",
   "metadata": {}
  },
  {
   "source": [
    "water.sym = 'D2'\n",
    "sol_d2 = solve(water, Jmin=0, Jmax=3)\n",
    "\n",
    "water.sym = 'C2v'\n",
    "sol_c2v = solve(water, Jmin=0, Jmax=3)\n",
    "\n",
    "print(\"D2 solutions\")\n",
    "print(\"J  sym #    energy      J   k  tau  |leading coef|^2\")\n",
    "for J,sol_J in sol_d2.items():\n",
    "    for symmetry,sol_sym in sol_J.items():\n",
    "        for istate in range(sol_sym.nstates):\n",
    "            print(J, \"%4s\"%symmetry, istate, \"%12.6f\"%sol_sym.enr[istate], sol_sym.assign[istate])\n",
    "\n",
    "print(\"C2v solutions\")\n",
    "print(\"J  sym #    energy      J   k  tau  |leading coef|^2\")\n",
    "for J,sol_J in sol_c2v.items():\n",
    "    for symmetry,sol_sym in sol_J.items():\n",
    "        for istate in range(sol_sym.nstates):\n",
    "            print(J, \"%4s\"%symmetry, istate, \"%12.6f\"%sol_sym.enr[istate], sol_sym.assign[istate])"
   ],
   "cell_type": "code",
   "metadata": {
    "tags": []
   },
   "execution_count": 33,
   "outputs": [
    {
     "output_type": "stream",
     "name": "stdout",
     "text": [
      "D2 solutions\nJ  sym #    energy      J   k  tau  |leading coef|^2\n0    A 0     0.000000 ['0' '0' '0' ' 1.000000']\n1   B1 0    23.797000 ['1' '0' '1' ' 1.000000']\n1   B2 0    37.162000 ['1' '1' '0' ' 1.000000']\n1   B3 0    42.389000 ['1' '1' '1' ' 1.000000']\n2    A 0    70.133328 ['2' '0' '0' ' 0.981068']\n2    A 1   136.562672 ['2' '2' '0' ' 0.981068']\n2   B1 0   135.305000 ['2' '2' '1' ' 1.000000']\n2   B2 0    95.210000 ['2' '1' '0' ' 1.000000']\n2   B3 0    79.529000 ['2' '1' '1' ' 1.000000']\n3    A 0   206.696000 ['3' '2' '0' ' 1.000000']\n3   B1 0   136.909477 ['3' '0' '1' ' 0.922382']\n3   B1 1   212.568523 ['3' '2' '1' ' 0.922382']\n3   B2 0   142.369084 ['3' '1' '0' ' 0.995098']\n3   B2 1   287.298916 ['3' '3' '0' ' 0.995098']\n3   B3 0   173.535239 ['3' '1' '1' ' 0.992048']\n3   B3 1   287.494761 ['3' '3' '1' ' 0.992048']\nC2v solutions\nJ  sym #    energy      J   k  tau  |leading coef|^2\n0   A1 0     0.000000 ['0' '0' '0' ' 1.000000']\n1   A2 0    23.797000 ['1' '0' '1' ' 1.000000']\n1   B1 0    37.162000 ['1' '1' '0' ' 1.000000']\n1   B2 0    42.389000 ['1' '1' '1' ' 1.000000']\n2   A1 0    70.133328 ['2' '0' '0' ' 0.981068']\n2   A1 1   136.562672 ['2' '2' '0' ' 0.981068']\n2   A2 0   135.305000 ['2' '2' '1' ' 1.000000']\n2   B1 0    95.210000 ['2' '1' '0' ' 1.000000']\n2   B2 0    79.529000 ['2' '1' '1' ' 1.000000']\n3   A1 0   206.696000 ['3' '2' '0' ' 1.000000']\n3   A2 0   136.909477 ['3' '0' '1' ' 0.922382']\n3   A2 1   212.568523 ['3' '2' '1' ' 0.922382']\n3   B1 0   142.369084 ['3' '1' '0' ' 0.995098']\n3   B1 1   287.298916 ['3' '3' '0' ' 0.995098']\n3   B2 0   173.535239 ['3' '1' '1' ' 0.992048']\n3   B2 1   287.494761 ['3' '3' '1' ' 0.992048']\n"
     ]
    }
   ]
  },
  {
   "source": [
    "We can restrict solutions to have only certain symmetries, by specifying a list of desired symmetries for different values of $J$ in `only` argument to `solve`"
   ],
   "cell_type": "markdown",
   "metadata": {}
  },
  {
   "cell_type": "code",
   "execution_count": 34,
   "metadata": {},
   "outputs": [
    {
     "output_type": "stream",
     "name": "stdout",
     "text": [
      "D2 solutions\nJ  sym #    energy      J   k  tau  |leading coef|^2\n1   B1 0    23.797000 ['1' '0' '1' ' 1.000000']\n1   B2 0    37.162000 ['1' '1' '0' ' 1.000000']\n2   B1 0   135.305000 ['2' '2' '1' ' 1.000000']\n2   B2 0    95.210000 ['2' '1' '0' ' 1.000000']\n3   B1 0   136.909477 ['3' '0' '1' ' 0.922382']\n3   B1 1   212.568523 ['3' '2' '1' ' 0.922382']\n3   B2 0   142.369084 ['3' '1' '0' ' 0.995098']\n3   B2 1   287.298916 ['3' '3' '0' ' 0.995098']\nC2v solutions\nJ  sym #    energy      J   k  tau  |leading coef|^2\n1   A2 0    23.797000 ['1' '0' '1' ' 1.000000']\n1   B2 0    42.389000 ['1' '1' '1' ' 1.000000']\n2   A2 0   135.305000 ['2' '2' '1' ' 1.000000']\n2   B2 0    79.529000 ['2' '1' '1' ' 1.000000']\n3   A2 0   136.909477 ['3' '0' '1' ' 0.922382']\n3   A2 1   212.568523 ['3' '2' '1' ' 0.922382']\n3   B2 0   173.535239 ['3' '1' '1' ' 0.992048']\n3   B2 1   287.494761 ['3' '3' '1' ' 0.992048']\n"
     ]
    }
   ],
   "source": [
    "Jmin = 0\n",
    "Jmax = 5\n",
    "\n",
    "water.sym = 'D2'\n",
    "sym = {J : ['B2', 'B1'] for J in range(Jmin, Jmax+1)} # list of desired symmetries for different J\n",
    "sol_d2 = solve(water, Jmin=0, Jmax=3, only={'sym':sym})\n",
    "\n",
    "water.sym = 'C2v'\n",
    "sym = {J : ['A2', 'B2'] for J in range(Jmin, Jmax+1)}\n",
    "sol_c2v = solve(water, Jmin=0, Jmax=3, only={'sym':sym})\n",
    "\n",
    "print(\"D2 solutions\")\n",
    "print(\"J  sym #    energy      J   k  tau  |leading coef|^2\")\n",
    "for J,sol_J in sol_d2.items():\n",
    "    for symmetry,sol_sym in sol_J.items():\n",
    "        for istate in range(sol_sym.nstates):\n",
    "            print(J, \"%4s\"%symmetry, istate, \"%12.6f\"%sol_sym.enr[istate], sol_sym.assign[istate])\n",
    "\n",
    "print(\"C2v solutions\")\n",
    "print(\"J  sym #    energy      J   k  tau  |leading coef|^2\")\n",
    "for J,sol_J in sol_c2v.items():\n",
    "    for symmetry,sol_sym in sol_J.items():\n",
    "        for istate in range(sol_sym.nstates):\n",
    "            print(J, \"%4s\"%symmetry, istate, \"%12.6f\"%sol_sym.enr[istate], sol_sym.assign[istate])\n"
   ]
  },
  {
   "cell_type": "markdown",
   "metadata": {},
   "source": [
    "### Centrifugal distortion rotational constants"
   ]
  },
  {
   "cell_type": "markdown",
   "metadata": {},
   "source": [
    "The centrifugal distortion constants are used to build the Watson-type asymmetric top Hamiltonian in the A or S standard reduced form (J. K. G. Watson in \"Vibrational Spectra and Structure\" (Ed: J. Durig) Vol 6 p 1, Elsevier, Amsterdam, 1977)\n",
    "\n",
    "* A-form: $H_A = H_\\text{rigrot} - \\Delta_{J} J^{4} - \\Delta_{JK} J^{2} J_{z}^{2} - \\Delta_{K} J_{z}^{4} - \\frac{1}{2}  [ \\delta_{J} J^{2} + \\delta_{K} J_{z}^{2}, J_{+}^{2} + J_{-}^{2} ]_{+} + H_{J} J^{6} + H_{JK} J^{4} J_{z}^{2} + H_{KJ} J^{2} J_{z}^{4} + H_{K} J_{z}^{6} + \\frac{1}{2} [ \\phi_{J} J^{4} + \\phi_{JK} J^{2} J_{z}^{2} + \\phi_{K} J_{z}^{4}, J_{+}^{2} + J_{-}^{2} ]_{+}$\n",
    "\n",
    "* S-form: $H_S = H_\\text{rigrot} - \\Delta_{J} J^{4} - \\Delta_{JK} J^{2} J_{z}^{2} - \\Delta_{K} J_{z}^{4} + d_{1} J^{2} (J_{+}^{2} + J_{-}^{2}) + d_{2} (J_{+}^{4} + J_{-}^{4}) + H_{J} J^{6} + H_{JK} J^{4} J_{z}^{2} + H_{KJ} J^{2} J_{z}^{4} + H_{K} J_{z}^{6} + h_{1} J^{4} (J_{+}^{2} + J_{-}^{2}) + h_{2} J^{2} (J_{+}^{4} + J_{-}^{4}) + h_{3} (J_{+}^{6} + J_{-}^{6})$\n",
    "\n",
    "The type of Watson Hamiltonian can be specified using `watson` molecule property, while the centrifugal constants are defined as molecule attributes `DeltaJ`, `DeltaJK`, `DeltaK`, `deltaJ`, `deltaK`, `HJ`, `HJK`, `HKJ`, `HK`, `phiJ`, `phiJK`, `phiK`, `d1`, `d2`, `h1`, `h2`, `h3`."
   ]
  },
  {
   "cell_type": "code",
   "execution_count": 39,
   "metadata": {},
   "outputs": [
    {
     "output_type": "stream",
     "name": "stdout",
     "text": [
      "solve for J = 0 and symmetry A1\n",
      "build rigid-rotor Hamiltonian from rotational constants, A, B, C = (27.88063093968828, 14.521770157406696, 9.277708380509026) cm-1\n",
      "add 'watson_s' term 'DeltaJ' = 0.0012540081978980272\n",
      "add 'watson_s' term 'DeltaJK' = -0.005767750168017903\n",
      "add 'watson_s' term 'DeltaK' = 0.03246547716687389\n",
      "add 'watson_s' term 'deltaJ' = 0.0005073643980730162\n",
      "add 'watson_s' term 'deltaK' = 0.001369287282070318\n",
      "add 'watson_s' term 'HJ' = 5.222146048784189e-07\n",
      "add 'watson_s' term 'HJK' = -1.4036710690033436e-06\n",
      "add 'watson_s' term 'HKJ' = -1.6995357501622004e-05\n",
      "add 'watson_s' term 'HK' = 0.0001245204107169367\n",
      "add 'watson_s' term 'phiJ' = 2.6003956377048017e-07\n",
      "add 'watson_s' term 'phiJK' = -8.394140455661496e-07\n",
      "add 'watson_s' term 'phiK' = 3.659531688418926e-05\n",
      "solve for J = 1 and symmetry A2\n",
      "build rigid-rotor Hamiltonian from rotational constants, A, B, C = (27.88063093968828, 14.521770157406696, 9.277708380509026) cm-1\n",
      "add 'watson_s' term 'DeltaJ' = 0.0012540081978980272\n",
      "add 'watson_s' term 'DeltaJK' = -0.005767750168017903\n",
      "add 'watson_s' term 'DeltaK' = 0.03246547716687389\n",
      "add 'watson_s' term 'deltaJ' = 0.0005073643980730162\n",
      "add 'watson_s' term 'deltaK' = 0.001369287282070318\n",
      "add 'watson_s' term 'HJ' = 5.222146048784189e-07\n",
      "add 'watson_s' term 'HJK' = -1.4036710690033436e-06\n",
      "add 'watson_s' term 'HKJ' = -1.6995357501622004e-05\n",
      "add 'watson_s' term 'HK' = 0.0001245204107169367\n",
      "add 'watson_s' term 'phiJ' = 2.6003956377048017e-07\n",
      "add 'watson_s' term 'phiJK' = -8.394140455661496e-07\n",
      "add 'watson_s' term 'phiK' = 3.659531688418926e-05\n",
      "solve for J = 1 and symmetry B1\n",
      "build rigid-rotor Hamiltonian from rotational constants, A, B, C = (27.88063093968828, 14.521770157406696, 9.277708380509026) cm-1\n",
      "add 'watson_s' term 'DeltaJ' = 0.0012540081978980272\n",
      "add 'watson_s' term 'DeltaJK' = -0.005767750168017903\n",
      "add 'watson_s' term 'DeltaK' = 0.03246547716687389\n",
      "add 'watson_s' term 'deltaJ' = 0.0005073643980730162\n",
      "add 'watson_s' term 'deltaK' = 0.001369287282070318\n",
      "add 'watson_s' term 'HJ' = 5.222146048784189e-07\n",
      "add 'watson_s' term 'HJK' = -1.4036710690033436e-06\n",
      "add 'watson_s' term 'HKJ' = -1.6995357501622004e-05\n",
      "add 'watson_s' term 'HK' = 0.0001245204107169367\n",
      "add 'watson_s' term 'phiJ' = 2.6003956377048017e-07\n",
      "add 'watson_s' term 'phiJK' = -8.394140455661496e-07\n",
      "add 'watson_s' term 'phiK' = 3.659531688418926e-05\n",
      "solve for J = 1 and symmetry B2\n",
      "build rigid-rotor Hamiltonian from rotational constants, A, B, C = (27.88063093968828, 14.521770157406696, 9.277708380509026) cm-1\n",
      "add 'watson_s' term 'DeltaJ' = 0.0012540081978980272\n",
      "add 'watson_s' term 'DeltaJK' = -0.005767750168017903\n",
      "add 'watson_s' term 'DeltaK' = 0.03246547716687389\n",
      "add 'watson_s' term 'deltaJ' = 0.0005073643980730162\n",
      "add 'watson_s' term 'deltaK' = 0.001369287282070318\n",
      "add 'watson_s' term 'HJ' = 5.222146048784189e-07\n",
      "add 'watson_s' term 'HJK' = -1.4036710690033436e-06\n",
      "add 'watson_s' term 'HKJ' = -1.6995357501622004e-05\n",
      "add 'watson_s' term 'HK' = 0.0001245204107169367\n",
      "add 'watson_s' term 'phiJ' = 2.6003956377048017e-07\n",
      "add 'watson_s' term 'phiJK' = -8.394140455661496e-07\n",
      "add 'watson_s' term 'phiK' = 3.659531688418926e-05\n",
      "solve for J = 2 and symmetry A1\n",
      "build rigid-rotor Hamiltonian from rotational constants, A, B, C = (27.88063093968828, 14.521770157406696, 9.277708380509026) cm-1\n",
      "add 'watson_s' term 'DeltaJ' = 0.0012540081978980272\n",
      "add 'watson_s' term 'DeltaJK' = -0.005767750168017903\n",
      "add 'watson_s' term 'DeltaK' = 0.03246547716687389\n",
      "add 'watson_s' term 'deltaJ' = 0.0005073643980730162\n",
      "add 'watson_s' term 'deltaK' = 0.001369287282070318\n",
      "add 'watson_s' term 'HJ' = 5.222146048784189e-07\n",
      "add 'watson_s' term 'HJK' = -1.4036710690033436e-06\n",
      "add 'watson_s' term 'HKJ' = -1.6995357501622004e-05\n",
      "add 'watson_s' term 'HK' = 0.0001245204107169367\n",
      "add 'watson_s' term 'phiJ' = 2.6003956377048017e-07\n",
      "add 'watson_s' term 'phiJK' = -8.394140455661496e-07\n",
      "add 'watson_s' term 'phiK' = 3.659531688418926e-05\n",
      "solve for J = 2 and symmetry A2\n",
      "build rigid-rotor Hamiltonian from rotational constants, A, B, C = (27.88063093968828, 14.521770157406696, 9.277708380509026) cm-1\n",
      "add 'watson_s' term 'DeltaJ' = 0.0012540081978980272\n",
      "add 'watson_s' term 'DeltaJK' = -0.005767750168017903\n",
      "add 'watson_s' term 'DeltaK' = 0.03246547716687389\n",
      "add 'watson_s' term 'deltaJ' = 0.0005073643980730162\n",
      "add 'watson_s' term 'deltaK' = 0.001369287282070318\n",
      "add 'watson_s' term 'HJ' = 5.222146048784189e-07\n",
      "add 'watson_s' term 'HJK' = -1.4036710690033436e-06\n",
      "add 'watson_s' term 'HKJ' = -1.6995357501622004e-05\n",
      "add 'watson_s' term 'HK' = 0.0001245204107169367\n",
      "add 'watson_s' term 'phiJ' = 2.6003956377048017e-07\n",
      "add 'watson_s' term 'phiJK' = -8.394140455661496e-07\n",
      "add 'watson_s' term 'phiK' = 3.659531688418926e-05\n",
      "solve for J = 2 and symmetry B1\n",
      "build rigid-rotor Hamiltonian from rotational constants, A, B, C = (27.88063093968828, 14.521770157406696, 9.277708380509026) cm-1\n",
      "add 'watson_s' term 'DeltaJ' = 0.0012540081978980272\n",
      "add 'watson_s' term 'DeltaJK' = -0.005767750168017903\n",
      "add 'watson_s' term 'DeltaK' = 0.03246547716687389\n",
      "add 'watson_s' term 'deltaJ' = 0.0005073643980730162\n",
      "add 'watson_s' term 'deltaK' = 0.001369287282070318\n",
      "add 'watson_s' term 'HJ' = 5.222146048784189e-07\n",
      "add 'watson_s' term 'HJK' = -1.4036710690033436e-06\n",
      "add 'watson_s' term 'HKJ' = -1.6995357501622004e-05\n",
      "add 'watson_s' term 'HK' = 0.0001245204107169367\n",
      "add 'watson_s' term 'phiJ' = 2.6003956377048017e-07\n",
      "add 'watson_s' term 'phiJK' = -8.394140455661496e-07\n",
      "add 'watson_s' term 'phiK' = 3.659531688418926e-05\n",
      "solve for J = 2 and symmetry B2\n",
      "build rigid-rotor Hamiltonian from rotational constants, A, B, C = (27.88063093968828, 14.521770157406696, 9.277708380509026) cm-1\n",
      "add 'watson_s' term 'DeltaJ' = 0.0012540081978980272\n",
      "add 'watson_s' term 'DeltaJK' = -0.005767750168017903\n",
      "add 'watson_s' term 'DeltaK' = 0.03246547716687389\n",
      "add 'watson_s' term 'deltaJ' = 0.0005073643980730162\n",
      "add 'watson_s' term 'deltaK' = 0.001369287282070318\n",
      "add 'watson_s' term 'HJ' = 5.222146048784189e-07\n",
      "add 'watson_s' term 'HJK' = -1.4036710690033436e-06\n",
      "add 'watson_s' term 'HKJ' = -1.6995357501622004e-05\n",
      "add 'watson_s' term 'HK' = 0.0001245204107169367\n",
      "add 'watson_s' term 'phiJ' = 2.6003956377048017e-07\n",
      "add 'watson_s' term 'phiJK' = -8.394140455661496e-07\n",
      "add 'watson_s' term 'phiK' = 3.659531688418926e-05\n",
      "solve for J = 3 and symmetry A1\n",
      "build rigid-rotor Hamiltonian from rotational constants, A, B, C = (27.88063093968828, 14.521770157406696, 9.277708380509026) cm-1\n",
      "add 'watson_s' term 'DeltaJ' = 0.0012540081978980272\n",
      "add 'watson_s' term 'DeltaJK' = -0.005767750168017903\n",
      "add 'watson_s' term 'DeltaK' = 0.03246547716687389\n",
      "add 'watson_s' term 'deltaJ' = 0.0005073643980730162\n",
      "add 'watson_s' term 'deltaK' = 0.001369287282070318\n",
      "add 'watson_s' term 'HJ' = 5.222146048784189e-07\n",
      "add 'watson_s' term 'HJK' = -1.4036710690033436e-06\n",
      "add 'watson_s' term 'HKJ' = -1.6995357501622004e-05\n",
      "add 'watson_s' term 'HK' = 0.0001245204107169367\n",
      "add 'watson_s' term 'phiJ' = 2.6003956377048017e-07\n",
      "add 'watson_s' term 'phiJK' = -8.394140455661496e-07\n",
      "add 'watson_s' term 'phiK' = 3.659531688418926e-05\n",
      "solve for J = 3 and symmetry A2\n",
      "build rigid-rotor Hamiltonian from rotational constants, A, B, C = (27.88063093968828, 14.521770157406696, 9.277708380509026) cm-1\n",
      "add 'watson_s' term 'DeltaJ' = 0.0012540081978980272\n",
      "add 'watson_s' term 'DeltaJK' = -0.005767750168017903\n",
      "add 'watson_s' term 'DeltaK' = 0.03246547716687389\n",
      "add 'watson_s' term 'deltaJ' = 0.0005073643980730162\n",
      "add 'watson_s' term 'deltaK' = 0.001369287282070318\n",
      "add 'watson_s' term 'HJ' = 5.222146048784189e-07\n",
      "add 'watson_s' term 'HJK' = -1.4036710690033436e-06\n",
      "add 'watson_s' term 'HKJ' = -1.6995357501622004e-05\n",
      "add 'watson_s' term 'HK' = 0.0001245204107169367\n",
      "add 'watson_s' term 'phiJ' = 2.6003956377048017e-07\n",
      "add 'watson_s' term 'phiJK' = -8.394140455661496e-07\n",
      "add 'watson_s' term 'phiK' = 3.659531688418926e-05\n",
      "solve for J = 3 and symmetry B1\n",
      "build rigid-rotor Hamiltonian from rotational constants, A, B, C = (27.88063093968828, 14.521770157406696, 9.277708380509026) cm-1\n",
      "add 'watson_s' term 'DeltaJ' = 0.0012540081978980272\n",
      "add 'watson_s' term 'DeltaJK' = -0.005767750168017903\n",
      "add 'watson_s' term 'DeltaK' = 0.03246547716687389\n",
      "add 'watson_s' term 'deltaJ' = 0.0005073643980730162\n",
      "add 'watson_s' term 'deltaK' = 0.001369287282070318\n",
      "add 'watson_s' term 'HJ' = 5.222146048784189e-07\n",
      "add 'watson_s' term 'HJK' = -1.4036710690033436e-06\n",
      "add 'watson_s' term 'HKJ' = -1.6995357501622004e-05\n",
      "add 'watson_s' term 'HK' = 0.0001245204107169367\n",
      "add 'watson_s' term 'phiJ' = 2.6003956377048017e-07\n",
      "add 'watson_s' term 'phiJK' = -8.394140455661496e-07\n",
      "add 'watson_s' term 'phiK' = 3.659531688418926e-05\n",
      "solve for J = 3 and symmetry B2\n",
      "build rigid-rotor Hamiltonian from rotational constants, A, B, C = (27.88063093968828, 14.521770157406696, 9.277708380509026) cm-1\n",
      "add 'watson_s' term 'DeltaJ' = 0.0012540081978980272\n",
      "add 'watson_s' term 'DeltaJK' = -0.005767750168017903\n",
      "add 'watson_s' term 'DeltaK' = 0.03246547716687389\n",
      "add 'watson_s' term 'deltaJ' = 0.0005073643980730162\n",
      "add 'watson_s' term 'deltaK' = 0.001369287282070318\n",
      "add 'watson_s' term 'HJ' = 5.222146048784189e-07\n",
      "add 'watson_s' term 'HJK' = -1.4036710690033436e-06\n",
      "add 'watson_s' term 'HKJ' = -1.6995357501622004e-05\n",
      "add 'watson_s' term 'HK' = 0.0001245204107169367\n",
      "add 'watson_s' term 'phiJ' = 2.6003956377048017e-07\n",
      "add 'watson_s' term 'phiJK' = -8.394140455661496e-07\n",
      "add 'watson_s' term 'phiK' = 3.659531688418926e-05\n",
      "solve for J = 4 and symmetry A1\n",
      "build rigid-rotor Hamiltonian from rotational constants, A, B, C = (27.88063093968828, 14.521770157406696, 9.277708380509026) cm-1\n",
      "add 'watson_s' term 'DeltaJ' = 0.0012540081978980272\n",
      "add 'watson_s' term 'DeltaJK' = -0.005767750168017903\n",
      "add 'watson_s' term 'DeltaK' = 0.03246547716687389\n",
      "add 'watson_s' term 'deltaJ' = 0.0005073643980730162\n",
      "add 'watson_s' term 'deltaK' = 0.001369287282070318\n",
      "add 'watson_s' term 'HJ' = 5.222146048784189e-07\n",
      "add 'watson_s' term 'HJK' = -1.4036710690033436e-06\n",
      "add 'watson_s' term 'HKJ' = -1.6995357501622004e-05\n",
      "add 'watson_s' term 'HK' = 0.0001245204107169367\n",
      "add 'watson_s' term 'phiJ' = 2.6003956377048017e-07\n",
      "add 'watson_s' term 'phiJK' = -8.394140455661496e-07\n",
      "add 'watson_s' term 'phiK' = 3.659531688418926e-05\n",
      "solve for J = 4 and symmetry A2\n",
      "build rigid-rotor Hamiltonian from rotational constants, A, B, C = (27.88063093968828, 14.521770157406696, 9.277708380509026) cm-1\n",
      "add 'watson_s' term 'DeltaJ' = 0.0012540081978980272\n",
      "add 'watson_s' term 'DeltaJK' = -0.005767750168017903\n",
      "add 'watson_s' term 'DeltaK' = 0.03246547716687389\n",
      "add 'watson_s' term 'deltaJ' = 0.0005073643980730162\n",
      "add 'watson_s' term 'deltaK' = 0.001369287282070318\n",
      "add 'watson_s' term 'HJ' = 5.222146048784189e-07\n",
      "add 'watson_s' term 'HJK' = -1.4036710690033436e-06\n",
      "add 'watson_s' term 'HKJ' = -1.6995357501622004e-05\n",
      "add 'watson_s' term 'HK' = 0.0001245204107169367\n",
      "add 'watson_s' term 'phiJ' = 2.6003956377048017e-07\n",
      "add 'watson_s' term 'phiJK' = -8.394140455661496e-07\n",
      "add 'watson_s' term 'phiK' = 3.659531688418926e-05\n",
      "solve for J = 4 and symmetry B1\n",
      "build rigid-rotor Hamiltonian from rotational constants, A, B, C = (27.88063093968828, 14.521770157406696, 9.277708380509026) cm-1\n",
      "add 'watson_s' term 'DeltaJ' = 0.0012540081978980272\n",
      "add 'watson_s' term 'DeltaJK' = -0.005767750168017903\n",
      "add 'watson_s' term 'DeltaK' = 0.03246547716687389\n",
      "add 'watson_s' term 'deltaJ' = 0.0005073643980730162\n",
      "add 'watson_s' term 'deltaK' = 0.001369287282070318\n",
      "add 'watson_s' term 'HJ' = 5.222146048784189e-07\n",
      "add 'watson_s' term 'HJK' = -1.4036710690033436e-06\n",
      "add 'watson_s' term 'HKJ' = -1.6995357501622004e-05\n",
      "add 'watson_s' term 'HK' = 0.0001245204107169367\n",
      "add 'watson_s' term 'phiJ' = 2.6003956377048017e-07\n",
      "add 'watson_s' term 'phiJK' = -8.394140455661496e-07\n",
      "add 'watson_s' term 'phiK' = 3.659531688418926e-05\n",
      "solve for J = 4 and symmetry B2\n",
      "build rigid-rotor Hamiltonian from rotational constants, A, B, C = (27.88063093968828, 14.521770157406696, 9.277708380509026) cm-1\n",
      "add 'watson_s' term 'DeltaJ' = 0.0012540081978980272\n",
      "add 'watson_s' term 'DeltaJK' = -0.005767750168017903\n",
      "add 'watson_s' term 'DeltaK' = 0.03246547716687389\n",
      "add 'watson_s' term 'deltaJ' = 0.0005073643980730162\n",
      "add 'watson_s' term 'deltaK' = 0.001369287282070318\n",
      "add 'watson_s' term 'HJ' = 5.222146048784189e-07\n",
      "add 'watson_s' term 'HJK' = -1.4036710690033436e-06\n",
      "add 'watson_s' term 'HKJ' = -1.6995357501622004e-05\n",
      "add 'watson_s' term 'HK' = 0.0001245204107169367\n",
      "add 'watson_s' term 'phiJ' = 2.6003956377048017e-07\n",
      "add 'watson_s' term 'phiJK' = -8.394140455661496e-07\n",
      "add 'watson_s' term 'phiK' = 3.659531688418926e-05\n",
      "solve for J = 5 and symmetry A1\n",
      "build rigid-rotor Hamiltonian from rotational constants, A, B, C = (27.88063093968828, 14.521770157406696, 9.277708380509026) cm-1\n",
      "add 'watson_s' term 'DeltaJ' = 0.0012540081978980272\n",
      "add 'watson_s' term 'DeltaJK' = -0.005767750168017903\n",
      "add 'watson_s' term 'DeltaK' = 0.03246547716687389\n",
      "add 'watson_s' term 'deltaJ' = 0.0005073643980730162\n",
      "add 'watson_s' term 'deltaK' = 0.001369287282070318\n",
      "add 'watson_s' term 'HJ' = 5.222146048784189e-07\n",
      "add 'watson_s' term 'HJK' = -1.4036710690033436e-06\n",
      "add 'watson_s' term 'HKJ' = -1.6995357501622004e-05\n",
      "add 'watson_s' term 'HK' = 0.0001245204107169367\n",
      "add 'watson_s' term 'phiJ' = 2.6003956377048017e-07\n",
      "add 'watson_s' term 'phiJK' = -8.394140455661496e-07\n",
      "add 'watson_s' term 'phiK' = 3.659531688418926e-05\n",
      "solve for J = 5 and symmetry A2\n",
      "build rigid-rotor Hamiltonian from rotational constants, A, B, C = (27.88063093968828, 14.521770157406696, 9.277708380509026) cm-1\n",
      "add 'watson_s' term 'DeltaJ' = 0.0012540081978980272\n",
      "add 'watson_s' term 'DeltaJK' = -0.005767750168017903\n",
      "add 'watson_s' term 'DeltaK' = 0.03246547716687389\n",
      "add 'watson_s' term 'deltaJ' = 0.0005073643980730162\n",
      "add 'watson_s' term 'deltaK' = 0.001369287282070318\n",
      "add 'watson_s' term 'HJ' = 5.222146048784189e-07\n",
      "add 'watson_s' term 'HJK' = -1.4036710690033436e-06\n",
      "add 'watson_s' term 'HKJ' = -1.6995357501622004e-05\n",
      "add 'watson_s' term 'HK' = 0.0001245204107169367\n",
      "add 'watson_s' term 'phiJ' = 2.6003956377048017e-07\n",
      "add 'watson_s' term 'phiJK' = -8.394140455661496e-07\n",
      "add 'watson_s' term 'phiK' = 3.659531688418926e-05\n",
      "solve for J = 5 and symmetry B1\n",
      "build rigid-rotor Hamiltonian from rotational constants, A, B, C = (27.88063093968828, 14.521770157406696, 9.277708380509026) cm-1\n",
      "add 'watson_s' term 'DeltaJ' = 0.0012540081978980272\n",
      "add 'watson_s' term 'DeltaJK' = -0.005767750168017903\n",
      "add 'watson_s' term 'DeltaK' = 0.03246547716687389\n",
      "add 'watson_s' term 'deltaJ' = 0.0005073643980730162\n",
      "add 'watson_s' term 'deltaK' = 0.001369287282070318\n",
      "add 'watson_s' term 'HJ' = 5.222146048784189e-07\n",
      "add 'watson_s' term 'HJK' = -1.4036710690033436e-06\n",
      "add 'watson_s' term 'HKJ' = -1.6995357501622004e-05\n",
      "add 'watson_s' term 'HK' = 0.0001245204107169367\n",
      "add 'watson_s' term 'phiJ' = 2.6003956377048017e-07\n",
      "add 'watson_s' term 'phiJK' = -8.394140455661496e-07\n",
      "add 'watson_s' term 'phiK' = 3.659531688418926e-05\n",
      "solve for J = 5 and symmetry B2\n",
      "build rigid-rotor Hamiltonian from rotational constants, A, B, C = (27.88063093968828, 14.521770157406696, 9.277708380509026) cm-1\n",
      "add 'watson_s' term 'DeltaJ' = 0.0012540081978980272\n",
      "add 'watson_s' term 'DeltaJK' = -0.005767750168017903\n",
      "add 'watson_s' term 'DeltaK' = 0.03246547716687389\n",
      "add 'watson_s' term 'deltaJ' = 0.0005073643980730162\n",
      "add 'watson_s' term 'deltaK' = 0.001369287282070318\n",
      "add 'watson_s' term 'HJ' = 5.222146048784189e-07\n",
      "add 'watson_s' term 'HJK' = -1.4036710690033436e-06\n",
      "add 'watson_s' term 'HKJ' = -1.6995357501622004e-05\n",
      "add 'watson_s' term 'HK' = 0.0001245204107169367\n",
      "add 'watson_s' term 'phiJ' = 2.6003956377048017e-07\n",
      "add 'watson_s' term 'phiJK' = -8.394140455661496e-07\n",
      "add 'watson_s' term 'phiK' = 3.659531688418926e-05\n",
      "\n",
      "J  sym #    energy      J   k  tau  |leading coef|^2\n",
      "0   A1 0     0.000000 ['0' '0' '0' ' 1.000000']\n",
      "1   A2 0    23.794467 ['1' '0' '1' ' 1.000000']\n",
      "1   B1 0    37.130134 ['1' '1' '0' ' 1.000000']\n",
      "1   B2 0    42.378893 ['1' '1' '1' ' 1.000000']\n",
      "2   A1 0    70.072679 ['2' '0' '0' ' 0.980627']\n",
      "2   A1 1   136.182810 ['2' '2' '0' ' 0.980627']\n",
      "2   A2 0   134.902085 ['2' '2' '1' ' 1.000000']\n",
      "2   B1 0    95.215643 ['2' '1' '0' ' 1.000000']\n",
      "2   B2 0    79.457175 ['2' '1' '1' ' 1.000000']\n",
      "3   A1 0   206.302065 ['3' '2' '0' ' 1.000000']\n",
      "3   A2 0   136.643677 ['3' '0' '1' ' 0.921019']\n",
      "3   A2 1   212.275585 ['3' '2' '1' ' 0.921019']\n",
      "3   B1 0   142.123511 ['3' '1' '0' ' 0.994869']\n",
      "3   B1 1   285.245161 ['3' '3' '0' ' 0.994869']\n",
      "3   B2 0   173.469733 ['3' '1' '1' ' 0.991592']\n",
      "3   B2 1   285.452446 ['3' '3' '1' ' 0.991592']\n",
      "4   A1 0   221.642650 ['4' '0' '0' ' 0.832425']\n",
      "4   A1 1   316.133850 ['4' '2' '0' ' 0.826967']\n",
      "4   A1 2   488.224224 ['4' '4' '0' ' 0.993957']\n",
      "4   A2 0   300.307950 ['4' '2' '1' ' 0.994384']\n",
      "4   A2 1   488.195414 ['4' '4' '1' ' 0.994384']\n",
      "4   B1 0   275.665380 ['4' '1' '0' ' 0.960960']\n",
      "4   B1 1   384.022275 ['4' '3' '0' ' 0.960960']\n",
      "4   B2 0   224.390688 ['4' '1' '1' ' 0.982087']\n",
      "4   B2 1   382.626517 ['4' '3' '1' ' 0.982087']\n",
      "5   A1 0   415.960055 ['5' '2' '0' ' 0.979383']\n",
      "5   A1 1   610.397216 ['5' '4' '0' ' 0.979383']\n",
      "5   A2 0   324.320361 ['5' '0' '1' ' 0.744715']\n",
      "5   A2 1   447.265431 ['5' '2' '1' ' 0.723938']\n",
      "5   A2 2   610.649150 ['5' '4' '1' ' 0.975749']\n",
      "5   B1 0   325.575927 ['5' '1' '0' ' 0.961741']\n",
      "5   B1 1   504.181188 ['5' '3' '0' ' 0.956308']\n",
      "5   B1 2   742.362966 ['5' '5' '0' ' 0.994458']\n",
      "5   B2 0   399.565032 ['5' '1' '1' ' 0.890714']\n",
      "5   B2 1   509.346341 ['5' '3' '1' ' 0.885479']\n",
      "5   B2 2   742.366765 ['5' '5' '1' ' 0.994406']\n"
     ]
    }
   ],
   "source": [
    "from richmol.constants import vellgt\n",
    "MHz_to_invcm = 1/vellgt * 1e6\n",
    "\n",
    "# NIST values of rotational constants for H2O\n",
    "\n",
    "water = Molecule()\n",
    "water.ABC = [val * MHz_to_invcm for val in (835840.288, 435351.717, 278138.700)]\n",
    "\n",
    "water.watson = 'watson_a' # or 'watson_s' for S-type\n",
    "\n",
    "water.DeltaJ = 37.59422 * MHz_to_invcm\n",
    "water.DeltaJK = -172.9128 * MHz_to_invcm\n",
    "water.DeltaK = 973.29052 * MHz_to_invcm\n",
    "water.deltaJ = 15.210402 * MHz_to_invcm\n",
    "water.deltaK = 41.0502 * MHz_to_invcm\n",
    "water.HJ = 1.56556e-2 * MHz_to_invcm\n",
    "water.HJK = -4.2081e-2 * MHz_to_invcm\n",
    "water.HKJ = -5.09508e-1 * MHz_to_invcm\n",
    "water.HK = 3.733028 * MHz_to_invcm\n",
    "water.phiJ = 7.79579e-3 * MHz_to_invcm\n",
    "water.phiJK = -2.5165e-2 * MHz_to_invcm\n",
    "water.phiK = 1.0971 * MHz_to_invcm\n",
    "\n",
    "water.sym = \"C2v\"\n",
    "\n",
    "sol = solve(water, Jmin=0, Jmax=5, verbose=True) # set verbose=True to check which attributes of water are used to build the Watson Hamiltonian\n",
    "\n",
    "print(\"\\nJ  sym #    energy      J   k  tau  |leading coef|^2\")\n",
    "for J,sol_J in sol.items():\n",
    "    for symmetry,sol_sym in sol_J.items():\n",
    "        for istate in range(sol_sym.nstates):\n",
    "            print(J, \"%4s\"%symmetry, istate, \"%12.6f\"%sol_sym.enr[istate], sol_sym.assign[istate])"
   ]
  },
  {
   "source": [
    "### Matrix elements of laboratory-frame Cartesian tensor operators"
   ],
   "cell_type": "markdown",
   "metadata": {}
  },
  {
   "source": [
    "Once we have obtained the solutions of the field-free rotational problem (using `solve`), we can compute the matrix elements of various laboratory-frame molecule-field interaction tensors and observables"
   ],
   "cell_type": "markdown",
   "metadata": {}
  },
  {
   "cell_type": "code",
   "execution_count": 46,
   "metadata": {},
   "outputs": [],
   "source": [
    "from richmol.rot.labtens import LabTensor\n",
    "\n",
    "Jmin = 0\n",
    "Jmax = 5\n",
    "water.sym = 'D2'\n",
    "\n",
    "sol = solve(water, Jmin=Jmin, Jmax=Jmax)\n",
    "\n",
    "# expectation values of lab-frame dipole moment operator\n",
    "DIP = LabTensor(water.dip, sol)\n",
    "\n",
    "# expectation values of lab-frame polarizability tensor\n",
    "POL = LabTensor(water.pol, sol)"
   ]
  },
  {
   "cell_type": "code",
   "execution_count": 50,
   "metadata": {
    "tags": []
   },
   "outputs": [
    {
     "output_type": "stream",
     "name": "stdout",
     "text": [
      "[[0.+0.j 0.+0.j 0.+0.j ... 0.+0.j 0.+0.j 0.+0.j]\n [0.+0.j 0.+0.j 0.+0.j ... 0.+0.j 0.+0.j 0.+0.j]\n [0.+0.j 0.+0.j 0.+0.j ... 0.+0.j 0.+0.j 0.+0.j]\n ...\n [0.+0.j 0.+0.j 0.+0.j ... 0.+0.j 0.+0.j 0.+0.j]\n [0.+0.j 0.+0.j 0.+0.j ... 0.+0.j 0.+0.j 0.+0.j]\n [0.+0.j 0.+0.j 0.+0.j ... 0.+0.j 0.+0.j 0.+0.j]]\n"
     ]
    }
   ],
   "source": [
    "dx = DIP.tomat(form='full', cart='x') # add csr, coo format\n",
    "print(dx)"
   ]
  },
  {
   "cell_type": "code",
   "execution_count": null,
   "metadata": {},
   "outputs": [],
   "source": []
  },
  {
   "source": [
    "### Store field-free data in richmol database file"
   ],
   "cell_type": "markdown",
   "metadata": {}
  },
  {
   "cell_type": "code",
   "execution_count": 51,
   "metadata": {},
   "outputs": [],
   "source": [
    "from richmol.rot import rchm # will be moved later from rot to richmol\n",
    "from richmol.rot.molecule import Molecule\n",
    "from richmol.rot.solution import solve, H0Tensor\n",
    "from richmol.rot.labtens import LabTensor\n",
    "from richmol.constants import vellgt\n",
    "\n",
    "MHz_to_invcm = 1/vellgt * 1e6\n",
    "\n",
    "water = Molecule()\n",
    "\n",
    "# Cartesian coordinates of atoms\n",
    "water.XYZ = (\"bohr\",\n",
    "             \"O\",  0.00000000,   0.00000000,   0.12395915,\n",
    "             \"H\",  0.00000000,  -1.43102686,  -0.98366080,\n",
    "             \"H\",  0.00000000,   1.43102686,  -0.98366080)\n",
    "\n",
    "# dipole moment (au)\n",
    "water.dip = [0, 0, -0.7288]\n",
    "\n",
    "# polarizability tensor (au)\n",
    "water.pol = [[9.1369, 0, 0], [0, 9.8701, 0], [0, 0, 9.4486]]\n",
    "\n",
    "water.frame = 'diag(inertia)'\n",
    "\n",
    "water.ABC = [val * MHz_to_invcm for val in (835840.288, 435351.717, 278138.700)]\n",
    "\n",
    "water.sym = \"C2v\"\n",
    "\n",
    "# store molecular data\n",
    "rchm.store('water.h5', water, replace=True, comment=\"This is data for water molecule caluclated at CCSD(T)/aug-cc-pVTZ level of theory\")\n",
    "\n",
    "# solve for J=0..5\n",
    "sol = solve(water, Jmin=0, Jmax=5)\n",
    "\n",
    "# matrix elements of lab-frame dipole moment vector\n",
    "DIP = LabTensor(water.dip, sol)\n",
    "\n",
    "# matrix elements of lab-frame polarizability tensor\n",
    "POL = LabTensor(water.pol, sol)\n",
    "\n",
    "# store fiueld-free solutions\n",
    "#rchm.store('water.h5', H0Tensor(water, sol))\n",
    "\n",
    "# store lab-frame tensors\n",
    "rchm.store('water.h5', DIP, replace=True, comment=\"values are in atomic units\") # to do: to be able to ammend for different pairs of J quanta\n",
    "rchm.store('water.h5', POL, replace=True, comment=\"values are in atomic units\")"
   ]
  },
  {
   "cell_type": "code",
   "execution_count": 52,
   "metadata": {},
   "outputs": [
    {
     "output_type": "stream",
     "name": "stdout",
     "text": [
      "attributes molecule\n\n ABC\n[27.88063094 14.52177016  9.27770838]\n\n comment\nb'This is data for water molecule caluclated at CCSD(T)/aug-cc-pVTZ level of theory'\n\n date\n2021-03-31 15:02:46\n\n dip\n[ 0.     -0.7288  0.    ]\n\n inertia\n[[ 0.61496944 -0.         -0.        ]\n [-0.          1.15588059 -0.        ]\n [-0.         -0.          1.77085002]]\n\n ipas\n[[1. 0. 0.]\n [0. 1. 0.]\n [0. 0. 1.]]\n\n label\n[b'O' b'H' b'H']\n\n mass\n[15.99491462  1.00782503  1.00782503]\n\n mat\n[[15. 16. 14.]\n [18. 19. 17.]\n [12. 13. 11.]]\n\n pol\n[[9.8701 0.     0.    ]\n [0.     9.4486 0.    ]\n [0.     0.     9.1369]]\n\n vec\n[8. 9. 7.]\n\n xyz\n[[ 0.          0.06559636  0.        ]\n [-0.7572668  -0.52053088  0.        ]\n [ 0.7572668  -0.52053088  0.        ]]\n"
     ]
    }
   ],
   "source": [
    "# read molecular data from file\n",
    "mol = rchm.get_molecule('water.h5')\n",
    "\n",
    "print('attributes', mol.__name__)\n",
    "for elem in vars(mol):\n",
    "    if not elem.startswith('__'):\n",
    "        print('\\n', elem)\n",
    "        print(getattr(mol, elem))\n"
   ]
  },
  {
   "cell_type": "code",
   "execution_count": 53,
   "metadata": {},
   "outputs": [
    {
     "output_type": "stream",
     "name": "stdout",
     "text": [
      "list of data groups\nDIP <class 'richmol.rot.rchm.DIP'>\nPOL <class 'richmol.rot.rchm.POL'>\nmolecule <class 'richmol.rot.rchm.molecule'>\nobj <class 'richmol.rot.rchm.obj'>\n\nlist of attributes for POL\nUs\nUx\ncart\ncomment\ndate\nos\nrank\ntens_flat\nJpairs\nsympairs\n\nPOL tensor rank: 2\nPOL tensor list of Cartesian components: ['xx' 'xy' 'xz' 'yx' 'yy' 'yz' 'zx' 'zy' 'zz']\nPOL tensor list of coupled J quanta: [(0.0, 0.0), (0.0, 2.0), (1.0, 1.0), (1.0, 2.0), (1.0, 3.0), (2.0, 0.0), (2.0, 1.0), (2.0, 2.0), (2.0, 3.0), (2.0, 4.0), (3.0, 1.0), (3.0, 2.0), (3.0, 3.0), (3.0, 4.0), (3.0, 5.0), (4.0, 2.0), (4.0, 3.0), (4.0, 4.0), (4.0, 5.0), (5.0, 3.0), (5.0, 4.0), (5.0, 5.0)]\nPOL tensor list of coupled symmetries:\n(J1, J2) = (0.0, 0.0) sym: [('A1', 'A1')]\n(J1, J2) = (0.0, 2.0) sym: [('A1', 'A1'), ('A1', 'A2'), ('A1', 'B1'), ('A1', 'B2')]\n(J1, J2) = (1.0, 1.0) sym: [('A2', 'A2'), ('A2', 'B1'), ('A2', 'B2'), ('B1', 'A2'), ('B1', 'B1'), ('B1', 'B2'), ('B2', 'A2'), ('B2', 'B1'), ('B2', 'B2')]\n(J1, J2) = (1.0, 2.0) sym: [('A2', 'A1'), ('A2', 'A2'), ('A2', 'B1'), ('A2', 'B2'), ('B1', 'A1'), ('B1', 'A2'), ('B1', 'B1'), ('B1', 'B2'), ('B2', 'A1'), ('B2', 'A2'), ('B2', 'B1'), ('B2', 'B2')]\n(J1, J2) = (1.0, 3.0) sym: [('A2', 'A1'), ('A2', 'A2'), ('A2', 'B1'), ('A2', 'B2'), ('B1', 'A1'), ('B1', 'A2'), ('B1', 'B1'), ('B1', 'B2'), ('B2', 'A1'), ('B2', 'A2'), ('B2', 'B1'), ('B2', 'B2')]\n(J1, J2) = (2.0, 0.0) sym: [('A1', 'A1'), ('A2', 'A1'), ('B1', 'A1'), ('B2', 'A1')]\n(J1, J2) = (2.0, 1.0) sym: [('A1', 'A2'), ('A1', 'B1'), ('A1', 'B2'), ('A2', 'A2'), ('A2', 'B1'), ('A2', 'B2'), ('B1', 'A2'), ('B1', 'B1'), ('B1', 'B2'), ('B2', 'A2'), ('B2', 'B1'), ('B2', 'B2')]\n(J1, J2) = (2.0, 2.0) sym: [('A1', 'A1'), ('A1', 'A2'), ('A1', 'B1'), ('A1', 'B2'), ('A2', 'A1'), ('A2', 'A2'), ('A2', 'B1'), ('A2', 'B2'), ('B1', 'A1'), ('B1', 'A2'), ('B1', 'B1'), ('B1', 'B2'), ('B2', 'A1'), ('B2', 'A2'), ('B2', 'B1'), ('B2', 'B2')]\n(J1, J2) = (2.0, 3.0) sym: [('A1', 'A1'), ('A1', 'A2'), ('A1', 'B1'), ('A1', 'B2'), ('A2', 'A1'), ('A2', 'A2'), ('A2', 'B1'), ('A2', 'B2'), ('B1', 'A1'), ('B1', 'A2'), ('B1', 'B1'), ('B1', 'B2'), ('B2', 'A1'), ('B2', 'A2'), ('B2', 'B1'), ('B2', 'B2')]\n(J1, J2) = (2.0, 4.0) sym: [('A1', 'A1'), ('A1', 'A2'), ('A1', 'B1'), ('A1', 'B2'), ('A2', 'A1'), ('A2', 'A2'), ('A2', 'B1'), ('A2', 'B2'), ('B1', 'A1'), ('B1', 'A2'), ('B1', 'B1'), ('B1', 'B2'), ('B2', 'A1'), ('B2', 'A2'), ('B2', 'B1'), ('B2', 'B2')]\n(J1, J2) = (3.0, 1.0) sym: [('A1', 'A2'), ('A1', 'B1'), ('A1', 'B2'), ('A2', 'A2'), ('A2', 'B1'), ('A2', 'B2'), ('B1', 'A2'), ('B1', 'B1'), ('B1', 'B2'), ('B2', 'A2'), ('B2', 'B1'), ('B2', 'B2')]\n(J1, J2) = (3.0, 2.0) sym: [('A1', 'A1'), ('A1', 'A2'), ('A1', 'B1'), ('A1', 'B2'), ('A2', 'A1'), ('A2', 'A2'), ('A2', 'B1'), ('A2', 'B2'), ('B1', 'A1'), ('B1', 'A2'), ('B1', 'B1'), ('B1', 'B2'), ('B2', 'A1'), ('B2', 'A2'), ('B2', 'B1'), ('B2', 'B2')]\n(J1, J2) = (3.0, 3.0) sym: [('A1', 'A1'), ('A1', 'A2'), ('A1', 'B1'), ('A1', 'B2'), ('A2', 'A1'), ('A2', 'A2'), ('A2', 'B1'), ('A2', 'B2'), ('B1', 'A1'), ('B1', 'A2'), ('B1', 'B1'), ('B1', 'B2'), ('B2', 'A1'), ('B2', 'A2'), ('B2', 'B1'), ('B2', 'B2')]\n(J1, J2) = (3.0, 4.0) sym: [('A1', 'A1'), ('A1', 'A2'), ('A1', 'B1'), ('A1', 'B2'), ('A2', 'A1'), ('A2', 'A2'), ('A2', 'B1'), ('A2', 'B2'), ('B1', 'A1'), ('B1', 'A2'), ('B1', 'B1'), ('B1', 'B2'), ('B2', 'A1'), ('B2', 'A2'), ('B2', 'B1'), ('B2', 'B2')]\n(J1, J2) = (3.0, 5.0) sym: [('A1', 'A1'), ('A1', 'A2'), ('A1', 'B1'), ('A1', 'B2'), ('A2', 'A1'), ('A2', 'A2'), ('A2', 'B1'), ('A2', 'B2'), ('B1', 'A1'), ('B1', 'A2'), ('B1', 'B1'), ('B1', 'B2'), ('B2', 'A1'), ('B2', 'A2'), ('B2', 'B1'), ('B2', 'B2')]\n(J1, J2) = (4.0, 2.0) sym: [('A1', 'A1'), ('A1', 'A2'), ('A1', 'B1'), ('A1', 'B2'), ('A2', 'A1'), ('A2', 'A2'), ('A2', 'B1'), ('A2', 'B2'), ('B1', 'A1'), ('B1', 'A2'), ('B1', 'B1'), ('B1', 'B2'), ('B2', 'A1'), ('B2', 'A2'), ('B2', 'B1'), ('B2', 'B2')]\n(J1, J2) = (4.0, 3.0) sym: [('A1', 'A1'), ('A1', 'A2'), ('A1', 'B1'), ('A1', 'B2'), ('A2', 'A1'), ('A2', 'A2'), ('A2', 'B1'), ('A2', 'B2'), ('B1', 'A1'), ('B1', 'A2'), ('B1', 'B1'), ('B1', 'B2'), ('B2', 'A1'), ('B2', 'A2'), ('B2', 'B1'), ('B2', 'B2')]\n(J1, J2) = (4.0, 4.0) sym: [('A1', 'A1'), ('A1', 'A2'), ('A1', 'B1'), ('A1', 'B2'), ('A2', 'A1'), ('A2', 'A2'), ('A2', 'B1'), ('A2', 'B2'), ('B1', 'A1'), ('B1', 'A2'), ('B1', 'B1'), ('B1', 'B2'), ('B2', 'A1'), ('B2', 'A2'), ('B2', 'B1'), ('B2', 'B2')]\n(J1, J2) = (4.0, 5.0) sym: [('A1', 'A1'), ('A1', 'A2'), ('A1', 'B1'), ('A1', 'B2'), ('A2', 'A1'), ('A2', 'A2'), ('A2', 'B1'), ('A2', 'B2'), ('B1', 'A1'), ('B1', 'A2'), ('B1', 'B1'), ('B1', 'B2'), ('B2', 'A1'), ('B2', 'A2'), ('B2', 'B1'), ('B2', 'B2')]\n(J1, J2) = (5.0, 3.0) sym: [('A1', 'A1'), ('A1', 'A2'), ('A1', 'B1'), ('A1', 'B2'), ('A2', 'A1'), ('A2', 'A2'), ('A2', 'B1'), ('A2', 'B2'), ('B1', 'A1'), ('B1', 'A2'), ('B1', 'B1'), ('B1', 'B2'), ('B2', 'A1'), ('B2', 'A2'), ('B2', 'B1'), ('B2', 'B2')]\n(J1, J2) = (5.0, 4.0) sym: [('A1', 'A1'), ('A1', 'A2'), ('A1', 'B1'), ('A1', 'B2'), ('A2', 'A1'), ('A2', 'A2'), ('A2', 'B1'), ('A2', 'B2'), ('B1', 'A1'), ('B1', 'A2'), ('B1', 'B1'), ('B1', 'B2'), ('B2', 'A1'), ('B2', 'A2'), ('B2', 'B1'), ('B2', 'B2')]\n(J1, J2) = (5.0, 5.0) sym: [('A1', 'A1'), ('A1', 'A2'), ('A1', 'B1'), ('A1', 'B2'), ('A2', 'A1'), ('A2', 'A2'), ('A2', 'B1'), ('A2', 'B2'), ('B1', 'A1'), ('B1', 'A2'), ('B1', 'B1'), ('B1', 'B2'), ('B2', 'A1'), ('B2', 'A2'), ('B2', 'B1'), ('B2', 'B2')]\n"
     ]
    }
   ],
   "source": [
    "# inspect data groups in file\n",
    "data = rchm.inspect_file('water.h5')\n",
    "\n",
    "print(\"list of data groups\")\n",
    "for key, val in data.items():\n",
    "    print(key, val)\n",
    "\n",
    "print(\"\\nlist of attributes for POL\")\n",
    "for elem in vars(data['POL']):\n",
    "    if not elem.startswith('__'):\n",
    "        print(elem)\n",
    "\n",
    "print(\"\\nPOL tensor rank:\", data['POL'].rank)\n",
    "print(\"POL tensor list of Cartesian components:\", data['POL'].cart)\n",
    "print(\"POL tensor list of coupled J quanta:\", data['POL'].Jpairs)\n",
    "print(\"POL tensor list of coupled symmetries:\")\n",
    "for key, val in data['POL'].sympairs.items():\n",
    "    print(\"(J1, J2) =\", key, \"sym:\", val)\n"
   ]
  },
  {
   "cell_type": "code",
   "execution_count": null,
   "metadata": {},
   "outputs": [],
   "source": []
  }
 ],
 "metadata": {
  "kernelspec": {
   "display_name": "Python 3",
   "language": "python",
   "name": "python3"
  },
  "language_info": {
   "codemirror_mode": {
    "name": "ipython",
    "version": 3
   },
   "file_extension": ".py",
   "mimetype": "text/x-python",
   "name": "python",
   "nbconvert_exporter": "python",
   "pygments_lexer": "ipython3",
   "version": "3.6.9"
  }
 },
 "nbformat": 4,
 "nbformat_minor": 4
}