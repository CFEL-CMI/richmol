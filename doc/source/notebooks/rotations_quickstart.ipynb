{
 "cells": [
  {
   "cell_type": "markdown",
   "metadata": {},
   "source": [
    "# Rotational dynamics Quickstart"
   ]
  },
  {
   "cell_type": "markdown",
   "metadata": {},
   "source": [
    "Calculation of rotational (and generally ro-vibrational) dynamics proceeds in two steps. At the first step, we obtain molecular field-free rotational energies and wave functions, which we use as basis for representing the time-dependent wavepacket in the presence of time-varying field or field-dressed states in the case of static field. The interaction of the molecule with field is described in terms of multipole moments, such as the permanent dipole moment, polarizability, hyper-polarizability, quadrupole moment, etc. The matrix elements of these interaction tensors, defined with respect to the laboratory frame, are computed in the basis of the field-free wave functions. At the second step, we solve the time-dependent problem with applied external electric and/or magnetic fields using the matrix elements of interaction tensors to build the time-dependent Hamiltonian."
   ]
  },
  {
   "cell_type": "markdown",
   "metadata": {},
   "source": [
    "## Molecular field-free rotational solutions"
   ]
  },
  {
   "cell_type": "code",
   "execution_count": 1,
   "metadata": {},
   "outputs": [
    {
     "name": "stderr",
     "output_type": "stream",
     "text": [
      "WARNING:absl:No GPU/TPU found, falling back to CPU. (Set TF_CPP_MIN_LOG_LEVEL=0 and rerun for more info.)\n"
     ]
    }
   ],
   "source": [
    "from richmol.rot import Molecule, solve, LabTensor"
   ]
  },
  {
   "cell_type": "markdown",
   "metadata": {},
   "source": [
    "Here is an example for water molecule, using the data obtained from a quantum chemical calculation"
   ]
  },
  {
   "cell_type": "code",
   "execution_count": 2,
   "metadata": {},
   "outputs": [],
   "source": [
    "water = Molecule()\n",
    "\n",
    "# Cartesian coordinates of atoms\n",
    "water.XYZ = (\"bohr\",\n",
    "             \"O\",  0.00000000,   0.00000000,   0.12395915,\n",
    "             \"H\",  0.00000000,  -1.43102686,  -0.98366080,\n",
    "             \"H\",  0.00000000,   1.43102686,  -0.98366080)\n",
    "\n",
    "# choose frame of principal axes of inertia\n",
    "water.frame = \"ipas\"\n",
    "\n",
    "# molecular-frame dipole moment (au)\n",
    "water.dip = [0, 0, -0.7288]\n",
    "\n",
    "# molecular-frame polarizability tensor (au)\n",
    "water.pol = [[9.1369, 0, 0], [0, 9.8701, 0], [0, 0, 9.4486]]\n",
    "\n",
    "# symmetry group\n",
    "water.sym = \"D2\"\n",
    "\n",
    "# rotational solutions for J=0..5\n",
    "Jmax = 5\n",
    "sol = solve(water, Jmin=0, Jmax=Jmax)\n",
    "\n",
    "# laboratory-frame dipole moment operator\n",
    "dip = LabTensor(water.dip, sol, thresh=1e-12) # neglect matrix elements smaller than `thresh`\n",
    "\n",
    "# laboratory-frame polarizability tensor\n",
    "pol = LabTensor(water.pol, sol, thresh=1e-12)\n",
    "\n",
    "# field-free Hamiltonian\n",
    "h0 = LabTensor(water, sol, thresh=1e-12)"
   ]
  },
  {
   "cell_type": "markdown",
   "metadata": {},
   "source": [
    "Here, `water.XYZ` is used to define molecular geometry. By default, calculations are carried out for the main isotopologue. To specify a non-standard isotope, put the corresponding isotope number next to the atom label, for example, `\"O18\"` for $^{18}O$ or `\"H2\"` for deuterium. The properties `water.dip` and `water.pol` determine dipole moment and polarizability, respectively, defined with respect to the same frame as Cartesian coordinates of atoms in `water.XYZ`. The orientation of molecular axes wrt molecule is determined by `water.frame=\"ipas\"`, in the present case we choose the inertial principal axes system. The molecular symmetry group is specified in `water.sym=\"D2\"`, here we choose rotational symmetry group. The variational solutions are obtained using `solve` function for a range of $J$ quanta from `Jmin` to `Jmax`. It outputs a dictionary type object `sol[J][sym]` for different values of $J$ and different symmetries. Finally, `LabTensor` computes matrix elements of laboratory-frame dipole moment and polarizability tensors in the basis `sol`. When `LabTensor` is applied to a molecule object, i.e. `water` in this case, it converts the field-free solutions `sol` into the same form as a laboratory-frame tensor, which is convenient for building the total molecule-field interaction Hamiltonian."
   ]
  },
  {
   "cell_type": "markdown",
   "metadata": {},
   "source": [
    "The field-free rotational energies and wave functions are contained in the dictionary object `sol[J][sym]` for different values of quantum number $J$ (int) and different symmetries (str) of the $D_2$ rotational group (`water.sym=\"D2\"`). The rotational energies and assignments (by the $J, k, \\tau$ quantum numbers) can be printed out as following"
   ]
  },
  {
   "cell_type": "code",
   "execution_count": 3,
   "metadata": {},
   "outputs": [
    {
     "name": "stdout",
     "output_type": "stream",
     "text": [
      "J  sym #    energy      J   k  tau  |leading coef|^2\n",
      "0    A 0     0.000000 ['0' '0' '0' ' 1.000000']\n",
      "1   B1 0    41.996372 ['1' '0' '1' ' 1.000000']\n",
      "1   B2 0    36.931654 ['1' '1' '0' ' 1.000000']\n",
      "1   B3 0    24.103743 ['1' '1' '1' ' 1.000000']\n",
      "2    A 0    71.083285 ['2' '2' '0' ' 0.859287']\n",
      "2    A 1   134.980252 ['2' '0' '0' ' 0.859287']\n",
      "2   B1 0    80.074422 ['2' '2' '1' ' 1.000000']\n",
      "2   B2 0    95.268576 ['2' '1' '0' ' 1.000000']\n",
      "2   B3 0   133.752307 ['2' '1' '1' ' 1.000000']\n",
      "3    A 0   206.063537 ['3' '2' '0' ' 1.000000']\n",
      "3   B1 0   174.290919 ['3' '2' '1' ' 0.709733']\n",
      "3   B1 1   283.750848 ['3' '0' '1' ' 0.709733']\n",
      "3   B2 0   144.095391 ['3' '3' '0' ' 0.967197']\n",
      "3   B2 1   283.558067 ['3' '1' '0' ' 0.967197']\n",
      "3   B3 0   138.894101 ['3' '3' '1' ' 0.865893']\n",
      "3   B3 1   211.791894 ['3' '1' '1' ' 0.865893']\n",
      "4    A 0   225.839342 ['4' '4' '0' ' 0.897851']\n",
      "4    A 1   316.682576 ['4' '2' '0' ' 0.534048']\n",
      "4    A 2   487.795766 ['4' '0' '0' ' 0.612490']\n",
      "4   B1 0   228.396486 ['4' '4' '1' ' 0.948500']\n",
      "4   B1 1   381.957482 ['4' '2' '1' ' 0.948500']\n",
      "4   B2 0   277.742376 ['4' '3' '0' ' 0.631211']\n",
      "4   B2 1   383.258773 ['4' '1' '0' ' 0.631211']\n",
      "4   B3 0   301.509448 ['4' '3' '1' ' 0.918683']\n",
      "4   B3 1   487.770805 ['4' '1' '1' ' 0.918683']\n",
      "5    A 0   419.313391 ['5' '4' '0' ' 0.859287']\n",
      "5    A 1   611.004294 ['5' '2' '0' ' 0.859287']\n",
      "5   B1 0   403.603021 ['5' '4' '1' ' 0.645844']\n",
      "5   B1 1   509.913211 ['5' '0' '1' ' 0.363766']\n",
      "5   B1 2   746.747028 ['5' '0' '1' ' 0.546915']\n",
      "5   B2 0   332.465633 ['5' '5' '0' ' 0.941152']\n",
      "5   B2 1   505.082745 ['5' '3' '0' ' 0.814480']\n",
      "5   B2 2   746.744110 ['5' '1' '0' ' 0.869201']\n",
      "5   B3 0   331.342554 ['5' '5' '1' ' 0.919955']\n",
      "5   B3 1   449.307570 ['5' '1' '1' ' 0.527404']\n",
      "5   B3 2   611.223709 ['5' '3' '1' ' 0.526614']\n"
     ]
    }
   ],
   "source": [
    "print(\"J  sym #    energy      J   k  tau  |leading coef|^2\")\n",
    "for J in sol.keys():\n",
    "    for sym in sol[J].keys():\n",
    "        for i in range(sol[J][sym].nstates):\n",
    "            print(J, \"%4s\"%sym, i, \"%12.6f\"%sol[J][sym].enr[i], sol[J][sym].assign[i])"
   ]
  },
  {
   "cell_type": "markdown",
   "metadata": {},
   "source": [
    "Here, $k$ is the quantum number of the rotational angular momentum projection onto the molecular $z$ axis, $\\tau$ is rotational parity, defined as $(-1)^\\tau$, and coefficient corresponds to the leading symmetric-top function in the wave function expansion. We can print second and third (and more) leading contributions by setting `sol[J][sym].assign_nprim = 3` for selected $J$ and symmetry."
   ]
  },
  {
   "cell_type": "markdown",
   "metadata": {},
   "source": [
    "The matrix elements of laboratory-frame tensors in the basis of field-free rotational solutions can be retrieved in dense or sparse formats using `tomat` method, for example"
   ]
  },
  {
   "cell_type": "code",
   "execution_count": 4,
   "metadata": {},
   "outputs": [
    {
     "name": "stdout",
     "output_type": "stream",
     "text": [
      "matrix dimensions: (286, 286)\n",
      "dipole X:   (0, 4)\t(-9.739787996057844e-35-0.2975313540900633j)\n",
      "  (0, 6)\t(9.739787996057844e-35+0.2975313540900633j)\n",
      "  (1, 8)\t(-8.434903832060798e-35-0.25766971106437786j)\n",
      "  (1, 30)\t(1.3610889671164236e-34+0.2822630262715965j)\n",
      "  (1, 32)\t(-5.55662243994505e-35-0.11523339793653574j)\n",
      "  (2, 7)\t(-8.434903832060798e-35-0.25766971106437786j)\n",
      "  (2, 9)\t(-8.434903832060798e-35-0.25766971106437786j)\n",
      "  (2, 31)\t(9.624352384462173e-35+0.19959009995488255j)\n",
      "  (2, 33)\t(-9.624352384462173e-35-0.19959009995488255j)\n",
      "  (3, 8)\t(-8.434903832060798e-35-0.25766971106437786j)\n",
      "  (3, 32)\t(5.55662243994505e-35+0.11523339793653574j)\n",
      "  (3, 34)\t(-1.3610889671164236e-34-0.2822630262715965j)\n",
      "  (4, 0)\t(-9.739787996057844e-35+0.2975313540900633j)\n",
      "  (4, 10)\t(3.774036515276408e-33+0.20052055607190467j)\n",
      "  (4, 11)\t(1.887018257638204e-33+0.25694628736880804j)\n",
      "  (4, 14)\t(-1.5407439555097885e-33-0.08186217421921828j)\n",
      "  (4, 15)\t(-7.7037197775489426e-34-0.10489788255935238j)\n",
      "  (5, 12)\t(2.668646812397596e-33+0.14178944496574117j)\n",
      "  (5, 13)\t(1.334323406198798e-33+0.18168846219919157j)\n",
      "  (5, 16)\t(-2.668646812397596e-33-0.14178944496574117j)\n",
      "  (5, 17)\t(-1.334323406198798e-33-0.18168846219919157j)\n",
      "  (6, 0)\t(9.739787996057844e-35-0.2975313540900633j)\n",
      "  (6, 14)\t(1.5407439555097885e-33+0.08186217421921828j)\n",
      "  (6, 15)\t(7.7037197775489426e-34+0.10489788255935238j)\n",
      "  (6, 18)\t(-3.774036515276408e-33-0.20052055607190467j)\n",
      "  :\t:\n",
      "  (281, 218)\t(4.092359016461902e-34-0.11790707114366855j)\n",
      "  (281, 219)\t(2.7872077398459563e-33+0.002715814400525685j)\n",
      "  (282, 125)\t(1.725106954595315e-33-0.009616951979301387j)\n",
      "  (282, 126)\t(7.76059936224008e-34+0.25047611779505286j)\n",
      "  (282, 211)\t(-5.8843163600120894e-34-0.015243232013320441j)\n",
      "  (282, 212)\t(1.7674080268623158e-33+0.12240087289752385j)\n",
      "  (282, 213)\t(8.915633013702843e-35+0.0893487262800264j)\n",
      "  (282, 217)\t(-4.385910460700387e-34-0.011361634326195164j)\n",
      "  (282, 218)\t(1.3173481640143044e-33+0.09123222410139167j)\n",
      "  (282, 219)\t(6.645320493693625e-35+0.06659660855505366j)\n",
      "  (283, 127)\t(1.1901499371844318e-32-0.3077040054890197j)\n",
      "  (283, 128)\t(-4.343813211512369e-33+0.016409267103435588j)\n",
      "  (283, 214)\t(-1.6121605803088443e-33+0.0872890316266411j)\n",
      "  (283, 215)\t(7.447083925841683e-34-0.015906470987632797j)\n",
      "  (283, 216)\t(-3.461832680173917e-34+0.00041897802440189996j)\n",
      "  (284, 127)\t(4.198996431039597e-36-0.0955090392948147j)\n",
      "  (284, 128)\t(-8.814084036232769e-34+0.10263425886319406j)\n",
      "  (284, 214)\t(-7.743282799110597e-34-0.13026893601732828j)\n",
      "  (284, 215)\t(4.0923590164619015e-34-0.11790707114366854j)\n",
      "  (284, 216)\t(2.787207739845956e-33+0.0027158144005256847j)\n",
      "  (285, 127)\t(1.928728209466384e-33-0.010752079181034527j)\n",
      "  (285, 128)\t(8.676613860055167e-34+0.2800408130649915j)\n",
      "  (285, 214)\t(-4.385910460700386e-34-0.011361634326195164j)\n",
      "  (285, 215)\t(1.3173481640143042e-33+0.09123222410139167j)\n",
      "  (285, 216)\t(6.645320493693624e-35+0.06659660855505364j)\n",
      "\n",
      "polarizability XZ:   (0, 12)\t(-0.09755930791281402+1.8057681046450725e-17j)\n",
      "  (0, 13)\t(0.06342085177268478-1.1738844170858955e-17j)\n",
      "  (0, 16)\t(0.09755930791281404-2.7656900498342933e-17j)\n",
      "  (0, 17)\t(-0.06342085177268479+1.797905524878078e-17j)\n",
      "  (1, 2)\t(-0.07388558756618278+2.094568306496896e-17j)\n",
      "  (1, 20)\t(0.05441541601421423-1.0071988490044882e-17j)\n",
      "  (1, 22)\t(-0.06664500168804863+1.8893063305097118e-17j)\n",
      "  (1, 44)\t(-0.08632246206263056+1.5977803865361223e-17j)\n",
      "  (1, 45)\t(0.04962000720348973-9.184385198836739e-18j)\n",
      "  (1, 48)\t(0.04728075969108671-1.3403531597733845e-17j)\n",
      "  (1, 49)\t(-0.02717799724892017+7.704638150255837e-18j)\n",
      "  (2, 1)\t(-0.07388558756618274+1.3675808108356735e-17j)\n",
      "  (2, 3)\t(0.07388558756618276-2.0945683064968953e-17j)\n",
      "  (2, 21)\t(-0.038477509664737924+7.121971361343592e-18j)\n",
      "  (2, 23)\t(-0.03847750966473793+1.0907915185014462e-17j)\n",
      "  (2, 46)\t(-0.07720915726287547+1.4290982229642637e-17j)\n",
      "  (2, 47)\t(0.044381483660412925-8.21476385445675e-18j)\n",
      "  (2, 50)\t(0.07720915726287549-2.1887875443812853e-17j)\n",
      "  (2, 51)\t(-0.04438148366041293+1.2581621413938423e-17j)\n",
      "  (3, 2)\t(0.07388558756618277-1.3675808108356743e-17j)\n",
      "  (3, 22)\t(-0.06664500168804863+1.2335616247897587e-17j)\n",
      "  (3, 24)\t(0.054415416014214235-1.5426121591862876e-17j)\n",
      "  (3, 48)\t(-0.0472807596910867+8.75140359645158e-18j)\n",
      "  (3, 49)\t(0.027177997248920168-5.030494950219453e-18j)\n",
      "  (3, 52)\t(0.08632246206263058-2.447138868770695e-17j)\n",
      "  :\t:\n",
      "  (282, 82)\t(-0.005594986726938355+1.0356006816332482e-18j)\n",
      "  (282, 83)\t(0.03995640789989996-7.395707135018623e-18j)\n",
      "  (282, 161)\t(-0.014938631080207588+2.7650568775873082e-18j)\n",
      "  (282, 162)\t(0.04829207241148299-8.938591912295875e-18j)\n",
      "  (282, 277)\t(-0.002163831826599701+4.005131421987464e-19j)\n",
      "  (282, 278)\t(-0.008149889663058053+1.5084988941371748e-18j)\n",
      "  (282, 279)\t(0.04828854114931652-8.937938295462611e-18j)\n",
      "  (282, 283)\t(-0.0020736321669233442+5.878499933805838e-19j)\n",
      "  (282, 284)\t(-0.007810160269594571+2.214087308258947e-18j)\n",
      "  (282, 285)\t(0.046275625947500384-1.3118588166618726e-17j)\n",
      "  (283, 163)\t(-0.015488546540404154+2.866843146834073e-18j)\n",
      "  (283, 164)\t(-0.00015297646330733158+2.8315085880750557e-20j)\n",
      "  (283, 280)\t(-0.09752217726834075+1.805080837228675e-17j)\n",
      "  (283, 281)\t(-0.008152270401529797+1.508939555483566e-18j)\n",
      "  (283, 282)\t(-0.0020736321669233386+3.8381769078790187e-19j)\n",
      "  (284, 163)\t(-0.09432175240337505+1.745842766909103e-17j)\n",
      "  (284, 164)\t(0.0015139781134612853-2.8022886251533466e-19j)\n",
      "  (284, 280)\t(-0.008152270401529806+1.5089395554835656e-18j)\n",
      "  (284, 281)\t(-0.018974256644475697+3.512028548681794e-18j)\n",
      "  (284, 282)\t(-0.007810160269594571+1.4456168876888493e-18j)\n",
      "  (285, 163)\t(-0.03340379458613528+6.182855139938536e-18j)\n",
      "  (285, 164)\t(0.10798435668641816-1.9987299139023414e-17j)\n",
      "  (285, 280)\t(-0.0020736321669233442+3.838176907879013e-19j)\n",
      "  (285, 281)\t(-0.007810160269594571+1.4456168876888493e-18j)\n",
      "  (285, 282)\t(0.046275625947500384-8.565358974579855e-18j)\n",
      "\n",
      "field-free Hamiltonian:   (1, 1)\t(41.996371682354464-1.0413888945031573e-48j)\n",
      "  (2, 2)\t(41.996371682354464-1.0413888945031573e-48j)\n",
      "  (3, 3)\t(41.996371682354464-1.0413888945031573e-48j)\n",
      "  (4, 4)\t(36.93165361155496+2.8401161870723716e-32j)\n",
      "  (5, 5)\t(36.93165361155496+2.8401161870723716e-32j)\n",
      "  (6, 6)\t(36.93165361155496+2.8401161870723716e-32j)\n",
      "  (7, 7)\t(24.103743154821103+3.2964703713189847e-32j)\n",
      "  (8, 8)\t(24.103743154821103+3.2964703713189847e-32j)\n",
      "  (9, 9)\t(24.103743154821103+3.2964703713189847e-32j)\n",
      "  (10, 10)\t(71.0832845583496-1.2106702985004045e-30j)\n",
      "  (10, 11)\t0j\n",
      "  (11, 10)\t0j\n",
      "  (11, 11)\t(134.98025233911153+4.1322080999273885e-32j)\n",
      "  (12, 12)\t(71.0832845583496-1.2106702985004045e-30j)\n",
      "  (12, 13)\t0j\n",
      "  (13, 12)\t0j\n",
      "  (13, 13)\t(134.98025233911153+4.1322080999273885e-32j)\n",
      "  (14, 14)\t(71.0832845583496-1.2106702985004045e-30j)\n",
      "  (14, 15)\t0j\n",
      "  (15, 14)\t0j\n",
      "  (15, 15)\t(134.98025233911153+4.1322080999273885e-32j)\n",
      "  (16, 16)\t(71.0832845583496-1.2106702985004045e-30j)\n",
      "  (16, 17)\t0j\n",
      "  (17, 16)\t0j\n",
      "  (17, 17)\t(134.98025233911153+4.1322080999273885e-32j)\n",
      "  :\t:\n",
      "  (261, 261)\t(611.2237086086233-2.2968929053986172e-30j)\n",
      "  (262, 262)\t(331.34255364752323-6.923451621833251e-30j)\n",
      "  (263, 263)\t(449.3075695534758+1.9264598480804652e-30j)\n",
      "  (264, 264)\t(611.2237086086233-2.2968929053986172e-30j)\n",
      "  (265, 265)\t(331.34255364752323-6.923451621833251e-30j)\n",
      "  (266, 266)\t(449.3075695534758+1.9264598480804652e-30j)\n",
      "  (267, 267)\t(611.2237086086233-2.2968929053986172e-30j)\n",
      "  (268, 268)\t(331.34255364752323-6.923451621833251e-30j)\n",
      "  (269, 269)\t(449.3075695534758+1.9264598480804652e-30j)\n",
      "  (270, 270)\t(611.2237086086233-2.2968929053986172e-30j)\n",
      "  (271, 271)\t(331.34255364752323-6.923451621833251e-30j)\n",
      "  (272, 272)\t(449.3075695534758+1.9264598480804652e-30j)\n",
      "  (273, 273)\t(611.2237086086233-2.2968929053986172e-30j)\n",
      "  (274, 274)\t(331.34255364752323-6.923451621833251e-30j)\n",
      "  (275, 275)\t(449.3075695534758+1.9264598480804652e-30j)\n",
      "  (276, 276)\t(611.2237086086233-2.2968929053986172e-30j)\n",
      "  (277, 277)\t(331.34255364752323-6.923451621833251e-30j)\n",
      "  (278, 278)\t(449.3075695534758+1.9264598480804652e-30j)\n",
      "  (279, 279)\t(611.2237086086233-2.2968929053986172e-30j)\n",
      "  (280, 280)\t(331.34255364752323-6.923451621833251e-30j)\n",
      "  (281, 281)\t(449.3075695534758+1.9264598480804652e-30j)\n",
      "  (282, 282)\t(611.2237086086233-2.2968929053986172e-30j)\n",
      "  (283, 283)\t(331.34255364752323-6.923451621833251e-30j)\n",
      "  (284, 284)\t(449.3075695534758+1.9264598480804652e-30j)\n",
      "  (285, 285)\t(611.2237086086233-2.2968929053986172e-30j)\n"
     ]
    }
   ],
   "source": [
    "# X-component of dipole moment\n",
    "mu_x = dip.tomat(form=\"full\", cart=\"x\")\n",
    "\n",
    "# XZ-component of polarizability\n",
    "alpha_xz = pol.tomat(form=\"full\", cart=\"xz\")\n",
    "\n",
    "# field-free Hamiltonian\n",
    "h0mat = h0.tomat(form=\"full\", cart=\"0\")\n",
    "\n",
    "print(\"matrix dimensions:\", h0mat.shape)\n",
    "print(\"dipole X:\", mu_x)\n",
    "print(\"\\npolarizability XZ:\", alpha_xz)\n",
    "print(\"\\nfield-free Hamiltonian:\", h0mat)"
   ]
  },
  {
   "cell_type": "markdown",
   "metadata": {},
   "source": [
    "B default, the basis of field-free rotational solutions is spanned by $J$ ranging from `Jmin` to `Jmax` (in `solve`), $m=-J..J$, $k=0..J$, and $\\tau=0,1$. The assignment of basis states by symmetric-top functions can be obtained using `assign` method"
   ]
  },
  {
   "cell_type": "code",
   "execution_count": 5,
   "metadata": {},
   "outputs": [
    {
     "name": "stdout",
     "output_type": "stream",
     "text": [
      "0 J = 0.0 , sym = A , m = 0 , k = ('0 0 0  1.000000', 0.0)\n",
      "1 J = 1.0 , sym = B1 , m = -1 , k = ('1 0 1  1.000000', 41.996371682354464)\n",
      "2 J = 1.0 , sym = B1 , m = 0 , k = ('1 0 1  1.000000', 41.996371682354464)\n",
      "3 J = 1.0 , sym = B1 , m = 1 , k = ('1 0 1  1.000000', 41.996371682354464)\n",
      "4 J = 1.0 , sym = B2 , m = -1 , k = ('1 1 0  1.000000', 36.93165361155496)\n",
      "5 J = 1.0 , sym = B2 , m = 0 , k = ('1 1 0  1.000000', 36.93165361155496)\n",
      "6 J = 1.0 , sym = B2 , m = 1 , k = ('1 1 0  1.000000', 36.93165361155496)\n",
      "7 J = 1.0 , sym = B3 , m = -1 , k = ('1 1 1  1.000000', 24.103743154821103)\n",
      "8 J = 1.0 , sym = B3 , m = 0 , k = ('1 1 1  1.000000', 24.103743154821103)\n",
      "9 J = 1.0 , sym = B3 , m = 1 , k = ('1 1 1  1.000000', 24.103743154821103)\n",
      "10 J = 2.0 , sym = A , m = -2 , k = ('2 2 0  0.859287', 71.08328455834958)\n",
      "11 J = 2.0 , sym = A , m = -2 , k = ('2 0 0  0.859287', 134.98025233911153)\n",
      "12 J = 2.0 , sym = A , m = -1 , k = ('2 2 0  0.859287', 71.08328455834958)\n",
      "13 J = 2.0 , sym = A , m = -1 , k = ('2 0 0  0.859287', 134.98025233911153)\n",
      "14 J = 2.0 , sym = A , m = 0 , k = ('2 2 0  0.859287', 71.08328455834958)\n",
      "15 J = 2.0 , sym = A , m = 0 , k = ('2 0 0  0.859287', 134.98025233911153)\n",
      "16 J = 2.0 , sym = A , m = 1 , k = ('2 2 0  0.859287', 71.08328455834958)\n",
      "17 J = 2.0 , sym = A , m = 1 , k = ('2 0 0  0.859287', 134.98025233911153)\n",
      "18 J = 2.0 , sym = A , m = 2 , k = ('2 2 0  0.859287', 71.08328455834958)\n",
      "19 J = 2.0 , sym = A , m = 2 , k = ('2 0 0  0.859287', 134.98025233911153)\n"
     ]
    }
   ],
   "source": [
    "assign_bra, assign_ket = h0.assign(form=\"full\") # assignment of braand ket states, i.e. `assign_bra` and `assign_ket` are equivalent in this case\n",
    "assign = assign_bra\n",
    "\n",
    "# print assignment of first 20 states\n",
    "for i in range(20):\n",
    "    print(i, \"J =\", assign[\"J\"][i], \", sym =\", assign[\"sym\"][i], \", m =\", assign[\"m\"][i], \", k =\", assign[\"k\"][i])"
   ]
  },
  {
   "cell_type": "markdown",
   "metadata": {},
   "source": [
    "Here, `assign[\"J\"]`, `assign[\"m\"]`, `assign[\"sym\"]` contain assignments by 'good' quantum numbers $J$, $m$, and symmetry, respectively. `assign[\"k\"]` contains rotational state assignment by $J$, $k$, and $\\tau$ quantum numbers (same as returned by `sol[J][sym].assign` in the example above) and its energy."
   ]
  },
  {
   "cell_type": "markdown",
   "metadata": {},
   "source": [
    "## Storing and reading matrix elements from HDF5 files"
   ]
  },
  {
   "cell_type": "markdown",
   "metadata": {},
   "source": [
    "The calculation of field-free energies and matrix elements of interaction tensors can be computationally expensive, especially if one considers the vibrational motions as well. Once computed, the rotational solutions and matrix elements can be stored in an HDF5 format file. The HDF5 files containing rotational, ro-vibrational, and even hyperfine solutions and matrix elements for different molecules can be produced by other programs, such as, for example, [TROVE](https://github.com/Trovemaster/TROVE), `richmol.hyfor`, and GENIUSH. A collection of such files for different molecules is available through \"Richmol database\" section of the main documentation."
   ]
  },
  {
   "cell_type": "markdown",
   "metadata": {},
   "source": [
    "To store matrix elements, use `store` method"
   ]
  },
  {
   "cell_type": "code",
   "execution_count": 6,
   "metadata": {},
   "outputs": [],
   "source": [
    "dip.store(\"water.h5\", replace=True, comment=\"dipole moment in au computed using CCSD(T)/AVTZ\")\n",
    "pol.store(\"water.h5\", replace=True, comment=\"polarizability in au computed using CCSD(T)/AVTZ\")\n",
    "h0.store(\"water.h5\", replace=True, comment=\"rot solutions from CCSD(T)/AVTZ equilibrium geometry\")"
   ]
  },
  {
   "cell_type": "markdown",
   "metadata": {},
   "source": [
    "Loading matrix elements from file can be achieved via initialization of the general class `field.CarTens` for representing the interaction tensors"
   ]
  },
  {
   "cell_type": "code",
   "execution_count": 7,
   "metadata": {},
   "outputs": [
    {
     "name": "stdout",
     "output_type": "stream",
     "text": [
      "\n",
      "dipole: Cartesian tensor operator, store date: 2021-06-16 10:10:38, comment: dipole moment in au computed using CCSD(T)/AVTZ\n",
      "\n",
      "polarizability: Cartesian tensor operator, store date: 2021-06-16 10:10:38, comment: polarizability in au computed using CCSD(T)/AVTZ\n",
      "\n",
      "field-free H0: Cartesian tensor operator, store date: 2021-06-16 10:10:38, comment: rot solutions from CCSD(T)/AVTZ equilibrium geometry\n"
     ]
    }
   ],
   "source": [
    "from richmol.field import CarTens\n",
    "\n",
    "dip2 = CarTens(filename=\"water.h5\", name=\"dip\")\n",
    "print(\"\\ndipole:\", dip2.__doc__)\n",
    "\n",
    "pol2 = CarTens(filename=\"water.h5\", name=\"pol\")\n",
    "print(\"\\npolarizability:\", pol2.__doc__)\n",
    "\n",
    "h02 = CarTens(filename=\"water.h5\", name=\"h0\")\n",
    "print(\"\\nfield-free H0:\", h02.__doc__)"
   ]
  },
  {
   "cell_type": "markdown",
   "metadata": {},
   "source": [
    "## Static field simulations"
   ]
  },
  {
   "cell_type": "markdown",
   "metadata": {},
   "source": [
    "Once the field-free solutions and matrix elements are obtained, the simulations of the field dynamics are straightforward.\n",
    "\n",
    "As an example, let's apply static electric field of different strength along the laboratory-frame $Z$ axis and compute the associated Stark shifts of rotational energies and field-dressed dipole moment for water molecule"
   ]
  },
  {
   "cell_type": "code",
   "execution_count": 8,
   "metadata": {},
   "outputs": [
    {
     "name": "stdout",
     "output_type": "stream",
     "text": [
      "matrix dimensions: (286, 286)\n"
     ]
    }
   ],
   "source": [
    "import numpy as np\n",
    "from richmol.convert_units import AUdip_x_Vm_to_invcm\n",
    "\n",
    "enr = []\n",
    "muz = []\n",
    "\n",
    "fz_grid = np.linspace(1, 1000*100, 10) # field in units V/m\n",
    "\n",
    "muz0 = dip.tomat(form=\"full\", cart=\"z\") # matrix representation of Z-dipole at zero field\n",
    "print(f\"matrix dimensions:\", muz0.shape)\n",
    "\n",
    "for fz in fz_grid:\n",
    "\n",
    "    field = [0, 0, fz] # X, Y, Z field components\n",
    "\n",
    "    # Hamiltonian\n",
    "    h = h0 - dip * field * AUdip_x_Vm_to_invcm() # `AUdip_x_Vm_to_invcm` converts dipole(au) * field(V/m) into cm^-1\n",
    "\n",
    "    # eigenproblem solution\n",
    "    e, v = np.linalg.eigh(h.tomat(form='full', repres='dense'))\n",
    "\n",
    "    # keep field-dressed energies\n",
    "    enr.append([elem for elem in e])\n",
    "\n",
    "    # keep field-dressed matrix elements of Z-dipole\n",
    "    muz.append( np.dot(np.conj(v.T), muz0.dot(v)) )"
   ]
  },
  {
   "cell_type": "markdown",
   "metadata": {},
   "source": [
    "Plot the results for selected state index"
   ]
  },
  {
   "cell_type": "code",
   "execution_count": 9,
   "metadata": {},
   "outputs": [
    {
     "data": {
      "image/png": "[encoded data removed]",
      "text/plain": [
       "<Figure size 432x288 with 2 Axes>"
      ]
     },
     "metadata": {
      "needs_background": "light"
     },
     "output_type": "display_data"
    }
   ],
   "source": [
    "import matplotlib.pyplot as plt\n",
    "\n",
    "# plot energies and dipoles vs field\n",
    "\n",
    "enr = np.array(enr)\n",
    "muz = np.array(muz)\n",
    "\n",
    "istate = 0 # choose state index\n",
    "\n",
    "fig, (ax1, ax2) = plt.subplots(1,2, constrained_layout=True)\n",
    "plt.suptitle(f\"state #{istate}\")\n",
    "ax1.set_ylabel(\"energy in cm$^{-1}$\")\n",
    "ax1.set_xlabel(\"field in V/m\")\n",
    "ax2.set_ylabel(\"$\\\\mu_Z$ in au\")\n",
    "ax2.set_xlabel(\"field in V/m\")\n",
    "ax1.plot(fz_grid, enr[:, istate])\n",
    "ax2.plot(fz_grid, muz[:, istate, istate].real)\n",
    "plt.show()"
   ]
  },
  {
   "cell_type": "markdown",
   "metadata": {},
   "source": [
    "Owing to the dipole selection rules, the field applied along the laboratory $Z$ axis can only couple molecular states with the same $m$ quantum number. We can exploit this in the above calculations by running a loop over $m=-J_\\text{max}..J_\\text{max}$ where in a loop we extract a sub-matrix of tensor matrix elements corresponding to the current $m$. To extract a sub-matrix corresponding to a basis spanned by a defined sub-space of quantum numbers, one can use `filter` method (modifies tensor in place) or `field.filter` function (creates new object). The filter function accepts as arguments state quantum numbers $J$, $m$, and $k$, symmetry, and energy and returns `True` or `False` depending on if the corresponding state needs to be included or excluded form the basis. Below is an example of how we can do it in the above calculations of Stark effect"
   ]
  },
  {
   "cell_type": "code",
   "execution_count": 10,
   "metadata": {},
   "outputs": [
    {
     "name": "stdout",
     "output_type": "stream",
     "text": [
      "matrix dimensions for m = -5: (11, 11)\n",
      "matrix dimensions for m = -4: (20, 20)\n",
      "matrix dimensions for m = -3: (27, 27)\n",
      "matrix dimensions for m = -2: (32, 32)\n",
      "matrix dimensions for m = -1: (35, 35)\n",
      "matrix dimensions for m = 0: (36, 36)\n",
      "matrix dimensions for m = 1: (35, 35)\n",
      "matrix dimensions for m = 2: (32, 32)\n",
      "matrix dimensions for m = 3: (27, 27)\n",
      "matrix dimensions for m = 4: (20, 20)\n",
      "matrix dimensions for m = 5: (11, 11)\n"
     ]
    }
   ],
   "source": [
    "from richmol.field import filter\n",
    "import numpy as np\n",
    "from richmol.convert_units import AUdip_x_Vm_to_invcm\n",
    "\n",
    "def flt(**kw):\n",
    "    \"\"\"Filter function to select states with m = m_\"\"\"\n",
    "    if 'm' in kw:\n",
    "        m = kw['m']\n",
    "        return m == m_\n",
    "    return True\n",
    "\n",
    "enr = {}\n",
    "muz = {}\n",
    "assign = {}\n",
    "\n",
    "fz_grid = np.linspace(1, 1000*100, 10)  # field in units V/m\n",
    "\n",
    "for m_ in range(-Jmax, Jmax+1):\n",
    "\n",
    "    dip_m = filter(dip, bra=flt, ket=flt)\n",
    "    h0_m = filter(h0, bra=flt, ket=flt)\n",
    "\n",
    "    muz0 = dip_m.tomat(form=\"full\", cart=\"z\") # matrix representation of Z-dipole at zero field\n",
    "    print(f\"matrix dimensions for m = {m_}:\", muz0.shape)\n",
    "\n",
    "    enr[m_] = []\n",
    "    muz[m_] = []\n",
    "    assign[m_] = []\n",
    "    \n",
    "    for fz in fz_grid: # field in V/m\n",
    "\n",
    "        field = [0, 0, fz] # X, Y, Z field components in V/m\n",
    "\n",
    "        # Hamiltonian\n",
    "        h = h0_m - dip_m * field * AUdip_x_Vm_to_invcm() # `AUdip_x_Vm_to_invcm` converts dipole(au) * field(V/m) into cm^-1\n",
    "\n",
    "        # eigenproblem solution\n",
    "        e, v = np.linalg.eigh(h.tomat(form='full', repres='dense'))\n",
    "\n",
    "        # keep field-dressed energies\n",
    "        enr[m_].append([elem for elem in e])\n",
    "\n",
    "        # keep field-dressed matrix elements of Z-dipole\n",
    "        muz[m_].append( np.dot(np.conjugate(v.T), muz0.dot(v)) )\n",
    "\n",
    "        # keep state assignment by one leading basis fuction\n",
    "        ind = np.argmax(np.abs(v), axis=0)\n",
    "        assgn, _ = h0_m.assign(form=\"full\")\n",
    "        assign[m_].append( {key : [val[i] for i in ind] for key, val in assgn.items()} )"
   ]
  },
  {
   "cell_type": "markdown",
   "metadata": {},
   "source": [
    "Plot the results for selected state index and $m$"
   ]
  },
  {
   "cell_type": "code",
   "execution_count": 11,
   "metadata": {},
   "outputs": [
    {
     "data": {
      "image/png": "[encoded data removed]",
      "text/plain": [
       "<Figure size 432x288 with 2 Axes>"
      ]
     },
     "metadata": {
      "needs_background": "light"
     },
     "output_type": "display_data"
    }
   ],
   "source": [
    "import matplotlib.pyplot as plt\n",
    "\n",
    "# plot energies and dipoles vs field\n",
    "\n",
    "enr = {m : np.array(val) for m, val in enr.items()}\n",
    "muz = {m: np.array(val) for m, val in muz.items()}\n",
    "\n",
    "istate = 2\n",
    "m = -1\n",
    "\n",
    "fig, (ax1, ax2) = plt.subplots(1,2, constrained_layout=True)\n",
    "plt.suptitle(f\"state #{istate}, m = {m}\")\n",
    "ax1.set_ylabel(\"energy in cm$^{-1}$\")\n",
    "ax1.set_xlabel(\"field in V/m\")\n",
    "ax2.set_ylabel(\"$\\\\mu_Z$ in au\")\n",
    "ax2.set_xlabel(\"field in V/m\")\n",
    "ax1.plot(fz_grid, enr[m][:, istate])\n",
    "ax2.plot(fz_grid, muz[m][:, istate, istate].real)\n",
    "plt.show()"
   ]
  },
  {
   "cell_type": "markdown",
   "metadata": {},
   "source": [
    "Here we print the assignment of a selected state for different values of field"
   ]
  },
  {
   "cell_type": "code",
   "execution_count": 12,
   "metadata": {},
   "outputs": [
    {
     "name": "stdout",
     "output_type": "stream",
     "text": [
      "Fz = 1.0 J =  4.0 sym =  A m =  -3 k =  ('4 0 0  0.612490', 487.7957659362319)\n",
      "Fz = 11112.0 J =  4.0 sym =  A m =  -3 k =  ('4 0 0  0.612490', 487.7957659362319)\n",
      "Fz = 22223.0 J =  4.0 sym =  A m =  -3 k =  ('4 0 0  0.612490', 487.7957659362319)\n",
      "Fz = 33334.0 J =  4.0 sym =  A m =  -3 k =  ('4 0 0  0.612490', 487.7957659362319)\n",
      "Fz = 44445.0 J =  4.0 sym =  A m =  -3 k =  ('4 0 0  0.612490', 487.7957659362319)\n",
      "Fz = 55556.0 J =  4.0 sym =  A m =  -3 k =  ('4 0 0  0.612490', 487.7957659362319)\n",
      "Fz = 66667.0 J =  4.0 sym =  A m =  -3 k =  ('4 0 0  0.612490', 487.7957659362319)\n",
      "Fz = 77778.0 J =  4.0 sym =  A m =  -3 k =  ('4 0 0  0.612490', 487.7957659362319)\n",
      "Fz = 88889.0 J =  4.0 sym =  A m =  -3 k =  ('4 0 0  0.612490', 487.7957659362319)\n",
      "Fz = 100000.0 J =  4.0 sym =  A m =  -3 k =  ('4 0 0  0.612490', 487.7957659362319)\n"
     ]
    }
   ],
   "source": [
    "istate = 20\n",
    "m = -3\n",
    "for i, fz in enumerate(fz_grid):\n",
    "    print(\"Fz =\", fz, \"J = \", assign[m][i][\"J\"][istate],\n",
    "          \"sym = \", assign[m][i][\"sym\"][istate],\n",
    "          \"m = \", assign[m][i][\"m\"][istate],\n",
    "          \"k = \", assign[m][i][\"k\"][istate])"
   ]
  },
  {
   "cell_type": "markdown",
   "metadata": {},
   "source": [
    "## Time-dependent simulations"
   ]
  },
  {
   "cell_type": "markdown",
   "metadata": {},
   "source": [
    "As an example, let's simulate the laser induced 'truncated-pulse' alignment of linear OCS molecule."
   ]
  },
  {
   "cell_type": "code",
   "execution_count": 13,
   "metadata": {},
   "outputs": [],
   "source": [
    "from richmol.rot import Molecule, solve, LabTensor\n",
    "from richmol.tdse import TDSE\n",
    "from richmol.convert_units import AUpol_x_Vm_to_invcm\n",
    "from richmol.field import filter\n",
    "import numpy as np\n",
    "import matplotlib.pyplot as plt"
   ]
  },
  {
   "cell_type": "markdown",
   "metadata": {},
   "source": [
    "To begin, compute the field-free energies, matrix elements of polarizability interaction tensor, and matrix elements of cosine and squared cosine functions of the Euler angle $\\theta$, that are used to quantify the degree of orientation and alignment, respectively"
   ]
  },
  {
   "cell_type": "code",
   "execution_count": 14,
   "metadata": {},
   "outputs": [],
   "source": [
    "ocs = Molecule()\n",
    "\n",
    "ocs.XYZ = (\"angstrom\",\n",
    "           \"C\",  0.0,  0.0,  -0.522939783141,\n",
    "           \"O\",  0.0,  0.0,  -1.680839357,\n",
    "           \"S\",  0.0,  0.0,  1.037160128)\n",
    "\n",
    "# molecular-frame dipole moment (in au)\n",
    "ocs.dip = [0, 0, -0.31093]\n",
    "\n",
    "# molecular-frame polarizability tensor (in au)\n",
    "ocs.pol = [[25.5778097, 0, 0], [0, 25.5778097, 0], [0, 0, 52.4651140]]\n",
    "\n",
    "Jmax = 10\n",
    "sol = solve(ocs, Jmax=Jmax)\n",
    "\n",
    "# laboratory-frame dipole moment operator\n",
    "dip = LabTensor(ocs.dip, sol)\n",
    "\n",
    "# laboratory-frame polarizability tensor\n",
    "pol = LabTensor(ocs.pol, sol)\n",
    "\n",
    "# field-free Hamiltonian\n",
    "h0 = LabTensor(ocs, sol)\n",
    "\n",
    "# matrix elements of cos(theta)\n",
    "cos = LabTensor(\"costheta\", sol)\n",
    "\n",
    "# matrix elements of cos^2(theta)\n",
    "cos2 = LabTensor(\"cos2theta\", sol) # NOTE: you need to add a constant factor 1/3 to get the true values"
   ]
  },
  {
   "cell_type": "markdown",
   "metadata": {},
   "source": [
    "At the next step, we define the external electric field. Here we load it from the file \"trunc_pulse.txt\". The field in units V/cm has a single $Z$ component and is defined on a time grid ranging from 0 to 300 picoseconds"
   ]
  },
  {
   "cell_type": "code",
   "execution_count": 15,
   "metadata": {},
   "outputs": [
    {
     "data": {
      "image/png": "[encoded data removed]",
      "text/plain": [
       "<Figure size 432x288 with 1 Axes>"
      ]
     },
     "metadata": {
      "needs_background": "light"
     },
     "output_type": "display_data"
    }
   ],
   "source": [
    "# truncated-pulse field\n",
    "with open(\"trunc_pulse.txt\", \"r\") as fl:\n",
    "    field = np.array([[float(elem) for elem in line.split()[1:]] for line in fl]) # X, Y, Z field's components\n",
    "    fl.seek(0)\n",
    "    times = [float(line.split()[0]) for line in fl] # time grid\n",
    "\n",
    "# convert field from V/cm to V/m\n",
    "field *= 1e2\n",
    "\n",
    "# plot Z component\n",
    "plt.plot(times, field[:, 2], label=\"Z component\")\n",
    "plt.xlim([0,70]) # plot first 70 ps\n",
    "plt.xlabel(\"time in ps\")\n",
    "plt.ylabel(\"field in V/m\")\n",
    "plt.legend()\n",
    "plt.show()"
   ]
  },
  {
   "cell_type": "markdown",
   "metadata": {},
   "source": [
    "Finally, we generate the initial states, set up the molecule-field interaction Hamiltonian and parameters of time-dependent solution, and run propagation. For initial states let's assume a temperature of $T=0$ Kelvin and use the eigenfunctions of field-free operator `h0` as initial state vectors. Run dynamics from time zero to 200 ps with a time step of 10 fs"
   ]
  },
  {
   "cell_type": "code",
   "execution_count": 16,
   "metadata": {},
   "outputs": [
    {
     "name": "stdout",
     "output_type": "stream",
     "text": [
      "0.005 (0.33333335011354287-3.3881317890172014e-21j)\n",
      "10.005 (0.34739158187693825-1.734723475976807e-18j)\n",
      "20.005 (0.4213669350942997-1.0408340855860843e-17j)\n",
      "30.005 (0.6609918655846478-2.7755575615628914e-17j)\n",
      "40.005 (0.7625355344088344-2.7755575615628914e-17j)\n",
      "50.005 (0.8276490955449676-2.7755575615628914e-17j)\n",
      "60.005 (0.3821142205456442+5.551115123125783e-17j)\n",
      "70.005 (0.19957705807366488-2.7755575615628914e-17j)\n",
      "80.005 (0.6003828777604131+1.3877787807814457e-17j)\n",
      "90.005 (0.2129905474603741+1.3877787807814457e-17j)\n",
      "100.005 (0.5206370845603439-8.326672684688674e-17j)\n",
      "110.005 (0.7736959532358003+2.7755575615628914e-17j)\n",
      "120.005 (0.2798285070002713+2.7755575615628914e-17j)\n",
      "130.005 (0.5766604584449334-1.3877787807814457e-17j)\n",
      "140.005 (0.40216250912200846+5.551115123125783e-17j)\n",
      "150.005 (0.12101474958572211-2.7755575615628914e-17j)\n",
      "160.005 (0.6639581214246747-3.469446951953614e-17j)\n",
      "170.005 (0.4410383542446014+3.8163916471489756e-17j)\n",
      "180.005 (0.47123931234359556-6.938893903907228e-17j)\n",
      "190.005 (0.7558934881925552+6.938893903907228e-17j)\n"
     ]
    }
   ],
   "source": [
    "tdse = TDSE(t_start=0, t_end=200, dt=0.01, t_units=\"ps\", enr_units=\"invcm\")\n",
    "\n",
    "# initial states - Boltzmann-weighted eigenfunctions of `h0`, at T=0 K - only ground state\n",
    "vecs = tdse.init_state(h0, temp=0)\n",
    "\n",
    "# interaction Hamiltonian\n",
    "H = -1/2 * pol * AUpol_x_Vm_to_invcm() # `AUpol_x_Vm_to_invcm` converts pol[au]*field[V/m] into [cm^-1]\n",
    "\n",
    "# matrix elements of cos^2(theta)\n",
    "cos2mat = cos2.tomat(form=\"full\", cart=\"0\")\n",
    "\n",
    "cos2_expval = []\n",
    "\n",
    "for i, t in enumerate(tdse.time_grid()):\n",
    "\n",
    "    # apply field to Hamiltonian\n",
    "    H.field([0, 0, field[i, 2]], thresh=1e2) # TODO: iprove performance of H * field operation\n",
    "\n",
    "    # update vector\n",
    "    vecs, t_ = tdse.update(H, H0=h0, vecs=vecs, matvec_lib='scipy')\n",
    "\n",
    "    # expectation value of cos^2(theta)-1/3\n",
    "    expval = sum(np.dot(np.conj(vecs[i][:]), cos2mat.dot(vecs[i][:])) for i in range(len(vecs)))\n",
    "    cos2_expval.append(expval)\n",
    "\n",
    "    if i % 1000 == 0:\n",
    "        print(t, expval+1/3)"
   ]
  },
  {
   "cell_type": "markdown",
   "metadata": {},
   "source": [
    "Plot the expectation value of $\\cos^2\\theta$ and compare with some reference values (obtained with a different code)"
   ]
  },
  {
   "cell_type": "code",
   "execution_count": 17,
   "metadata": {},
   "outputs": [
    {
     "data": {
      "image/png": "[encoded data removed]",
      "text/plain": [
       "<Figure size 432x288 with 1 Axes>"
      ]
     },
     "metadata": {
      "needs_background": "light"
     },
     "output_type": "display_data"
    }
   ],
   "source": [
    "plt.plot([t for t in tdse.time_grid()], [elem.real + 1/3 for elem in cos2_expval], 'b', linewidth=4, label=\"present\")\n",
    "\n",
    "# compare with reference results\n",
    "with open(\"trunc_pulse_cos2theta.txt\", \"r\") as fl:\n",
    "    cos2_expval_ref = np.array([float(line.split()[1]) for line in fl])\n",
    "    fl.seek(0)\n",
    "    times_ref = np.array([float(line.split()[0]) for line in fl])\n",
    "\n",
    "plt.plot(times_ref, cos2_expval_ref, 'r--', linewidth=2, label=\"reference\")\n",
    "plt.xlabel(\"time in ps\")\n",
    "plt.ylabel(\"$\\cos^2\\\\theta$\")\n",
    "plt.legend()\n",
    "plt.show()"
   ]
  },
  {
   "cell_type": "markdown",
   "metadata": {},
   "source": [
    "Since the alignment field is applied along the $Z$ axis and thus couples only the states with the same $m$ quanta, we can split the full calculation into several for different values of $m=-J_\\text{max}..J_\\text{max}$. For initial temperature of $T=0$ K, simulations with $m=0$ only are necessary"
   ]
  },
  {
   "cell_type": "code",
   "execution_count": 18,
   "metadata": {},
   "outputs": [
    {
     "name": "stdout",
     "output_type": "stream",
     "text": [
      "run m = 0, basis dimensions = (11, 11)\n",
      "0 0.005 (0.33333335011354287-3.3881317890172014e-21j)\n",
      "0 10.005 (0.34739158187693825+0j)\n",
      "0 20.005 (0.4213669350942996-1.3877787807814457e-17j)\n",
      "0 30.005 (0.6609918655846474+2.7755575615628914e-17j)\n",
      "0 40.005 (0.7625355344088345-5.551115123125783e-17j)\n",
      "0 50.005 (0.8276490955449656+2.7755575615628914e-17j)\n",
      "0 60.005 (0.38211422054564265+5.551115123125783e-17j)\n",
      "0 70.005 (0.19957705807366558-4.163336342344337e-17j)\n",
      "0 80.005 (0.6003828777604128-1.3877787807814457e-17j)\n",
      "0 90.005 (0.21299054746037452-6.938893903907228e-18j)\n",
      "0 100.005 (0.5206370845603434-8.326672684688674e-17j)\n",
      "0 110.005 (0.7736959532357975+5.551115123125783e-17j)\n",
      "0 120.005 (0.2798285070002692+0j)\n",
      "0 130.005 (0.576660458444932-1.3877787807814457e-17j)\n",
      "0 140.005 (0.4021625091220066+2.7755575615628914e-17j)\n",
      "0 150.005 (0.1210147495857242-4.163336342344337e-17j)\n",
      "0 160.005 (0.6639581214246741-4.163336342344337e-17j)\n",
      "0 170.005 (0.4410383542445989+5.204170427930421e-17j)\n",
      "0 180.005 (0.4712393123435934-5.551115123125783e-17j)\n",
      "0 190.005 (0.7558934881925505+2.7755575615628914e-17j)\n"
     ]
    }
   ],
   "source": [
    "def flt(**kw):\n",
    "    \"\"\"Filter function to select states with m = m_\"\"\"\n",
    "    if 'm' in kw:\n",
    "        m = kw['m']\n",
    "        return m == m_\n",
    "    return True\n",
    "\n",
    "cos2_expval = []\n",
    "\n",
    "m_ = 0\n",
    "\n",
    "h0_m = filter(h0, bra=flt, ket=flt)\n",
    "pol_m = filter(pol, bra=flt, ket=flt)\n",
    "cos2_m = filter(cos2, bra=flt, ket=flt)\n",
    "\n",
    "tdse = TDSE(t_start=0, t_end=200, dt=0.01, t_units=\"ps\", enr_units=\"invcm\")\n",
    "\n",
    "# initial states - Boltzmann-weighted eigenfunctions of `h0`, at T=0 K - only ground state\n",
    "vecs = tdse.init_state(h0_m, temp=0)\n",
    "\n",
    "# interaction Hamiltonian\n",
    "H = -1/2 * pol_m * AUpol_x_Vm_to_invcm()\n",
    "\n",
    "# matrix elements of cos^2(theta) in dense matrix representation\n",
    "cos2mat = cos2_m.tomat(form=\"full\", cart=\"0\")\n",
    "\n",
    "print(f\"run m = {m_}, basis dimensions = {cos2mat.shape}\")\n",
    "\n",
    "for i, t in enumerate(tdse.time_grid()):\n",
    "\n",
    "    # apply field to Hamiltonian\n",
    "    H.field([0, 0, field[i, 2]], thresh=1e2) # TODO: iprove performance of H * field operation\n",
    "\n",
    "    # update vector\n",
    "    vecs, t_ = tdse.update(H, H0=h0_m, vecs=vecs, matvec_lib='scipy')\n",
    "\n",
    "    # expectation value of cos^2(theta)-1/3\n",
    "    expval = sum(np.dot(np.conj(vecs[i][:]), cos2mat.dot(vecs[i][:])) for i in range(len(vecs)))\n",
    "    cos2_expval.append(expval)\n",
    "\n",
    "    if i % 1000 == 0:\n",
    "        print(m_, t, expval+1/3)"
   ]
  },
  {
   "cell_type": "markdown",
   "metadata": {},
   "source": [
    "Plot the expectation value of $\\cos^2\\theta$ and compare with reference values"
   ]
  },
  {
   "cell_type": "code",
   "execution_count": 19,
   "metadata": {},
   "outputs": [
    {
     "data": {
      "image/png": "[encoded data removed]",
      "text/plain": [
       "<Figure size 432x288 with 1 Axes>"
      ]
     },
     "metadata": {
      "needs_background": "light"
     },
     "output_type": "display_data"
    }
   ],
   "source": [
    "plt.plot([t for t in tdse.time_grid()], [elem.real + 1/3 for elem in cos2_expval], 'b', linewidth=4, label=\"present\")\n",
    "\n",
    "# compare with reference results\n",
    "with open(\"trunc_pulse_cos2theta.txt\", \"r\") as fl:\n",
    "    cos2_expval_ref = np.array([float(line.split()[1]) for line in fl])\n",
    "    fl.seek(0)\n",
    "    times_ref = np.array([float(line.split()[0]) for line in fl])\n",
    "\n",
    "plt.plot(times_ref, cos2_expval_ref, 'r--', linewidth=2, label=\"reference\")\n",
    "plt.xlabel(\"time in ps\")\n",
    "plt.ylabel(\"$\\cos^2\\\\theta$\")\n",
    "plt.legend()\n",
    "plt.show()"
   ]
  },
  {
   "cell_type": "code",
   "execution_count": null,
   "metadata": {},
   "outputs": [],
   "source": []
  }
 ],
 "metadata": {
  "kernelspec": {
   "display_name": "Python 3",
   "language": "python",
   "name": "python3"
  },
  "language_info": {
   "codemirror_mode": {
    "name": "ipython",
    "version": 3
   },
   "file_extension": ".py",
   "mimetype": "text/x-python",
   "name": "python",
   "nbconvert_exporter": "python",
   "pygments_lexer": "ipython3",
   "version": "3.8.5"
  },
  "metadata": {
   "interpreter": {
    "hash": "31f2aee4e71d21fbe5cf8b01ff0e069b9275f58929596ceb00d14d90e3e16cd6"
   }
  }
 },
 "nbformat": 4,
 "nbformat_minor": 4
}
