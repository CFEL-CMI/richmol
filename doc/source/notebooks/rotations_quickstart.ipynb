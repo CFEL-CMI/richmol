{
 "cells": [
  {
   "cell_type": "markdown",
   "metadata": {},
   "source": [
    "# Rotational dynamics Quickstart"
   ]
  },
  {
   "cell_type": "markdown",
   "metadata": {},
   "source": [
    "*Authors: Andrey Yachmenev & Cem Saribal*"
   ]
  },
  {
   "cell_type": "markdown",
   "metadata": {},
   "source": [
    "Calculation of rotational dynamics proceeds in two steps. At the first step, we obtain molecular field-free rotational energies, wave functions, and matrix elements of desired electric and magnetic property tensors, such as, for example, dipole moment or polarizability. At the second step, we solve the time-dependent problem with applied external electric and magnetic fields using the field-free solutions obtained at the first step as basis."
   ]
  },
  {
   "cell_type": "markdown",
   "metadata": {},
   "source": [
    "## Molecular field-free rotational solutions"
   ]
  },
  {
   "cell_type": "code",
   "execution_count": 96,
   "metadata": {},
   "outputs": [],
   "source": [
    "from richmol.rot import Molecule, solve, LabTensor"
   ]
  },
  {
   "cell_type": "markdown",
   "metadata": {},
   "source": [
    "Here is an example for water molecule, using data obtained from a quantum chemical calculation"
   ]
  },
  {
   "cell_type": "code",
   "execution_count": 97,
   "metadata": {},
   "outputs": [],
   "source": [
    "water = Molecule()\n",
    "\n",
    "# Cartesian coordinates of atoms\n",
    "water.XYZ = (\"bohr\",\n",
    "             \"O\",  0.00000000,   0.00000000,   0.12395915,\n",
    "             \"H\",  0.00000000,  -1.43102686,  -0.98366080,\n",
    "             \"H\",  0.00000000,   1.43102686,  -0.98366080)\n",
    "\n",
    "# choose frame of principal axes of inertia\n",
    "water.frame = \"ipas\"\n",
    "\n",
    "# molecular frame dipole moment (au)\n",
    "water.dip = [0, 0, -0.7288]\n",
    "\n",
    "# molecular frame polarizability tensor (au)\n",
    "water.pol = [[9.1369, 0, 0], [0, 9.8701, 0], [0, 0, 9.4486]]\n",
    "\n",
    "# symmetry group\n",
    "water.sym = \"D2\"\n",
    "\n",
    "# rotational solutions for J=0..5\n",
    "Jmax = 5\n",
    "sol = solve(water, Jmin=0, Jmax=Jmax)\n",
    "\n",
    "# laboratory-frame dipole moment operator\n",
    "dip = LabTensor(water.dip, sol, thresh=1e-12) #neglect matrix elements smaller than `thresh`\n",
    "\n",
    "# laboratory-frame polarizability tensor\n",
    "pol = LabTensor(water.pol, sol, thresh=1e-12)\n",
    "\n",
    "# field-free Hamiltonian\n",
    "h0 = LabTensor(water, sol, thresh=1e-12)"
   ]
  },
  {
   "cell_type": "markdown",
   "metadata": {},
   "source": [
    "The dictionary `sol[J][sym]` contains solutions for different values of $J$ (int) and different symetries (str). The state energies and state assignments (by $J, k, \\tau$ quantum numbers) can be printed out as following"
   ]
  },
  {
   "cell_type": "code",
   "execution_count": 98,
   "metadata": {},
   "outputs": [
    {
     "name": "stdout",
     "output_type": "stream",
     "text": [
      "J  sym #    energy      J   k  tau  |leading coef|^2\n",
      "0    A 0     0.000000 ['0' '0' '0' ' 1.000000']\n",
      "1   B1 0    41.996372 ['1' '0' '1' ' 1.000000']\n",
      "1   B2 0    36.931654 ['1' '1' '0' ' 1.000000']\n",
      "1   B3 0    24.103743 ['1' '1' '1' ' 1.000000']\n",
      "2    A 0    71.083285 ['2' '2' '0' ' 0.859287']\n",
      "2    A 1   134.980252 ['2' '0' '0' ' 0.859287']\n",
      "2   B1 0    80.074422 ['2' '2' '1' ' 1.000000']\n",
      "2   B2 0    95.268576 ['2' '1' '0' ' 1.000000']\n",
      "2   B3 0   133.752307 ['2' '1' '1' ' 1.000000']\n",
      "3    A 0   206.063537 ['3' '2' '0' ' 1.000000']\n",
      "3   B1 0   174.290919 ['3' '2' '1' ' 0.709733']\n",
      "3   B1 1   283.750848 ['3' '0' '1' ' 0.709733']\n",
      "3   B2 0   144.095391 ['3' '3' '0' ' 0.967197']\n",
      "3   B2 1   283.558067 ['3' '1' '0' ' 0.967197']\n",
      "3   B3 0   138.894101 ['3' '3' '1' ' 0.865893']\n",
      "3   B3 1   211.791894 ['3' '1' '1' ' 0.865893']\n",
      "4    A 0   225.839342 ['4' '4' '0' ' 0.897851']\n",
      "4    A 1   316.682576 ['4' '2' '0' ' 0.534048']\n",
      "4    A 2   487.795766 ['4' '0' '0' ' 0.612490']\n",
      "4   B1 0   228.396486 ['4' '4' '1' ' 0.948500']\n",
      "4   B1 1   381.957482 ['4' '2' '1' ' 0.948500']\n",
      "4   B2 0   277.742376 ['4' '3' '0' ' 0.631211']\n",
      "4   B2 1   383.258773 ['4' '1' '0' ' 0.631211']\n",
      "4   B3 0   301.509448 ['4' '3' '1' ' 0.918683']\n",
      "4   B3 1   487.770805 ['4' '1' '1' ' 0.918683']\n",
      "5    A 0   419.313391 ['5' '4' '0' ' 0.859287']\n",
      "5    A 1   611.004294 ['5' '2' '0' ' 0.859287']\n",
      "5   B1 0   403.603021 ['5' '4' '1' ' 0.645844']\n",
      "5   B1 1   509.913211 ['5' '0' '1' ' 0.363766']\n",
      "5   B1 2   746.747028 ['5' '0' '1' ' 0.546915']\n",
      "5   B2 0   332.465633 ['5' '5' '0' ' 0.941152']\n",
      "5   B2 1   505.082745 ['5' '3' '0' ' 0.814480']\n",
      "5   B2 2   746.744110 ['5' '1' '0' ' 0.869201']\n",
      "5   B3 0   331.342554 ['5' '5' '1' ' 0.919955']\n",
      "5   B3 1   449.307570 ['5' '1' '1' ' 0.527404']\n",
      "5   B3 2   611.223709 ['5' '3' '1' ' 0.526614']\n"
     ]
    }
   ],
   "source": [
    "print(\"J  sym #    energy      J   k  tau  |leading coef|^2\")\n",
    "for J in sol.keys():\n",
    "    for sym in sol[J].keys():\n",
    "        for i in range(sol[J][sym].nstates):\n",
    "            print(J, \"%4s\"%sym, i, \"%12.6f\"%sol[J][sym].enr[i], sol[J][sym].assign[i])"
   ]
  },
  {
   "cell_type": "markdown",
   "metadata": {},
   "source": [
    "The matrix elements of dipole moment and polarizability can be pronted as 2D matrices, in dese or sparse formats, using `tomat` method"
   ]
  },
  {
   "cell_type": "code",
   "execution_count": 99,
   "metadata": {},
   "outputs": [
    {
     "name": "stdout",
     "output_type": "stream",
     "text": [
      "matrix dimensions: (286, 286)\n",
      "dipole X:   (0, 4)\t(-9.739787996057844e-35-0.2975313540900633j)\n",
      "  (0, 6)\t(9.739787996057844e-35+0.2975313540900633j)\n",
      "  (1, 8)\t(-8.434903832060798e-35-0.25766971106437786j)\n",
      "  (1, 30)\t(1.3610889671164236e-34+0.2822630262715965j)\n",
      "  (1, 32)\t(-5.55662243994505e-35-0.11523339793653574j)\n",
      "  (2, 7)\t(-8.434903832060798e-35-0.25766971106437786j)\n",
      "  (2, 9)\t(-8.434903832060798e-35-0.25766971106437786j)\n",
      "  (2, 31)\t(9.624352384462173e-35+0.19959009995488255j)\n",
      "  (2, 33)\t(-9.624352384462173e-35-0.19959009995488255j)\n",
      "  (3, 8)\t(-8.434903832060798e-35-0.25766971106437786j)\n",
      "  (3, 32)\t(5.55662243994505e-35+0.11523339793653574j)\n",
      "  (3, 34)\t(-1.3610889671164236e-34-0.2822630262715965j)\n",
      "  (4, 0)\t(-9.739787996057844e-35+0.2975313540900633j)\n",
      "  (4, 10)\t(3.774036515276408e-33+0.20052055607190467j)\n",
      "  (4, 11)\t(1.887018257638204e-33+0.25694628736880804j)\n",
      "  (4, 14)\t(-1.5407439555097885e-33-0.08186217421921828j)\n",
      "  (4, 15)\t(-7.7037197775489426e-34-0.10489788255935238j)\n",
      "  (5, 12)\t(2.668646812397596e-33+0.14178944496574117j)\n",
      "  (5, 13)\t(1.334323406198798e-33+0.18168846219919157j)\n",
      "  (5, 16)\t(-2.668646812397596e-33-0.14178944496574117j)\n",
      "  (5, 17)\t(-1.334323406198798e-33-0.18168846219919157j)\n",
      "  (6, 0)\t(9.739787996057844e-35-0.2975313540900633j)\n",
      "  (6, 14)\t(1.5407439555097885e-33+0.08186217421921828j)\n",
      "  (6, 15)\t(7.7037197775489426e-34+0.10489788255935238j)\n",
      "  (6, 18)\t(-3.774036515276408e-33-0.20052055607190467j)\n",
      "  :\t:\n",
      "  (281, 218)\t(4.092359016461902e-34-0.11790707114366855j)\n",
      "  (281, 219)\t(2.7872077398459563e-33+0.002715814400525685j)\n",
      "  (282, 125)\t(1.725106954595315e-33-0.009616951979301387j)\n",
      "  (282, 126)\t(7.76059936224008e-34+0.25047611779505286j)\n",
      "  (282, 211)\t(-5.8843163600120894e-34-0.015243232013320441j)\n",
      "  (282, 212)\t(1.7674080268623158e-33+0.12240087289752385j)\n",
      "  (282, 213)\t(8.915633013702843e-35+0.0893487262800264j)\n",
      "  (282, 217)\t(-4.385910460700387e-34-0.011361634326195164j)\n",
      "  (282, 218)\t(1.3173481640143044e-33+0.09123222410139167j)\n",
      "  (282, 219)\t(6.645320493693625e-35+0.06659660855505366j)\n",
      "  (283, 127)\t(1.1901499371844318e-32-0.3077040054890197j)\n",
      "  (283, 128)\t(-4.343813211512369e-33+0.016409267103435588j)\n",
      "  (283, 214)\t(-1.6121605803088443e-33+0.0872890316266411j)\n",
      "  (283, 215)\t(7.447083925841683e-34-0.015906470987632797j)\n",
      "  (283, 216)\t(-3.461832680173917e-34+0.00041897802440189996j)\n",
      "  (284, 127)\t(4.198996431039597e-36-0.0955090392948147j)\n",
      "  (284, 128)\t(-8.814084036232769e-34+0.10263425886319406j)\n",
      "  (284, 214)\t(-7.743282799110597e-34-0.13026893601732828j)\n",
      "  (284, 215)\t(4.0923590164619015e-34-0.11790707114366854j)\n",
      "  (284, 216)\t(2.787207739845956e-33+0.0027158144005256847j)\n",
      "  (285, 127)\t(1.928728209466384e-33-0.010752079181034527j)\n",
      "  (285, 128)\t(8.676613860055167e-34+0.2800408130649915j)\n",
      "  (285, 214)\t(-4.385910460700386e-34-0.011361634326195164j)\n",
      "  (285, 215)\t(1.3173481640143042e-33+0.09123222410139167j)\n",
      "  (285, 216)\t(6.645320493693624e-35+0.06659660855505364j)\n",
      "\n",
      "polarizability XZ:   (0, 12)\t(-0.09755930791281402+1.8057681046450725e-17j)\n",
      "  (0, 13)\t(0.06342085177268478-1.1738844170858955e-17j)\n",
      "  (0, 16)\t(0.09755930791281404-2.7656900498342933e-17j)\n",
      "  (0, 17)\t(-0.06342085177268479+1.797905524878078e-17j)\n",
      "  (1, 2)\t(-0.07388558756618278+2.094568306496896e-17j)\n",
      "  (1, 20)\t(0.05441541601421423-1.0071988490044882e-17j)\n",
      "  (1, 22)\t(-0.06664500168804863+1.8893063305097118e-17j)\n",
      "  (1, 44)\t(-0.08632246206263056+1.5977803865361223e-17j)\n",
      "  (1, 45)\t(0.04962000720348973-9.184385198836739e-18j)\n",
      "  (1, 48)\t(0.04728075969108671-1.3403531597733845e-17j)\n",
      "  (1, 49)\t(-0.02717799724892017+7.704638150255837e-18j)\n",
      "  (2, 1)\t(-0.07388558756618274+1.3675808108356735e-17j)\n",
      "  (2, 3)\t(0.07388558756618276-2.0945683064968953e-17j)\n",
      "  (2, 21)\t(-0.038477509664737924+7.121971361343592e-18j)\n",
      "  (2, 23)\t(-0.03847750966473793+1.0907915185014462e-17j)\n",
      "  (2, 46)\t(-0.07720915726287547+1.4290982229642637e-17j)\n",
      "  (2, 47)\t(0.044381483660412925-8.21476385445675e-18j)\n",
      "  (2, 50)\t(0.07720915726287549-2.1887875443812853e-17j)\n",
      "  (2, 51)\t(-0.04438148366041293+1.2581621413938423e-17j)\n",
      "  (3, 2)\t(0.07388558756618277-1.3675808108356743e-17j)\n",
      "  (3, 22)\t(-0.06664500168804863+1.2335616247897587e-17j)\n",
      "  (3, 24)\t(0.054415416014214235-1.5426121591862876e-17j)\n",
      "  (3, 48)\t(-0.0472807596910867+8.75140359645158e-18j)\n",
      "  (3, 49)\t(0.027177997248920168-5.030494950219453e-18j)\n",
      "  (3, 52)\t(0.08632246206263058-2.447138868770695e-17j)\n",
      "  :\t:\n",
      "  (282, 82)\t(-0.005594986726938355+1.0356006816332482e-18j)\n",
      "  (282, 83)\t(0.03995640789989996-7.395707135018623e-18j)\n",
      "  (282, 161)\t(-0.014938631080207588+2.7650568775873082e-18j)\n",
      "  (282, 162)\t(0.04829207241148299-8.938591912295875e-18j)\n",
      "  (282, 277)\t(-0.002163831826599701+4.005131421987464e-19j)\n",
      "  (282, 278)\t(-0.008149889663058053+1.5084988941371748e-18j)\n",
      "  (282, 279)\t(0.04828854114931652-8.937938295462611e-18j)\n",
      "  (282, 283)\t(-0.0020736321669233442+5.878499933805838e-19j)\n",
      "  (282, 284)\t(-0.007810160269594571+2.214087308258947e-18j)\n",
      "  (282, 285)\t(0.046275625947500384-1.3118588166618726e-17j)\n",
      "  (283, 163)\t(-0.015488546540404154+2.866843146834073e-18j)\n",
      "  (283, 164)\t(-0.00015297646330733158+2.8315085880750557e-20j)\n",
      "  (283, 280)\t(-0.09752217726834075+1.805080837228675e-17j)\n",
      "  (283, 281)\t(-0.008152270401529797+1.508939555483566e-18j)\n",
      "  (283, 282)\t(-0.0020736321669233386+3.8381769078790187e-19j)\n",
      "  (284, 163)\t(-0.09432175240337505+1.745842766909103e-17j)\n",
      "  (284, 164)\t(0.0015139781134612853-2.8022886251533466e-19j)\n",
      "  (284, 280)\t(-0.008152270401529806+1.5089395554835656e-18j)\n",
      "  (284, 281)\t(-0.018974256644475697+3.512028548681794e-18j)\n",
      "  (284, 282)\t(-0.007810160269594571+1.4456168876888493e-18j)\n",
      "  (285, 163)\t(-0.03340379458613528+6.182855139938536e-18j)\n",
      "  (285, 164)\t(0.10798435668641816-1.9987299139023414e-17j)\n",
      "  (285, 280)\t(-0.0020736321669233442+3.838176907879013e-19j)\n",
      "  (285, 281)\t(-0.007810160269594571+1.4456168876888493e-18j)\n",
      "  (285, 282)\t(0.046275625947500384-8.565358974579855e-18j)\n",
      "\n",
      "field-free Hamiltonian:   (1, 1)\t(41.996371682354464-1.0413888945031573e-48j)\n",
      "  (2, 2)\t(41.996371682354464-1.0413888945031573e-48j)\n",
      "  (3, 3)\t(41.996371682354464-1.0413888945031573e-48j)\n",
      "  (4, 4)\t(36.93165361155496+2.8401161870723716e-32j)\n",
      "  (5, 5)\t(36.93165361155496+2.8401161870723716e-32j)\n",
      "  (6, 6)\t(36.93165361155496+2.8401161870723716e-32j)\n",
      "  (7, 7)\t(24.103743154821103+3.2964703713189847e-32j)\n",
      "  (8, 8)\t(24.103743154821103+3.2964703713189847e-32j)\n",
      "  (9, 9)\t(24.103743154821103+3.2964703713189847e-32j)\n",
      "  (10, 10)\t(71.0832845583496-1.2106702985004045e-30j)\n",
      "  (10, 11)\t0j\n",
      "  (11, 10)\t0j\n",
      "  (11, 11)\t(134.98025233911153+4.1322080999273885e-32j)\n",
      "  (12, 12)\t(71.0832845583496-1.2106702985004045e-30j)\n",
      "  (12, 13)\t0j\n",
      "  (13, 12)\t0j\n",
      "  (13, 13)\t(134.98025233911153+4.1322080999273885e-32j)\n",
      "  (14, 14)\t(71.0832845583496-1.2106702985004045e-30j)\n",
      "  (14, 15)\t0j\n",
      "  (15, 14)\t0j\n",
      "  (15, 15)\t(134.98025233911153+4.1322080999273885e-32j)\n",
      "  (16, 16)\t(71.0832845583496-1.2106702985004045e-30j)\n",
      "  (16, 17)\t0j\n",
      "  (17, 16)\t0j\n",
      "  (17, 17)\t(134.98025233911153+4.1322080999273885e-32j)\n",
      "  :\t:\n",
      "  (261, 261)\t(611.2237086086233-2.2968929053986172e-30j)\n",
      "  (262, 262)\t(331.34255364752323-6.923451621833251e-30j)\n",
      "  (263, 263)\t(449.3075695534758+1.9264598480804652e-30j)\n",
      "  (264, 264)\t(611.2237086086233-2.2968929053986172e-30j)\n",
      "  (265, 265)\t(331.34255364752323-6.923451621833251e-30j)\n",
      "  (266, 266)\t(449.3075695534758+1.9264598480804652e-30j)\n",
      "  (267, 267)\t(611.2237086086233-2.2968929053986172e-30j)\n",
      "  (268, 268)\t(331.34255364752323-6.923451621833251e-30j)\n",
      "  (269, 269)\t(449.3075695534758+1.9264598480804652e-30j)\n",
      "  (270, 270)\t(611.2237086086233-2.2968929053986172e-30j)\n",
      "  (271, 271)\t(331.34255364752323-6.923451621833251e-30j)\n",
      "  (272, 272)\t(449.3075695534758+1.9264598480804652e-30j)\n",
      "  (273, 273)\t(611.2237086086233-2.2968929053986172e-30j)\n",
      "  (274, 274)\t(331.34255364752323-6.923451621833251e-30j)\n",
      "  (275, 275)\t(449.3075695534758+1.9264598480804652e-30j)\n",
      "  (276, 276)\t(611.2237086086233-2.2968929053986172e-30j)\n",
      "  (277, 277)\t(331.34255364752323-6.923451621833251e-30j)\n",
      "  (278, 278)\t(449.3075695534758+1.9264598480804652e-30j)\n",
      "  (279, 279)\t(611.2237086086233-2.2968929053986172e-30j)\n",
      "  (280, 280)\t(331.34255364752323-6.923451621833251e-30j)\n",
      "  (281, 281)\t(449.3075695534758+1.9264598480804652e-30j)\n",
      "  (282, 282)\t(611.2237086086233-2.2968929053986172e-30j)\n",
      "  (283, 283)\t(331.34255364752323-6.923451621833251e-30j)\n",
      "  (284, 284)\t(449.3075695534758+1.9264598480804652e-30j)\n",
      "  (285, 285)\t(611.2237086086233-2.2968929053986172e-30j)\n"
     ]
    }
   ],
   "source": [
    "# X-component of dipole moment\n",
    "mu_x = dip.tomat(form=\"full\", cart=\"x\")\n",
    "\n",
    "# XZ-component of polarizability\n",
    "alpha_xz = pol.tomat(form=\"full\", cart=\"xz\")\n",
    "\n",
    "# field-free Hamiltonian (diagonal)\n",
    "h0mat = h0.tomat(form=\"full\", cart=\"0\")\n",
    "\n",
    "print(\"matrix dimensions:\", h0mat.shape)\n",
    "print(\"dipole X:\", mu_x)\n",
    "print(\"\\npolarizability XZ:\", alpha_xz)\n",
    "print(\"\\nfield-free Hamiltonian:\", h0mat)"
   ]
  },
  {
   "cell_type": "markdown",
   "metadata": {},
   "source": [
    "The matrix elements above correspond to a full rotational basis spanned by $J=0..J_{max}$, $m=-J..J$, and $k=-J..J$. The assignment of each of these states by symmetric-top functions can be obtained using `assign` method"
   ]
  },
  {
   "cell_type": "code",
   "execution_count": 100,
   "metadata": {},
   "outputs": [
    {
     "name": "stdout",
     "output_type": "stream",
     "text": [
      "0 J = 0.0 , sym = A , m = 0 , k = ('0 0  1.000000', 0.0)\n",
      "1 J = 1.0 , sym = B1 , m = -1 , k = ('0 1  1.000000', 41.996371682354464)\n",
      "2 J = 1.0 , sym = B1 , m = 0 , k = ('0 1  1.000000', 41.996371682354464)\n",
      "3 J = 1.0 , sym = B1 , m = 1 , k = ('0 1  1.000000', 41.996371682354464)\n",
      "4 J = 1.0 , sym = B2 , m = -1 , k = ('1 0  1.000000', 36.93165361155496)\n",
      "5 J = 1.0 , sym = B2 , m = 0 , k = ('1 0  1.000000', 36.93165361155496)\n",
      "6 J = 1.0 , sym = B2 , m = 1 , k = ('1 0  1.000000', 36.93165361155496)\n",
      "7 J = 1.0 , sym = B3 , m = -1 , k = ('1 1  1.000000', 24.103743154821103)\n",
      "8 J = 1.0 , sym = B3 , m = 0 , k = ('1 1  1.000000', 24.103743154821103)\n",
      "9 J = 1.0 , sym = B3 , m = 1 , k = ('1 1  1.000000', 24.103743154821103)\n",
      "10 J = 2.0 , sym = A , m = -2 , k = ('2 0  0.859287 2 0 0  0.140713', 71.08328455834958)\n",
      "11 J = 2.0 , sym = A , m = -2 , k = ('0 0  0.859287 2 2 0  0.140713', 134.98025233911153)\n",
      "12 J = 2.0 , sym = A , m = -1 , k = ('2 0  0.859287 2 0 0  0.140713', 71.08328455834958)\n",
      "13 J = 2.0 , sym = A , m = -1 , k = ('0 0  0.859287 2 2 0  0.140713', 134.98025233911153)\n",
      "14 J = 2.0 , sym = A , m = 0 , k = ('2 0  0.859287 2 0 0  0.140713', 71.08328455834958)\n",
      "15 J = 2.0 , sym = A , m = 0 , k = ('0 0  0.859287 2 2 0  0.140713', 134.98025233911153)\n",
      "16 J = 2.0 , sym = A , m = 1 , k = ('2 0  0.859287 2 0 0  0.140713', 71.08328455834958)\n",
      "17 J = 2.0 , sym = A , m = 1 , k = ('0 0  0.859287 2 2 0  0.140713', 134.98025233911153)\n",
      "18 J = 2.0 , sym = A , m = 2 , k = ('2 0  0.859287 2 0 0  0.140713', 71.08328455834958)\n",
      "19 J = 2.0 , sym = A , m = 2 , k = ('0 0  0.859287 2 2 0  0.140713', 134.98025233911153)\n"
     ]
    }
   ],
   "source": [
    "assign_bra, assign_ket = h0.assign(form=\"full\") # `assign_bra` and `assign_ket` are equivalent in this case\n",
    "\n",
    "# print assignment of first 20 states\n",
    "for i in range(20):\n",
    "    print(i, \"J =\", assign_bra[\"J\"][i], \n",
    "          \", sym =\", assign_bra[\"sym\"][i], \n",
    "          \", m =\", assign_bra[\"m\"][i], \n",
    "          \", k =\", assign_bra[\"k\"][i])"
   ]
  },
  {
   "cell_type": "markdown",
   "metadata": {},
   "source": [
    "The 'k' group assignment above contains a tuple where the first element is the assignment of rotational state by $J, k, \\tau$ quantum numbers (the same as printed out from `sol[J][sym].assign`) and the second element is the rotational state energy (same as `sol[J][sym].enr`)."
   ]
  },
  {
   "cell_type": "markdown",
   "metadata": {},
   "source": [
    "## Static field simulations"
   ]
  },
  {
   "cell_type": "markdown",
   "metadata": {},
   "source": [
    "Let's apply static electric field of varying strength along the laboratory $Z$ axis and compute the associated Stark shifts of rotational energies"
   ]
  },
  {
   "cell_type": "code",
   "execution_count": 130,
   "metadata": {},
   "outputs": [],
   "source": [
    "import numpy as np\n",
    "from richmol.convert_units import AUdip_x_Vm_to_invcm\n",
    "\n",
    "enr = []\n",
    "muz = []\n",
    "\n",
    "muz0 = dip.tomat(form=\"full\", cart=\"z\") # matrix representation of Z-dipole at zero field\n",
    "\n",
    "fz_grid = np.linspace(1, 1000*100, 10)\n",
    "\n",
    "for fz in fz_grid: # field in V/m\n",
    "\n",
    "    field = [0, 0, fz] # X, Y, Z field components in V/m\n",
    "\n",
    "    # Hamiltonian\n",
    "    h = h0 - dip * field * AUdip_x_Vm_to_invcm() # `AUdip_x_Vm_to_invcm` converts dipole(au) * field(V/m) into cm^-1\n",
    "\n",
    "    # eigenproblem solution\n",
    "    e, v = np.linalg.eigh(h.tomat(form='full', repres='dense'))\n",
    "\n",
    "    # keep field-dressed energies\n",
    "    enr.append([elem for elem in e])\n",
    "\n",
    "    # keep field-dressed matrix elements of Z-dipole\n",
    "    muz.append( np.dot(np.conjugate(v.T), muz0.dot(v)) )"
   ]
  },
  {
   "cell_type": "code",
   "execution_count": 131,
   "metadata": {},
   "outputs": [
    {
     "data": {
      "text/plain": [
       "[<matplotlib.lines.Line2D at 0x7f41bf6a2040>]"
      ]
     },
     "execution_count": 131,
     "metadata": {},
     "output_type": "execute_result"
    },
    {
     "data": {
      "image/png": "[encoded data removed]",
      "text/plain": [
       "<Figure size 432x288 with 2 Axes>"
      ]
     },
     "metadata": {
      "needs_background": "light"
     },
     "output_type": "display_data"
    }
   ],
   "source": [
    "import matplotlib.pyplot as plt\n",
    "\n",
    "# plot energies and dipoles vs field\n",
    "\n",
    "enr = np.array(enr)\n",
    "muz = np.array(muz)\n",
    "\n",
    "istate = 0\n",
    "fig, (ax1, ax2) = plt.subplots(1,2)\n",
    "plt.suptitle(f\"state #{istate}\")\n",
    "ax1.set_title(\"energy\")\n",
    "ax2.set_title(\"z-dipole\")\n",
    "ax1.plot(fz_grid, enr[:,istate])\n",
    "ax2.plot(fz_grid, muz[:,istate, istate].real)"
   ]
  },
  {
   "cell_type": "markdown",
   "metadata": {},
   "source": [
    "Owing to dipole selection rules, when the field is applied along the laboratory $Z$ axis, it holds that matrix elements for $m \\neq m'$ are zero. This means that the Hamiltonian matrix is block diagonal, where different blocks correspond to different values of $m=m'$. In order to extract matrix representation of dipole for fixed value of $m$ and $m'$ quantum numbers one can use `filter` method (modifies tensor in place) or `filter` function (creates new object). The filter function accepts as arguments state quantum numbers $J$, $m$, and $k$, symmetry, and energy and returns `True` or `False` depending on if the corresponding state needs to be included or excluded form the basis. This is how we can do it to make the above Stark energy calculations more efficient by recognising the $m$-block structure of the Hamiltonian matrix"
   ]
  },
  {
   "cell_type": "code",
   "execution_count": 147,
   "metadata": {},
   "outputs": [
    {
     "name": "stdout",
     "output_type": "stream",
     "text": [
      "matrix dimensions for m = -5: (11, 11)\n",
      "matrix dimensions for m = -4: (20, 20)\n",
      "matrix dimensions for m = -3: (27, 27)\n",
      "matrix dimensions for m = -2: (32, 32)\n",
      "matrix dimensions for m = -1: (35, 35)\n",
      "matrix dimensions for m = 0: (36, 36)\n",
      "matrix dimensions for m = 1: (35, 35)\n",
      "matrix dimensions for m = 2: (32, 32)\n",
      "matrix dimensions for m = 3: (27, 27)\n",
      "matrix dimensions for m = 4: (20, 20)\n",
      "matrix dimensions for m = 5: (11, 11)\n",
      "full matrix dimension: (286, 286)\n"
     ]
    }
   ],
   "source": [
    "from richmol.field import filter\n",
    "\n",
    "def flt(**kw):\n",
    "    \"\"\"Filter function to select states with m = _m\"\"\"\n",
    "    if 'm' in kw:\n",
    "        m = kw['m']\n",
    "        return m == _m\n",
    "    return True\n",
    "\n",
    "# dicts to keep tensors for different m quanta\n",
    "dip_m = {}\n",
    "h0_m = {}\n",
    "\n",
    "for _m in range(-Jmax, Jmax+1):\n",
    "    dip_m[_m] = filter(dip, bra=flt, ket=flt)\n",
    "    h0_m[_m] = filter(h0, bra=flt, ket=flt)\n",
    "    print(f\"matrix dimensions for m = {_m}:\", dip_m[_m].tomat(form=\"full\", cart=\"x\").shape)\n",
    "print(\"full matrix dimension:\", dip.tomat(form=\"full\", cart=\"x\").shape)"
   ]
  },
  {
   "cell_type": "code",
   "execution_count": 148,
   "metadata": {},
   "outputs": [],
   "source": [
    "import numpy as np\n",
    "from richmol.convert_units import AUdip_x_Vm_to_invcm\n",
    "\n",
    "enr = {m : [] for m in h0_m.keys()}\n",
    "muz = {m : [] for m in h0_m.keys()}\n",
    "\n",
    "muz0 = {m : mat.tomat(form=\"full\", cart=\"z\") for m, mat in dip_m.items()} # matrix representation of Z-dipole at zero field\n",
    "\n",
    "fz_grid = np.linspace(1, 1000*100, 10)\n",
    "\n",
    "for m in h0_m.keys():\n",
    "\n",
    "    for fz in fz_grid: # field in V/m\n",
    "\n",
    "        field = [0, 0, fz] # X, Y, Z field components in V/m\n",
    "\n",
    "        # Hamiltonian\n",
    "        h = h0_m[m] - dip_m[m] * field * AUdip_x_Vm_to_invcm()\n",
    "\n",
    "        # eigenproblem solution\n",
    "        e, v = np.linalg.eigh(h.tomat(form='full', repres='dense'))\n",
    "\n",
    "        # keep field-dressed energies\n",
    "        enr[m].append([elem for elem in e])\n",
    "\n",
    "        # keep field-dressed matrix elements of Z-dipole\n",
    "        muz[m].append( np.dot(np.conjugate(v.T), muz0[m].dot(v)) )"
   ]
  },
  {
   "cell_type": "code",
   "execution_count": 156,
   "metadata": {},
   "outputs": [
    {
     "data": {
      "text/plain": [
       "[<matplotlib.lines.Line2D at 0x7f41be7c0790>]"
      ]
     },
     "execution_count": 156,
     "metadata": {},
     "output_type": "execute_result"
    },
    {
     "data": {
      "image/png": "[encoded data removed]",
      "text/plain": [
       "<Figure size 432x288 with 2 Axes>"
      ]
     },
     "metadata": {
      "needs_background": "light"
     },
     "output_type": "display_data"
    }
   ],
   "source": [
    "import matplotlib.pyplot as plt\n",
    "\n",
    "# plot energies and dipoles vs field\n",
    "\n",
    "enr = {m : np.array(val) for m, val in enr.items()}\n",
    "muz = {m: np.array(val) for m, val in muz.items()}\n",
    "\n",
    "istate = 0\n",
    "m = -2\n",
    "fig, (ax1, ax2) = plt.subplots(1,2)\n",
    "plt.suptitle(f\"state #{istate}, m = {m}\")\n",
    "ax1.set_title(\"energy\")\n",
    "ax2.set_title(\"z-dipole\")\n",
    "ax1.plot(fz_grid, enr[m][:,istate])\n",
    "ax2.plot(fz_grid, muz[m][:,istate, istate].real)"
   ]
  },
  {
   "cell_type": "code",
   "execution_count": null,
   "metadata": {},
   "outputs": [],
   "source": []
  },
  {
   "cell_type": "code",
   "execution_count": null,
   "metadata": {},
   "outputs": [],
   "source": [
    "##############################################################################"
   ]
  },
  {
   "cell_type": "markdown",
   "metadata": {},
   "source": [
    "Sometimes, matrix representation of tensor is needed in a subspace of the full basis. The representation of a tensor in a reduced basis can be generated using `filter` method (modifies tensor in place) or `filter` function (creates new object). In the following example, we generate field-free Hamiltonian, dipole moment, and polarizability tensors for different values of the $m$ quantum number, using `filter` function"
   ]
  },
  {
   "cell_type": "code",
   "execution_count": null,
   "metadata": {},
   "outputs": [],
   "source": []
  },
  {
   "cell_type": "markdown",
   "metadata": {},
   "source": [
    "## Time-dependent simulations"
   ]
  },
  {
   "cell_type": "code",
   "execution_count": 1,
   "metadata": {},
   "outputs": [],
   "source": [
    "from richmol.rot import Molecule, solve, LabTensor\n",
    "from richmol.tdse import TDSE\n",
    "from richmol.convert_units import AUpol_x_Vm_to_invcm\n",
    "from richmol.field import filter\n",
    "import numpy as np\n",
    "import matplotlib.pyplot as plt"
   ]
  },
  {
   "cell_type": "markdown",
   "metadata": {},
   "source": [
    "As an example, let's simulate the \"truncated-pulse\" laser induced alignment of linear OCS molecule.\n",
    "\n",
    "At first, we compute the field-free energies, matrix elements of polarizability interaction tensor, and matrix elements of cosine and squared cosine functions of the Euler angle $\\theta$, that are used to quantify the degree of orientation and alignment, respectively"
   ]
  },
  {
   "cell_type": "code",
   "execution_count": 2,
   "metadata": {},
   "outputs": [],
   "source": [
    "ocs = Molecule()\n",
    "\n",
    "ocs.XYZ = (\"angstrom\",\n",
    "           \"C\",  0.0,  0.0,  -0.522939783141,\n",
    "           \"O\",  0.0,  0.0,  -1.680839357,\n",
    "           \"S\",  0.0,  0.0,  1.037160128)\n",
    "\n",
    "# molecular-frame dipole moment (in au)\n",
    "ocs.dip = [0, 0, -0.31093]\n",
    "\n",
    "# molecular-frame polarizability tensor (in au)\n",
    "ocs.pol = [[25.5778097, 0, 0], [0, 25.5778097, 0], [0, 0, 52.4651140]]\n",
    "\n",
    "Jmax = 10\n",
    "sol = solve(ocs, Jmax=Jmax)\n",
    "\n",
    "# laboratory-frame dipole moment operator\n",
    "dip = LabTensor(ocs.dip, sol)\n",
    "\n",
    "# laboratory-frame polarizability tensor\n",
    "pol = LabTensor(ocs.pol, sol)\n",
    "\n",
    "# field-free Hamiltonian\n",
    "h0 = LabTensor(ocs, sol)\n",
    "\n",
    "# matrix elements of cos(theta)\n",
    "cos = LabTensor(\"costheta\", sol)\n",
    "\n",
    "# matrix elements of cos^2(theta)\n",
    "cos2 = LabTensor(\"cos2theta\", sol) # note, you need to add a constant factor 1/3 to ger true values"
   ]
  },
  {
   "cell_type": "markdown",
   "metadata": {},
   "source": [
    "At the next step, we define the external electric field. Here we load it from the file \"trunc_pulse.txt\". The field in units V/cm has a single $Z$ component and is defined on a time grid ranging from 0 to 300 picoseconds"
   ]
  },
  {
   "cell_type": "code",
   "execution_count": 46,
   "metadata": {},
   "outputs": [
    {
     "data": {
      "image/png": "[encoded data removed]",
      "text/plain": [
       "<Figure size 432x288 with 1 Axes>"
      ]
     },
     "metadata": {
      "needs_background": "light"
     },
     "output_type": "display_data"
    }
   ],
   "source": [
    "# truncated-pulse field\n",
    "with open(\"trunc_pulse.txt\", \"r\") as fl:\n",
    "    field = np.array([[float(elem) for elem in line.split()[1:]] for line in fl]) # X, Y, Z field's components\n",
    "    fl.seek(0)\n",
    "    times = [float(line.split()[0]) for line in fl] # time grid\n",
    "\n",
    "# convert field from V/cm to V/m\n",
    "field *= 1e2\n",
    "\n",
    "# plot Z component\n",
    "plt.plot(times, field[:, 2], label=\"Z component\")\n",
    "plt.xlim([0,70])\n",
    "plt.xlabel(\"time in ps\")\n",
    "plt.ylabel(\"field in V/m\")\n",
    "plt.legend()\n",
    "plt.show()"
   ]
  },
  {
   "cell_type": "markdown",
   "metadata": {},
   "source": [
    "Finally, we generate the initial states, set up the molecule-field interaction Hamiltonian and parameters of ttime-dependent solution, and run propagation. For initial states let's assume a temperature of $T=0$ Kelvin and use the eigenfunctions of field-free operator `h0` as initial state vectors"
   ]
  },
  {
   "cell_type": "code",
   "execution_count": 4,
   "metadata": {},
   "outputs": [
    {
     "name": "stdout",
     "output_type": "stream",
     "text": [
      "0 0.005 (1.6780209575222952e-08-3.3881317890172014e-21j)\n",
      "100 1.005 (9.265234629727424e-05-1.6263032587282567e-19j)\n",
      "200 2.005 (0.0003895231189402226-4.336808689942018e-19j)\n",
      "300 3.005 (0.0009253128404749527-2.168404344971009e-19j)\n",
      "400 4.005 (0.0017329466104461805+0j)\n",
      "500 5.005 (0.002843869504582537-8.673617379884035e-19j)\n",
      "600 6.005 (0.004288704913140692-1.3010426069826053e-18j)\n",
      "700 7.005 (0.006098288361238734-1.734723475976807e-18j)\n",
      "800 8.005 (0.008305052862855947-8.673617379884035e-19j)\n",
      "900 9.005 (0.010944722078646763-1.734723475976807e-18j)\n",
      "1000 10.005 (0.014058248543604955-1.734723475976807e-18j)\n",
      "1100 11.005 (0.017693917166178356-3.469446951953614e-18j)\n",
      "1200 12.005 (0.021909520182673285-5.204170427930421e-18j)\n",
      "1300 13.005 (0.026774499050209954-6.938893903907228e-18j)\n",
      "1400 14.005 (0.032371939842688366-1.0408340855860843e-17j)\n",
      "1500 15.005 (0.038800297654445384-6.938893903907228e-18j)\n",
      "1600 16.005 (0.046174706321974957+0j)\n",
      "1700 17.005 (0.05462769532311088-1.0408340855860843e-17j)\n",
      "1800 18.005 (0.06430907930224959-6.938893903907228e-18j)\n",
      "1900 19.005 (0.07538470199625645-1.0408340855860843e-17j)\n",
      "2000 20.005 (0.08803360176096636-8.673617379884035e-18j)\n",
      "2100 21.005 (0.10244301886757655-2.0816681711721685e-17j)\n",
      "2200 22.005 (0.11880048761855284-2.0816681711721685e-17j)\n",
      "2300 23.005 (0.13728206136041074-1.3877787807814457e-17j)\n",
      "2400 24.005 (0.15803553979443724-2.7755575615628914e-17j)\n",
      "2500 25.005 (0.18115747847809283-2.7755575615628914e-17j)\n",
      "2600 26.005 (0.2066628916030858-2.42861286636753e-17j)\n",
      "2700 27.005 (0.23444711595573609+1.3877787807814457e-17j)\n",
      "2800 28.005 (0.2642405642362539+0j)\n",
      "2900 29.005 (0.2955593758420606-3.469446951953614e-17j)\n",
      "3000 30.005 (0.32765853225131436-2.7755575615628914e-17j)\n",
      "3100 31.005 (0.3594988595554805+0j)\n",
      "3200 32.005 (0.3897449672162385-1.3877787807814457e-17j)\n",
      "3300 33.005 (0.41681611198030466-2.7755575615628914e-17j)\n",
      "3400 34.005 (0.4390134841492065-2.7755575615628914e-17j)\n",
      "3500 35.005 (0.4547414431459216-2.7755575615628914e-17j)\n",
      "3600 36.005 (0.462822243275176+0j)\n",
      "3700 37.005 (0.46287092316862016+0j)\n",
      "3800 38.005 (0.45565172249926444+1.3877787807814457e-17j)\n",
      "3900 39.005 (0.4432914912538544+0j)\n",
      "4000 40.005 (0.4292022010755012-2.7755575615628914e-17j)\n",
      "4100 41.005 (0.4175937568371286+5.551115123125783e-17j)\n",
      "4200 42.005 (0.41256245100403705+2.7755575615628914e-17j)\n",
      "4300 43.005 (0.4169133452765457-1.3877787807814457e-17j)\n",
      "4400 44.005 (0.4310634155640394-1.3877787807814457e-17j)\n",
      "4500 45.005 (0.45247999978805953-2.7755575615628914e-17j)\n",
      "4600 46.005 (0.4760354912958723+0j)\n",
      "4700 47.005 (0.4953668806039396+0j)\n",
      "4800 48.005 (0.5048996118083187-2.7755575615628914e-17j)\n",
      "4900 49.005 (0.501824800063887+0j)\n",
      "5000 50.005 (0.4943157622116346-5.551115123125783e-17j)\n",
      "5100 51.005 (0.524632445583217+0j)\n",
      "5200 52.005 (0.5107100095003465-2.7755575615628914e-17j)\n",
      "5300 53.005 (0.44606010712630273+0j)\n",
      "5400 54.005 (0.35083021311534734-2.7755575615628914e-17j)\n",
      "5500 55.005 (0.2503003218185452+1.3877787807814457e-17j)\n",
      "5600 56.005 (0.16473515976379036+1.3877787807814457e-17j)\n",
      "5700 57.005 (0.10430049564909034+2.7755575615628914e-17j)\n",
      "5800 58.005 (0.06928773569173607+5.551115123125783e-17j)\n",
      "5900 59.005 (0.05362578745572573+8.326672684688674e-17j)\n",
      "6000 60.005 (0.04878088721230975+8.326672684688674e-17j)\n",
      "6100 61.005 (0.04627736632837093+7.979727989493313e-17j)\n",
      "6200 62.005 (0.03866536852303462+6.245004513516506e-17j)\n",
      "6300 63.005 (0.019793215319449123+0j)\n",
      "6400 64.005 (-0.014501058711102424+1.3877787807814457e-17j)\n",
      "6500 65.005 (-0.0645944200030148-2.0816681711721685e-17j)\n",
      "6600 66.005 (-0.12452707487953213-5.551115123125783e-17j)\n",
      "6700 67.005 (-0.1803881833136308-2.0816681711721685e-17j)\n",
      "6800 68.005 (-0.21209056890992822-4.163336342344337e-17j)\n",
      "6900 69.005 (-0.1998844985047237-4.163336342344337e-17j)\n",
      "7000 70.005 (-0.13375627525966788-2.7755575615628914e-17j)\n",
      "7100 71.005 (-0.020585887883823928-1.3877787807814457e-17j)\n",
      "7200 72.005 (0.11616355997741665-2.7755575615628914e-17j)\n",
      "7300 73.005 (0.24522547385146518-1.3877787807814457e-17j)\n",
      "7400 74.005 (0.34011408787621544-2.7755575615628914e-17j)\n",
      "7500 75.005 (0.38841486178739415+2.7755575615628914e-17j)\n",
      "7600 76.005 (0.39339833272166147-2.7755575615628914e-17j)\n",
      "7700 77.005 (0.3688301078910911-4.163336342344337e-17j)\n",
      "7800 78.005 (0.33135673658298254-4.85722573273506e-17j)\n",
      "7900 79.005 (0.2946603449549542-1.3877787807814457e-17j)\n",
      "8000 80.005 (0.2670495444270808+1.3877787807814457e-17j)\n",
      "8100 81.005 (0.2517518825473159+1.3877787807814457e-17j)\n",
      "8200 82.005 (0.2482083622532639+5.551115123125783e-17j)\n",
      "8300 83.005 (0.252992831697304+2.7755575615628914e-17j)\n",
      "8400 84.005 (0.25989547375929284+0j)\n",
      "8500 85.005 (0.25969434470385333+0j)\n",
      "8600 86.005 (0.2408607809486564+5.551115123125783e-17j)\n",
      "8700 87.005 (0.19248558729604423+3.122502256758253e-17j)\n",
      "8800 88.005 (0.10957470111784812+2.2551405187698492e-17j)\n",
      "8900 89.005 (-0.00136027295574747+2.0816681711721685e-17j)\n",
      "9000 90.005 (-0.1203427858729595+1.3877787807814457e-17j)\n",
      "9100 91.005 (-0.2187900296503248+1.3877787807814457e-17j)\n",
      "9200 92.005 (-0.2703812612890065+5.204170427930421e-18j)\n",
      "9300 93.005 (-0.26245190040079736+1.3877787807814457e-17j)\n",
      "9400 94.005 (-0.20119565002923204+0j)\n",
      "9500 95.005 (-0.10774695689283081+1.3877787807814457e-17j)\n",
      "9600 96.005 (-0.008097432485874047-6.938893903907228e-18j)\n",
      "9700 97.005 (0.07695441346680047-3.9898639947466563e-17j)\n",
      "9800 98.005 (0.13703065015941213-4.163336342344337e-17j)\n",
      "9900 99.005 (0.1717928591864482-8.326672684688674e-17j)\n"
     ]
    }
   ],
   "source": [
    "tdse = TDSE()\n",
    "tdse.time_units = 'ps'\n",
    "tdse.energy_units = 'invcm'\n",
    "tdse.tstart = 0\n",
    "tdse.tend = 200\n",
    "tdse.dt = 0.01\n",
    "\n",
    "# initial states - Boltzmann-weighted eigenfunctions of `h0`, at T=0 K - only ground state\n",
    "vecs = tdse.initial_state(h0, temp=0)\n",
    "\n",
    "# interaction Hamiltonian\n",
    "H = -1/2 * pol * AUpol_x_Vm_to_invcm() # `AUpol_x_Vm_to_invcm` converts pol[au]*field[V/m] into [cm^-1]\n",
    "\n",
    "# matrix elements of cos^2(theta) in dense matrix representation\n",
    "cos2mat = cos2.tomat(form=\"full\", cart=\"0\")\n",
    "\n",
    "cos2_expval = []\n",
    "\n",
    "for i, t in enumerate(tdse.time_grid()):\n",
    "\n",
    "    # apply field to Hamiltonian\n",
    "    H.field([0, 0, field[i, 2]])\n",
    "\n",
    "    # update vector\n",
    "    vecs, t_ = tdse.update(H, H0=h0, vecs=vecs, matvec_lib='scipy')\n",
    "\n",
    "    # expectation value of cos^2(theta)\n",
    "    expval = sum(np.dot(np.conj(vecs[i][:]), cos2mat.dot(vecs[i][:])) for i in range(len(vecs)))\n",
    "    cos2_expval.append(expval)\n",
    "\n",
    "    if i % 100 == 0:\n",
    "        print(i, t, expval)"
   ]
  },
  {
   "cell_type": "code",
   "execution_count": 51,
   "metadata": {},
   "outputs": [
    {
     "data": {
      "image/png": "[encoded data removed]",
      "text/plain": [
       "<Figure size 432x288 with 1 Axes>"
      ]
     },
     "metadata": {
      "needs_background": "light"
     },
     "output_type": "display_data"
    }
   ],
   "source": [
    "plt.plot([t for t in tdse.time_grid()], [elem.real + 1/3 for elem in cos2_expval], 'b', linewidth=4, label=\"present\")\n",
    "\n",
    "# compare with reference results\n",
    "with open(\"trunc_pulse_cos2theta.txt\", \"r\") as fl:\n",
    "    cos2_expval_ref = np.array([float(line.split()[1]) for line in fl])\n",
    "    fl.seek(0)\n",
    "    times_ref = np.array([float(line.split()[0]) for line in fl])\n",
    "\n",
    "plt.plot(times_ref, cos2_expval_ref, 'r--', linewidth=2, label=\"reference\")\n",
    "plt.xlabel(\"time in ps\")\n",
    "plt.ylabel(\"$\\cos^2\\\\theta$\")\n",
    "plt.legend()\n",
    "plt.show()"
   ]
  },
  {
   "cell_type": "code",
   "execution_count": 37,
   "metadata": {},
   "outputs": [
    {
     "name": "stdout",
     "output_type": "stream",
     "text": [
      "-3 (8, 8) [array([1.+0.j, 0.+0.j, 0.+0.j, 0.+0.j, 0.+0.j, 0.+0.j, 0.+0.j, 0.+0.j])]\n"
     ]
    },
    {
     "ename": "ValueError",
     "evalue": "operands could not be broadcast together with shapes (121,) (8,) ",
     "output_type": "error",
     "traceback": [
      "\u001b[0;31m---------------------------------------------------------------------------\u001b[0m",
      "\u001b[0;31mValueError\u001b[0m                                Traceback (most recent call last)",
      "\u001b[0;32m<ipython-input-37-9cabb1ff52a4>\u001b[0m in \u001b[0;36m<module>\u001b[0;34m\u001b[0m\n\u001b[1;32m     31\u001b[0m \u001b[0;34m\u001b[0m\u001b[0m\n\u001b[1;32m     32\u001b[0m         \u001b[0;31m# update vector\u001b[0m\u001b[0;34m\u001b[0m\u001b[0;34m\u001b[0m\u001b[0;34m\u001b[0m\u001b[0m\n\u001b[0;32m---> 33\u001b[0;31m         \u001b[0mvecs\u001b[0m\u001b[0;34m,\u001b[0m \u001b[0mt_\u001b[0m \u001b[0;34m=\u001b[0m \u001b[0mtdse\u001b[0m\u001b[0;34m.\u001b[0m\u001b[0mupdate\u001b[0m\u001b[0;34m(\u001b[0m\u001b[0mH\u001b[0m\u001b[0;34m,\u001b[0m \u001b[0mH0\u001b[0m\u001b[0;34m=\u001b[0m\u001b[0mh0_m\u001b[0m\u001b[0;34m,\u001b[0m \u001b[0mvecs\u001b[0m\u001b[0;34m=\u001b[0m\u001b[0mvecs\u001b[0m\u001b[0;34m,\u001b[0m \u001b[0mmatvec_lib\u001b[0m\u001b[0;34m=\u001b[0m\u001b[0;34m'scipy'\u001b[0m\u001b[0;34m)\u001b[0m\u001b[0;34m\u001b[0m\u001b[0;34m\u001b[0m\u001b[0m\n\u001b[0m\u001b[1;32m     34\u001b[0m \u001b[0;34m\u001b[0m\u001b[0m\n\u001b[1;32m     35\u001b[0m         \u001b[0;31m# expectation value of cos^2(theta)\u001b[0m\u001b[0;34m\u001b[0m\u001b[0;34m\u001b[0m\u001b[0;34m\u001b[0m\u001b[0m\n",
      "\u001b[0;32m~/.local/lib/python3.8/site-packages/richmol-0.1a1-py3.8-linux-x86_64.egg/richmol/tdse.py\u001b[0m in \u001b[0;36mwrapper\u001b[0;34m(self, *args, **kwargs)\u001b[0m\n\u001b[1;32m     10\u001b[0m     \u001b[0;34m@\u001b[0m\u001b[0mfunctools\u001b[0m\u001b[0;34m.\u001b[0m\u001b[0mwraps\u001b[0m\u001b[0;34m(\u001b[0m\u001b[0mfunc\u001b[0m\u001b[0;34m)\u001b[0m\u001b[0;34m\u001b[0m\u001b[0;34m\u001b[0m\u001b[0m\n\u001b[1;32m     11\u001b[0m     \u001b[0;32mdef\u001b[0m \u001b[0mwrapper\u001b[0m\u001b[0;34m(\u001b[0m\u001b[0mself\u001b[0m\u001b[0;34m,\u001b[0m \u001b[0;34m*\u001b[0m\u001b[0margs\u001b[0m\u001b[0;34m,\u001b[0m \u001b[0;34m**\u001b[0m\u001b[0mkwargs\u001b[0m\u001b[0;34m)\u001b[0m\u001b[0;34m:\u001b[0m\u001b[0;34m\u001b[0m\u001b[0;34m\u001b[0m\u001b[0m\n\u001b[0;32m---> 12\u001b[0;31m         \u001b[0mvecs\u001b[0m \u001b[0;34m=\u001b[0m \u001b[0mfunc\u001b[0m\u001b[0;34m(\u001b[0m\u001b[0mself\u001b[0m\u001b[0;34m,\u001b[0m \u001b[0;34m*\u001b[0m\u001b[0margs\u001b[0m\u001b[0;34m,\u001b[0m \u001b[0;34m**\u001b[0m\u001b[0mkwargs\u001b[0m\u001b[0;34m)\u001b[0m\u001b[0;34m\u001b[0m\u001b[0;34m\u001b[0m\u001b[0m\n\u001b[0m\u001b[1;32m     13\u001b[0m         \u001b[0mtime\u001b[0m \u001b[0;34m=\u001b[0m \u001b[0mself\u001b[0m\u001b[0;34m.\u001b[0m\u001b[0m_time_grid\u001b[0m\u001b[0;34m[\u001b[0m\u001b[0;36m1\u001b[0m\u001b[0;34m]\u001b[0m\u001b[0;34m[\u001b[0m\u001b[0mwrapper\u001b[0m\u001b[0;34m.\u001b[0m\u001b[0mcount\u001b[0m\u001b[0;34m]\u001b[0m\u001b[0;34m\u001b[0m\u001b[0;34m\u001b[0m\u001b[0m\n\u001b[1;32m     14\u001b[0m         \u001b[0mwrapper\u001b[0m\u001b[0;34m.\u001b[0m\u001b[0mcount\u001b[0m \u001b[0;34m+=\u001b[0m \u001b[0;36m1\u001b[0m\u001b[0;34m\u001b[0m\u001b[0;34m\u001b[0m\u001b[0m\n",
      "\u001b[0;32m~/.local/lib/python3.8/site-packages/richmol-0.1a1-py3.8-linux-x86_64.egg/richmol/tdse.py\u001b[0m in \u001b[0;36mupdate\u001b[0;34m(self, H, H0, vecs, matvec_lib, tol)\u001b[0m\n\u001b[1;32m     68\u001b[0m                         \u001b[0mexp_fac\u001b[0m \u001b[0;34m/\u001b[0m \u001b[0;36m2\u001b[0m \u001b[0;34m*\u001b[0m \u001b[0mH0\u001b[0m\u001b[0;34m.\u001b[0m\u001b[0mtomat\u001b[0m\u001b[0;34m(\u001b[0m\u001b[0mform\u001b[0m\u001b[0;34m=\u001b[0m\u001b[0;34m'full'\u001b[0m\u001b[0;34m)\u001b[0m\u001b[0;34m.\u001b[0m\u001b[0mdiagonal\u001b[0m\u001b[0;34m(\u001b[0m\u001b[0;34m)\u001b[0m\u001b[0;34m\u001b[0m\u001b[0;34m\u001b[0m\u001b[0m\n\u001b[1;32m     69\u001b[0m                     )\n\u001b[0;32m---> 70\u001b[0;31m                 \u001b[0mres\u001b[0m \u001b[0;34m=\u001b[0m \u001b[0mself\u001b[0m\u001b[0;34m.\u001b[0m\u001b[0m__dict__\u001b[0m\u001b[0;34m[\u001b[0m\u001b[0;34m'expfacH0'\u001b[0m\u001b[0;34m]\u001b[0m \u001b[0;34m*\u001b[0m \u001b[0mvec\u001b[0m\u001b[0;34m\u001b[0m\u001b[0;34m\u001b[0m\u001b[0m\n\u001b[0m\u001b[1;32m     71\u001b[0m                 res = expv_lanczos(\n\u001b[1;32m     72\u001b[0m                     \u001b[0mres\u001b[0m\u001b[0;34m,\u001b[0m \u001b[0mexp_fac\u001b[0m\u001b[0;34m,\u001b[0m \u001b[0;32mlambda\u001b[0m \u001b[0mv\u001b[0m \u001b[0;34m:\u001b[0m \u001b[0mcartensvec\u001b[0m\u001b[0;34m(\u001b[0m\u001b[0mv\u001b[0m\u001b[0;34m)\u001b[0m\u001b[0;34m,\u001b[0m \u001b[0mtol\u001b[0m\u001b[0;34m=\u001b[0m\u001b[0mtol\u001b[0m\u001b[0;34m\u001b[0m\u001b[0;34m\u001b[0m\u001b[0m\n",
      "\u001b[0;31mValueError\u001b[0m: operands could not be broadcast together with shapes (121,) (8,) "
     ]
    }
   ],
   "source": [
    "def flt(**kw):\n",
    "    \"\"\"Filter function to select states with m = _m\"\"\"\n",
    "    if 'm' in kw:\n",
    "        m = kw['m']\n",
    "        return m == _m\n",
    "    return True\n",
    "\n",
    "for _m in range(-3, 3):\n",
    "\n",
    "    h0_m = filter(h0, bra=flt, ket=flt)\n",
    "    pol_m = filter(pol, bra=flt, ket=flt)\n",
    "    cos2_m = filter(cos2, bra=flt, ket=flt)\n",
    "\n",
    "    # initial states - Boltzmann-weighted eigenfunctions of `h0`, at T=0 K - only ground state\n",
    "    vecs = tdse.initial_state(h0_m, temp=0)\n",
    "\n",
    "    # interaction Hamiltonian\n",
    "    H = -1/2 * pol_m * AUpol_x_Vm_to_invcm() * [0, 0, field(0)]\n",
    "\n",
    "    # matrix elements of cos^2(theta) in dense matrix representation\n",
    "    cos2mat = cos2_m.tomat(form=\"full\", repres=\"dense\", cart=\"0\")\n",
    "\n",
    "    cos2_expval = []\n",
    "\n",
    "    for i, t in enumerate(tdse.time_grid()):\n",
    "\n",
    "        # apply field to Hamiltonian\n",
    "        H.field([0, 0, field(t)])\n",
    "        print(_m, h0_m.tomat(form=\"full\").shape, vecs)\n",
    "\n",
    "        \n",
    "        # update vector\n",
    "        vecs, t_ = tdse.update(H, H0=h0_m, vecs=vecs, matvec_lib='scipy')\n",
    "\n",
    "        # expectation value of cos^2(theta)\n",
    "        expval = np.einsum(\"ij,jk,ik->\", np.conj(vecs), cos2mat, vecs) + 1/3 # TODO: why not cos2.expval(vecs)?\n",
    "        cos2_expval.append(expval)\n",
    "\n",
    "        if i % 100 == 0:\n",
    "            print(_m, i, t, expval)"
   ]
  },
  {
   "cell_type": "code",
   "execution_count": null,
   "metadata": {},
   "outputs": [],
   "source": []
  },
  {
   "cell_type": "code",
   "execution_count": null,
   "metadata": {},
   "outputs": [],
   "source": []
  },
  {
   "cell_type": "code",
   "execution_count": null,
   "metadata": {},
   "outputs": [],
   "source": []
  },
  {
   "cell_type": "code",
   "execution_count": null,
   "metadata": {},
   "outputs": [],
   "source": []
  },
  {
   "cell_type": "markdown",
   "metadata": {},
   "source": [
    "As an example, let's simulate the mixed-field orientation of water molecule, which is produced by an elliptically-polarized laser field combined with static field.\n",
    "\n",
    "At first, compute field-free energies and matrix elements of interaction tensor operators"
   ]
  },
  {
   "cell_type": "code",
   "execution_count": 1,
   "metadata": {},
   "outputs": [],
   "source": [
    "from richmol.rot import Molecule, solve, LabTensor\n",
    "\n",
    "water = Molecule()\n",
    "\n",
    "water.XYZ = (\"bohr\",\n",
    "             \"O\",  0.00000000,   0.00000000,   0.12395915,\n",
    "             \"H\",  0.00000000,  -1.43102686,  -0.98366080,\n",
    "             \"H\",  0.00000000,   1.43102686,  -0.98366080)\n",
    "\n",
    "# molecular-frame dipole moment (au)\n",
    "water.dip = [0, 0, -0.7288]\n",
    "\n",
    "# molecular-frame polarizability tensor (au)\n",
    "water.pol = [[9.1369, 0, 0], [0, 9.8701, 0], [0, 0, 9.4486]]\n",
    "\n",
    "Jmax = 2\n",
    "water.sym = \"C2v\"\n",
    "\n",
    "sol = solve(water, Jmax=Jmax)\n",
    "\n",
    "# laboratory-frame dipole moment operator\n",
    "dip = LabTensor(water.dip, sol)\n",
    "\n",
    "# laboratory-frame polarizability tensor\n",
    "pol = LabTensor(water.pol, sol)\n",
    "\n",
    "# field-free Hamiltonian\n",
    "h0 = LabTensor(water, sol)\n",
    "\n",
    "cos = LabTensor(\"costheta\", sol)\n",
    "cos2 = LabTensor(\"cos2theta\", sol)"
   ]
  },
  {
   "cell_type": "markdown",
   "metadata": {},
   "source": [
    "Now, set the parameters of time-dependent simulations, such as time units, energy units, initial and terminal times, time step, and field"
   ]
  },
  {
   "cell_type": "code",
   "execution_count": 2,
   "metadata": {},
   "outputs": [
    {
     "name": "stdout",
     "output_type": "stream",
     "text": [
      "frequency in nm: 8.000000000000001e-07\n",
      "frequency in 1/ps: 2354.564459136066\n"
     ]
    }
   ],
   "source": [
    "from richmol.tdse import TDSE\n",
    "from scipy.constants import speed_of_light\n",
    "import numpy as np\n",
    "\n",
    "tdse = TDSE()\n",
    "tdse.time_units = 'ps'\n",
    "tdse.energy_units = 'invcm'\n",
    "tdse.tstart = 0\n",
    "tdse.tend = 0.1\n",
    "tdse.dt = 0.01\n",
    "\n",
    "# set up elliptically-polarized field in the XZ plane (constant profile)\n",
    "a = 1\n",
    "b = 1/np.sqrt(3)\n",
    "amp = 1e10 # field amplitude in V/m\n",
    "nm = 1e-9\n",
    "omega = 800 * nm # frequency in nanometers\n",
    "print(\"frequency in nm:\", omega)\n",
    "omega = 2*np.pi*speed_of_light/omega * tdse.time_units # frequency in 1/time_units\n",
    "print(\"frequency in 1/ps:\", omega)\n",
    "# X and Z components of field\n",
    "fx = lambda t: a*amp*np.cos(omega*t)\n",
    "fz = lambda t: b*amp*np.sin(omega*t)\n",
    "\n",
    "# set up static field, along the X axis\n",
    "dc = [0, 0, 1e4] # field in V/m"
   ]
  },
  {
   "cell_type": "markdown",
   "metadata": {},
   "source": [
    "The final step before running simulations is to set up an initial state. In the present case, molecule initially in the static electric field, so that the initial vectors can be computed as eigenfunctions of the corresponding interaction Hamiltonian"
   ]
  },
  {
   "cell_type": "code",
   "execution_count": 3,
   "metadata": {},
   "outputs": [
    {
     "name": "stdout",
     "output_type": "stream",
     "text": [
      "0.005 0.01 (-1.114319921338695e-05+2.7055666822449208e-20j)\n",
      "0.015 0.02 (-4.552130729609563e-05-4.539721215679851e-20j)\n",
      "0.025 0.03 (-9.345616811098272e-05-1.2593897564962473e-20j)\n",
      "0.034999999999999996 0.04 (-0.00014924648164392078+7.509448255074583e-20j)\n",
      "0.045 0.05 (-0.00019678043028484304-1.6682520697632287e-19j)\n",
      "0.055 0.060000000000000005 (-0.0002258563026797006-9.849266185758502e-20j)\n",
      "0.065 0.06999999999999999 (-0.00021813922112728457-9.111499607407156e-20j)\n",
      "0.07500000000000001 0.08 (-0.0001636447661121603-1.1547968695854216e-19j)\n",
      "0.085 0.09 (-4.644978053954311e-05-1.731204212020041e-19j)\n",
      "0.095 0.09999999999999999 (0.0001381648774100086-8.858221714695935e-20j)\n"
     ]
    }
   ],
   "source": [
    "from richmol.convert_units import AUdip_x_Vm_to_invcm, AUpol_x_Vm_to_invcm\n",
    "\n",
    "# dipole interaction Hamiltonian\n",
    "H1 = h0 - dip * dc * AUdip_x_Vm_to_invcm()\n",
    "\n",
    "vecs = tdse.initial_state(H1, temp=10)\n",
    "\n",
    "H2 = - 1/2 * pol * AUpol_x_Vm_to_invcm()\n",
    "\n",
    "cosmat = cos2.tomat(form=\"full\", repres=\"dense\", cart=\"0\")\n",
    "\n",
    "for t in tdse.time_grid():\n",
    "    H2.field([fx(t), 0, fz(t)])\n",
    "    H = H1 + H2\n",
    "    vecs, t_ = tdse.update(H, vecs=vecs, matvec_lib='scipy')\n",
    "    c = np.einsum(\"ij,jk,ik->\", np.conj(vecs), cosmat, vecs) + 1/3\n",
    "    print(t, t_, c)"
   ]
  },
  {
   "cell_type": "markdown",
   "metadata": {},
   "source": [
    "Molecule initially in static field. The initial wavepacket is a field-dressed state, which can be obtained as an eigenfunction of the corresponding molecule-field interaction Hamiltonian"
   ]
  },
  {
   "cell_type": "code",
   "execution_count": 52,
   "metadata": {},
   "outputs": [],
   "source": [
    "from richmol.convert_units import AUdip_x_Vm_to_invcm\n",
    "import numpy as np\n",
    "\n",
    "# static field of 1 kV/cm along X axis\n",
    "dc = [100000, 0, 0]\n",
    "\n",
    "# dipole interaction Hamiltonian\n",
    "H = h0 - dip * dc * AUdip_x_Vm_to_invcm()\n",
    "\n",
    "# eigenvalues and eigenfunctions\n",
    "enr, vec = np.linalg.eigh(H.tomat(form='full', repres='dense'))"
   ]
  },
  {
   "cell_type": "code",
   "execution_count": 82,
   "metadata": {},
   "outputs": [
    {
     "name": "stdout",
     "output_type": "stream",
     "text": [
      "0    -0.000009 ('1.0000', ' 0.0', ' 0.0', '-8.73306e-06')\n",
      "1    24.103727 ('0.5618', ' 1.0', ' 0.0', '-1.61123e-05')\n",
      "2    24.103727 ('0.4382', ' 1.0', ' 0.0', '-1.61123e-05')\n",
      "3    24.103740 ('0.5000', ' 1.0', '-1.0', '-3.45745e-06', '0.5000', ' 1.0', ' 1.0', '-3.45745e-06')\n",
      "4    36.931650 ('0.5000', ' 1.0', ' 1.0', '-3.37137e-06', '0.5000', ' 1.0', '-1.0', '-3.37137e-06')\n",
      "5    36.931650 ('1.0000', ' 1.0', ' 0.0', '-3.37137e-06')\n",
      "6    36.931658 ('0.5000', ' 1.0', '-1.0', ' 4.23789e-06', '0.5000', ' 1.0', ' 1.0', ' 4.23789e-06')\n",
      "7    41.996370 ('0.5000', ' 1.0', ' 1.0', '-2.10903e-06', '0.5000', ' 1.0', '-1.0', '-2.10903e-06')\n",
      "8    41.996384 ('0.3585', ' 1.0', ' 0.0', ' 1.19375e-05')\n",
      "9    41.996384 ('0.6415', ' 1.0', ' 0.0', ' 1.19375e-05')\n"
     ]
    }
   ],
   "source": [
    "# print assignments of first 10 lowest energy states\n",
    "\n",
    "assign_bra, assign_ket = h0.assign(form='full') # assign_bra and assign_ket are equivalent here\n",
    "\n",
    "# print two largest field-free contributions to each state\n",
    "\n",
    "for i in range(10):\n",
    "    v = np.abs(vec[:, i])\n",
    "    ind = np.argmax(np.abs(v)) # index of the largest contributing field-free basis state\n",
    "    v[ind] = 0\n",
    "    ind2 = np.argmax(np.abs(v)) # index of the second largest contributing field-free basis state\n",
    "\n",
    "    c = np.abs(vec[ind, i])**2\n",
    "    J = assign_bra['J'][ind]\n",
    "    m = assign_bra['m'][ind]\n",
    "    k = assign_bra['k'][ind][0] # contains rotational (J,k,tau) (and vibrational) assignments of field-free states, skip printing it here\n",
    "    e = assign_bra['k'][ind][1] # contains field-free energies\n",
    "    shift = enr[i] - e\n",
    "\n",
    "    c2 = np.abs(vec[ind2, i])**2\n",
    "    J2 = assign_bra['J'][ind2]\n",
    "    m2 = assign_bra['m'][ind2]\n",
    "    k2 = assign_bra['k'][ind2][0] # contains rotational (J,k,tau) (and vibrational) assignments of field-free states, skip printing it here\n",
    "    e2 = assign_bra['k'][ind2][1] # contains field-free energies\n",
    "    shift2 = enr[i] - e2\n",
    "\n",
    "    assign = (\"%6.4f\"%c, \"%4.1f\"%J, \"%4.1f\"%m, \"%12.6g\"%shift)\n",
    "    if c2 > 0.4:\n",
    "        assign += (\"%6.4f\"%c2, \"%4.1f\"%J2, \"%4.1f\"%m2, \"%12.6g\"%shift2)\n",
    "\n",
    "    print(i, \"%12.6f\"%enr[i], assign)"
   ]
  },
  {
   "cell_type": "markdown",
   "metadata": {},
   "source": [
    "When printing assignments, please note that `assign(form='full')` returns dictionary with keys `'m'`, `'k'`, `'sym'`, `'J'` and corresponding elements for every field-free basis state in the same order as they are used to build the matrix representation of tensor in the 2D-matrix form using `tomat(form='full')`. When using `assign(form='block')`, the returned object is nested dictionary with keys `[J][sym]['m']` and `[J][sym]['k']`, the order of elements is the same as used to build the matrix representation of tensor in the block-matrix form using `tomat(form='block')`."
   ]
  },
  {
   "cell_type": "markdown",
   "metadata": {},
   "source": [
    "... continue when TDSE is ready"
   ]
  },
  {
   "cell_type": "code",
   "execution_count": null,
   "metadata": {},
   "outputs": [],
   "source": []
  }
 ],
 "metadata": {
  "kernelspec": {
   "display_name": "Python 3",
   "language": "python",
   "name": "python3"
  },
  "language_info": {
   "codemirror_mode": {
    "name": "ipython",
    "version": 3
   },
   "file_extension": ".py",
   "mimetype": "text/x-python",
   "name": "python",
   "nbconvert_exporter": "python",
   "pygments_lexer": "ipython3",
   "version": "3.8.5"
  },
  "metadata": {
   "interpreter": {
    "hash": "31f2aee4e71d21fbe5cf8b01ff0e069b9275f58929596ceb00d14d90e3e16cd6"
   }
  }
 },
 "nbformat": 4,
 "nbformat_minor": 4
}
