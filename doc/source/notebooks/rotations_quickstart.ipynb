{
 "cells": [
  {
   "cell_type": "markdown",
   "metadata": {},
   "source": [
    "# Rotational dynamics Quickstart"
   ]
  },
  {
   "cell_type": "markdown",
   "metadata": {},
   "source": [
    "Calculation of rotational dynamics proceeds in two steps. At the first step, we obtain molecular field-free rotational energies, wave functions, and matrix elements of desired electric and magnetic property tensors, such as, for example, dipole moment or polarizability. At the second step, we solve the time-dependent problem with applied external electric and magnetic field using the field-free solutions, obtained in (i), as a basis."
   ]
  },
  {
   "cell_type": "markdown",
   "metadata": {},
   "source": [
    "## Molecular field-free rotational states"
   ]
  },
  {
   "cell_type": "code",
   "execution_count": 1,
   "metadata": {},
   "outputs": [],
   "source": [
    "from richmol.rot.molecule import Molecule, mol_tensor\n",
    "from richmol.rot.solution import solve"
   ]
  },
  {
   "cell_type": "markdown",
   "metadata": {},
   "source": [
    "There are three general ways to define the molecule and its properties, using calculated or experimental data or combination of both:\n",
    "\n",
    "1. Provide Cartesian coordinates of atoms and molecular property tensors, referring to the same coordinate frame, obtained, for example, from quantum chemical calculations.\n",
    "\n",
    "2. Provide measured spectroscopic constants ($A$, $B$, $C$, $D_{J}$, $D_{J,K}$ ...) and molecular property tensors in the coordinate frame of principal axes of inertia (PAI).\n",
    "\n",
    "3. Provide measured spectroscopic constants ($A$, $B$, $C$, $D_{J}$, $D_{J,K}$ ...) and calculated molecular property tensors. In this case, the Cartesian coordinates of atoms must also be supplied, which will be used only for rotating the property tensors to the PAI frame."
   ]
  },
  {
   "cell_type": "markdown",
   "metadata": {},
   "source": [
    "### Molecular geometry and property tensors"
   ]
  },
  {
   "cell_type": "markdown",
   "metadata": {},
   "source": [
    "Here is an example for water molecule, using data obtained from a quantum chemical calculation"
   ]
  },
  {
   "cell_type": "code",
   "execution_count": 2,
   "metadata": {},
   "outputs": [
    {
     "output_type": "stream",
     "name": "stdout",
     "text": [
      "O 15.99491462 [0.         0.         0.06559636]\nH 1.0078250322 [ 0.         -0.7572668  -0.52053088]\nH 1.0078250322 [ 0.          0.7572668  -0.52053088]\n"
     ]
    }
   ],
   "source": [
    "water = Molecule()\n",
    "\n",
    "# Cartesian coordinates of atoms\n",
    "water.XYZ = (\"bohr\",\n",
    "             \"O\",  0.00000000,   0.00000000,   0.12395915,\n",
    "             \"H\",  0.00000000,  -1.43102686,  -0.98366080,\n",
    "             \"H\",  0.00000000,   1.43102686,  -0.98366080)\n",
    "\n",
    "# dipole moment (au)\n",
    "water.dip = [0, 0, -0.7288]\n",
    "\n",
    "# polarizability tensor (au)\n",
    "water.pol = [[9.1369, 0, 0], [0, 9.8701, 0], [0, 0, 9.4486]]\n",
    "\n",
    "for atom in water.XYZ:\n",
    "    print(atom['label'], atom['mass'], atom['xyz'])"
   ]
  },
  {
   "cell_type": "markdown",
   "metadata": {},
   "source": [
    "By default, calculations are carried out for the main isotopologue. To specity a non-standard isotope, put the corresponding isotope number next to the atom label, for example, \"O18\" for oxygen-18 or \"H2\" for deuterium"
   ]
  },
  {
   "cell_type": "code",
   "execution_count": 3,
   "metadata": {},
   "outputs": [
    {
     "output_type": "stream",
     "name": "stdout",
     "text": [
      "O18 17.999159613 [0.         0.         0.06559636]\nH2 2.0141017781 [ 0.         -0.7572668  -0.52053088]\nH2 2.0141017781 [ 0.          0.7572668  -0.52053088]\n"
     ]
    }
   ],
   "source": [
    "# example of D2O^{18}\n",
    "D2O18 = Molecule()\n",
    "D2O18.XYZ = (\"bohr\",\n",
    "             \"O18\",  0.00000000,   0.00000000,   0.12395915,\n",
    "             \"H2\",   0.00000000,  -1.43102686,  -0.98366080,\n",
    "             \"H2\",   0.00000000,   1.43102686,  -0.98366080)\n",
    "\n",
    "for atom in D2O18.XYZ:\n",
    "    print(atom['label'], atom['mass'], atom['xyz'])"
   ]
  },
  {
   "cell_type": "markdown",
   "metadata": {},
   "source": [
    "You can also read/store the geometry from/to XYZ file"
   ]
  },
  {
   "cell_type": "code",
   "execution_count": 4,
   "metadata": {},
   "outputs": [
    {
     "output_type": "stream",
     "name": "stdout",
     "text": [
      "O 15.99491462 [0.         0.         0.06559636]\nH 1.0078250322 [ 0.         -0.7572668  -0.52053088]\nH 1.0078250322 [ 0.          0.7572668  -0.52053088]\n"
     ]
    }
   ],
   "source": [
    "# store Cartesian coordinates of atoms into XYZ file\n",
    "water.store_xyz(\"water.xyz\", \"comment line\")\n",
    "\n",
    "# read Cartesian coordinates of atoms from XYZ file\n",
    "water2 = Molecule()\n",
    "water2.XYZ = \"water.xyz\"\n",
    "\n",
    "for atom in water2.XYZ:\n",
    "    print(atom['label'], atom['mass'], atom['xyz'])"
   ]
  },
  {
   "cell_type": "markdown",
   "metadata": {},
   "source": [
    "The molecular frame embedding, i.e., the orientation of $x,y,z$ axes with respect to molecule, can be defined using `frame` property.\n",
    "The molecule properties `dip` for the dipole moment and `pol` for the polarizability tensor (and few others) will be dynamically rotated to a new coordinate frame whenever the latter changes"
   ]
  },
  {
   "cell_type": "code",
   "execution_count": 5,
   "metadata": {},
   "outputs": [
    {
     "output_type": "stream",
     "name": "stdout",
     "text": [
      "coordinatesof atoms\n [('O', 15.99491462, [ 0.        ,  0.06559636,  0.        ])\n ('H',  1.00782503, [-0.7572668 , -0.52053088,  0.        ])\n ('H',  1.00782503, [ 0.7572668 , -0.52053088,  0.        ])]\ndipole moment\n [ 0.     -0.7288  0.    ]\npolarizability\n [[9.8701 0.     0.    ]\n [0.     9.4486 0.    ]\n [0.     0.     9.1369]]\ninertia tensor\n [[ 0.61496944 -0.         -0.        ]\n [-0.          1.15588059 -0.        ]\n [-0.         -0.          1.77085002]]\n"
     ]
    }
   ],
   "source": [
    "# change frame to inertial principal axes system (ipas)\n",
    "water.frame = \"ipas\"\n",
    "\n",
    "# or equivalently\n",
    "water.frame = \"diag(inertia)\"\n",
    "\n",
    "print(\"coordinatesof atoms\\n\", water.XYZ)\n",
    "print(\"dipole moment\\n\", water.dip)\n",
    "print(\"polarizability\\n\", water.pol)\n",
    "\n",
    "print(\"inertia tensor\\n\", water.inertia) # must be diagonal in the \"ipas\" frame"
   ]
  },
  {
   "cell_type": "markdown",
   "metadata": {},
   "source": [
    "Multiple frame operations can be combined together, for example, we can rotate to the inertial principal axes system and then permute the $x$ and $z$ axes"
   ]
  },
  {
   "cell_type": "code",
   "execution_count": 6,
   "metadata": {},
   "outputs": [
    {
     "output_type": "stream",
     "name": "stdout",
     "text": [
      "coordinates\n [('O', 15.99491462, [ 0.        ,  0.06559636,  0.        ])\n ('H',  1.00782503, [ 0.        , -0.52053088, -0.7572668 ])\n ('H',  1.00782503, [ 0.        , -0.52053088,  0.7572668 ])]\ndipole moment\n [ 0.     -0.7288  0.    ]\npolarizability\n [[9.1369 0.     0.    ]\n [0.     9.4486 0.    ]\n [0.     0.     9.8701]]\ninertia tensor\n [[ 1.77085002 -0.         -0.        ]\n [-0.          1.15588059 -0.        ]\n [-0.         -0.          0.61496944]]\n"
     ]
    }
   ],
   "source": [
    "water.frame = \"ipas\"\n",
    "water.frame = \"zyx\"\n",
    "\n",
    "# or, equivalently in one line\n",
    "water.frame = \"zyx,ipas\"\n",
    "\n",
    "print(\"coordinates\\n\", water.XYZ)\n",
    "print(\"dipole moment\\n\", water.dip)\n",
    "print(\"polarizability\\n\", water.pol)\n",
    "\n",
    "print(\"inertia tensor\\n\", water.inertia) # must be diagonal in \"ipas\" frame"
   ]
  },
  {
   "cell_type": "markdown",
   "metadata": {},
   "source": [
    "The principal axes system can be defined with respect to any rank-2 symmetric matrix. In many cases it is convenient to choose a molecular frame in which the polarizability tensor is diagonal"
   ]
  },
  {
   "cell_type": "code",
   "execution_count": 7,
   "metadata": {},
   "outputs": [
    {
     "output_type": "stream",
     "name": "stdout",
     "text": [
      "coordinates\n [('O', 15.99491462, [ 0.        ,  0.06559636,  0.        ])\n ('H',  1.00782503, [ 0.        , -0.52053088, -0.7572668 ])\n ('H',  1.00782503, [ 0.        , -0.52053088,  0.7572668 ])]\ndipole moment\n [ 0.     -0.7288  0.    ]\npolarizability\n [[9.1369 0.     0.    ]\n [0.     9.4486 0.    ]\n [0.     0.     9.8701]]\n"
     ]
    }
   ],
   "source": [
    "water.frame = \"diag(pol)\" # can also be combined with axes permutations, e.g., \"xzy,diag(pol)\"\n",
    "\n",
    "print(\"coordinates\\n\", water.XYZ)\n",
    "print(\"dipole moment\\n\", water.dip)\n",
    "print(\"polarizability\\n\", water.pol)\n"
   ]
  },
  {
   "cell_type": "markdown",
   "metadata": {},
   "source": [
    "We can also define a custom rotation matrix or a principal axes matrix, as demosntrated below"
   ]
  },
  {
   "cell_type": "code",
   "execution_count": 8,
   "metadata": {},
   "outputs": [],
   "source": [
    "import numpy as np\n",
    "import scipy\n",
    "\n",
    "# generate random matrix\n",
    "mat = np.random.rand(3,3)\n",
    "\n",
    "# random rotation matrix\n",
    "water.custom_rot = scipy.linalg.expm((mat - mat.T)/2)\n",
    "\n",
    "# random symmetric matrix\n",
    "water.custom_pam = (mat + mat.T)/2\n",
    "\n",
    "# use 'custom_rot' (orthogonal) matrix to rotate the frame\n",
    "water.frame = \"custom_rot\"\n",
    "\n",
    "# use 'custom_pam' (symmetric) matrix as principal axes matrix\n",
    "water.frame = \"diag(custom_pam)\""
   ]
  },
  {
   "cell_type": "markdown",
   "metadata": {},
   "source": [
    "Multiple occurences of `frame` assignments lead to accumulation of the corresponding frame rotations. To reset the frame to the initial one, as defined by the input Cartesian coordinates of atoms, we can use `frame=null`"
   ]
  },
  {
   "cell_type": "code",
   "execution_count": 9,
   "metadata": {},
   "outputs": [
    {
     "output_type": "stream",
     "name": "stdout",
     "text": [
      "[('O', 15.99491462, [ 0.        ,  0.06559636,  0.        ])\n ('H',  1.00782503, [ 0.        , -0.52053088, -0.7572668 ])\n ('H',  1.00782503, [ 0.        , -0.52053088,  0.7572668 ])]\n"
     ]
    }
   ],
   "source": [
    "water.frame = \"diag(inertia)\" # rotate to ipas\n",
    "water.frame = \"zxy\" # then permute axes (123)\n",
    "\n",
    "# now we want to permute axes (23) in the original frame, reset frame rotation\n",
    "water.frame = \"xzy,null\"\n",
    "\n",
    "print(water.XYZ)"
   ]
  },
  {
   "cell_type": "markdown",
   "metadata": {},
   "source": [
    "As already mentioned, only certain molecule properties (such as `dip`, `pol`, `inertia`, `XYZ`, and few others) are automatically rotated when the frame is altered. This is demonstrated in the following example"
   ]
  },
  {
   "cell_type": "code",
   "execution_count": 10,
   "metadata": {},
   "outputs": [
    {
     "output_type": "stream",
     "name": "stdout",
     "text": [
      "vec\n [1, 2, 3]\nmat\n [[1, 2, 3], [4, 5, 6], [7, 8, 9]]\ndip\n [-0.7288  0.      0.    ]\n"
     ]
    }
   ],
   "source": [
    "water.vec = [1,2,3]\n",
    "water.mat = [[1,2,3],[4,5,6],[7,8,9]]\n",
    "\n",
    "water.frame = \"zyx,null\"\n",
    "\n",
    "# axes permutation (13) does not affect vec and mat, but dip\n",
    "print(\"vec\\n\", water.vec)\n",
    "print(\"mat\\n\", water.mat)\n",
    "print(\"dip\\n\", water.dip)"
   ]
  },
  {
   "cell_type": "markdown",
   "metadata": {},
   "source": [
    "If you want to declare custom Cartesian tensor which is dynamically rotated to a new frame, use `mol_tensor` function"
   ]
  },
  {
   "cell_type": "code",
   "execution_count": 11,
   "metadata": {},
   "outputs": [
    {
     "output_type": "stream",
     "name": "stdout",
     "text": [
      "vec\n [3. 2. 1.]\nmat\n [[9. 8. 7.]\n [6. 5. 4.]\n [3. 2. 1.]]\ndip\n [-0.7288  0.      0.    ]\nnew vec\n [9. 8. 7.]\nnew mat\n [[19. 18. 17.]\n [16. 15. 14.]\n [13. 12. 11.]]\n"
     ]
    }
   ],
   "source": [
    "water.vec = mol_tensor([1,2,3])\n",
    "water.mat = mol_tensor([[1,2,3],[4,5,6],[7,8,9]])\n",
    "\n",
    "water.frame = \"zyx,null\"\n",
    "\n",
    "# axes permutation (13) now affects also vec and mat\n",
    "print(\"vec\\n\", water.vec)\n",
    "print(\"mat\\n\", water.mat)\n",
    "print(\"dip\\n\", water.dip)\n",
    "\n",
    "# we can then change vec and mat values, they will be still dynamically rotated\n",
    "water.vec = [7,8,9]\n",
    "water.mat = mol_tensor([[11,12,13],[14,15,16],[17,18,19]])\n",
    "\n",
    "print(\"new vec\\n\", water.vec)\n",
    "print(\"new mat\\n\", water.mat)"
   ]
  },
  {
   "source": [
    "### Rotational constants"
   ],
   "cell_type": "markdown",
   "metadata": {}
  },
  {
   "cell_type": "markdown",
   "metadata": {},
   "source": [
    "The rotational constants (in units of cm$^{-1}$) can be calculated from the input molecular geometry using `ABC` property. This will work only if the molecular frame is set to the inertia principal axes system or if the inertia tensor is diagonal"
   ]
  },
  {
   "cell_type": "code",
   "execution_count": 12,
   "metadata": {},
   "outputs": [
    {
     "output_type": "stream",
     "name": "stdout",
     "text": [
      "[9.51951209577557, 14.584229929162115, 27.41213978457678]\n[27.41213978457678, 14.584229929162115, 9.51951209577557]\n"
     ]
    }
   ],
   "source": [
    "water.frame = \"diag(pol)\"\n",
    "print(water.ABC) # works because inertia tensor is diagonal in the polarizability principal axes system\n",
    "\n",
    "water.frame = \"diag(inertia)\"\n",
    "print(water.ABC) # the constants in inertia frame will be sorted"
   ]
  },
  {
   "cell_type": "markdown",
   "metadata": {},
   "source": [
    "The values of rotational constants can also be user specified, for example, using the experimental values. In these case, `ABC` will return the user-defined values. If we want to access the rotational constants calculated from molecular geometry, we should use `ABC_calc`"
   ]
  },
  {
   "cell_type": "code",
   "execution_count": 13,
   "metadata": {},
   "outputs": [
    {
     "output_type": "stream",
     "name": "stdout",
     "text": [
      "calculated ABC [27.41213978457678, 14.584229929162115, 9.51951209577557]\nuser input ABC  [27.877, 14.512, 9.285]\ncalculated ABC [27.41213978457678, 14.584229929162115, 9.51951209577557]\n"
     ]
    }
   ],
   "source": [
    "print(\"calculated ABC\", water.ABC)\n",
    "water.ABC = (9.285, 14.512, 27.877) # user-defined rotational constants in units of cm^-1\n",
    "print(\"user input ABC \", water.ABC)\n",
    "print(\"calculated ABC\", water.ABC_calc)"
   ]
  },
  {
   "cell_type": "markdown",
   "metadata": {},
   "source": [
    "***************************\n",
    "\n",
    "**Important**: When user-defined rotational constants specified, the rotational Hamiltonian is built using these values\n",
    "\n",
    "***************************"
   ]
  },
  {
   "cell_type": "markdown",
   "metadata": {},
   "source": [
    "For linear and spherical-top molecules, use `B` to print or assign the rotational constant"
   ]
  },
  {
   "cell_type": "code",
   "execution_count": 14,
   "metadata": {},
   "outputs": [
    {
     "output_type": "stream",
     "name": "stdout",
     "text": [
      "0.20286\n",
      "0.20317858059669255\n",
      "True\n",
      "/home/andrey/.local/lib/python3.6/site-packages/richmol-0.1a1-py3.6-linux-x86_64.egg/richmol/rot/molecule.py:216: RuntimeWarning: divide by zero encountered in double_scalars\n",
      "  abc = [convert_to_cm/val for val in np.diag(itens)]\n"
     ]
    }
   ],
   "source": [
    "ocs = Molecule()\n",
    "ocs.B = 0.20286 # experimental value\n",
    "print(ocs.B)\n",
    "\n",
    "ocs.XYZ = (\"angstrom\", \"C\", 0, 0, 0, \"S\", 0, 0, -1.56, \"O\", 0, 0, 1.16)\n",
    "print(ocs.B_calc) # calculated value\n",
    "\n",
    "print(ocs.linear()) # True if molecule is linear"
   ]
  },
  {
   "cell_type": "markdown",
   "metadata": {},
   "source": [
    "The input rotational constants are always checked against the calculated once, if molecular geometry is specified. Here is an example of an error produced when molecular frame is not in the inertia principal axes system"
   ]
  },
  {
   "cell_type": "code",
   "execution_count": 15,
   "metadata": {},
   "outputs": [
    {
     "output_type": "stream",
     "name": "stdout",
     "text": [
      "inertia frame\ncalculated ABC [27.41213978457678, 14.584229929162115, 9.51951209577557]\ninput ABC      [27.877, 14.512, 9.285]\n\npolarizability frame\ncalculated ABC [9.51951209577557, 14.584229929162115, 27.41213978457678]\n"
     ]
    },
    {
     "output_type": "error",
     "ename": "ValueError",
     "evalue": "input experimental rotational constants differ much from the calculated once\n        exp          calc       exp-calc\nA    27.877000     9.519512    18.357488\nB    14.512000    14.584230    -0.072230\nC     9.285000    27.412140   -18.127140",
     "traceback": [
      "\u001b[0;31m---------------------------------------------------------------------------\u001b[0m",
      "\u001b[0;31mValueError\u001b[0m                                Traceback (most recent call last)",
      "\u001b[0;32m<ipython-input-15-64bfd3887f4e>\u001b[0m in \u001b[0;36m<module>\u001b[0;34m\u001b[0m\n\u001b[1;32m     18\u001b[0m \u001b[0mprint\u001b[0m\u001b[0;34m(\u001b[0m\u001b[0;34m\"\\npolarizability frame\"\u001b[0m\u001b[0;34m)\u001b[0m\u001b[0;34m\u001b[0m\u001b[0;34m\u001b[0m\u001b[0m\n\u001b[1;32m     19\u001b[0m \u001b[0mprint\u001b[0m\u001b[0;34m(\u001b[0m\u001b[0;34m\"calculated ABC\"\u001b[0m\u001b[0;34m,\u001b[0m \u001b[0mwater2\u001b[0m\u001b[0;34m.\u001b[0m\u001b[0mABC_calc\u001b[0m\u001b[0;34m)\u001b[0m\u001b[0;34m\u001b[0m\u001b[0;34m\u001b[0m\u001b[0m\n\u001b[0;32m---> 20\u001b[0;31m \u001b[0mprint\u001b[0m\u001b[0;34m(\u001b[0m\u001b[0;34m\"input ABC     \"\u001b[0m\u001b[0;34m,\u001b[0m \u001b[0mwater2\u001b[0m\u001b[0;34m.\u001b[0m\u001b[0mABC\u001b[0m\u001b[0;34m)\u001b[0m\u001b[0;34m\u001b[0m\u001b[0;34m\u001b[0m\u001b[0m\n\u001b[0m",
      "\u001b[0;32m~/.local/lib/python3.6/site-packages/richmol-0.1a1-py3.6-linux-x86_64.egg/richmol/rot/molecule.py\u001b[0m in \u001b[0;36mABC\u001b[0;34m(self)\u001b[0m\n\u001b[1;32m    227\u001b[0m         \u001b[0;34m\"\"\"Returns experimental rotational constants if available, otherwise - calculated once\"\"\"\u001b[0m\u001b[0;34m\u001b[0m\u001b[0;34m\u001b[0m\u001b[0m\n\u001b[1;32m    228\u001b[0m         \u001b[0;32mtry\u001b[0m\u001b[0;34m:\u001b[0m\u001b[0;34m\u001b[0m\u001b[0;34m\u001b[0m\u001b[0m\n\u001b[0;32m--> 229\u001b[0;31m             \u001b[0mself\u001b[0m\u001b[0;34m.\u001b[0m\u001b[0mcheck_ABC\u001b[0m\u001b[0;34m(\u001b[0m\u001b[0;34m)\u001b[0m\u001b[0;34m\u001b[0m\u001b[0;34m\u001b[0m\u001b[0m\n\u001b[0m\u001b[1;32m    230\u001b[0m             \u001b[0;32mreturn\u001b[0m \u001b[0mself\u001b[0m\u001b[0;34m.\u001b[0m\u001b[0mABC_exp\u001b[0m\u001b[0;34m\u001b[0m\u001b[0;34m\u001b[0m\u001b[0m\n\u001b[1;32m    231\u001b[0m         \u001b[0;32mexcept\u001b[0m \u001b[0mAttributeError\u001b[0m\u001b[0;34m:\u001b[0m\u001b[0;34m\u001b[0m\u001b[0;34m\u001b[0m\u001b[0m\n",
      "\u001b[0;32m~/.local/lib/python3.6/site-packages/richmol-0.1a1-py3.6-linux-x86_64.egg/richmol/rot/molecule.py\u001b[0m in \u001b[0;36mcheck_ABC\u001b[0;34m(self)\u001b[0m\n\u001b[1;32m    284\u001b[0m                              for abc,e,c in zip((\"A\",\"B\",\"C\"), ABC_exp, ABC_calc) )\n\u001b[1;32m    285\u001b[0m             raise ValueError(f\"input experimental rotational constants differ much from the calculated once\\n\" + \\\n\u001b[0;32m--> 286\u001b[0;31m                 f\"        exp          calc       exp-calc\\n\" + err) from None\n\u001b[0m\u001b[1;32m    287\u001b[0m         \u001b[0;32mreturn\u001b[0m\u001b[0;34m\u001b[0m\u001b[0;34m\u001b[0m\u001b[0m\n\u001b[1;32m    288\u001b[0m \u001b[0;34m\u001b[0m\u001b[0m\n",
      "\u001b[0;31mValueError\u001b[0m: input experimental rotational constants differ much from the calculated once\n        exp          calc       exp-calc\nA    27.877000     9.519512    18.357488\nB    14.512000    14.584230    -0.072230\nC     9.285000    27.412140   -18.127140"
     ]
    }
   ],
   "source": [
    "water2 = Molecule()\n",
    "water2.ABC = (9.285, 14.512, 27.877) # user-defined rotational constants in units of cm^-1\n",
    "\n",
    "water2.XYZ = (\"bohr\",\n",
    "              \"O\",  0.00000000,   0.00000000,   0.12395915,\n",
    "              \"H\",  0.00000000,  -1.43102686,  -0.98366080,\n",
    "              \"H\",  0.00000000,   1.43102686,  -0.98366080)\n",
    "\n",
    "# polarizability tensor (au)\n",
    "water2.pol = [[9.1369, 0, 0], [0, 9.8701, 0], [0, 0, 9.4486]]\n",
    "\n",
    "water2.frame = 'ipas' # inertia principal axes system\n",
    "print(\"inertia frame\")\n",
    "print(\"calculated ABC\", water2.ABC_calc)\n",
    "print(\"input ABC     \", water2.ABC)\n",
    "\n",
    "water2.frame = 'diag(pol)' # polarizability principal axes system\n",
    "print(\"\\npolarizability frame\")\n",
    "print(\"calculated ABC\", water2.ABC_calc)\n",
    "print(\"input ABC     \", water2.ABC)"
   ]
  },
  {
   "cell_type": "markdown",
   "metadata": {},
   "source": [
    "### Rotational solutions "
   ]
  },
  {
   "source": [
    "The rotational energies and wave functions can be calculated for a specified range of $J$ quantum number using the function `solve`"
   ],
   "cell_type": "markdown",
   "metadata": {}
  },
  {
   "cell_type": "code",
   "execution_count": 16,
   "metadata": {},
   "outputs": [],
   "source": [
    "sol = solve(water, Jmin=0, Jmax=10)"
   ]
  },
  {
   "source": [
    "The state energies and assignments can be printed out as following"
   ],
   "cell_type": "markdown",
   "metadata": {}
  },
  {
   "cell_type": "code",
   "execution_count": 17,
   "metadata": {
    "tags": []
   },
   "outputs": [
    {
     "output_type": "stream",
     "name": "stdout",
     "text": [
      "0 A 0 0.0 ['0' '0' '0' ' 1.000000']\n1 A 0 23.797000000000004 ['1' '0' '1' ' 1.000000']\n1 A 1 37.16199999999999 ['1' '1' '0' ' 1.000000']\n1 A 2 42.38899999999999 ['1' '1' '1' ' 1.000000']\n2 A 0 70.13332800101738 ['2' '0' '0' ' 0.981068']\n2 A 1 79.52900000000001 ['2' '1' '1' ' 1.000000']\n2 A 2 95.20999999999998 ['2' '1' '0' ' 1.000000']\n2 A 3 135.30499999999995 ['2' '2' '1' ' 1.000000']\n2 A 4 136.56267199898258 ['2' '2' '0' ' 0.981068']\n3 A 0 136.90947734903332 ['3' '0' '1' ' 0.922382']\n3 A 1 142.36908432351558 ['3' '1' '0' ' 0.995098']\n3 A 2 173.5352392423415 ['3' '1' '1' ' 0.992048']\n3 A 3 206.69599999999994 ['3' '2' '0' ' 1.000000']\n3 A 4 212.56852265096663 ['3' '2' '1' ' 0.922382']\n3 A 5 287.29891567648446 ['3' '3' '0' ' 0.995098']\n3 A 6 287.4947607576584 ['3' '3' '1' ' 0.992048']\n4 A 0 222.36947823747218 ['4' '0' '0' ' 0.834399']\n4 A 1 225.06755539025477 ['4' '1' '1' ' 0.982779']\n4 A 2 276.01478677087727 ['4' '1' '0' ' 0.962955']\n4 A 3 300.89169764043777 ['4' '2' '1' ' 0.994878']\n4 A 4 316.4670654245864 ['4' '2' '0' ' 0.829445']\n4 A 5 384.52244460974526 ['4' '3' '1' ' 0.982779']\n4 A 6 385.84521322912263 ['4' '3' '0' ' 0.962955']\n4 A 7 494.6183023595622 ['4' '4' '1' ' 0.994878']\n4 A 8 494.6434563379412 ['4' '4' '0' ' 0.994516']\n5 A 0 325.9048499877254 ['5' '0' '1' ' 0.746777']\n5 A 1 327.0960898221797 ['5' '1' '0' ' 0.962995']\n5 A 2 400.58190526023657 ['5' '1' '1' ' 0.895560']\n5 A 3 417.0959840030521 ['5' '2' '0' ' 0.981068']\n5 A 4 447.9249399134654 ['5' '2' '1' ' 0.727879']\n5 A 5 506.187056839737 ['5' '3' '0' ' 0.958321']\n5 A 6 511.10332524521436 ['5' '3' '1' ' 0.891055']\n5 A 7 616.3840159969477 ['5' '4' '0' ' 0.981068']\n5 A 8 616.6052100988092 ['5' '4' '1' ' 0.977950']\n5 A 9 757.6268533380828 ['5' '5' '0' ' 0.995234']\n5 A 10 757.6297694945488 ['5' '5' '1' ' 0.995196']\n6 A 0 447.5994463622641 ['6' '0' '0' ' 0.674283']\n6 A 1 448.0885292896768 ['6' '1' '1' ' 0.937727']\n6 A 2 544.8535089515178 ['6' '1' '0' ' 0.786176']\n6 A 3 554.4342555517832 ['6' '2' '1' ' 0.955896']\n6 A 4 605.5106863310093 ['6' '2' '0' ' 0.626507']\n6 A 5 651.859160872751 ['6' '3' '1' ' 0.920975']\n6 A 6 664.8296780221019 ['6' '3' '0' ' 0.770747']\n6 A 7 763.1894091255733 ['6' '4' '1' ' 0.951514']\n6 A 8 764.2502148166961 ['6' '4' '0' ' 0.937198']\n6 A 9 903.6273098375714 ['6' '5' '1' ' 0.982691']\n6 A 10 903.6588130263806 ['6' '5' '0' ' 0.982284']\n6 A 11 1076.3833353226432 ['6' '6' '1' ' 0.995514']\n6 A 12 1076.3836524900298 ['6' '6' '0' ' 0.995510']\n7 A 0 587.6415140177417 ['7' '0' '1' ' 0.617339']\n7 A 1 587.8328277435676 ['7' '1' '0' ' 0.909570']\n7 A 2 707.1504954051939 ['7' '1' '1' ' 0.659123']\n7 A 3 712.0712914041846 ['7' '2' '0' ' 0.918887']\n7 A 4 787.1178995254924 ['7' '2' '1' ' 0.518895']\n7 A 5 820.814666477436 ['7' '3' '0' ' 0.870785']\n7 A 6 847.6693931174111 ['7' '3' '1' ' 0.625041']\n7 A 7 935.0939852102456 ['7' '4' '0' ' 0.903726']\n7 A 8 938.7178027311346 ['7' '4' '1' ' 0.858727']\n7 A 9 1074.7379956469492 ['7' '5' '0' ' 0.955102']\n7 A 10 1074.9215683243683 ['7' '5' '1' ' 0.952802']\n7 A 11 1246.578723385572 ['7' '6' '0' ' 0.984159']\n7 A 12 1246.5827837256309 ['7' '6' '1' ' 0.984111']\n7 A 13 1450.8945101320485 ['7' '7' '0' ' 0.995705']\n7 A 14 1450.8945431530262 ['7' '7' '1' ' 0.995704']\n8 A 0 746.1504421205069 ['8' '0' '0' ' 0.572379']\n8 A 1 746.2227542665697 ['8' '1' '1' ' 0.880666']\n8 A 2 887.0170971257202 ['8' '1' '0' ' 0.544041']\n8 A 3 889.3208545949566 ['8' '2' '1' ' 0.872157']\n8 A 4 990.1406851326407 ['8' '2' '0' ' 0.400128']\n8 A 5 1012.1335578246226 ['8' '3' '1' ' 0.808292']\n8 A 6 1058.7503563332286 ['8' '3' '0' ' 0.481904']\n8 A 7 1131.8790657308361 ['8' '4' '1' ' 0.838022']\n8 A 8 1141.5730183645983 ['8' '4' '0' ' 0.733872']\n8 A 9 1271.2303703676985 ['8' '5' '1' ' 0.908565']\n8 A 10 1271.9907404161754 ['8' '5' '0' ' 0.899535']\n8 A 11 1441.8274717772942 ['8' '6' '1' ' 0.959290']\n8 A 12 1441.8552431550922 ['8' '6' '0' ' 0.958970']\n8 A 13 1645.2893175411089 ['8' '7' '1' ' 0.985184']\n8 A 14 1645.2898061248754 ['8' '7' '0' ' 0.985179']\n8 A 15 1881.1606078969128 ['8' '8' '1' ' 0.995839']\n8 A 16 1881.1606112271595 ['8' '8' '0' ' 0.995839']\n9 A 0 923.1842055755365 ['9' '0' '1' ' 0.536071']\n9 A 1 923.2108458995779 ['9' '1' '0' ' 0.852384']\n9 A 2 1084.6894098353714 ['9' '3' '1' ' 0.514026']\n9 A 3 1085.6994908302468 ['9' '2' '0' ' 0.819485']\n9 A 4 1212.0337195351287 ['9' '0' '1' ' 0.380052']\n9 A 5 1224.828201950894 ['9' '3' '0' ' 0.735113']\n9 A 6 1296.0744817404934 ['9' '1' '1' ' 0.527629']\n9 A 7 1353.0020545887098 ['9' '4' '0' ' 0.756972']\n9 A 8 1374.2142944549653 ['9' '4' '1' ' 0.574219']\n9 A 9 1493.2738722795737 ['9' '5' '0' ' 0.841267']\n9 A 10 1495.760195502422 ['9' '5' '1' ' 0.814241']\n9 A 11 1662.4164850376656 ['9' '6' '0' ' 0.917155']\n9 A 12 1662.5507549828058 ['9' '6' '1' ' 0.915669']\n9 A 13 1864.6757337222214 ['9' '7' '0' ' 0.962385']\n9 A 14 1864.6795664461495 ['9' '7' '1' ' 0.962344']\n9 A 15 2099.761969543376 ['9' '8' '0' ' 0.985905']\n9 A 16 2099.7620254515623 ['9' '8' '1' ' 0.985904']\n9 A 17 2367.181346147729 ['9' '9' '0' ' 0.995939']\n9 A 18 2367.181346475563 ['9' '9' '1' ' 0.995939']\n10 A 0 1118.7681847184397 ['10' '0' '0' ' 0.506029']\n10 A 1 1118.777805427776 ['10' '1' '1' ' 0.825444']\n10 A 2 1300.4907051022265 ['10' '3' '0' ' 0.562907']\n10 A 3 1300.913167838704 ['10' '2' '1' ' 0.764806']\n10 A 4 1451.2643157176142 ['10' '4' '0' ' 0.435795']\n10 A 5 1457.9775364432533 ['10' '3' '1' ' 0.654519']\n10 A 6 1556.9884436602656 ['10' '1' '0' ' 0.567562']\n10 A 7 1597.6345148357107 ['10' '4' '1' ' 0.664353']\n10 A 8 1636.8374868423275 ['10' '4' '0' ' 0.410590']\n10 A 9 1740.831055472053 ['10' '5' '1' ' 0.754464']\n10 A 10 1747.5711069300562 ['10' '5' '0' ' 0.690800']\n10 A 11 1908.6339903241317 ['10' '6' '1' ' 0.855009']\n10 A 12 1909.1461911472568 ['10' '6' '0' ' 0.849710']\n10 A 13 2109.304207513575 ['10' '7' '1' ' 0.924129']\n10 A 14 2109.3253430079417 ['10' '7' '0' ' 0.923912']\n10 A 15 2343.306809158213 ['10' '8' '1' ' 0.964583']\n10 A 16 2343.307303699456 ['10' '8' '0' ' 0.964578']\n10 A 17 2609.99439514334 ['10' '9' '1' ' 0.986434']\n10 A 18 2609.994401299508 ['10' '9' '0' ' 0.986434']\n10 A 19 2908.956517843241 ['10' '10' '1' ' 0.996016']\n10 A 20 2908.9565178749035 ['10' '10' '0' ' 0.996016']\n"
     ]
    }
   ],
   "source": [
    "for J,sol_J in sol.items():\n",
    "    for symmetry,sol_sym in sol_J.items():\n",
    "        for istate in range(sol_sym.nstates):\n",
    "           print(J, symmetry, istate, sol_sym.enr[istate], sol_sym.assign[istate])"
   ]
  },
  {
   "source": [
    "The energies are in units of cm$^{-1}$ and the assignment is a list of numbers ($J$, $k$, $\\tau$, $c$) denoting the leading symmetric-top function in the expansion of wave function. $\\tau$ is the pairty of rotational state, defined as $(-1)^\\tau$, and $c$ is the absolute value of the leading coefficient.\n",
    "\n",
    "We can print more than one leading contribution in the assignment"
   ],
   "cell_type": "markdown",
   "metadata": {}
  },
  {
   "cell_type": "code",
   "execution_count": 18,
   "metadata": {
    "tags": []
   },
   "outputs": [
    {
     "output_type": "stream",
     "name": "stdout",
     "text": [
      "0 A 0 0.0 ['0' '0' '0' ' 1.000000']\n1 A 0 23.797000000000004 ['1' '0' '1' ' 1.000000' '1' '1' '0' ' 0.000000' '1' '1' '1' ' 0.000000']\n1 A 1 37.16199999999999 ['1' '1' '0' ' 1.000000' '1' '0' '1' ' 0.000000' '1' '1' '1' ' 0.000000']\n1 A 2 42.38899999999999 ['1' '1' '1' ' 1.000000' '1' '0' '1' ' 0.000000' '1' '1' '0' ' 0.000000']\n2 A 0 70.13332800101738 ['2' '0' '0' ' 0.981068' '2' '2' '0' ' 0.018932' '2' '1' '0' ' 0.000000']\n2 A 1 79.52900000000001 ['2' '1' '1' ' 1.000000' '2' '1' '0' ' 0.000000' '2' '0' '0' ' 0.000000']\n2 A 2 95.20999999999998 ['2' '1' '0' ' 1.000000' '2' '1' '1' ' 0.000000' '2' '2' '0' ' 0.000000']\n2 A 3 135.30499999999995 ['2' '2' '1' ' 1.000000' '2' '0' '0' ' 0.000000' '2' '1' '0' ' 0.000000']\n2 A 4 136.56267199898258 ['2' '2' '0' ' 0.981068' '2' '0' '0' ' 0.018932' '2' '1' '0' ' 0.000000']\n3 A 0 136.90947734903332 ['3' '0' '1' ' 0.922382' '3' '2' '1' ' 0.077618' '3' '1' '0' ' 0.000000']\n3 A 1 142.36908432351558 ['3' '1' '0' ' 0.995098' '3' '3' '0' ' 0.004902' '3' '0' '1' ' 0.000000']\n3 A 2 173.5352392423415 ['3' '1' '1' ' 0.992048' '3' '3' '1' ' 0.007952' '3' '2' '0' ' 0.000000']\n3 A 3 206.69599999999994 ['3' '2' '0' ' 1.000000' '3' '1' '1' ' 0.000000' '3' '3' '0' ' 0.000000']\n3 A 4 212.56852265096663 ['3' '2' '1' ' 0.922382' '3' '0' '1' ' 0.077618' '3' '1' '0' ' 0.000000']\n3 A 5 287.29891567648446 ['3' '3' '0' ' 0.995098' '3' '1' '0' ' 0.004902' '3' '2' '0' ' 0.000000']\n3 A 6 287.4947607576584 ['3' '3' '1' ' 0.992048' '3' '1' '1' ' 0.007952' '3' '2' '0' ' 0.000000']\n4 A 0 222.36947823747218 ['4' '0' '0' ' 0.834399' '4' '2' '0' ' 0.165171' '4' '4' '0' ' 0.000429']\n4 A 1 225.06755539025477 ['4' '1' '1' ' 0.982779' '4' '3' '1' ' 0.017221' '4' '2' '1' ' 0.000000']\n4 A 2 276.01478677087727 ['4' '1' '0' ' 0.962955' '4' '3' '0' ' 0.037045' '4' '2' '0' ' 0.000000']\n4 A 3 300.89169764043777 ['4' '2' '1' ' 0.994878' '4' '4' '1' ' 0.005122' '4' '1' '1' ' 0.000000']\n4 A 4 316.4670654245864 ['4' '2' '0' ' 0.829445' '4' '0' '0' ' 0.165500' '4' '4' '0' ' 0.005054']\n4 A 5 384.52244460974526 ['4' '3' '1' ' 0.982779' '4' '1' '1' ' 0.017221' '4' '3' '0' ' 0.000000']\n4 A 6 385.84521322912263 ['4' '3' '0' ' 0.962955' '4' '1' '0' ' 0.037045' '4' '3' '1' ' 0.000000']\n4 A 7 494.6183023595622 ['4' '4' '1' ' 0.994878' '4' '2' '1' ' 0.005122' '4' '3' '0' ' 0.000000']\n4 A 8 494.6434563379412 ['4' '4' '0' ' 0.994516' '4' '2' '0' ' 0.005383' '4' '0' '0' ' 0.000100']\n5 A 0 325.9048499877254 ['5' '0' '1' ' 0.746777' '5' '2' '1' ' 0.250971' '5' '4' '1' ' 0.002252']\n5 A 1 327.0960898221797 ['5' '1' '0' ' 0.962995' '5' '3' '0' ' 0.036944' '5' '5' '0' ' 0.000062']\n5 A 2 400.58190526023657 ['5' '1' '1' ' 0.895560' '5' '3' '1' ' 0.104187' '5' '5' '1' ' 0.000253']\n5 A 3 417.0959840030521 ['5' '2' '0' ' 0.981068' '5' '4' '0' ' 0.018932' '5' '0' '1' ' 0.000000']\n5 A 4 447.9249399134654 ['5' '2' '1' ' 0.727879' '5' '0' '1' ' 0.252323' '5' '4' '1' ' 0.019798']\n5 A 5 506.187056839737 ['5' '3' '0' ' 0.958321' '5' '1' '0' ' 0.036975' '5' '5' '0' ' 0.004704']\n5 A 6 511.10332524521436 ['5' '3' '1' ' 0.891055' '5' '1' '1' ' 0.104394' '5' '5' '1' ' 0.004551']\n5 A 7 616.3840159969477 ['5' '4' '0' ' 0.981068' '5' '2' '0' ' 0.018932' '5' '0' '1' ' 0.000000']\n5 A 8 616.6052100988092 ['5' '4' '1' ' 0.977950' '5' '2' '1' ' 0.021150' '5' '0' '1' ' 0.000900']\n5 A 9 757.6268533380828 ['5' '5' '0' ' 0.995234' '5' '3' '0' ' 0.004736' '5' '1' '0' ' 0.000030']\n5 A 10 757.6297694945488 ['5' '5' '1' ' 0.995196' '5' '3' '1' ' 0.004758' '5' '1' '1' ' 0.000046']\n6 A 0 447.5994463622641 ['6' '0' '0' ' 0.674283' '6' '2' '0' ' 0.319462' '6' '4' '0' ' 0.006248']\n6 A 1 448.0885292896768 ['6' '1' '1' ' 0.937727' '6' '3' '1' ' 0.061930' '6' '5' '1' ' 0.000343']\n6 A 2 544.8535089515178 ['6' '1' '0' ' 0.786176' '6' '3' '0' ' 0.211921' '6' '5' '0' ' 0.001902']\n6 A 3 554.4342555517832 ['6' '2' '1' ' 0.955896' '6' '4' '1' ' 0.044031' '6' '6' '1' ' 0.000073']\n6 A 4 605.5106863310093 ['6' '2' '0' ' 0.626507' '6' '0' '0' ' 0.321289' '6' '4' '0' ' 0.052098']\n6 A 5 651.859160872751 ['6' '3' '1' ' 0.920975' '6' '1' '1' ' 0.062059' '6' '5' '1' ' 0.016966']\n6 A 6 664.8296780221019 ['6' '3' '0' ' 0.770747' '6' '1' '0' ' 0.213439' '6' '5' '0' ' 0.015814']\n6 A 7 763.1894091255733 ['6' '4' '1' ' 0.951514' '6' '2' '1' ' 0.044073' '6' '6' '1' ' 0.004413']\n6 A 8 764.2502148166961 ['6' '4' '0' ' 0.937198' '6' '2' '0' ' 0.053998' '6' '0' '0' ' 0.004428']\n6 A 9 903.6273098375714 ['6' '5' '1' ' 0.982691' '6' '3' '1' ' 0.017095' '6' '1' '1' ' 0.000214']\n6 A 10 903.6588130263806 ['6' '5' '0' ' 0.982284' '6' '3' '0' ' 0.017332' '6' '1' '0' ' 0.000384']\n6 A 11 1076.3833353226432 ['6' '6' '1' ' 0.995514' '6' '4' '1' ' 0.004455' '6' '2' '1' ' 0.000031']\n6 A 12 1076.3836524900298 ['6' '6' '0' ' 0.995510' '6' '4' '0' ' 0.004457' '6' '2' '0' ' 0.000033']\n7 A 0 587.6415140177417 ['7' '0' '1' ' 0.617339' '7' '2' '1' ' 0.369994' '7' '4' '1' ' 0.012619']\n7 A 1 587.8328277435676 ['7' '1' '0' ' 0.909570' '7' '3' '0' ' 0.089368' '7' '5' '0' ' 0.001061']\n7 A 2 707.1504954051939 ['7' '1' '1' ' 0.659123' '7' '3' '1' ' 0.333816' '7' '5' '1' ' 0.007053']\n7 A 3 712.0712914041846 ['7' '2' '0' ' 0.918887' '7' '4' '0' ' 0.080654' '7' '6' '0' ' 0.000460']\n7 A 4 787.1178995254924 ['7' '2' '1' ' 0.518895' '7' '0' '1' ' 0.367222' '7' '4' '1' ' 0.113009']\n7 A 5 820.814666477436 ['7' '3' '0' ' 0.870785' '7' '1' '0' ' 0.089583' '7' '5' '0' ' 0.039570']\n7 A 6 847.6693931174111 ['7' '3' '1' ' 0.625041' '7' '1' '1' ' 0.339020' '7' '5' '1' ' 0.035878']\n7 A 7 935.0939852102456 ['7' '4' '0' ' 0.903726' '7' '2' '0' ' 0.080893' '7' '6' '0' ' 0.015381']\n7 A 8 938.7178027311346 ['7' '4' '1' ' 0.858727' '7' '2' '1' ' 0.110875' '7' '0' '1' ' 0.015432']\n7 A 9 1074.7379956469492 ['7' '5' '0' ' 0.955102' '7' '3' '0' ' 0.039819' '7' '7' '0' ' 0.004232']\n7 A 10 1074.9215683243683 ['7' '5' '1' ' 0.952802' '7' '3' '1' ' 0.041114' '7' '7' '1' ' 0.004226']\n7 A 11 1246.578723385572 ['7' '6' '0' ' 0.984159' '7' '4' '0' ' 0.015621' '7' '2' '0' ' 0.000220']\n7 A 12 1246.5827837256309 ['7' '6' '1' ' 0.984111' '7' '4' '1' ' 0.015645' '7' '2' '1' ' 0.000236']\n7 A 13 1450.8945101320485 ['7' '7' '0' ' 0.995705' '7' '5' '0' ' 0.004267' '7' '3' '0' ' 0.000029']\n7 A 14 1450.8945431530262 ['7' '7' '1' ' 0.995704' '7' '5' '1' ' 0.004267' '7' '3' '1' ' 0.000029']\n8 A 0 746.1504421205069 ['8' '0' '0' ' 0.572379' '8' '2' '0' ' 0.406340' '8' '4' '0' ' 0.021113']\n8 A 1 746.2227542665697 ['8' '1' '1' ' 0.880666' '8' '3' '1' ' 0.116909' '8' '5' '1' ' 0.002418']\n8 A 2 887.0170971257202 ['8' '1' '0' ' 0.544041' '8' '3' '0' ' 0.438481' '8' '5' '0' ' 0.017413']\n8 A 3 889.3208545949566 ['8' '2' '1' ' 0.872157' '8' '4' '1' ' 0.126238' '8' '6' '1' ' 0.001604']\n8 A 4 990.1406851326407 ['8' '2' '0' ' 0.400128' '8' '0' '0' ' 0.386737' '8' '4' '0' ' 0.209118']\n8 A 5 1012.1335578246226 ['8' '3' '1' ' 0.808292' '8' '1' '1' ' 0.116907' '8' '5' '1' ' 0.074395']\n8 A 6 1058.7503563332286 ['8' '3' '0' ' 0.481904' '8' '1' '0' ' 0.449231' '8' '5' '0' ' 0.068429']\n8 A 7 1131.8790657308361 ['8' '4' '1' ' 0.838022' '8' '2' '1' ' 0.126954' '8' '6' '1' ' 0.034972']\n8 A 8 1141.5730183645983 ['8' '4' '0' ' 0.733872' '8' '2' '0' ' 0.192529' '8' '0' '0' ' 0.040833']\n8 A 9 1271.2303703676985 ['8' '5' '1' ' 0.908565' '8' '3' '1' ' 0.074606' '8' '7' '1' ' 0.014403']\n8 A 10 1271.9907404161754 ['8' '5' '0' ' 0.899535' '8' '3' '0' ' 0.079421' '8' '7' '0' ' 0.014319']\n8 A 11 1441.8274717772942 ['8' '6' '1' ' 0.959290' '8' '4' '1' ' 0.035713' '8' '8' '1' ' 0.004108']\n8 A 12 1441.8552431550922 ['8' '6' '0' ' 0.958970' '8' '4' '0' ' 0.035870' '8' '8' '0' ' 0.004107']\n8 A 13 1645.2893175411089 ['8' '7' '1' ' 0.985184' '8' '5' '1' ' 0.014621' '8' '3' '1' ' 0.000193']\n8 A 14 1645.2898061248754 ['8' '7' '0' ' 0.985179' '8' '5' '0' ' 0.014624' '8' '3' '0' ' 0.000194']\n8 A 15 1881.1606078969128 ['8' '8' '1' ' 0.995839' '8' '6' '1' ' 0.004134' '8' '4' '1' ' 0.000027']\n8 A 16 1881.1606112271595 ['8' '8' '0' ' 0.995839' '8' '6' '0' ' 0.004134' '8' '4' '0' ' 0.000027']\n9 A 0 923.1842055755365 ['9' '0' '1' ' 0.536071' '9' '2' '1' ' 0.432245' '9' '4' '1' ' 0.031251']\n9 A 1 923.2108458995779 ['9' '1' '0' ' 0.852384' '9' '3' '0' ' 0.143047' '9' '5' '0' ' 0.004543']\n9 A 2 1084.6894098353714 ['9' '3' '1' ' 0.514026' '9' '1' '1' ' 0.452373' '9' '5' '1' ' 0.033323']\n9 A 3 1085.6994908302468 ['9' '2' '0' ' 0.819485' '9' '4' '0' ' 0.176434' '9' '6' '0' ' 0.004069']\n9 A 4 1212.0337195351287 ['9' '0' '1' ' 0.380052' '9' '4' '1' ' 0.327249' '9' '2' '1' ' 0.280014']\n9 A 5 1224.828201950894 ['9' '3' '0' ' 0.735113' '9' '1' '0' ' 0.142038' '9' '5' '0' ' 0.121335']\n9 A 6 1296.0744817404934 ['9' '1' '1' ' 0.527629' '9' '3' '1' ' 0.350910' '9' '5' '1' ' 0.119563']\n9 A 7 1353.0020545887098 ['9' '4' '0' ' 0.756972' '9' '2' '0' ' 0.177843' '9' '6' '0' ' 0.064855']\n9 A 8 1374.2142944549653 ['9' '4' '1' ' 0.574219' '9' '2' '1' ' 0.284508' '9' '0' '1' ' 0.083627']\n9 A 9 1493.2738722795737 ['9' '5' '0' ' 0.841267' '9' '3' '0' ' 0.121083' '9' '7' '0' ' 0.032041']\n9 A 10 1495.760195502422 ['9' '5' '1' ' 0.814241' '9' '3' '1' ' 0.134295' '9' '7' '1' ' 0.031446']\n9 A 11 1662.4164850376656 ['9' '6' '0' ' 0.917155' '9' '4' '0' ' 0.066421' '9' '8' '0' ' 0.013755']\n9 A 12 1662.5507549828058 ['9' '6' '1' ' 0.915669' '9' '4' '1' ' 0.067109' '9' '8' '1' ' 0.013741']\n9 A 13 1864.6757337222214 ['9' '7' '0' ' 0.962385' '9' '5' '0' ' 0.032830' '9' '9' '0' ' 0.004016']\n9 A 14 1864.6795664461495 ['9' '7' '1' ' 0.962344' '9' '5' '1' ' 0.032848' '9' '9' '1' ' 0.004016']\n9 A 15 2099.761969543376 ['9' '8' '0' ' 0.985905' '9' '6' '0' ' 0.013921' '9' '4' '0' ' 0.000172']\n9 A 16 2099.7620254515623 ['9' '8' '1' ' 0.985904' '9' '6' '1' ' 0.013921' '9' '4' '1' ' 0.000172']\n9 A 17 2367.181346147729 ['9' '9' '0' ' 0.995939' '9' '7' '0' ' 0.004036' '9' '5' '0' ' 0.000025']\n9 A 18 2367.181346475563 ['9' '9' '1' ' 0.995939' '9' '7' '1' ' 0.004036' '9' '5' '1' ' 0.000025']\n10 A 0 1118.7681847184397 ['10' '0' '0' ' 0.506029' '10' '2' '0' ' 0.450564' '10' '4' '0'\n ' 0.042499']\n10 A 1 1118.777805427776 ['10' '1' '1' ' 0.825444' '10' '3' '1' ' 0.167004' '10' '5' '1'\n ' 0.007478']\n10 A 2 1300.4907051022265 ['10' '3' '0' ' 0.562907' '10' '1' '0' ' 0.382228' '10' '5' '0'\n ' 0.054056']\n10 A 3 1300.913167838704 ['10' '2' '1' ' 0.764806' '10' '4' '1' ' 0.226772' '10' '6' '1'\n ' 0.008373']\n10 A 4 1451.2643157176142 ['10' '4' '0' ' 0.435795' '10' '0' '0' ' 0.356263' '10' '2' '0'\n ' 0.178131']\n10 A 5 1457.9775364432533 ['10' '3' '1' ' 0.654519' '10' '5' '1' ' 0.177604' '10' '1' '1'\n ' 0.163719']\n10 A 6 1556.9884436602656 ['10' '1' '0' ' 0.567562' '10' '3' '0' ' 0.231417' '10' '5' '0'\n ' 0.194600']\n10 A 7 1597.6345148357107 ['10' '4' '1' ' 0.664353' '10' '2' '1' ' 0.228623' '10' '6' '1'\n ' 0.105787']\n10 A 8 1636.8374868423275 ['10' '4' '0' ' 0.410590' '10' '2' '0' ' 0.362545' '10' '0' '0'\n ' 0.136722']\n10 A 9 1740.831055472053 ['10' '5' '1' ' 0.754464' '10' '3' '1' ' 0.176230' '10' '7' '1'\n ' 0.058243']\n10 A 10 1747.5711069300562 ['10' '5' '0' ' 0.690800' '10' '3' '0' ' 0.203359' '10' '7' '0'\n ' 0.055474']\n10 A 11 1908.6339903241317 ['10' '6' '1' ' 0.855009' '10' '4' '1' ' 0.108220' '10' '8' '1'\n ' 0.030173']\n10 A 12 1909.1461911472568 ['10' '6' '0' ' 0.849710' '10' '4' '0' ' 0.110461' '10' '8' '0'\n ' 0.030059']\n10 A 13 2109.304207513575 ['10' '7' '1' ' 0.924129' '10' '5' '1' ' 0.060295' '10' '9' '1'\n ' 0.013280']\n10 A 14 2109.3253430079417 ['10' '7' '0' ' 0.923912' '10' '5' '0' ' 0.060386' '10' '9' '0'\n ' 0.013278']\n10 A 15 2343.306809158213 ['10' '8' '1' ' 0.964583' '10' '6' '1' ' 0.030807' '10' '10' '1'\n ' 0.003944']\n10 A 16 2343.307303699456 ['10' '8' '0' ' 0.964578' '10' '6' '0' ' 0.030809' '10' '10' '0'\n ' 0.003944']\n10 A 17 2609.99439514334 ['10' '9' '1' ' 0.986434' '10' '7' '1' ' 0.013407' '10' '5' '1'\n ' 0.000158']\n10 A 18 2609.994401299508 ['10' '9' '0' ' 0.986434' '10' '7' '0' ' 0.013407' '10' '5' '0'\n ' 0.000158']\n10 A 19 2908.956517843241 ['10' '10' '1' ' 0.996016' '10' '8' '1' ' 0.003960' '10' '6' '1'\n ' 0.000024']\n10 A 20 2908.9565178749035 ['10' '10' '0' ' 0.996016' '10' '8' '0' ' 0.003960' '10' '6' '0'\n ' 0.000024']\n"
     ]
    }
   ],
   "source": [
    "for J,sol_J in sol.items():\n",
    "    for symmetry,sol_sym in sol_J.items():\n",
    "        sol_sym.assign_nprim = 3 # print three leading contributions\n",
    "        for istate in range(sol_sym.nstates):\n",
    "           print(J, symmetry, istate, sol_sym.enr[istate], sol_sym.assign[istate])"
   ]
  },
  {
   "cell_type": "markdown",
   "metadata": {},
   "source": [
    "### Symmetry"
   ]
  },
  {
   "source": [
    "The molecular symmetry can be specified using `sym` molecule property, for example, the above calculation can be done using the $D_2$ or $C_{2v}$ rotational symmetry groups"
   ],
   "cell_type": "markdown",
   "metadata": {}
  },
  {
   "source": [
    "water.sym = 'D2'\n",
    "sol_d2 = solve(water, Jmin=0, Jmax=3)\n",
    "\n",
    "water.sym = 'C2v'\n",
    "sol_c2v = solve(water, Jmin=0, Jmax=3)\n",
    "\n",
    "print(\"D2 solutions\")\n",
    "for J,sol_J in sol_d2.items():\n",
    "    for symmetry,sol_sym in sol_J.items():\n",
    "        for istate in range(sol_sym.nstates):\n",
    "           print(J, symmetry, istate, sol_sym.enr[istate], sol_sym.assign[istate])\n",
    "\n",
    "print(\"C2v solutions\")\n",
    "for J,sol_J in sol_c2v.items():\n",
    "    for symmetry,sol_sym in sol_J.items():\n",
    "        for istate in range(sol_sym.nstates):\n",
    "           print(J, symmetry, istate, sol_sym.enr[istate], sol_sym.assign[istate])"
   ],
   "cell_type": "code",
   "metadata": {},
   "execution_count": 28,
   "outputs": [
    {
     "output_type": "stream",
     "name": "stdout",
     "text": [
      "D2 solutions\n0 A 0 0.0 ['0' '0' '0' ' 1.000000']\n1 B1 0 23.797000000000004 ['1' '0' '1' ' 1.000000']\n1 B2 0 30.161999999999995 ['1' '1' '0' ' 1.000000']\n1 B3 0 35.388999999999996 ['1' '1' '1' ' 1.000000']\n2 A 0 36.92675042240616 ['2' '2' '0' ' 0.935448']\n2 A 1 73.7692495775938 ['2' '0' '0' ' 0.935448']\n2 B1 0 39.304999999999964 ['2' '2' '1' ' 1.000000']\n2 B2 0 80.20999999999997 ['2' '1' '0' ' 1.000000']\n2 B3 0 64.52899999999998 ['2' '1' '1' ' 1.000000']\n3 A 0 62.69599999999996 ['3' '2' '0' ' 1.000000']\n3 B1 0 57.86958074813088 ['3' '2' '1' ' 0.946217']\n3 B1 1 147.60841925186907 ['3' '0' '1' ' 0.946217']\n3 B2 0 -172.76620748256204 ['3' '3' '0' ' 0.998773']\n3 B2 1 116.43420748256207 ['3' '1' '0' ' 0.998773']\n3 B3 0 -172.73150116617208 ['3' '3' '1' ' 0.999002']\n3 B3 1 147.76150116617208 ['3' '1' '1' ' 0.999002']\nC2v solutions\n0 A1 0 0.0 ['0' '0' '0' ' 1.000000']\n1 A2 0 23.797000000000004 ['1' '0' '1' ' 1.000000']\n1 B1 0 30.161999999999995 ['1' '1' '0' ' 1.000000']\n1 B2 0 35.388999999999996 ['1' '1' '1' ' 1.000000']\n2 A1 0 36.92675042240616 ['2' '2' '0' ' 0.935448']\n2 A1 1 73.7692495775938 ['2' '0' '0' ' 0.935448']\n2 A2 0 39.304999999999964 ['2' '2' '1' ' 1.000000']\n2 B1 0 80.20999999999997 ['2' '1' '0' ' 1.000000']\n2 B2 0 64.52899999999998 ['2' '1' '1' ' 1.000000']\n3 A1 0 62.69599999999996 ['3' '2' '0' ' 1.000000']\n3 A2 0 57.86958074813088 ['3' '2' '1' ' 0.946217']\n3 A2 1 147.60841925186907 ['3' '0' '1' ' 0.946217']\n3 B1 0 -172.76620748256204 ['3' '3' '0' ' 0.998773']\n3 B1 1 116.43420748256207 ['3' '1' '0' ' 0.998773']\n3 B2 0 -172.73150116617208 ['3' '3' '1' ' 0.999002']\n3 B2 1 147.76150116617208 ['3' '1' '1' ' 0.999002']\n"
     ]
    }
   ]
  },
  {
   "source": [
    "We can restrict solutions to have certain symmetries, by specifying `only` argument to `solve`"
   ],
   "cell_type": "markdown",
   "metadata": {}
  },
  {
   "cell_type": "code",
   "execution_count": 30,
   "metadata": {},
   "outputs": [
    {
     "output_type": "stream",
     "name": "stdout",
     "text": [
      "D2 solutions\n1 B1 0 23.797000000000004 ['1' '0' '1' ' 1.000000']\n1 B2 0 30.161999999999995 ['1' '1' '0' ' 1.000000']\n2 B1 0 39.304999999999964 ['2' '2' '1' ' 1.000000']\n2 B2 0 80.20999999999997 ['2' '1' '0' ' 1.000000']\n3 B1 0 57.86958074813088 ['3' '2' '1' ' 0.946217']\n3 B1 1 147.60841925186907 ['3' '0' '1' ' 0.946217']\n3 B2 0 -172.76620748256204 ['3' '3' '0' ' 0.998773']\n3 B2 1 116.43420748256207 ['3' '1' '0' ' 0.998773']\nC2v solutions\n1 A2 0 23.797000000000004 ['1' '0' '1' ' 1.000000']\n1 B2 0 35.388999999999996 ['1' '1' '1' ' 1.000000']\n2 A2 0 39.304999999999964 ['2' '2' '1' ' 1.000000']\n2 B2 0 64.52899999999998 ['2' '1' '1' ' 1.000000']\n3 A2 0 57.86958074813088 ['3' '2' '1' ' 0.946217']\n3 A2 1 147.60841925186907 ['3' '0' '1' ' 0.946217']\n3 B2 0 -172.73150116617208 ['3' '3' '1' ' 0.999002']\n3 B2 1 147.76150116617208 ['3' '1' '1' ' 0.999002']\n"
     ]
    }
   ],
   "source": [
    "Jmin = 0\n",
    "Jmax = 5\n",
    "\n",
    "water.sym = 'D2'\n",
    "sym = ['B2', 'B1']\n",
    "sym_filter = {J : sym for J in range(Jmin, Jmax+1)}\n",
    "sol_d2 = solve(water, Jmin=0, Jmax=3, only={'sym':sym_filter})\n",
    "\n",
    "water.sym = 'C2v'\n",
    "sym = ['A2', 'B2']\n",
    "sym_filter = {J : sym for J in range(Jmin, Jmax+1)}\n",
    "sol_c2v = solve(water, Jmin=0, Jmax=3, only={'sym':sym_filter})\n",
    "\n",
    "print(\"D2 solutions\")\n",
    "for J,sol_J in sol_d2.items():\n",
    "    for symmetry,sol_sym in sol_J.items():\n",
    "        for istate in range(sol_sym.nstates):\n",
    "           print(J, symmetry, istate, sol_sym.enr[istate], sol_sym.assign[istate])\n",
    "\n",
    "print(\"C2v solutions\")\n",
    "for J,sol_J in sol_c2v.items():\n",
    "    for symmetry,sol_sym in sol_J.items():\n",
    "        for istate in range(sol_sym.nstates):\n",
    "           print(J, symmetry, istate, sol_sym.enr[istate], sol_sym.assign[istate])"
   ]
  },
  {
   "cell_type": "markdown",
   "metadata": {},
   "source": [
    "### Centrifugal distortion rotational constants"
   ]
  },
  {
   "cell_type": "markdown",
   "metadata": {},
   "source": [
    "The centrifugal distortion constants can used to build Watson-type asymmetric top Hamiltonian in the A or S standard reduced form (J. K. G. Watson in \"Vibrational Spectra and Structure\" (Ed: J. Durig) Vol 6 p 1, Elsevier, Amsterdam, 1977)\n",
    "\n",
    "* A-form: $H_A = H_\\text{rigrot} - D_{J} J^{4} - D_{JK} J^{2} J_{z}^{2} - D_{K} J_{z}^{4} - \\frac{1}{2}  [ d_{1} J^{2} + d_{2} J_{z}^{2}, J_{+}^{2} + J_{-}^{2} ]_{+} + H_{J} J^{6} + H_{JK} J^{4} J_{z}^{2} + H_{KJ} J^{2} J_{z}^{4} + H_{K} J_{z}^{6} + \\frac{1}{2} [ h_{1} J^{4} + h_{2} J^{2} J_{z}^{2} + h_{3} J_{z}^{4}, J_{+}^{2} + J_{-}^{2} ]_{+}$\n",
    "\n",
    "* S-form: $H_S = H_\\text{rigrot} - D_{J} J^{4} - D_{JK} J^{2} J_{z}^{2} - D_{K} J_{z}^{4} + d_{1} J^{2} (J_{+}^{2} + J_{-}^{2}) + d_{2} (J_{+}^{4} + J_{-}^{4}) + H_{J} J^{6} + H_{JK} J^{4} J_{z}^{2} + H_{KJ} J^{2} J_{z}^{4} + H_{K} J_{z}^{6} + h_{1} J^{4} (J_{+}^{2} + J_{-}^{2}) + h_{2} J^{2} (J_{+}^{4} + J_{-}^{4}) + h_{3} (J_{+}^{6} + J_{-}^{6})$\n",
    "\n",
    "The type of Watson Hamiltonian can be specified using `watson` molecule property"
   ]
  },
  {
   "cell_type": "code",
   "execution_count": 20,
   "metadata": {},
   "outputs": [
    {
     "output_type": "stream",
     "name": "stdout",
     "text": [
      "solve for J = 0 and symmetry A1\n",
      "build rigid-rotor Hamiltonian from rotational constants, A, B, C = (27.877, 14.512, 9.285) cm-1\n",
      "add 'watson_s' term 'dj'\n",
      "add 'watson_s' term 'djk'\n",
      "add 'watson_s' term 'dk'\n",
      "solve for J = 1 and symmetry A2\n",
      "build rigid-rotor Hamiltonian from rotational constants, A, B, C = (27.877, 14.512, 9.285) cm-1\n",
      "add 'watson_s' term 'dj'\n",
      "add 'watson_s' term 'djk'\n",
      "add 'watson_s' term 'dk'\n",
      "solve for J = 1 and symmetry B1\n",
      "build rigid-rotor Hamiltonian from rotational constants, A, B, C = (27.877, 14.512, 9.285) cm-1\n",
      "add 'watson_s' term 'dj'\n",
      "add 'watson_s' term 'djk'\n",
      "add 'watson_s' term 'dk'\n",
      "solve for J = 1 and symmetry B2\n",
      "build rigid-rotor Hamiltonian from rotational constants, A, B, C = (27.877, 14.512, 9.285) cm-1\n",
      "add 'watson_s' term 'dj'\n",
      "add 'watson_s' term 'djk'\n",
      "add 'watson_s' term 'dk'\n",
      "solve for J = 2 and symmetry A1\n",
      "build rigid-rotor Hamiltonian from rotational constants, A, B, C = (27.877, 14.512, 9.285) cm-1\n",
      "add 'watson_s' term 'dj'\n",
      "add 'watson_s' term 'djk'\n",
      "add 'watson_s' term 'dk'\n",
      "solve for J = 2 and symmetry A2\n",
      "build rigid-rotor Hamiltonian from rotational constants, A, B, C = (27.877, 14.512, 9.285) cm-1\n",
      "add 'watson_s' term 'dj'\n",
      "add 'watson_s' term 'djk'\n",
      "add 'watson_s' term 'dk'\n",
      "solve for J = 2 and symmetry B1\n",
      "build rigid-rotor Hamiltonian from rotational constants, A, B, C = (27.877, 14.512, 9.285) cm-1\n",
      "add 'watson_s' term 'dj'\n",
      "add 'watson_s' term 'djk'\n",
      "add 'watson_s' term 'dk'\n",
      "solve for J = 2 and symmetry B2\n",
      "build rigid-rotor Hamiltonian from rotational constants, A, B, C = (27.877, 14.512, 9.285) cm-1\n",
      "add 'watson_s' term 'dj'\n",
      "add 'watson_s' term 'djk'\n",
      "add 'watson_s' term 'dk'\n",
      "solve for J = 3 and symmetry A1\n",
      "build rigid-rotor Hamiltonian from rotational constants, A, B, C = (27.877, 14.512, 9.285) cm-1\n",
      "add 'watson_s' term 'dj'\n",
      "add 'watson_s' term 'djk'\n",
      "add 'watson_s' term 'dk'\n",
      "solve for J = 3 and symmetry A2\n",
      "build rigid-rotor Hamiltonian from rotational constants, A, B, C = (27.877, 14.512, 9.285) cm-1\n",
      "add 'watson_s' term 'dj'\n",
      "add 'watson_s' term 'djk'\n",
      "add 'watson_s' term 'dk'\n",
      "solve for J = 3 and symmetry B1\n",
      "build rigid-rotor Hamiltonian from rotational constants, A, B, C = (27.877, 14.512, 9.285) cm-1\n",
      "add 'watson_s' term 'dj'\n",
      "add 'watson_s' term 'djk'\n",
      "add 'watson_s' term 'dk'\n",
      "solve for J = 3 and symmetry B2\n",
      "build rigid-rotor Hamiltonian from rotational constants, A, B, C = (27.877, 14.512, 9.285) cm-1\n",
      "add 'watson_s' term 'dj'\n",
      "add 'watson_s' term 'djk'\n",
      "add 'watson_s' term 'dk'\n",
      "solve for J = 4 and symmetry A1\n",
      "build rigid-rotor Hamiltonian from rotational constants, A, B, C = (27.877, 14.512, 9.285) cm-1\n",
      "add 'watson_s' term 'dj'\n",
      "add 'watson_s' term 'djk'\n",
      "add 'watson_s' term 'dk'\n",
      "solve for J = 4 and symmetry A2\n",
      "build rigid-rotor Hamiltonian from rotational constants, A, B, C = (27.877, 14.512, 9.285) cm-1\n",
      "add 'watson_s' term 'dj'\n",
      "add 'watson_s' term 'djk'\n",
      "add 'watson_s' term 'dk'\n",
      "solve for J = 4 and symmetry B1\n",
      "build rigid-rotor Hamiltonian from rotational constants, A, B, C = (27.877, 14.512, 9.285) cm-1\n",
      "add 'watson_s' term 'dj'\n",
      "add 'watson_s' term 'djk'\n",
      "add 'watson_s' term 'dk'\n",
      "solve for J = 4 and symmetry B2\n",
      "build rigid-rotor Hamiltonian from rotational constants, A, B, C = (27.877, 14.512, 9.285) cm-1\n",
      "add 'watson_s' term 'dj'\n",
      "add 'watson_s' term 'djk'\n",
      "add 'watson_s' term 'dk'\n",
      "solve for J = 5 and symmetry A1\n",
      "build rigid-rotor Hamiltonian from rotational constants, A, B, C = (27.877, 14.512, 9.285) cm-1\n",
      "add 'watson_s' term 'dj'\n",
      "add 'watson_s' term 'djk'\n",
      "add 'watson_s' term 'dk'\n",
      "solve for J = 5 and symmetry A2\n",
      "build rigid-rotor Hamiltonian from rotational constants, A, B, C = (27.877, 14.512, 9.285) cm-1\n",
      "add 'watson_s' term 'dj'\n",
      "add 'watson_s' term 'djk'\n",
      "add 'watson_s' term 'dk'\n",
      "solve for J = 5 and symmetry B1\n",
      "build rigid-rotor Hamiltonian from rotational constants, A, B, C = (27.877, 14.512, 9.285) cm-1\n",
      "add 'watson_s' term 'dj'\n",
      "add 'watson_s' term 'djk'\n",
      "add 'watson_s' term 'dk'\n",
      "solve for J = 5 and symmetry B2\n",
      "build rigid-rotor Hamiltonian from rotational constants, A, B, C = (27.877, 14.512, 9.285) cm-1\n",
      "add 'watson_s' term 'dj'\n",
      "add 'watson_s' term 'djk'\n",
      "add 'watson_s' term 'dk'\n"
     ]
    }
   ],
   "source": [
    "water.watson = 'watson_a'\n",
    "water.dj = 0\n",
    "water.djk = 2\n",
    "water.dk = 3\n",
    "\n",
    "sol = solve(water, Jmin=0, Jmax=5, verbose=True) # set verbose=True to check which attributes of water are used to build Watson Hamiltonian"
   ]
  },
  {
   "source": [
    "### Matrix elements of laboratory-frame Cartesian tensor operators"
   ],
   "cell_type": "markdown",
   "metadata": {}
  },
  {
   "source": [
    "Once we have solutions of the field-free rotational problem (using `solve`), we can compute the matrix elements of various molecule-field interaction tensors, which we generally call as laboratory-frame Cartesian tensor operators"
   ],
   "cell_type": "markdown",
   "metadata": {}
  },
  {
   "cell_type": "code",
   "execution_count": 23,
   "metadata": {},
   "outputs": [],
   "source": [
    "from richmol.rot.labtens import LabTensor\n",
    "\n",
    "# matrix elements of lab-frame dipole moment operator\n",
    "dipole_moment = LabTensor(water.dip, sol)\n",
    "\n",
    "# matrix elements of lab-frame polarizability tensor\n",
    "polarizability = LabTensor(water.pol, sol)"
   ]
  },
  {
   "cell_type": "code",
   "execution_count": 25,
   "metadata": {},
   "outputs": [
    {
     "output_type": "stream",
     "name": "stdout",
     "text": [
      "<richmol.rot.labtens.LabTensor object at 0x7f984b5e1e48>\n<richmol.rot.labtens.LabTensor object at 0x7f984bce5d30>\n"
     ]
    }
   ],
   "source": [
    "print(dipole_moment)\n",
    "print(polarizability)"
   ]
  },
  {
   "cell_type": "code",
   "execution_count": null,
   "metadata": {},
   "outputs": [],
   "source": []
  }
 ],
 "metadata": {
  "kernelspec": {
   "display_name": "Python 3",
   "language": "python",
   "name": "python3"
  },
  "language_info": {
   "codemirror_mode": {
    "name": "ipython",
    "version": 3
   },
   "file_extension": ".py",
   "mimetype": "text/x-python",
   "name": "python",
   "nbconvert_exporter": "python",
   "pygments_lexer": "ipython3",
   "version": "3.6.9-final"
  }
 },
 "nbformat": 4,
 "nbformat_minor": 4
}