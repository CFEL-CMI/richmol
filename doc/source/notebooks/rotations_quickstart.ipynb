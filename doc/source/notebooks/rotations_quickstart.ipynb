{
 "cells": [
  {
   "cell_type": "markdown",
   "metadata": {},
   "source": [
    "# Rotational dynamics Quickstart"
   ]
  },
  {
   "cell_type": "markdown",
   "metadata": {},
   "source": [
    "The calculation of rotational dynamics proceeds in two steps: (i) obtaining molecular rotational energies, wave functions, and matrix elements of electromagnetic property tensors, and (ii) solving the time-dependent problem with external electromagnetic fields using field-free solutions in (i) as basis."
   ]
  },
  {
   "cell_type": "markdown",
   "metadata": {},
   "source": [
    "## Molecular field-free rotational states"
   ]
  },
  {
   "cell_type": "code",
   "execution_count": 1,
   "metadata": {},
   "outputs": [],
   "source": [
    "from richmol.rot.molecule import Molecule, mol_tensor"
   ]
  },
  {
   "cell_type": "markdown",
   "metadata": {},
   "source": [
    "There are three common ways to set up the molecule and its properties, using calculated or experimental data or mix of both:\n",
    "\n",
    "1. Provide Cartesian coordinates of atoms and molecular property tensors, referring to the same coordinate frame, obtained, for example, from the quantum chemical calculations.\n",
    "\n",
    "2. Provide spectroscopic constants ($A$, $B$, $C$, $D_{J}$, $D_{J,K}$ ...) and molecular property tensors in the coordinate frame of principal axes of inertia (PAI).\n",
    "\n",
    "3. Provide spectroscopic constants ($A$, $B$, $C$, $D_{J}$, $D_{J,K}$ ...) while molecular property tensors calculated in some other coordinate frame (not PAI). Here Cartesian coordinates of atoms must also be provided and will be used by the program only for rotating the property tensors to PAI frame."
   ]
  },
  {
   "cell_type": "markdown",
   "metadata": {},
   "source": [
    "### Molecular geometry and property tensors"
   ]
  },
  {
   "cell_type": "markdown",
   "metadata": {},
   "source": [
    "Here is an example for water molecule, using data obtained from a quantum chemical calculation"
   ]
  },
  {
   "cell_type": "code",
   "execution_count": 2,
   "metadata": {},
   "outputs": [
    {
     "name": "stdout",
     "output_type": "stream",
     "text": [
      "[('O', 15.99491462, [ 0.        ,  0.        ,  0.06559636])\n",
      " ('H',  1.00782503, [ 0.        , -0.75726686, -0.52053092])\n",
      " ('H',  1.00782503, [ 0.        ,  0.75726686, -0.52053092])]\n"
     ]
    }
   ],
   "source": [
    "water = Molecule()\n",
    "\n",
    "water.XYZ = (\"bohr\",\n",
    "             \"O\",  0.00000000,   0.00000000,   0.12395915,\n",
    "             \"H\",  0.00000000,  -1.43102686,  -0.98366080,\n",
    "             \"H\",  0.00000000,   1.43102686,  -0.98366080)\n",
    "\n",
    "# dipole moment (au)\n",
    "water.dip = [0, 0, -0.7288]\n",
    "\n",
    "# polarizability tensor (au)\n",
    "water.pol = [[9.1369, 0, 0], [0, 9.8701, 0], [0, 0, 9.4486]]\n",
    "\n",
    "print(water.XYZ) # print Cartesian coordinates (in Angstrom) and masses of atoms"
   ]
  },
  {
   "cell_type": "markdown",
   "metadata": {},
   "source": [
    "By default, calculations are carried out for the main isotopologue. To specity a non-standard isotope, put the corresponding isotope number next to the atom label, for example, \"O18\" for oxygen-18 or \"H2\" for deuterium"
   ]
  },
  {
   "cell_type": "code",
   "execution_count": 3,
   "metadata": {},
   "outputs": [
    {
     "name": "stdout",
     "output_type": "stream",
     "text": [
      "[('O18', 17.99915961, [ 0.        ,  0.        ,  0.06559636])\n",
      " ('H2',  2.01410178, [ 0.        , -0.75726686, -0.52053092])\n",
      " ('H2',  2.01410178, [ 0.        ,  0.75726686, -0.52053092])]\n"
     ]
    }
   ],
   "source": [
    "# example of D2O^{18}\n",
    "D2O18 = Molecule()\n",
    "D2O18.XYZ = (\"bohr\",\n",
    "             \"O18\",  0.00000000,   0.00000000,   0.12395915,\n",
    "             \"H2\",   0.00000000,  -1.43102686,  -0.98366080,\n",
    "             \"H2\",   0.00000000,   1.43102686,  -0.98366080)\n",
    "\n",
    "print(D2O18.XYZ) # print Cartesian coordinates (in Angstrom) and masses of atoms"
   ]
  },
  {
   "cell_type": "markdown",
   "metadata": {},
   "source": [
    "You can also read/store the geometry from/to the XYZ file"
   ]
  },
  {
   "cell_type": "code",
   "execution_count": 4,
   "metadata": {},
   "outputs": [
    {
     "name": "stdout",
     "output_type": "stream",
     "text": [
      "[('O', 15.99491462, [ 0.        ,  0.        ,  0.06559636])\n",
      " ('H',  1.00782503, [ 0.        , -0.75726686, -0.52053092])\n",
      " ('H',  1.00782503, [ 0.        ,  0.75726686, -0.52053092])]\n"
     ]
    }
   ],
   "source": [
    "water.store_xyz(\"water.xyz\", \"comment line\")\n",
    "\n",
    "water2 = Molecule()\n",
    "water2.XYZ = \"water.xyz\"\n",
    "\n",
    "print(water2.XYZ)"
   ]
  },
  {
   "cell_type": "markdown",
   "metadata": {},
   "source": [
    "The molecular frame embedding, i.e., the orientation of $x,y,z$ axes with respect to the molecule, can be defined using `frame` property.\n",
    "The molecule properties `dip` for dipole moment and `pol` for polarizability tensor (and few others) will be dynamically rotated to a new coordinate frame whenever the latter has been changed"
   ]
  },
  {
   "cell_type": "code",
   "execution_count": 5,
   "metadata": {},
   "outputs": [
    {
     "name": "stdout",
     "output_type": "stream",
     "text": [
      "coordinates\n",
      " [('O', 15.99491462, [ 0.        ,  0.06559636,  0.        ])\n",
      " ('H',  1.00782503, [-0.75726686, -0.52053092,  0.        ])\n",
      " ('H',  1.00782503, [ 0.75726686, -0.52053092,  0.        ])]\n",
      "dipole moment\n",
      " [ 0.     -0.7288  0.    ]\n",
      "polarizability\n",
      " [[9.8701 0.     0.    ]\n",
      " [0.     9.4486 0.    ]\n",
      " [0.     0.     9.1369]]\n",
      "inertia tensor\n",
      " [[ 0.61496953 -0.         -0.        ]\n",
      " [-0.          1.15588076 -0.        ]\n",
      " [-0.         -0.          1.7708503 ]]\n"
     ]
    }
   ],
   "source": [
    "# change frame to inertial principal axes system (ipas)\n",
    "water.frame = \"ipas\" # or equivalently water.frame=\"diag(inertia)\"\n",
    "\n",
    "print(\"coordinates\\n\", water.XYZ)\n",
    "print(\"dipole moment\\n\", water.dip)\n",
    "print(\"polarizability\\n\", water.pol)\n",
    "\n",
    "print(\"inertia tensor\\n\", water.inertia) # must be diagonal in \"ipas\" frame"
   ]
  },
  {
   "cell_type": "markdown",
   "metadata": {},
   "source": [
    "Multiple frame operations can be combined together, for example, we can rotate to the inertial principal axes system and then permute the $x$ and $z$ axes"
   ]
  },
  {
   "cell_type": "code",
   "execution_count": 6,
   "metadata": {},
   "outputs": [
    {
     "name": "stdout",
     "output_type": "stream",
     "text": [
      "coordinates\n",
      " [('O', 15.99491462, [ 0.        ,  0.06559636,  0.        ])\n",
      " ('H',  1.00782503, [ 0.        , -0.52053092, -0.75726686])\n",
      " ('H',  1.00782503, [ 0.        , -0.52053092,  0.75726686])]\n",
      "dipole moment\n",
      " [ 0.     -0.7288  0.    ]\n",
      "polarizability\n",
      " [[9.1369 0.     0.    ]\n",
      " [0.     9.4486 0.    ]\n",
      " [0.     0.     9.8701]]\n",
      "inertia tensor\n",
      " [[ 1.7708503  -0.         -0.        ]\n",
      " [-0.          1.15588076 -0.        ]\n",
      " [-0.         -0.          0.61496953]]\n"
     ]
    }
   ],
   "source": [
    "water.frame = \"ipas\"\n",
    "water.frame = \"zyx\"\n",
    "\n",
    "# or in one line\n",
    "water.frame = \"zyx,ipas\"\n",
    "\n",
    "print(\"coordinates\\n\", water.XYZ)\n",
    "print(\"dipole moment\\n\", water.dip)\n",
    "print(\"polarizability\\n\", water.pol)\n",
    "\n",
    "print(\"inertia tensor\\n\", water.inertia) # must be diagonal in \"ipas\" frame"
   ]
  },
  {
   "cell_type": "markdown",
   "metadata": {},
   "source": [
    "The principal axes system can be defined with respect to any rank-2 symmetric matrix. In many cases it is convenient to choose molecular frame such that polarizability tensor becomes diagonal, which can be done as following"
   ]
  },
  {
   "cell_type": "code",
   "execution_count": 7,
   "metadata": {},
   "outputs": [
    {
     "name": "stdout",
     "output_type": "stream",
     "text": [
      "coordinates\n",
      " [('O', 15.99491462, [ 0.        ,  0.06559636,  0.        ])\n",
      " ('H',  1.00782503, [ 0.        , -0.52053092, -0.75726686])\n",
      " ('H',  1.00782503, [ 0.        , -0.52053092,  0.75726686])]\n",
      "dipole moment\n",
      " [ 0.     -0.7288  0.    ]\n",
      "polarizability\n",
      " [[9.1369 0.     0.    ]\n",
      " [0.     9.4486 0.    ]\n",
      " [0.     0.     9.8701]]\n"
     ]
    }
   ],
   "source": [
    "water.frame = \"diag(pol)\" # can also be combined with axes permutations, e.g., \"xzy,diag(pol)\"\n",
    "\n",
    "print(\"coordinates\\n\", water.XYZ)\n",
    "print(\"dipole moment\\n\", water.dip)\n",
    "print(\"polarizability\\n\", water.pol)\n"
   ]
  },
  {
   "cell_type": "markdown",
   "metadata": {},
   "source": [
    "In principle, user can define custom rotation matrix or principal axes matrix for frame rotation, as in the example below"
   ]
  },
  {
   "cell_type": "code",
   "execution_count": 8,
   "metadata": {},
   "outputs": [],
   "source": [
    "import numpy as np\n",
    "import scipy\n",
    "\n",
    "# random matrix\n",
    "mat = np.random.rand(3,3)\n",
    "\n",
    "# random rotation matrix\n",
    "water.custom_rot = scipy.linalg.expm((mat - mat.T)/2)\n",
    "\n",
    "# random symmetric matrix\n",
    "water.custom_pam = (mat + mat.T)/2\n",
    "\n",
    "# use 'custom_rot' (orthogonal) matrix to rotate frame\n",
    "water.frame = \"custom_rot\"\n",
    "\n",
    "# use 'custom_pam' (symmetric) matrix as principal axes matrix\n",
    "water.frame = \"diag(custom_pam)\""
   ]
  },
  {
   "cell_type": "markdown",
   "metadata": {},
   "source": [
    "Multiple occurences of `frame` assignments lead to the accumulation of the corresponding frame rotations, to reset the frame to the initial one, as defined by the input Cartesian coordinates of atoms, use `frame=null`"
   ]
  },
  {
   "cell_type": "code",
   "execution_count": 9,
   "metadata": {},
   "outputs": [
    {
     "name": "stdout",
     "output_type": "stream",
     "text": [
      "[('O', 15.99491462, [ 0.        ,  0.06559636,  0.        ])\n",
      " ('H',  1.00782503, [ 0.        , -0.52053092, -0.75726686])\n",
      " ('H',  1.00782503, [ 0.        , -0.52053092,  0.75726686])]\n"
     ]
    }
   ],
   "source": [
    "water.frame = \"diag(inertia)\" # rotate to ipas\n",
    "water.frame = \"zxy\" # then permute axes (123)\n",
    "\n",
    "# now we want to permute axes (23) in the original frame, reset frame rotation\n",
    "water.frame = \"xzy,null\"\n",
    "\n",
    "print(water.XYZ)"
   ]
  },
  {
   "cell_type": "markdown",
   "metadata": {},
   "source": [
    "As mentioned above, only certain Cartesian molecule properties (such as `dip`, `pol`, `inertia`, `XYZ`, and few others) are automatically rotated when the frame is altered. This is demonstrated in the following example"
   ]
  },
  {
   "cell_type": "code",
   "execution_count": 10,
   "metadata": {},
   "outputs": [
    {
     "name": "stdout",
     "output_type": "stream",
     "text": [
      "vec\n",
      " [1, 2, 3]\n",
      "mat\n",
      " [[1, 2, 3], [4, 5, 6], [7, 8, 9]]\n",
      "dip\n",
      " [-0.7288  0.      0.    ]\n"
     ]
    }
   ],
   "source": [
    "water.vec = [1,2,3]\n",
    "water.mat = [[1,2,3],[4,5,6],[7,8,9]]\n",
    "\n",
    "water.frame = \"zyx,null\"\n",
    "\n",
    "# axes permutation (13) does not affect vec and mat, but dip\n",
    "print(\"vec\\n\", water.vec)\n",
    "print(\"mat\\n\", water.mat)\n",
    "print(\"dip\\n\", water.dip)"
   ]
  },
  {
   "cell_type": "markdown",
   "metadata": {},
   "source": [
    "If you want to declare a custom Cartesian tensor which is dynamically rotated to a new frame, use `mol_tensor` function"
   ]
  },
  {
   "cell_type": "code",
   "execution_count": 14,
   "metadata": {},
   "outputs": [
    {
     "name": "stdout",
     "output_type": "stream",
     "text": [
      "vec\n",
      " [3. 2. 1.]\n",
      "mat\n",
      " [[9. 8. 7.]\n",
      " [6. 5. 4.]\n",
      " [3. 2. 1.]]\n",
      "dip\n",
      " [-0.7288  0.      0.    ]\n",
      "new vec\n",
      " [9. 8. 7.]\n",
      "new mat\n",
      " [[19. 18. 17.]\n",
      " [16. 15. 14.]\n",
      " [13. 12. 11.]]\n"
     ]
    }
   ],
   "source": [
    "water.vec = mol_tensor([1,2,3])\n",
    "water.mat = mol_tensor([[1,2,3],[4,5,6],[7,8,9]])\n",
    "\n",
    "water.frame = \"zyx,null\"\n",
    "\n",
    "# axes permutation (13) now affects vec and mat\n",
    "print(\"vec\\n\", water.vec)\n",
    "print(\"mat\\n\", water.mat)\n",
    "print(\"dip\\n\", water.dip)\n",
    "\n",
    "# we can then change vec and mat values, they will be still dynamically rotated\n",
    "water.vec = [7,8,9]\n",
    "water.mat = mol_tensor([[11,12,13],[14,15,16],[17,18,19]])\n",
    "\n",
    "print(\"new vec\\n\", water.vec)\n",
    "print(\"new mat\\n\", water.mat)"
   ]
  },
  {
   "cell_type": "code",
   "execution_count": null,
   "metadata": {},
   "outputs": [],
   "source": []
  }
 ],
 "metadata": {
  "kernelspec": {
   "display_name": "Python 3",
   "language": "python",
   "name": "python3"
  },
  "language_info": {
   "codemirror_mode": {
    "name": "ipython",
    "version": 3
   },
   "file_extension": ".py",
   "mimetype": "text/x-python",
   "name": "python",
   "nbconvert_exporter": "python",
   "pygments_lexer": "ipython3",
   "version": "3.6.9"
  }
 },
 "nbformat": 4,
 "nbformat_minor": 4
}
