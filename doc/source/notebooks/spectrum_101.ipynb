{
 "cells": [
  {
   "cell_type": "markdown",
   "id": "33341d50-e062-48fd-8f89-3f1d13b5ea65",
   "metadata": {},
   "source": [
    "# Spectrum 101"
   ]
  },
  {
   "cell_type": "markdown",
   "id": "193d435c-9631-4dc7-b50d-60ecc861d445",
   "metadata": {},
   "source": [
    "Here you will learn how to obtain field-free and -dressed molecular spectra. The spectrum utility needs to be imported:"
   ]
  },
  {
   "cell_type": "code",
   "execution_count": 1,
   "id": "0bbbd432-a395-4c87-a9be-0330bcfca70d",
   "metadata": {},
   "outputs": [],
   "source": [
    "from richmol.utils import spectrum #TODO"
   ]
  },
  {
   "cell_type": "markdown",
   "id": "5afb604b-b8dc-4277-bb2b-ca7695f2dc21",
   "metadata": {},
   "source": [
    "## Field-free spectrum"
   ]
  },
  {
   "cell_type": "markdown",
   "id": "5cbb5690-6a30-4a65-bbeb-87516fd7e962",
   "metadata": {},
   "source": [
    "The hyperfine field-free spectrum of the electric dipole moment of water is obtained."
   ]
  },
  {
   "cell_type": "markdown",
   "id": "6cf45797-b917-4589-978e-f3de522e54aa",
   "metadata": {},
   "source": [
    "### Initialization"
   ]
  },
  {
   "cell_type": "markdown",
   "id": "5500d95a-df64-4e1a-a21c-4db093d9dc77",
   "metadata": {},
   "source": [
    "To start, energies of field-free states and matrix elements of field tensor operators of interest are needed (see `Tensors 101`). In this example necessary tensor operators are read from previously computed old-format Richmol files. For a correct `field_free_spectrum` object initialization the keyword arguments `type` (coupling moment type), `order` (coupling moment order) and `units` (coupling moment units) can be used. These keyword arguments are necessary to apply the right selection rules, absorption intensity function and unit conversion factors during computations. To narrow down molecular states of interest, the keyword arguments `j_max` (maxiumum value of J / F quantum number) and `e_max` (maximum value of energy) are available:"
   ]
  },
  {
   "cell_type": "code",
   "execution_count": 2,
   "id": "6249294c-a375-4bb2-bdb2-1bb6caf02940",
   "metadata": {},
   "outputs": [],
   "source": [
    "# INITIALIZATION\n",
    "\n",
    "path = 'etc/richmol_files_water'\n",
    "filename = path + '/hyfor_energies_f0.0_f39.0.chk'\n",
    "matelem = path + '/matelem_MU_ns_f<f1>_f<f2>.rchm'\n",
    "\n",
    "free_spec = spectrum.field_free_spectrum(filename, matelem=matelem, type='elec', order='dip', units='Debye', j_max=2, e_max=15e3)"
   ]
  },
  {
   "cell_type": "markdown",
   "id": "b193799c-81b1-441e-9032-c8061c5e74a8",
   "metadata": {},
   "source": [
    "When intializing a `field_free_spectrum` object from a new-format Richmol file, the keyword argument `matelem` can be ignored. Intialization automatically creates a path to an output file, into which all upcoming results are written."
   ]
  },
  {
   "cell_type": "markdown",
   "id": "e284ab3b-26fd-4b64-a04b-124652ddac79",
   "metadata": {},
   "source": [
    "### Linestrength"
   ]
  },
  {
   "cell_type": "markdown",
   "id": "2f760538-9dd4-4cf5-bf36-c290a26c6cae",
   "metadata": {},
   "source": [
    "To obtain the linestrengths call the `linestr()` function on the `field_free_spectrum` object. Use the keywword argument `thresh` to define the linestrength threshold below which to neglect transitions:"
   ]
  },
  {
   "cell_type": "code",
   "execution_count": 3,
   "id": "2c30d310-7c9d-42fb-9423-46aa78d32a0f",
   "metadata": {},
   "outputs": [
    {
     "name": "stdout",
     "output_type": "stream",
     "text": [
      "\n",
      "  COMPUTED ASSIGNMENTS ...\n",
      "\n",
      "      filename = etc/richmol_files_water/hyfor_energies_f0.0_f39.0.chk\n",
      "      j_min = 0.0\n",
      "      j_max = 2.0\n",
      "      e_max = 15000.0\n",
      "\n",
      "  COMPUTED LINESTRENGTHS ...\n",
      "\n",
      "      matelem = etc/richmol_files_water/matelem_MU_ns_f<f1>_f<f2>.rchm\n",
      "      type = elec\n",
      "      order = dip\n",
      "      linestr_thresh = 1e-20\n"
     ]
    }
   ],
   "source": [
    "# LINESTRENGTH\n",
    "free_spec.linestr(thresh=1e-20)"
   ]
  },
  {
   "cell_type": "markdown",
   "id": "8d7ae59e-d6b7-4937-9c9d-2f6b6ca92d29",
   "metadata": {},
   "source": [
    "Results are directly written into the output file."
   ]
  },
  {
   "cell_type": "markdown",
   "id": "b34b39ce-6b5e-4fe5-8dc2-69f3d71b3e75",
   "metadata": {},
   "source": [
    "### Absorption intensity"
   ]
  },
  {
   "cell_type": "markdown",
   "id": "7925f88f-631a-4cb6-9a35-b3bdf89b2ba1",
   "metadata": {},
   "source": [
    "Finally the absorption intensities can be computed by calling the function `abs_intens()` on the `field_free_spectrum` object. Use the keyword arguments `abun` (natural terrestrial isotopic abundance), `temp` (temperature), `part_sum` (total internal partition sum) and `thresh` (absorption intensity threshold below which to neglect transitions) to obtain the solution of your problem of interest. In this step transitions and their corresponding absorption intensities can further be filtered to ones liking (e.g. into transitions, which are allowed / forbidden w.r.t. nuclear spin). To do so, just pass a list of filtering functions, which make use of the keyword arguments `sym` (total symmetry of states) and `qstr` (string containing other physical quanities of states), as keyword argument `filters`. By default no filter will be applied:"
   ]
  },
  {
   "cell_type": "code",
   "execution_count": 4,
   "id": "e5e48854-33be-413f-bcd6-ff156d940f61",
   "metadata": {},
   "outputs": [
    {
     "name": "stdout",
     "output_type": "stream",
     "text": [
      "\n",
      "  COMPUTED ABSORPTION INTENSITIES ...\n",
      "\n",
      "      type = elec\n",
      "      order = dip\n",
      "      units = Debye\n",
      "      abun = 1.0\n",
      "      temp = 296.0\n",
      "      part_sum = 174.5813\n",
      "\n",
      "  FILTERED ABSORPTION INTENSITIES ...\n",
      "\n",
      "      abs_intens_thresh = 1e-36\n",
      "      filters = ['allowed', 'forbidden']\n",
      "\n",
      "  PLOTTED ABSORPTION INTENSITIES ...\n",
      "\n",
      "      abs_intens_thresh = 1e-36\n",
      "      filters = ['allowed', 'forbidden']\n",
      "\n"
     ]
    }
   ],
   "source": [
    "# ABSORPTION INTENSITY\n",
    "\n",
    "temp = 296.0\n",
    "part_sum = 174.5813\n",
    "\n",
    "def allowed(**kwargs):\n",
    "    \"\"\" Filters out transition, which are allowed w.r.t. nuclear spin. \"\"\"\n",
    "    pass_ns = True\n",
    "    if 'qstr' in kwargs:\n",
    "        qstr_bra, qstr_ket = kwargs['qstr']\n",
    "        ns_bra = float(qstr_bra.split()[-1])\n",
    "        ns_ket = float(qstr_ket.split()[-1])\n",
    "        pass_ns = (ns_bra, ns_ket) in [(0.0, 0.0), (1.0, 1.0)]\n",
    "    return pass_ns\n",
    "\n",
    "def forbidden(**kwargs):\n",
    "    \"\"\" Filters out transition, which are forbidden w.r.t. nuclear spin. \"\"\"\n",
    "    pass_ns = True\n",
    "    if 'qstr' in kwargs:\n",
    "        qstr_bra, qstr_ket = kwargs['qstr']\n",
    "        ns_bra = float(qstr_bra.split()[-1])\n",
    "        ns_ket = float(qstr_ket.split()[-1])\n",
    "        pass_ns = (ns_bra, ns_ket) in [(0.0, 1.0), (1.0, 0.0)]\n",
    "    return pass_ns\n",
    "\n",
    "free_spec.abs_intens(temp, part_sum, abun=1.0, filters=[allowed, forbidden] , thresh=1e-36)"
   ]
  },
  {
   "cell_type": "markdown",
   "id": "ee0701c5-32ee-42fe-a35b-79d24f449a30",
   "metadata": {},
   "source": [
    "Results are directly written into the output file. A spectrum plot `absorption_intensities.png`, containing filtered absorption intensities, will be saved into the current working directory:"
   ]
  },
  {
   "cell_type": "markdown",
   "id": "aa7f4599-574a-42f8-9f78-37f83128b141",
   "metadata": {},
   "source": [
    "![Field-free spectrum](absorption_intensities.png)"
   ]
  },
  {
   "cell_type": "code",
   "execution_count": null,
   "id": "473944d7-4f89-4474-9ae4-b758e04c2efb",
   "metadata": {},
   "outputs": [],
   "source": []
  }
 ],
 "metadata": {
  "kernelspec": {
   "display_name": "Richmol",
   "language": "python",
   "name": "richmol"
  },
  "language_info": {
   "codemirror_mode": {
    "name": "ipython",
    "version": 3
   },
   "file_extension": ".py",
   "mimetype": "text/x-python",
   "name": "python",
   "nbconvert_exporter": "python",
   "pygments_lexer": "ipython3",
   "version": "3.6.13"
  }
 },
 "nbformat": 4,
 "nbformat_minor": 5
}
