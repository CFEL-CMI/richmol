{
 "cells": [
  {
   "cell_type": "markdown",
   "id": "6a119d1c",
   "metadata": {},
   "source": [
    "# Spectra"
   ]
  },
  {
   "cell_type": "markdown",
   "id": "17906b91",
   "metadata": {},
   "source": [
    "Here you will learn how to obtain field-free and -dressed molecular spectra. The spectrum utility needs to be imported:"
   ]
  },
  {
   "cell_type": "code",
   "execution_count": 5,
   "id": "1f33d4b2",
   "metadata": {},
   "outputs": [],
   "source": [
    "from richmol import spectrum"
   ]
  },
  {
   "cell_type": "markdown",
   "id": "f930d0cd",
   "metadata": {},
   "source": [
    "## Field-free spectrum"
   ]
  },
  {
   "cell_type": "markdown",
   "id": "fc5022e3",
   "metadata": {},
   "source": [
    "The hyperfine field-free spectrum of the electric dipole moment of water is obtained."
   ]
  },
  {
   "cell_type": "markdown",
   "id": "d70dff5e",
   "metadata": {},
   "source": [
    "### Initialization"
   ]
  },
  {
   "cell_type": "markdown",
   "id": "05d3958a",
   "metadata": {},
   "source": [
    "To start, energies of field-free states and matrix elements of field tensor operators of interest are needed (see `Tensors 101`). In this example necessary tensor operators are read from previously computed old-format Richmol files. For a correct `field_free_spectrum` object initialization the keyword arguments `type` (coupling moment type), `order` (coupling moment order) and `units` (coupling moment units) can be used. These keyword arguments are necessary to apply the right selection rules, absorption intensity function and unit conversion factors during computations. To narrow down molecular states of interest, the keyword arguments `j_max` (maxiumum value of J / F quantum number) and `e_max` (maximum value of energy) are available:"
   ]
  },
  {
   "cell_type": "code",
   "execution_count": 6,
   "id": "9b7f9c87",
   "metadata": {},
   "outputs": [],
   "source": [
    "# INITIALIZATION\n",
    "\n",
    "path = 'etc/richmol_files_water'\n",
    "filename = path + '/hyfor_energies_f0.0_f39.0.chk'\n",
    "matelem = path + '/matelem_MU_ns_f<f1>_f<f2>.rchm'\n",
    "\n",
    "free_spec = spectrum.field_free_spectrum(\n",
    "    filename,\n",
    "    matelem = matelem,\n",
    "    type = 'elec',\n",
    "    order = 'dip',\n",
    "    units = 'Debye',\n",
    "    j_max = 2,\n",
    "    e_max = 15e3\n",
    ")"
   ]
  },
  {
   "cell_type": "markdown",
   "id": "759d2b4b",
   "metadata": {},
   "source": [
    "When intializing a `field_free_spectrum` object from a new-format Richmol file, the keyword argument `matelem` can be ignored. Intialization automatically creates a path to an output file, into which all upcoming results are written."
   ]
  },
  {
   "cell_type": "markdown",
   "id": "3a2e3255",
   "metadata": {},
   "source": [
    "### Linestrength"
   ]
  },
  {
   "cell_type": "markdown",
   "id": "a317ada2",
   "metadata": {},
   "source": [
    "To obtain the linestrengths call the `linestr()` function on the `field_free_spectrum` object. Use the keywword argument `thresh` to define the linestrength threshold below which to neglect transitions:"
   ]
  },
  {
   "cell_type": "code",
   "execution_count": 7,
   "id": "da11c39b",
   "metadata": {},
   "outputs": [
    {
     "name": "stdout",
     "output_type": "stream",
     "text": [
      "\n",
      "  COMPUTED ASSIGNMENTS ...\n",
      "\n",
      "      filename = etc/richmol_files_water/hyfor_energies_f0.0_f39.0.chk\n",
      "      j_min = 0.0\n",
      "      j_max = 2.0\n",
      "      e_max = 15000.0\n",
      "\n",
      "  COMPUTED LINESTRENGTHS ...\n",
      "\n",
      "      matelem = etc/richmol_files_water/matelem_MU_ns_f<f1>_f<f2>.rchm\n",
      "      type = elec\n",
      "      order = dip\n",
      "      linestr_thresh = 1e-20\n"
     ]
    }
   ],
   "source": [
    "# LINESTRENGTH\n",
    "free_spec.linestr(thresh=1e-20)"
   ]
  },
  {
   "cell_type": "markdown",
   "id": "ebb88c34",
   "metadata": {},
   "source": [
    "Results are directly written into the output file."
   ]
  },
  {
   "cell_type": "markdown",
   "id": "5b7bb1d8",
   "metadata": {},
   "source": [
    "### Absorption intensity"
   ]
  },
  {
   "cell_type": "markdown",
   "id": "4dce088b",
   "metadata": {},
   "source": [
    "Finally the absorption intensities can be computed by calling the function `abs_intens()` on the `field_free_spectrum` object. Use the keyword arguments `abun` (natural terrestrial isotopic abundance), `temp` (temperature), `part_sum` (total internal partition sum) and `thresh` (absorption intensity threshold below which to neglect transitions) to obtain the solution of your problem of interest. In this step transitions and their corresponding absorption intensities can further be filtered to ones liking (e.g. into transitions, which are allowed / forbidden w.r.t. nuclear spin). To do so, just pass a list of filtering functions, which make use of the keyword arguments `sym` (total symmetry of states) and `qstr` (string containing other physical quanities of states), as keyword argument `filters`. By default no filter will be applied:"
   ]
  },
  {
   "cell_type": "code",
   "execution_count": 8,
   "id": "aec4eb48",
   "metadata": {},
   "outputs": [
    {
     "name": "stdout",
     "output_type": "stream",
     "text": [
      "\n",
      "  COMPUTED ABSORPTION INTENSITIES ...\n",
      "\n",
      "      type = elec\n",
      "      order = dip\n",
      "      units = Debye\n",
      "      abun = 1.0\n",
      "      temp = 296.0\n",
      "      part_sum = 174.5813\n",
      "\n",
      "  FILTERED ABSORPTION INTENSITIES ...\n",
      "\n",
      "      abs_intens_thresh = 1e-36\n",
      "      filters = ['allowed', 'forbidden']\n",
      "\n",
      "  PLOTTED ABSORPTION INTENSITIES ...\n",
      "\n",
      "      abs_intens_thresh = 1e-36\n",
      "      filters = ['allowed', 'forbidden']\n",
      "\n"
     ]
    }
   ],
   "source": [
    "# ABSORPTION INTENSITY\n",
    "\n",
    "temp = 296.0\n",
    "part_sum = 174.5813\n",
    "\n",
    "def allowed(**kwargs):\n",
    "    \"\"\" Filters out transition allowed w.r.t. nuclear spin \"\"\"\n",
    "    pass_ns = True\n",
    "    if 'qstr' in kwargs:\n",
    "        qstr_bra, qstr_ket = kwargs['qstr']\n",
    "        ns_bra = float(qstr_bra.split()[-1])\n",
    "        ns_ket = float(qstr_ket.split()[-1])\n",
    "        pass_ns = (ns_bra, ns_ket) in [(0.0, 0.0), (1.0, 1.0)]\n",
    "    return pass_ns\n",
    "\n",
    "def forbidden(**kwargs):\n",
    "    \"\"\" Filters out transition forbidden w.r.t. nuclear spin \"\"\"\n",
    "    pass_ns = True\n",
    "    if 'qstr' in kwargs:\n",
    "        qstr_bra, qstr_ket = kwargs['qstr']\n",
    "        ns_bra = float(qstr_bra.split()[-1])\n",
    "        ns_ket = float(qstr_ket.split()[-1])\n",
    "        pass_ns = (ns_bra, ns_ket) in [(0.0, 1.0), (1.0, 0.0)]\n",
    "    return pass_ns\n",
    "\n",
    "free_spec.abs_intens(\n",
    "    temp, part_sum, abun=1.0, filters=[allowed, forbidden] , thresh=1e-36\n",
    ")"
   ]
  },
  {
   "cell_type": "markdown",
   "id": "02b77f4a",
   "metadata": {},
   "source": [
    "Results are directly written into the output file. A spectrum plot `absorption_intensities.png`, containing filtered absorption intensities, will be saved into the current working directory:"
   ]
  },
  {
   "cell_type": "markdown",
   "id": "3df254ca",
   "metadata": {},
   "source": [
    "![Field-free spectrum](absorption_intensities.png)"
   ]
  }
 ],
 "metadata": {
  "kernelspec": {
   "display_name": "Python 3",
   "language": "python",
   "name": "python3"
  },
  "language_info": {
   "codemirror_mode": {
    "name": "ipython",
    "version": 3
   },
   "file_extension": ".py",
   "mimetype": "text/x-python",
   "name": "python",
   "nbconvert_exporter": "python",
   "pygments_lexer": "ipython3",
   "version": "3.8.5"
  }
 },
 "nbformat": 4,
 "nbformat_minor": 5
}
