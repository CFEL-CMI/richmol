{
 "cells": [
  {
   "cell_type": "markdown",
   "metadata": {},
   "source": [
    "## Compute Stark effect for rotational levels of water molecule\n",
    "Here we use the results from previous exercise \"Compute rotational energy levels of rigid water molecule\" as basis for computing rotational energies in the presence of static electric field.\n",
    "\n",
    "The rotaitonal wave functions for water molecule, as an asymmetric-top, are represented by linear combinations of symmetric-top functions, i.e., $\\psi_l^{(J,m)} = \\sum_{k} c_k^{(J,l)}|J,k,m\\rangle$, where $l$ is the index of rotaitonal state. These are eigenfunctions of rotational kinetic energy operator $T_\\text{rot}$. The coefficients $c_k^{(J,l)}$ are stored in hdf5 file (previous exercise) as file['J:'+str(J)]['vec'] which returns a two-dimensional matrix with the first dimension being index of $k$ quantum number and the second - $l$. The corresponding list of $k$ quanta in stored as file['J:'+str(J)]['k_list'].\n",
    "\n",
    "The Hamiltonian for molecule in static electric field is $H=T_\\text{rot} - \\sum_A\\mu_A F_A$ ($A=X,Y,Z$ are laboratory frame axes), and we will be seeking for the eigenfunctions of $H$ in the form of linear combinations of field-free wave functions, i.e., generally $\\Psi_n = \\sum_{J,m,l} C_{J,m,l}^{(n)}\\psi_l^{(J,m)}$, where $n$ is the index of field-dressed rotational state.\n",
    "\n",
    "The task is to compute matrix representation of $H$ in the basis of eigenfunctions of $T_\\text{rot}$, $\\psi_l^{(J,m)}$ (rotational field-free states), and find its eigenvalues and eigenvectors. Repeat calculations for different values of electric field strength and plot the eigenvalues (field-dressed rotational energies) as functions of field.\n",
    "\n",
    "We start by deriving the matrix representation of field-interaction Hamiltonian in the symmetric-top basis $\\langle J',k',m'|-\\sum_A\\mu_A F_A|J,k,m\\rangle$, which is given by $- \\sum_A F_A \\sum_\\alpha \\langle J',k',m' |R_{A,\\alpha}| J,k,m\\rangle \\mu_\\alpha$ ($\\alpha =x,y,z$ are molecular frame axes), where $\\mu_\\alpha$ is molecular-frame dipole moment and $R_{A,\\alpha}$ is direction cosine matrix.\n",
    "\n",
    "The direction cosine matrix can be expressed in terms of Wigner D-matrix functions as $R_{A,\\alpha} = \\sum_{\\sigma,\\sigma'}[U^T]_{A,\\sigma} D_{\\sigma,\\sigma'}^{(\\omega)*} U_{\\sigma',\\alpha}$, where $U$ is the matrix transformation for the rank-1 Cartesian tensor operator into the spherical-tensor form, and $\\sigma,\\sigma'=-\\omega .. \\omega$.\n",
    "\n",
    "Using the Wigner-Eckar theorem, the matrix elements $\\langle J',k',m'|R_{A,\\alpha}|J,k,m\\rangle = \\sum_{\\sigma,\\sigma'} [U^T]_{A,\\sigma} (-1)^{m'+k'}\\sqrt{2J'+1}\\sqrt{2J+1}\\left(\\begin{array}{ccc}J&1&J'\\\\m&\\sigma&-m'\\end{array}\\right)\\left(\\begin{array}{ccc}J&1&J'\\\\k&\\sigma'&-k'\\end{array}\\right)U_{\\sigma',\\alpha}$.\n",
    "\n",
    "For computaitonal efficiency, we can split this equation into two parts, i.e., $\\langle J',k',m'|R_{A,\\alpha}|J,k,m\\rangle = M_A^{(J',m',J,m)}K_\\alpha^{(J',k',J,k)}$, where $M_A^{(J',m',J,m)} = \\sum_{\\sigma} [U^T]_{A,\\sigma} (-1)^{m'}\\sqrt{2J'+1}\\sqrt{2J+1}\\left(\\begin{array}{ccc}J&1&J'\\\\m&\\sigma&-m'\\end{array}\\right)$ depends only on the laboratory frame quanta and $K_\\alpha^{(J',k',J,k)} = \\sum_{\\sigma'}(-1)^{k'}\\left(\\begin{array}{ccc}J&1&J'\\\\k&\\sigma'&-k'\\end{array}\\right)U_{\\sigma',\\alpha}$ depends only on the molecular frame quanta.\n",
    "\n",
    "The transformation of symmetric-top matrix elements $\\langle J',k',m'|R_{A,\\alpha}|J,k,m\\rangle$ to a representation of $T_\\text{rot}$ eigenfunctions $\\psi_l^{(J,m)}$ (rotational field-free states) is now computationally efficient since only the elements of $K_\\alpha^{(J',k',J,k)}$ part need to be transformed."
   ]
  },
  {
   "cell_type": "code",
   "execution_count": 77,
   "metadata": {},
   "outputs": [],
   "source": [
    "# Define molecular and field parameters\n",
    "\n",
    "dipole = [0, -1.9, 0] # dipole moment of water in Debye\n",
    "# please note the orientation of molecular axes in calculation of rotational states of water\n",
    "# in the exercise \"Compute rotational energy levels of rigid water molecule\" to assign correct dipole components\n",
    "\n",
    "conv_to_cm = 1.679201682918921e-05 # converts dipole[Debye] * field[V/cm] into cm^-1\n",
    "# note on unit conversion: Debye = 1/c * 10^{-21} Coulomb * meter and Coulomb * Volt = Joule"
   ]
  },
  {
   "cell_type": "code",
   "execution_count": 78,
   "metadata": {},
   "outputs": [],
   "source": [
    "# Set up functions for computing symmetric-top matrix elements of direction cosine matrix\n",
    "\n",
    "import numpy as np\n",
    "import sympy\n",
    "from sympy.physics.wigner import wigner_3j\n",
    "\n",
    "# matrix of transformation from Cartesian to spherical-tensor form for rank-1 operator\n",
    "#    order of spherical components in rows: (1,1), (1,0), (1,-1)\n",
    "#    order of Cartesian components in columns: x, y, z\n",
    "\n",
    "umat = np.array( [[-1.0/np.sqrt(2.0), -1j/np.sqrt(2.0), 0.0], \\\n",
    "                  [0.0, 0.0, 1.0], \\\n",
    "                  [1.0/np.sqrt(2.0), -1j/np.sqrt(2.0), 0.0]], dtype=np.complex128)\n",
    "\n",
    "# split symmetric-top matrix element of direction consine matrix into a product of two parts M and K\n",
    "# this is computationally much more efficient since we can now treat the m- and k-dependent parts (laboratory\n",
    "# and molecular frames' quanta) of basis separately, while the complete basis is produced by a Kronecker\n",
    "# product of all m and all k quanta, i.e., may become very large\n",
    "\n",
    "# K-matrix contracted with permanent dipole moment, i.e. sum_alpha(K_alpha * dipole_alpha)\n",
    "def kmat(omega, J1, k1, J2, k2):\n",
    "        threej = np.array([wigner_3j(J2, omega, J1, k2, sigma, -k1) \\\n",
    "                           for sigma in reversed(range(-omega, omega + 1))], dtype=np.float64)\n",
    "        return (-1.0)**k1 * np.dot(np.dot(threej, umat), dipole)\n",
    "\n",
    "# M-matrix\n",
    "def mmat(omega, J1, m1, J2, m2):\n",
    "        threej = np.array([wigner_3j(J2, omega, J1, m2, sigma, -m1) \\\n",
    "                           for sigma in reversed(range(-omega, omega + 1))], dtype=np.float64)\n",
    "        return np.sqrt(2.0 * J1 + 1) * np.sqrt(2.0 * J2 + 1) * (-1.0)**m1 * np.dot(np.linalg.pinv(umat), threej)"
   ]
  },
  {
   "cell_type": "code",
   "execution_count": 79,
   "metadata": {},
   "outputs": [
    {
     "name": "stdout",
     "output_type": "stream",
     "text": [
      "read molecular field-free states from file: water_states.h5\n",
      "read data for J = 0\n",
      "read data for J = 1\n",
      "read data for J = 10\n",
      "read data for J = 2\n",
      "read data for J = 3\n",
      "read data for J = 4\n",
      "read data for J = 5\n",
      "read data for J = 6\n",
      "read data for J = 7\n",
      "read data for J = 8\n",
      "read data for J = 9\n"
     ]
    }
   ],
   "source": [
    "# Read from file previously computed rotational (field-free) states\n",
    "\n",
    "import h5py\n",
    "import re\n",
    "\n",
    "filename = \"water_states.h5\"\n",
    "print(\"read molecular field-free states from file:\", filename)\n",
    "k_list = {}\n",
    "vec = {}\n",
    "enr = {}\n",
    "with h5py.File(filename, 'r') as file:\n",
    "    for key in file:\n",
    "        if re.match(r'J:(\\w+)', key):\n",
    "            Jstr = re.search('J:(\\w+)', key).group(1)\n",
    "            J = int(Jstr)\n",
    "            print(\"read data for J =\", J)\n",
    "            k_list[J] = list(file[key]['k_list'][()])\n",
    "            enr[J] = file[key]['enr'][()]\n",
    "            vec[J] = file[key]['vec'][()]"
   ]
  },
  {
   "cell_type": "code",
   "execution_count": 80,
   "metadata": {},
   "outputs": [],
   "source": [
    "# Set up basis quanta and precompute matrices composing the total Hamiltonian\n",
    "# the benefits of splitting the matrix element of direction cosine matrix becomes apparent here!\n",
    "\n",
    "Jmax = 5 # restrict maximal J spanned by basis, if necessary\n",
    "\n",
    "# list of J quanta spanned by basis\n",
    "J_list = [J for J in enr.keys() if J <= Jmax]\n",
    "\n",
    "# list of m-quanta spanned by basis for each J\n",
    "m_list = {J : [m for m in range(-J, J + 1)] for J in J_list}\n",
    "\n",
    "# precompute matrix representation of Trot, which is diagonal in its own eigenbasis\n",
    "h0 = {}\n",
    "for J in J_list:\n",
    "    h0[J] = [e for m in m_list[J] for e in enr[J]]\n",
    "\n",
    "# precompute M and K matrices\n",
    "mme = {}\n",
    "kme = {}\n",
    "for J1 in J_list:\n",
    "    for J2 in J_list:\n",
    "        # K-matrix in symmetric-top basis\n",
    "        me = np.array([[ kmat(1, J1, k1, J2, k2) for k2 in k_list[J2] ] for k1 in k_list[J1] ]) # shape = (k', k)\n",
    "\n",
    "        # transform K matrix to a basis of Trot eigenfunctions, i.e., rotational wavefunctions of water\n",
    "        kme[(J1, J2)] = np.dot(np.conjugate(vec[J1].T), np.dot(me, vec[J2])) # shape = (l', l)\n",
    "\n",
    "        # M-matrix in symmetric-top basis\n",
    "        mme[(J1, J2)] = np.array([[ mmat(1, J1, m1, J2, m2) for m2 in m_list[J2] ] for m1 in m_list[J1] ]) # shape = (m', m, A)"
   ]
  },
  {
   "cell_type": "code",
   "execution_count": 82,
   "metadata": {},
   "outputs": [
    {
     "name": "stdout",
     "output_type": "stream",
     "text": [
      "do fz = 0.0 kV/cm ...\n",
      "do fz = 1.1111111111111112 kV/cm ...\n",
      "do fz = 2.2222222222222223 kV/cm ...\n",
      "do fz = 3.3333333333333335 kV/cm ...\n",
      "do fz = 4.444444444444445 kV/cm ...\n",
      "do fz = 5.555555555555555 kV/cm ...\n",
      "do fz = 6.666666666666667 kV/cm ...\n",
      "do fz = 7.777777777777779 kV/cm ...\n",
      "do fz = 8.88888888888889 kV/cm ...\n",
      "do fz = 10.0 kV/cm ...\n"
     ]
    },
    {
     "data": {
      "text/plain": [
       "[<matplotlib.lines.Line2D at 0x7fc5d70a7208>]"
      ]
     },
     "execution_count": 82,
     "metadata": {},
     "output_type": "execute_result"
    },
    {
     "data": {
      "image/png": "[encoded data removed]",
      "text/plain": [
       "<matplotlib.figure.Figure at 0x7fc5d70e4320>"
      ]
     },
     "metadata": {
      "needs_background": "light"
     },
     "output_type": "display_data"
    }
   ],
   "source": [
    "# Build and diagonalize the total Hamiltonian for external electric field on a grid\n",
    "\n",
    "import matplotlib.pyplot as plt\n",
    "\n",
    "stark = []\n",
    "\n",
    "for Fz in np.linspace(0, 10, 10): # field in kV\n",
    "\n",
    "    print(\"do fz =\", Fz, \"kV/cm ...\")\n",
    "    field = [0, 0, Fz * 1000] # field in V/cm\n",
    "\n",
    "    # H' = -dipole * field = -sum_A(M_A * F_A) * K, convert to units cm^-1\n",
    "    hmat = -np.block([[ np.kron( np.dot(mme[(J1, J2)], field), kme[(J1, J2)] ) * conv_to_cm \\\n",
    "                       for J2 in J_list] for J1 in J_list])\n",
    "    # H = H0 + H'\n",
    "    hmat += np.diag(np.concatenate([h0[J] for J in J_list]))\n",
    "\n",
    "    # eigenvalues\n",
    "    eigenval, eigenvec = np.linalg.eigh(hmat)\n",
    "\n",
    "    stark.append([Fz, *eigenval])\n",
    "\n",
    "stark = np.array(stark)\n",
    "\n",
    "plt.plot(stark[:,0], stark[:,5])\n",
    "plt.plot(stark[:,0], stark[:,6])\n",
    "plt.plot(stark[:,0], stark[:,7])"
   ]
  },
  {
   "cell_type": "markdown",
   "metadata": {},
   "source": [
    "We can now run same calculations using `watie` and `extfield`"
   ]
  },
  {
   "cell_type": "code",
   "execution_count": 83,
   "metadata": {},
   "outputs": [
    {
     "name": "stdout",
     "output_type": "stream",
     "text": [
      "Bx, By, Bz rotational constants in cm^-1: 26.958784982583502 14.614184327525283 9.476846602963152\n"
     ]
    }
   ],
   "source": [
    "# First, compute and store field-free rotational energies of water and matrix elements of dipole moment operator\n",
    "\n",
    "from richmol.watie import RigidMolecule, SymtopBasis, Jxx, Jyy, Jzz, CartTensor\n",
    "\n",
    "r1 = 0.96\n",
    "r2 = 0.96\n",
    "theta = 104.0 * np.pi / 180.0 # angle in radians\n",
    "\n",
    "water = RigidMolecule()\n",
    "water.XYZ = (\"angstrom\", \\\n",
    "             \"O\", 0, 0, 0, \\\n",
    "             \"H\", r1*np.sin(theta/2.0), 0, r1*np.cos(theta/2.0), \\\n",
    "             \"H\", -r2*np.sin(theta/2.0), 0, r2*np.cos(theta/2.0) )\n",
    "\n",
    "water.tensor = (\"dipole moment\", [0, 0, -1.9])\n",
    "\n",
    "water.frame = \"pas\"\n",
    "Bx, By, Bz = water.B\n",
    "print(\"Bx, By, Bz rotational constants in cm^-1:\", Bx, By, Bz)\n",
    "\n",
    "Jmax = 10\n",
    "\n",
    "wavefunc = {}\n",
    "for J in range(Jmax + 1):\n",
    "    bas = SymtopBasis(J)\n",
    "\n",
    "    # z=c, near-oblate\n",
    "    H = Bx * Jxx(bas) + By * Jyy(bas) + Bz * Jzz(bas)\n",
    "    hmat = bas.overlap(H)\n",
    "    enr, vec = np.linalg.eigh(hmat.real)\n",
    "    wavefunc[J] = bas.rotate(krot=(vec.T, enr))   # rotate basis to the eigenvector representation\n",
    "\n",
    "# store rotational energies\n",
    "for J in range(Jmax + 1):\n",
    "    wavefunc[J].store_richmol(\"water_j0_j\"+str(Jmax)+\".h5\")\n",
    "\n",
    "mu = CartTensor(water.tensor[\"dipole moment\"], name='mu', units='Debye')\n",
    "    \n",
    "# store rotational matrix elements of dipole moment\n",
    "for J1 in range(Jmax + 1):\n",
    "    for J2 in range(J1, Jmax + 1):\n",
    "        if abs(J1-J2)>1: continue # selection rules\n",
    "        mu.store_richmol(wavefunc[J1], wavefunc[J2], \"water_j0_j\"+str(Jmax)+\".h5\", thresh=1e-10)"
   ]
  },
  {
   "cell_type": "code",
   "execution_count": 84,
   "metadata": {},
   "outputs": [
    {
     "name": "stdout",
     "output_type": "stream",
     "text": [
      "do fz = 0.1 kV/cm ...\n",
      "do fz = 1.2000000000000002 kV/cm ...\n",
      "do fz = 2.3000000000000003 kV/cm ...\n",
      "do fz = 3.4000000000000004 kV/cm ...\n",
      "do fz = 4.5 kV/cm ...\n",
      "do fz = 5.6 kV/cm ...\n",
      "do fz = 6.7 kV/cm ...\n",
      "do fz = 7.800000000000001 kV/cm ...\n",
      "do fz = 8.9 kV/cm ...\n",
      "do fz = 10.0 kV/cm ...\n"
     ]
    },
    {
     "data": {
      "text/plain": [
       "[<matplotlib.lines.Line2D at 0x7fc5d7003710>]"
      ]
     },
     "execution_count": 84,
     "metadata": {},
     "output_type": "execute_result"
    },
    {
     "data": {
      "image/png": "[encoded data removed]",
      "text/plain": [
       "<matplotlib.figure.Figure at 0x7fc5d7082fd0>"
      ]
     },
     "metadata": {
      "needs_background": "light"
     },
     "output_type": "display_data"
    }
   ],
   "source": [
    "# Load field-free data and compute field-dressed states\n",
    "\n",
    "from richmol.extfield import States, Tensor, Hamiltonian, mu_au_to_Cm, planck, c_vac\n",
    "from richmol import rchm\n",
    "\n",
    "Jmax = 5\n",
    "\n",
    "richmol_file = \"water_j0_j10.h5\"\n",
    "\n",
    "# field-free states\n",
    "states = States(richmol_file, 'h0', [J for J in range(Jmax + 1)], emin=0, emax=10000)\n",
    "\n",
    "# dipole matrix elements\n",
    "mu = Tensor(richmol_file, 'mu', states, states)\n",
    "mu.mul(-1.0)\n",
    "\n",
    "stark = []\n",
    "\n",
    "for Fz in np.linspace(0.1, 10, 10): # field in kV\n",
    "\n",
    "    print(\"do fz =\", Fz, \"kV/cm ...\")\n",
    "    field = [0, 0, Fz * 1000 *100] # field in V/m\n",
    "\n",
    "    # multiply dipole with external field\n",
    "    mu2 = mu * field\n",
    "\n",
    "    # convert dipole[au]*field[V/m] into [cm^-1]\n",
    "    fac = mu_au_to_Cm / (planck * c_vac) / 100.0 * 0.393430307 # the last factor converts dipole from Debye to au\n",
    "    mu2.mul(fac)\n",
    "\n",
    "    # combine -dipole*field with field-free Hamiltonian\n",
    "    ham = Hamiltonian(mu=mu2, h0=states)\n",
    "\n",
    "    # matrix representation of Hamiltonian\n",
    "    hmat = ham.tomat(form='full')\n",
    "\n",
    "    # eigenvalues and eigenvectors\n",
    "    enr, vec = np.linalg.eigh(hmat)\n",
    "\n",
    "    stark.append([Fz, *enr])\n",
    "\n",
    "stark = np.array(stark)\n",
    "\n",
    "plt.plot(stark[:,0], stark[:,5])\n",
    "plt.plot(stark[:,0], stark[:,6])\n",
    "plt.plot(stark[:,0], stark[:,7])\n"
   ]
  },
  {
   "cell_type": "code",
   "execution_count": null,
   "metadata": {},
   "outputs": [],
   "source": []
  }
 ],
 "metadata": {
  "kernelspec": {
   "display_name": "Python 3",
   "language": "python",
   "name": "python3"
  },
  "language_info": {
   "codemirror_mode": {
    "name": "ipython",
    "version": 3
   },
   "file_extension": ".py",
   "mimetype": "text/x-python",
   "name": "python",
   "nbconvert_exporter": "python",
   "pygments_lexer": "ipython3",
   "version": "3.6.9"
  }
 },
 "nbformat": 4,
 "nbformat_minor": 4
}
