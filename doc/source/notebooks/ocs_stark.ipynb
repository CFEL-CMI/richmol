{
 "cells": [
  {
   "cell_type": "markdown",
   "metadata": {},
   "source": [
    "## Simulate Stark effect for linear molecule OCS\n"
   ]
  },
  {
   "cell_type": "markdown",
   "metadata": {},
   "source": [
    "The problem of linear molecule rotation in the presence of static electric field can be solved easily using ready analytical expressions for the matrix elements of dipole moment.\n",
    "For linear molecule, the laboratory-frame $(X,Y,Z)$ and molecular-frame $(x,y,z)$ projections of dipole moment are related as $\\mu_Z=\\cos(\\theta)\\mu_z$, where $\\theta$ is the Euler angle. From the properties of spherical harmonics, obtain $\\cos(\\theta)=2\\sqrt{\\pi/3}Y_{1,0}$. Thus, the total Hamiltonian for linear molecule in static electric field, oriented along $Z$ axis, can be written as\n",
    "\\begin{align}\n",
    "H=BJ^2-2\\sqrt{\\pi/3}Y_{1,0}\\mu_z F_Z.\n",
    "\\end{align}\n",
    "\n",
    "We solve the Schrödinger equation using variational method, i.e., by expanding the total wave function as linear combination of basis functions, which are eigenfunctions of Hamiltonian $H_0 = BJ^2$ describing field-free rotation of linear molecule. It is well known that eigenfunctions of $J^2$ operator are spherical harmonics $Y_{J,m}$.\n",
    "\n",
    "The matrix representation of $H$ in the basis of spherical harmonics is\n",
    "\\begin{align}\n",
    "\\langle Y_{J',m'}|H| Y_{J,m}\\rangle = BJ(J+1)\\delta_{J,J'}\\delta_{m,m'} - 2\\sqrt{\\pi/3}\\mu_z F_Z\\langle Y_{J',m'}|Y_{1,0}| Y_{J,m}\\rangle.\n",
    "\\end{align}\n",
    "\n",
    "Using the product rule for spherical harmonics, obtain\n",
    "\\begin{align}\n",
    "\\langle Y_{J',m'}|Y_{1,0}| Y_{J,m}\\rangle = (-1)^{m'}\\sqrt{\\frac{(2J'+1)(2J+1)(2+1)}{4\\pi}}\n",
    "\\left(\\begin{array}{ccc}J'&1&J\\\\-m'&0&m\\end{array}\\right)\n",
    "\\left(\\begin{array}{ccc}J'&1&J\\\\0&0&0\\end{array}\\right).\n",
    "\\end{align}\n",
    "\n",
    "The code below implements it"
   ]
  },
  {
   "cell_type": "code",
   "execution_count": 8,
   "metadata": {},
   "outputs": [
    {
     "name": "stdout",
     "output_type": "stream",
     "text": [
      "[-6.91681529e-03  4.03902042e-01  4.03902042e-01  4.10113514e-01\n",
      "  1.21699992e+00  1.21699992e+00  1.21849733e+00  1.21849733e+00\n",
      "  1.21900241e+00  2.43541649e+00  2.43541649e+00  2.43599970e+00\n",
      "  2.43599970e+00  2.43635009e+00  2.43635009e+00  2.43646697e+00\n",
      "  4.05961804e+00  4.05961804e+00  4.05990445e+00  4.05990445e+00\n",
      "  4.06010910e+00  4.06010910e+00  4.06023192e+00  4.06023192e+00\n",
      "  4.06027286e+00  6.08973066e+00  6.08973066e+00  6.08989225e+00\n",
      "  6.08989225e+00  6.09001794e+00  6.09001794e+00  6.09010773e+00\n",
      "  6.09010773e+00  6.09016161e+00  6.09016161e+00  6.09017957e+00\n",
      "  8.52579992e+00  8.52579992e+00  8.52589995e+00  8.52589995e+00\n",
      "  8.52598181e+00  8.52598181e+00  8.52604547e+00  8.52604547e+00\n",
      "  8.52609095e+00  8.52609095e+00  8.52611823e+00  8.52611823e+00\n",
      "  8.52612733e+00  1.13678455e+01  1.13678455e+01  1.13679117e+01\n",
      "  1.13679117e+01  1.13679677e+01  1.13679677e+01  1.13680136e+01\n",
      "  1.13680136e+01  1.13680492e+01  1.13680492e+01  1.13680747e+01\n",
      "  1.13680747e+01  1.13680900e+01  1.13680900e+01  1.13680951e+01\n",
      "  1.46158771e+01  1.46158771e+01  1.46159232e+01  1.46159232e+01\n",
      "  1.46159631e+01  1.46159631e+01  1.46159969e+01  1.46159969e+01\n",
      "  1.46160246e+01  1.46160246e+01  1.46160461e+01  1.46160461e+01\n",
      "  1.46160614e+01  1.46160614e+01  1.46160706e+01  1.46160706e+01\n",
      "  1.46160737e+01  1.82699000e+01  1.82699000e+01  1.82699333e+01\n",
      "  1.82699333e+01  1.82699627e+01  1.82699627e+01  1.82699882e+01\n",
      "  1.82699882e+01  1.82700098e+01  1.82700098e+01  1.82700275e+01\n",
      "  1.82700275e+01  1.82700412e+01  1.82700412e+01  1.82700510e+01\n",
      "  1.82700510e+01  1.82700569e+01  1.82700569e+01  1.82700589e+01\n",
      "  2.23300000e+01  2.23300000e+01  2.23301000e+01  2.23301000e+01\n",
      "  2.23301895e+01  2.23301895e+01  2.23302685e+01  2.23302685e+01\n",
      "  2.23303370e+01  2.23303370e+01  2.23303949e+01  2.23303949e+01\n",
      "  2.23304423e+01  2.23304423e+01  2.23304791e+01  2.23304791e+01\n",
      "  2.23305054e+01  2.23305054e+01  2.23305212e+01  2.23305212e+01\n",
      "  2.23305265e+01]\n"
     ]
    }
   ],
   "source": [
    "import numpy as np\n",
    "from sympy.physics.wigner import wigner_3j\n",
    "\n",
    "B = 0.203   # in cm^-1\n",
    "dz = 0.55   # in Debye\n",
    "fz = 10000   # in V/cm\n",
    "conv_to_cm = 1.679201682918921e-05 # converts dz[Debye]*Fz[V/cm] into cm^-1\n",
    "# note on unit conversion: Debye = 1/c * 10^{-21} Coulomb*meter and Coulomb*Volt = Joule\n",
    "\n",
    "energy = lambda J: B*J*(J+1)\n",
    "costheta_me = lambda J1, m1, J2, m2: 2*np.sqrt(np.pi/3.0) * (-1)**m1 * np.sqrt((2*J1+1)*(2*J2+1)*3/(4*np.pi)) \\\n",
    "                                     * wigner_3j(J1, 1, J2, -m1, 0, m2) * wigner_3j(J1, 1, J2, 0, 0, 0)\n",
    "\n",
    "Jmax = 10\n",
    "Jm_quanta = [(J, m) for J in range(Jmax+1) for m in range(-J, J+1)]\n",
    "\n",
    "H0 = np.diag([energy(J) for (J,m) in Jm_quanta])\n",
    "H = np.array([[costheta_me(J1, m1, J2, m2) for (J1, m1) in Jm_quanta] for (J2, m2) in Jm_quanta], dtype=np.float64)\n",
    "\n",
    "Htot = H0 - H * dz * fz * conv_to_cm\n",
    "enr, vec = np.linalg.eigh(Htot)\n",
    "print(enr)"
   ]
  },
  {
   "cell_type": "markdown",
   "metadata": {},
   "source": [
    "Let's repeat the above calculations for different values of field and plot the Stark curves - state energies versus field"
   ]
  },
  {
   "cell_type": "code",
   "execution_count": 9,
   "metadata": {},
   "outputs": [
    {
     "data": {
      "text/plain": [
       "[<matplotlib.lines.Line2D at 0x7f004c9e4b00>]"
      ]
     },
     "execution_count": 9,
     "metadata": {},
     "output_type": "execute_result"
    },
    {
     "data": {
      "image/png": "[encoded data removed]",
      "text/plain": [
       "<matplotlib.figure.Figure at 0x7f004caaec50>"
      ]
     },
     "metadata": {
      "needs_background": "light"
     },
     "output_type": "display_data"
    }
   ],
   "source": [
    "import matplotlib.pyplot as plt\n",
    "\n",
    "stark = []\n",
    "for fz in np.linspace(0, 10, 100): # field in kV\n",
    "    #print(\"do fz =\", fz, \"kV/cm ...\")\n",
    "    Htot = H0 - H * dz * fz*1000 * conv_to_cm\n",
    "    enr, vec = np.linalg.eigh(Htot)\n",
    "    stark.append([fz, *enr])\n",
    "stark = np.array(stark)\n",
    "\n",
    "plt.plot(stark[:,0], stark[:,2])\n",
    "plt.plot(stark[:,0], stark[:,3])\n",
    "plt.plot(stark[:,0], stark[:,4])"
   ]
  },
  {
   "cell_type": "markdown",
   "metadata": {},
   "source": [
    "We can now run same calculations using `watie` and `extfield`"
   ]
  },
  {
   "cell_type": "code",
   "execution_count": 10,
   "metadata": {},
   "outputs": [
    {
     "name": "stderr",
     "output_type": "stream",
     "text": [
      "/home/andrey/.local/lib/python3.6/site-packages/richmol-0.1a1-py3.6.egg/richmol/watie.py:305: RuntimeWarning: divide by zero encountered in double_scalars\n",
      "  return [convert_to_cm/val for val in np.diag(imom)]\n"
     ]
    },
    {
     "name": "stdout",
     "output_type": "stream",
     "text": [
      "rotational constants: 0.203439376816691 0.203439376816691 inf\n"
     ]
    }
   ],
   "source": [
    "# First, compute and store in file rotational energies and matrix elements of dipole moment operator\n",
    "\n",
    "from richmol.watie import RigidMolecule, SymtopBasis, JJ, CartTensor\n",
    "import numpy as np\n",
    "\n",
    "#######################################################################\n",
    "# OCS rotational energies and richmol matrix elements of dipole moment\n",
    "# using ab initio values computed at CCSD(T)/ACVQZ level of theory\n",
    "#######################################################################\n",
    "\n",
    "ocs = RigidMolecule()\n",
    "\n",
    "ocs.XYZ = (\"angstrom\",\n",
    "    \"C\",  0.0,  0.0,  -0.522939783141,\n",
    "    \"O\",  0.0,  0.0,  -1.680839357,\n",
    "    \"S\",  0.0,  0.0,  1.037160128)\n",
    "\n",
    "ocs.tensor = (\"dipole moment\", [0, 0, -0.31093])\n",
    "\n",
    "#ocs.frame = \"pas\"\n",
    "\n",
    "Bx, By, Bz = ocs.B\n",
    "print(\"rotational constants:\", Bx, By, Bz)\n",
    "\n",
    "# compute rotational energies for J = 0..10\n",
    "\n",
    "Jmax = 10\n",
    "\n",
    "wavefunc = {}\n",
    "for J in range(Jmax + 1):\n",
    "    bas = SymtopBasis(J, linear=True)\n",
    "    H = Bx * JJ(bas) # linear molecule Hamiltonian\n",
    "    hmat = bas.overlap(H)\n",
    "    enr, vec = np.linalg.eigh(hmat.real)\n",
    "    wavefunc[J] = bas.rotate(krot=(vec.T, enr))\n",
    "\n",
    "# store rotational energies\n",
    "for J in range(Jmax + 1):\n",
    "    wavefunc[J].store_richmol(\"ocs_j0_j\"+str(Jmax)+\".h5\")\n",
    "\n",
    "mu = CartTensor(ocs.tensor[\"dipole moment\"], name='mu', units='au', descr=\"ab initio CCSD(T)/ACVQZ\")\n",
    "\n",
    "# compute and store matrix elements of dipole moment\n",
    "for J1 in range(Jmax + 1):\n",
    "    for J2 in range(J1, Jmax + 1):\n",
    "        if abs(J1 - J2) > 1: continue # selection rules\n",
    "        mu.store_richmol(wavefunc[J1], wavefunc[J2], \"ocs_j0_j\"+str(Jmax)+\".h5\", thresh=1e-10)"
   ]
  },
  {
   "cell_type": "code",
   "execution_count": 11,
   "metadata": {},
   "outputs": [
    {
     "data": {
      "text/plain": [
       "[<matplotlib.lines.Line2D at 0x7f004e73e668>]"
      ]
     },
     "execution_count": 11,
     "metadata": {},
     "output_type": "execute_result"
    },
    {
     "data": {
      "image/png": "[encoded data removed]",
      "text/plain": [
       "<matplotlib.figure.Figure at 0x7f004ca64588>"
      ]
     },
     "metadata": {
      "needs_background": "light"
     },
     "output_type": "display_data"
    }
   ],
   "source": [
    "# Load field-free data and compute field-dressed states\n",
    "\n",
    "from richmol.extfield import States, Tensor, Hamiltonian, mu_au_to_Cm, planck, c_vac\n",
    "from richmol import rchm\n",
    "\n",
    "Jmax = 10\n",
    "\n",
    "richmol_file = \"ocs_j0_j10.h5\"\n",
    "\n",
    "# field-free states\n",
    "states = States(richmol_file, 'h0', [J for J in range(Jmax + 1)], emin=0, emax=10000)\n",
    "\n",
    "# dipole matrix elements\n",
    "mu = Tensor(richmol_file, 'mu', states, states)\n",
    "mu.mul(-1.0)\n",
    "\n",
    "stark = []\n",
    "\n",
    "for Fz in np.linspace(0.1, 10, 100): # field in kV\n",
    "\n",
    "    #print(\"do fz =\", Fz, \"kV/cm ...\")\n",
    "    field = [0, 0, Fz * 1000 *100] # field in V/m\n",
    "\n",
    "    # multiply dipole with external field\n",
    "    mu2 = mu * field\n",
    "\n",
    "    # convert dipole[au]*field[V/m] into [cm^-1]\n",
    "    fac = mu_au_to_Cm / (planck * c_vac) / 100.0\n",
    "    mu2.mul(fac)\n",
    "\n",
    "    # combine -dipole*field with field-free Hamiltonian\n",
    "    ham = Hamiltonian(mu=mu2, h0=states)\n",
    "\n",
    "    # matrix representation of Hamiltonian\n",
    "    hmat = ham.tomat(form='full')\n",
    "\n",
    "    # eigenvalues and eigenvectors\n",
    "    enr, vec = np.linalg.eigh(hmat)\n",
    "\n",
    "    stark.append([Fz, *enr])\n",
    "\n",
    "stark = np.array(stark)\n",
    "\n",
    "plt.plot(stark[:,0], stark[:,2])\n",
    "plt.plot(stark[:,0], stark[:,3])\n",
    "plt.plot(stark[:,0], stark[:,4])\n"
   ]
  },
  {
   "cell_type": "markdown",
   "metadata": {},
   "source": [
    "Note, these results are expected to be slightly different from those above because of the differences in rotational $B$ constant and dipole moment."
   ]
  },
  {
   "cell_type": "code",
   "execution_count": null,
   "metadata": {},
   "outputs": [],
   "source": []
  }
 ],
 "metadata": {
  "kernelspec": {
   "display_name": "Python 3",
   "language": "python",
   "name": "python3"
  },
  "language_info": {
   "codemirror_mode": {
    "name": "ipython",
    "version": 3
   },
   "file_extension": ".py",
   "mimetype": "text/x-python",
   "name": "python",
   "nbconvert_exporter": "python",
   "pygments_lexer": "ipython3",
   "version": "3.6.9"
  }
 },
 "nbformat": 4,
 "nbformat_minor": 4
}
