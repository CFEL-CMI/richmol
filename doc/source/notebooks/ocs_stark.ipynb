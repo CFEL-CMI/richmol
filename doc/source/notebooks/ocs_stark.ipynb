{
 "cells": [
  {
   "cell_type": "markdown",
   "metadata": {},
   "source": [
    "# Modern Molecular Physcis exercises\n",
    "\n",
    "yachmena@\n",
    "\n",
    "Here is a set of exercises used for the course \"Modern Molecular Physcis\" at the University of Hamburg.\n",
    "\n",
    "Richmol is a pretty general module that allows you to set up rotational, vibrational, and ro-vibrational Hamiltonians for a general molecule and solve the stationary or time-depenent Schrödinger equation.\n",
    "\n",
    "In this course, we will be dealing with the molecular nuclear motion dynamics subject to static and time-dependent electric fields. The general task of computing dynamics in fields can be split into two steps:\n",
    "1. Obtaining field-free molecular states and computing matrix elements of the molecule-field interaction tensors, such as dipole moment ($\\mu$), polarizability ($\\alpha$), etc., in the basis of molecular states\n",
    "\\begin{align}\n",
    "H_\\text{mol}\\Psi_n=E_n\\Psi_n, \\\\\n",
    "\\langle \\Psi_n'|\\mu_A|\\Psi_n\\rangle,\n",
    "\\end{align}\n",
    "where $A=X,Y,Z$ refer to the laboratory frame.\n",
    "\n",
    "2. Solving the stationary or time-dependent Schrödinger equation for molecule subject to external field in the basis of molecular states obtained at the first step\n",
    "\\begin{align}\n",
    "H=H_\\text{mol}-\\sum_{A=X,Y,Z}\\mu_A E_A(t)$, \\\\\n",
    "\\langle \\Psi_n'|H|\\Psi_n\\rangle = E_n\\delta_{n,n'}-\\sum_{A=X,Y,Z}\\langle \\Psi_n'|\\mu_A|\\Psi_n\\rangle E_A(t).\n",
    "\\end{align}\n",
    "\n",
    "These two steps are treated independently. In principle, the molecular wave functions at the first step can also be computed with external computer programs provided that the results are stored in the richmol database format. The second step is done using `richmol.tdtools` module.\n",
    "\n",
    "For computing the molecular rotational states, we will be using `richmol.watie` module, which provides tools for setting up rigid-rotor and Watson-type Hamiltonians and computing matrix elements of most common molecule-field interaction tensors and observables, such as dipole moment, polarizability, alignment functions, etc. The results of `watie` computations need to be stored into the richmol database files, to be used later in `tdtools` module for simulating the effect of external fields."
   ]
  },
  {
   "cell_type": "markdown",
   "metadata": {},
   "source": [
    "## Exercise 1: Simulate Stark effect for linear molecule OCS\n",
    "for static electric field $F$ ranging between 0 and 10 kV/cm. The value of rotational constant $B=0.203$ cm$^{-1}$, the value of dipole moment $\\mu=(0,0,0.55)$ Debye.\n",
    "\n",
    "First, compute rotational energies and wave functions of molecule in the absence of external fields. This can be done in few steps:\n",
    "1. Set up basis of symmetric-top functions $|\\psi\\rangle = |J,m\\rangle$ (for linear molecule $k$ quantum number is zero): `basis = SymtopBasis(J, linear=True)`\n",
    "2. Compute the 'action' of rotational Hamiltonian, which for linear molecule is $\\hat{H}=B\\hat{J}^2$, on basis functions $|\\psi'\\rangle = \\hat{H}|\\psi\\rangle$: `hamiltonian = B * JJ(basis)`\n",
    "3. Compute matrix representation of Hamiltonian $\\mathbf{H}=\\langle\\psi|\\hat{H}|\\psi\\rangle$ as overlap matrix $\\mathbf{H}=\\langle\\psi|\\psi'\\rangle$: `hamiltonian_matrix = basis.overlap(hamiltonian)`\n",
    "4. Solve the eigenvalue problem $\\mathbf{H}=\\mathbf{V}\\mathbf{E}\\mathbf{V}^{-1}$, for example, using numpy: `eigenvalues, eigenvectors = np.linalg.eigh(hamiltonian_matrix.real)`\n",
    "5. Transform basis to eigenfunction representation $|\\Psi\\rangle=\\mathbf{V}^{-1}|\\psi\\rangle$: `wavefunction = basis.rotate(eigenvectors.T)`"
   ]
  },
  {
   "cell_type": "code",
   "execution_count": 1,
   "metadata": {},
   "outputs": [],
   "source": [
    "from richmol.watie import RigidMolecule, SymtopBasis, JJ, CartTensor\n",
    "import numpy as np"
   ]
  },
  {
   "cell_type": "code",
   "execution_count": 2,
   "metadata": {},
   "outputs": [
    {
     "name": "stdout",
     "output_type": "stream",
     "text": [
      "[11.368]\n"
     ]
    }
   ],
   "source": [
    "B = 0.203\n",
    "J = 7\n",
    "basis = SymtopBasis(J, linear=True)\n",
    "hamiltonian = B * JJ(basis)\n",
    "hamiltonian_matrix = basis.overlap(hamiltonian)\n",
    "eigenvalues, eigenvectors = np.linalg.eigh(hamiltonian_matrix.real)\n",
    "wavefunction = basis.rotate(eigenvectors.T)\n",
    "print(eigenvalues)"
   ]
  },
  {
   "cell_type": "markdown",
   "metadata": {},
   "source": [
    "For linear molecule we know the analytical solutions $E_J=B J(J+1)$, which we can compare with the result of Hamiltonian matrix diagonalization"
   ]
  },
  {
   "cell_type": "code",
   "execution_count": 3,
   "metadata": {},
   "outputs": [
    {
     "name": "stdout",
     "output_type": "stream",
     "text": [
      "11.368\n"
     ]
    }
   ],
   "source": [
    "B = 0.203\n",
    "Jmax = 7\n",
    "print(B*J*(J+1))"
   ]
  },
  {
   "cell_type": "markdown",
   "metadata": {},
   "source": [
    "Since the dipole moment interaction with the external electric field couples molecular states with different $J$ quantum numbers, we need to repeat the above computations for several values of $J$ and store the corresponding energies $E_J$ and matrix elements of dipole moment operator in the laboratory frame $\\langle \\Psi_{J'}|\\mu_A|\\Psi_J\\rangle$ for $A=X,Y,Z$"
   ]
  },
  {
   "cell_type": "code",
   "execution_count": 4,
   "metadata": {},
   "outputs": [
    {
     "name": "stdout",
     "output_type": "stream",
     "text": [
      "J  energy\n",
      "0 [0.]\n",
      "1 [0.406]\n",
      "2 [1.218]\n",
      "3 [2.436]\n",
      "4 [4.06]\n",
      "5 [6.09]\n",
      "6 [8.526]\n",
      "7 [11.368]\n",
      "8 [14.616]\n",
      "9 [18.27]\n",
      "10 [22.33]\n"
     ]
    }
   ],
   "source": [
    "B = 0.203\n",
    "Jmax = 10\n",
    "muz = 0.55\n",
    "\n",
    "wavefunction = {}\n",
    "for J in range(0, Jmax + 1):\n",
    "    basis = SymtopBasis(J, linear=True)\n",
    "    hamiltonian = B * JJ(basis)\n",
    "    hamiltonian_matrix = basis.overlap(hamiltonian)\n",
    "    eigenvalues, eigenvectors = np.linalg.eigh(hamiltonian_matrix.real)\n",
    "    wavefunction[J] = basis.rotate((eigenvectors.T, eigenvalues)) # by passing a tuple (eigenvectors, energies)\n",
    "                                                                  # we can assign energy to each wave function\n",
    "\n",
    "# print energies for different J quanta\n",
    "print(\"J  energy\")\n",
    "for J, state in wavefunction.items():\n",
    "    print(J, state.enr)\n",
    "\n",
    "# store rotational energies (richmol database format)\n",
    "for J, state in wavefunction.items():\n",
    "    state.store_richmol(\"OCS_energies.rchm\")\n",
    "\n",
    "# store matrix elements of dipole moment (richmol database format)\n",
    "mu = CartTensor([0, 0, muz])\n",
    "for J_bra, state_bra in wavefunction.items():\n",
    "    for J_ket, state_ket in wavefunction.items():\n",
    "        if abs(J_bra-J_ket)>1: continue # delta J<=1 selection rules for dipole transitions\n",
    "        mu.store_richmol(state_bra, state_ket, thresh=1e-12, name=\"mu\", fname=\"OCS_mu\")"
   ]
  },
  {
   "cell_type": "markdown",
   "metadata": {},
   "source": [
    "The field-free rotational energies and matrix elements of dipole moment of OCS molecule are now stored in files.\n",
    "In order to simulate the effect of static and time-dependent external electric fields, we will be using another module `tdtools`.\n",
    "\n",
    "In `tdtools` the basis of field-free states is represented by class `Psi` and the matrix elements of tensor operators by class `Etensor`."
   ]
  },
  {
   "cell_type": "code",
   "execution_count": 5,
   "metadata": {},
   "outputs": [],
   "source": [
    "from richmol.tdtools import Psi, Etensor"
   ]
  },
  {
   "cell_type": "markdown",
   "metadata": {},
   "source": [
    "Load the field-free states (basis) and matrix elements of dipole moment from the files computed previously by `watie`"
   ]
  },
  {
   "cell_type": "code",
   "execution_count": 6,
   "metadata": {},
   "outputs": [
    {
     "name": "stdout",
     "output_type": "stream",
     "text": [
      "Etensor: using factor 0.393456 to convert from Debye to atomic units\n",
      "Etensor: skip F1/F2 = 0.0/0.0 pair, no file(s) found: OCS_mu_j0_j0.rchm or OCS_mu_j0_j0.rchm\n",
      "Etensor: skip F1/F2 = 0.0/2.0 pair, no file(s) found: OCS_mu_j0_j2.rchm or OCS_mu_j2_j0.rchm\n",
      "Etensor: skip F1/F2 = 0.0/3.0 pair, no file(s) found: OCS_mu_j0_j3.rchm or OCS_mu_j3_j0.rchm\n",
      "Etensor: skip F1/F2 = 0.0/4.0 pair, no file(s) found: OCS_mu_j0_j4.rchm or OCS_mu_j4_j0.rchm\n",
      "Etensor: skip F1/F2 = 0.0/5.0 pair, no file(s) found: OCS_mu_j0_j5.rchm or OCS_mu_j5_j0.rchm\n",
      "Etensor: skip F1/F2 = 0.0/6.0 pair, no file(s) found: OCS_mu_j0_j6.rchm or OCS_mu_j6_j0.rchm\n",
      "Etensor: skip F1/F2 = 0.0/7.0 pair, no file(s) found: OCS_mu_j0_j7.rchm or OCS_mu_j7_j0.rchm\n",
      "Etensor: skip F1/F2 = 0.0/8.0 pair, no file(s) found: OCS_mu_j0_j8.rchm or OCS_mu_j8_j0.rchm\n",
      "Etensor: skip F1/F2 = 0.0/9.0 pair, no file(s) found: OCS_mu_j0_j9.rchm or OCS_mu_j9_j0.rchm\n",
      "Etensor: skip F1/F2 = 0.0/10.0 pair, no file(s) found: OCS_mu_j0_j10.rchm or OCS_mu_j10_j0.rchm\n",
      "Etensor: skip F1/F2 = 1.0/1.0 pair, no file(s) found: OCS_mu_j1_j1.rchm or OCS_mu_j1_j1.rchm\n",
      "Etensor: skip F1/F2 = 1.0/3.0 pair, no file(s) found: OCS_mu_j1_j3.rchm or OCS_mu_j3_j1.rchm\n",
      "Etensor: skip F1/F2 = 1.0/4.0 pair, no file(s) found: OCS_mu_j1_j4.rchm or OCS_mu_j4_j1.rchm\n",
      "Etensor: skip F1/F2 = 1.0/5.0 pair, no file(s) found: OCS_mu_j1_j5.rchm or OCS_mu_j5_j1.rchm\n",
      "Etensor: skip F1/F2 = 1.0/6.0 pair, no file(s) found: OCS_mu_j1_j6.rchm or OCS_mu_j6_j1.rchm\n",
      "Etensor: skip F1/F2 = 1.0/7.0 pair, no file(s) found: OCS_mu_j1_j7.rchm or OCS_mu_j7_j1.rchm\n",
      "Etensor: skip F1/F2 = 1.0/8.0 pair, no file(s) found: OCS_mu_j1_j8.rchm or OCS_mu_j8_j1.rchm\n",
      "Etensor: skip F1/F2 = 1.0/9.0 pair, no file(s) found: OCS_mu_j1_j9.rchm or OCS_mu_j9_j1.rchm\n",
      "Etensor: skip F1/F2 = 1.0/10.0 pair, no file(s) found: OCS_mu_j1_j10.rchm or OCS_mu_j10_j1.rchm\n",
      "Etensor: skip F1/F2 = 2.0/0.0 pair, no file(s) found: OCS_mu_j2_j0.rchm or OCS_mu_j0_j2.rchm\n",
      "Etensor: skip F1/F2 = 2.0/2.0 pair, no file(s) found: OCS_mu_j2_j2.rchm or OCS_mu_j2_j2.rchm\n",
      "Etensor: skip F1/F2 = 2.0/4.0 pair, no file(s) found: OCS_mu_j2_j4.rchm or OCS_mu_j4_j2.rchm\n",
      "Etensor: skip F1/F2 = 2.0/5.0 pair, no file(s) found: OCS_mu_j2_j5.rchm or OCS_mu_j5_j2.rchm\n",
      "Etensor: skip F1/F2 = 2.0/6.0 pair, no file(s) found: OCS_mu_j2_j6.rchm or OCS_mu_j6_j2.rchm\n",
      "Etensor: skip F1/F2 = 2.0/7.0 pair, no file(s) found: OCS_mu_j2_j7.rchm or OCS_mu_j7_j2.rchm\n",
      "Etensor: skip F1/F2 = 2.0/8.0 pair, no file(s) found: OCS_mu_j2_j8.rchm or OCS_mu_j8_j2.rchm\n",
      "Etensor: skip F1/F2 = 2.0/9.0 pair, no file(s) found: OCS_mu_j2_j9.rchm or OCS_mu_j9_j2.rchm\n",
      "Etensor: skip F1/F2 = 2.0/10.0 pair, no file(s) found: OCS_mu_j2_j10.rchm or OCS_mu_j10_j2.rchm\n",
      "Etensor: skip F1/F2 = 3.0/0.0 pair, no file(s) found: OCS_mu_j3_j0.rchm or OCS_mu_j0_j3.rchm\n",
      "Etensor: skip F1/F2 = 3.0/1.0 pair, no file(s) found: OCS_mu_j3_j1.rchm or OCS_mu_j1_j3.rchm\n",
      "Etensor: skip F1/F2 = 3.0/3.0 pair, no file(s) found: OCS_mu_j3_j3.rchm or OCS_mu_j3_j3.rchm\n",
      "Etensor: skip F1/F2 = 3.0/5.0 pair, no file(s) found: OCS_mu_j3_j5.rchm or OCS_mu_j5_j3.rchm\n",
      "Etensor: skip F1/F2 = 3.0/6.0 pair, no file(s) found: OCS_mu_j3_j6.rchm or OCS_mu_j6_j3.rchm\n",
      "Etensor: skip F1/F2 = 3.0/7.0 pair, no file(s) found: OCS_mu_j3_j7.rchm or OCS_mu_j7_j3.rchm\n",
      "Etensor: skip F1/F2 = 3.0/8.0 pair, no file(s) found: OCS_mu_j3_j8.rchm or OCS_mu_j8_j3.rchm\n",
      "Etensor: skip F1/F2 = 3.0/9.0 pair, no file(s) found: OCS_mu_j3_j9.rchm or OCS_mu_j9_j3.rchm\n",
      "Etensor: skip F1/F2 = 3.0/10.0 pair, no file(s) found: OCS_mu_j3_j10.rchm or OCS_mu_j10_j3.rchm\n",
      "Etensor: skip F1/F2 = 4.0/0.0 pair, no file(s) found: OCS_mu_j4_j0.rchm or OCS_mu_j0_j4.rchm\n",
      "Etensor: skip F1/F2 = 4.0/1.0 pair, no file(s) found: OCS_mu_j4_j1.rchm or OCS_mu_j1_j4.rchm\n",
      "Etensor: skip F1/F2 = 4.0/2.0 pair, no file(s) found: OCS_mu_j4_j2.rchm or OCS_mu_j2_j4.rchm\n",
      "Etensor: skip F1/F2 = 4.0/4.0 pair, no file(s) found: OCS_mu_j4_j4.rchm or OCS_mu_j4_j4.rchm\n",
      "Etensor: skip F1/F2 = 4.0/6.0 pair, no file(s) found: OCS_mu_j4_j6.rchm or OCS_mu_j6_j4.rchm\n",
      "Etensor: skip F1/F2 = 4.0/7.0 pair, no file(s) found: OCS_mu_j4_j7.rchm or OCS_mu_j7_j4.rchm\n",
      "Etensor: skip F1/F2 = 4.0/8.0 pair, no file(s) found: OCS_mu_j4_j8.rchm or OCS_mu_j8_j4.rchm\n",
      "Etensor: skip F1/F2 = 4.0/9.0 pair, no file(s) found: OCS_mu_j4_j9.rchm or OCS_mu_j9_j4.rchm\n",
      "Etensor: skip F1/F2 = 4.0/10.0 pair, no file(s) found: OCS_mu_j4_j10.rchm or OCS_mu_j10_j4.rchm\n",
      "Etensor: skip F1/F2 = 5.0/0.0 pair, no file(s) found: OCS_mu_j5_j0.rchm or OCS_mu_j0_j5.rchm\n",
      "Etensor: skip F1/F2 = 5.0/1.0 pair, no file(s) found: OCS_mu_j5_j1.rchm or OCS_mu_j1_j5.rchm\n",
      "Etensor: skip F1/F2 = 5.0/2.0 pair, no file(s) found: OCS_mu_j5_j2.rchm or OCS_mu_j2_j5.rchm\n",
      "Etensor: skip F1/F2 = 5.0/3.0 pair, no file(s) found: OCS_mu_j5_j3.rchm or OCS_mu_j3_j5.rchm\n",
      "Etensor: skip F1/F2 = 5.0/5.0 pair, no file(s) found: OCS_mu_j5_j5.rchm or OCS_mu_j5_j5.rchm\n",
      "Etensor: skip F1/F2 = 5.0/7.0 pair, no file(s) found: OCS_mu_j5_j7.rchm or OCS_mu_j7_j5.rchm\n",
      "Etensor: skip F1/F2 = 5.0/8.0 pair, no file(s) found: OCS_mu_j5_j8.rchm or OCS_mu_j8_j5.rchm\n",
      "Etensor: skip F1/F2 = 5.0/9.0 pair, no file(s) found: OCS_mu_j5_j9.rchm or OCS_mu_j9_j5.rchm\n",
      "Etensor: skip F1/F2 = 5.0/10.0 pair, no file(s) found: OCS_mu_j5_j10.rchm or OCS_mu_j10_j5.rchm\n",
      "Etensor: skip F1/F2 = 6.0/0.0 pair, no file(s) found: OCS_mu_j6_j0.rchm or OCS_mu_j0_j6.rchm\n",
      "Etensor: skip F1/F2 = 6.0/1.0 pair, no file(s) found: OCS_mu_j6_j1.rchm or OCS_mu_j1_j6.rchm\n",
      "Etensor: skip F1/F2 = 6.0/2.0 pair, no file(s) found: OCS_mu_j6_j2.rchm or OCS_mu_j2_j6.rchm\n",
      "Etensor: skip F1/F2 = 6.0/3.0 pair, no file(s) found: OCS_mu_j6_j3.rchm or OCS_mu_j3_j6.rchm\n",
      "Etensor: skip F1/F2 = 6.0/4.0 pair, no file(s) found: OCS_mu_j6_j4.rchm or OCS_mu_j4_j6.rchm\n",
      "Etensor: skip F1/F2 = 6.0/6.0 pair, no file(s) found: OCS_mu_j6_j6.rchm or OCS_mu_j6_j6.rchm\n",
      "Etensor: skip F1/F2 = 6.0/8.0 pair, no file(s) found: OCS_mu_j6_j8.rchm or OCS_mu_j8_j6.rchm\n",
      "Etensor: skip F1/F2 = 6.0/9.0 pair, no file(s) found: OCS_mu_j6_j9.rchm or OCS_mu_j9_j6.rchm\n",
      "Etensor: skip F1/F2 = 6.0/10.0 pair, no file(s) found: OCS_mu_j6_j10.rchm or OCS_mu_j10_j6.rchm\n",
      "Etensor: skip F1/F2 = 7.0/0.0 pair, no file(s) found: OCS_mu_j7_j0.rchm or OCS_mu_j0_j7.rchm\n",
      "Etensor: skip F1/F2 = 7.0/1.0 pair, no file(s) found: OCS_mu_j7_j1.rchm or OCS_mu_j1_j7.rchm\n",
      "Etensor: skip F1/F2 = 7.0/2.0 pair, no file(s) found: OCS_mu_j7_j2.rchm or OCS_mu_j2_j7.rchm\n",
      "Etensor: skip F1/F2 = 7.0/3.0 pair, no file(s) found: OCS_mu_j7_j3.rchm or OCS_mu_j3_j7.rchm\n",
      "Etensor: skip F1/F2 = 7.0/4.0 pair, no file(s) found: OCS_mu_j7_j4.rchm or OCS_mu_j4_j7.rchm\n",
      "Etensor: skip F1/F2 = 7.0/5.0 pair, no file(s) found: OCS_mu_j7_j5.rchm or OCS_mu_j5_j7.rchm\n",
      "Etensor: skip F1/F2 = 7.0/7.0 pair, no file(s) found: OCS_mu_j7_j7.rchm or OCS_mu_j7_j7.rchm\n",
      "Etensor: skip F1/F2 = 7.0/9.0 pair, no file(s) found: OCS_mu_j7_j9.rchm or OCS_mu_j9_j7.rchm\n",
      "Etensor: skip F1/F2 = 7.0/10.0 pair, no file(s) found: OCS_mu_j7_j10.rchm or OCS_mu_j10_j7.rchm\n",
      "Etensor: skip F1/F2 = 8.0/0.0 pair, no file(s) found: OCS_mu_j8_j0.rchm or OCS_mu_j0_j8.rchm\n",
      "Etensor: skip F1/F2 = 8.0/1.0 pair, no file(s) found: OCS_mu_j8_j1.rchm or OCS_mu_j1_j8.rchm\n",
      "Etensor: skip F1/F2 = 8.0/2.0 pair, no file(s) found: OCS_mu_j8_j2.rchm or OCS_mu_j2_j8.rchm\n",
      "Etensor: skip F1/F2 = 8.0/3.0 pair, no file(s) found: OCS_mu_j8_j3.rchm or OCS_mu_j3_j8.rchm\n",
      "Etensor: skip F1/F2 = 8.0/4.0 pair, no file(s) found: OCS_mu_j8_j4.rchm or OCS_mu_j4_j8.rchm\n",
      "Etensor: skip F1/F2 = 8.0/5.0 pair, no file(s) found: OCS_mu_j8_j5.rchm or OCS_mu_j5_j8.rchm\n",
      "Etensor: skip F1/F2 = 8.0/6.0 pair, no file(s) found: OCS_mu_j8_j6.rchm or OCS_mu_j6_j8.rchm\n",
      "Etensor: skip F1/F2 = 8.0/8.0 pair, no file(s) found: OCS_mu_j8_j8.rchm or OCS_mu_j8_j8.rchm\n",
      "Etensor: skip F1/F2 = 8.0/10.0 pair, no file(s) found: OCS_mu_j8_j10.rchm or OCS_mu_j10_j8.rchm\n",
      "Etensor: skip F1/F2 = 9.0/0.0 pair, no file(s) found: OCS_mu_j9_j0.rchm or OCS_mu_j0_j9.rchm\n",
      "Etensor: skip F1/F2 = 9.0/1.0 pair, no file(s) found: OCS_mu_j9_j1.rchm or OCS_mu_j1_j9.rchm\n",
      "Etensor: skip F1/F2 = 9.0/2.0 pair, no file(s) found: OCS_mu_j9_j2.rchm or OCS_mu_j2_j9.rchm\n",
      "Etensor: skip F1/F2 = 9.0/3.0 pair, no file(s) found: OCS_mu_j9_j3.rchm or OCS_mu_j3_j9.rchm\n",
      "Etensor: skip F1/F2 = 9.0/4.0 pair, no file(s) found: OCS_mu_j9_j4.rchm or OCS_mu_j4_j9.rchm\n",
      "Etensor: skip F1/F2 = 9.0/5.0 pair, no file(s) found: OCS_mu_j9_j5.rchm or OCS_mu_j5_j9.rchm\n",
      "Etensor: skip F1/F2 = 9.0/6.0 pair, no file(s) found: OCS_mu_j9_j6.rchm or OCS_mu_j6_j9.rchm\n",
      "Etensor: skip F1/F2 = 9.0/7.0 pair, no file(s) found: OCS_mu_j9_j7.rchm or OCS_mu_j7_j9.rchm\n",
      "Etensor: skip F1/F2 = 9.0/9.0 pair, no file(s) found: OCS_mu_j9_j9.rchm or OCS_mu_j9_j9.rchm\n",
      "Etensor: skip F1/F2 = 10.0/0.0 pair, no file(s) found: OCS_mu_j10_j0.rchm or OCS_mu_j0_j10.rchm\n",
      "Etensor: skip F1/F2 = 10.0/1.0 pair, no file(s) found: OCS_mu_j10_j1.rchm or OCS_mu_j1_j10.rchm\n",
      "Etensor: skip F1/F2 = 10.0/2.0 pair, no file(s) found: OCS_mu_j10_j2.rchm or OCS_mu_j2_j10.rchm\n",
      "Etensor: skip F1/F2 = 10.0/3.0 pair, no file(s) found: OCS_mu_j10_j3.rchm or OCS_mu_j3_j10.rchm\n",
      "Etensor: skip F1/F2 = 10.0/4.0 pair, no file(s) found: OCS_mu_j10_j4.rchm or OCS_mu_j4_j10.rchm\n",
      "Etensor: skip F1/F2 = 10.0/5.0 pair, no file(s) found: OCS_mu_j10_j5.rchm or OCS_mu_j5_j10.rchm\n",
      "Etensor: skip F1/F2 = 10.0/6.0 pair, no file(s) found: OCS_mu_j10_j6.rchm or OCS_mu_j6_j10.rchm\n",
      "Etensor: skip F1/F2 = 10.0/7.0 pair, no file(s) found: OCS_mu_j10_j7.rchm or OCS_mu_j7_j10.rchm\n",
      "Etensor: skip F1/F2 = 10.0/8.0 pair, no file(s) found: OCS_mu_j10_j8.rchm or OCS_mu_j8_j10.rchm\n",
      "Etensor: skip F1/F2 = 10.0/10.0 pair, no file(s) found: OCS_mu_j10_j10.rchm or OCS_mu_j10_j10.rchm\n"
     ]
    }
   ],
   "source": [
    "psi = Psi(\"OCS_energies.rchm\", fmin=0, fmax=10, mmin=-10, mmax=10)\n",
    "dipole = Etensor(\"OCS_mu_j<j1>_j<j2>.rchm\", psi, units=\"Debye\")"
   ]
  },
  {
   "cell_type": "markdown",
   "metadata": {},
   "source": [
    "Now set-up Hamiltonian for molecule in static electric field, applied along the laboratory $Z$ axis, and solve the eigenvalue problem"
   ]
  },
  {
   "cell_type": "code",
   "execution_count": 7,
   "metadata": {},
   "outputs": [
    {
     "name": "stdout",
     "output_type": "stream",
     "text": [
      "Fz = 0 Stark shifts = [-6.91770037e-03  4.03901771e-01  4.03901771e-01  4.10114035e-01\n",
      "  1.21699979e+00  1.21699979e+00  1.21849740e+00  1.21849740e+00\n",
      "  1.21900254e+00  2.43541642e+00  2.43541642e+00  2.43599970e+00\n",
      "  2.43599970e+00  2.43635013e+00  2.43635013e+00  2.43646703e+00\n",
      "  4.05961799e+00  4.05961799e+00  4.05990444e+00  4.05990444e+00\n",
      "  4.06010911e+00  4.06010911e+00  4.06023195e+00  4.06023195e+00\n",
      "  4.06027290e+00  6.08973063e+00  6.08973063e+00  6.08989223e+00\n",
      "  6.08989223e+00  6.09001794e+00  6.09001794e+00  6.09010775e+00\n",
      "  6.09010775e+00  6.09016163e+00  6.09016163e+00  6.09017959e+00\n",
      "  8.52579989e+00  8.52579989e+00  8.52589994e+00  8.52589994e+00\n",
      "  8.52598180e+00  8.52598180e+00  8.52604548e+00  8.52604548e+00\n",
      "  8.52609096e+00  8.52609096e+00  8.52611825e+00  8.52611825e+00\n",
      "  8.52612735e+00  1.13678455e+01  1.13678455e+01  1.13679117e+01\n",
      "  1.13679117e+01  1.13679677e+01  1.13679677e+01  1.13680136e+01\n",
      "  1.13680136e+01  1.13680492e+01  1.13680492e+01  1.13680747e+01\n",
      "  1.13680747e+01  1.13680900e+01  1.13680900e+01  1.13680951e+01\n",
      "  1.46158771e+01  1.46158771e+01  1.46159232e+01  1.46159232e+01\n",
      "  1.46159631e+01  1.46159631e+01  1.46159969e+01  1.46159969e+01\n",
      "  1.46160246e+01  1.46160246e+01  1.46160461e+01  1.46160461e+01\n",
      "  1.46160614e+01  1.46160614e+01  1.46160707e+01  1.46160707e+01\n",
      "  1.46160737e+01  1.82698999e+01  1.82698999e+01  1.82699333e+01\n",
      "  1.82699333e+01  1.82699627e+01  1.82699627e+01  1.82699882e+01\n",
      "  1.82699882e+01  1.82700098e+01  1.82700098e+01  1.82700275e+01\n",
      "  1.82700275e+01  1.82700412e+01  1.82700412e+01  1.82700510e+01\n",
      "  1.82700510e+01  1.82700569e+01  1.82700569e+01  1.82700589e+01\n",
      "  2.23300000e+01  2.23300000e+01  2.23301001e+01  2.23301001e+01\n",
      "  2.23301896e+01  2.23301896e+01  2.23302686e+01  2.23302686e+01\n",
      "  2.23303370e+01  2.23303370e+01  2.23303949e+01  2.23303949e+01\n",
      "  2.23304423e+01  2.23304423e+01  2.23304792e+01  2.23304792e+01\n",
      "  2.23305055e+01  2.23305055e+01  2.23305213e+01  2.23305213e+01\n",
      "  2.23305266e+01]\n"
     ]
    }
   ],
   "source": [
    "fz = 10000 # V/cm\n",
    "field = [0, 0, fz * 100]   # convert field to V/m\n",
    "H = -1.0 * dipole * field   # molecule-field Hamiltonian = -muZ * Fz\n",
    "hmat = H.matrix(psi, plus_diag=True)   # matrix representation of H = H_molecule - muZ * Fz\n",
    "enr, vec = np.linalg.eigh(hmat) #   diagonalize\n",
    "\n",
    "# for zero field, it should give us field-free energies\n",
    "fz = 0\n",
    "field = [0, 0, fz * 100]\n",
    "H = -1.0 * dipole * field\n",
    "hmat = H.matrix(psi, plus_diag=True)\n",
    "enr0, _ = np.linalg.eigh(hmat)\n",
    "\n",
    "# print Stark shifts\n",
    "print(\"Fz =\", fz, \"Stark shifts =\", enr)"
   ]
  },
  {
   "cell_type": "markdown",
   "metadata": {},
   "source": [
    "The problem of linear molecule rotation in the presence of static electric field can be solved easily using ready analytical expressions for the matrix elements of dipole moment.\n",
    "For linear molecule, the laboratory-frame $(X,Y,Z)$ and molecular-frame $(x,y,z)$ projections of dipole moment are related as $\\mu_Z=\\cos(\\theta)\\mu_z$, where $\\theta$ is the Euler angle. From the properties of spherical harmonics, obtain $\\cos(\\theta)=2\\sqrt{\\pi/3}Y_{1,0}$. Thus, the total Hamiltonian for linear molecule in static electric field, oriented along $Z$ axis, can be written as\n",
    "\\begin{align}\n",
    "H=BJ^2-2\\sqrt{\\pi/3}Y_{1,0}\\mu_z F_Z.\n",
    "\\end{align}\n",
    "\n",
    "We solve the Schrödinger equation using variational method, i.e., by expanding the total wave function as linear combination of basis functions, which are eigenfunctions of field-free molecular Hamiltonian $BJ^2$. It is well known that eigenfunctions of $J^2$ operator are spherical harmonics $Y_{J,m}$.\n",
    "\n",
    "The matrix representation of $H$ in the basis of spherical harmonics is\n",
    "\\begin{align}\n",
    "\\langle Y_{J',m'}|H| Y_{J,m}\\rangle = BJ(J+1)\\delta_{J,J'}\\delta_{m,m'} - 2\\sqrt{\\pi/3}\\mu_z F_Z\\langle Y_{J',m'}|Y_{1,0}| Y_{J,m}\\rangle.\n",
    "\\end{align}\n",
    "\n",
    "Using product rule for spherical harmonics, the integral can be expressed as\n",
    "\\begin{align}\n",
    "\\langle Y_{J',m'}|Y_{1,0}| Y_{J,m}\\rangle = (-1)^{m'}\\sqrt{\\frac{(2J'+1)(2J+1)(2+1)}{4\\pi}}\n",
    "\\left(\\begin{array}{ccc}J'&1&J\\\\-m'&0&m\\end{array}\\right)\n",
    "\\left(\\begin{array}{ccc}J'&1&J\\\\0&0&0\\end{array}\\right).\n",
    "\\end{align}\n",
    "\n",
    "The code below implements it"
   ]
  },
  {
   "cell_type": "code",
   "execution_count": 8,
   "metadata": {},
   "outputs": [
    {
     "name": "stdout",
     "output_type": "stream",
     "text": [
      "[-6.91681529e-03  4.03902042e-01  4.03902042e-01  4.10113514e-01\n",
      "  1.21699992e+00  1.21699992e+00  1.21849733e+00  1.21849733e+00\n",
      "  1.21900241e+00  2.43541649e+00  2.43541649e+00  2.43599970e+00\n",
      "  2.43599970e+00  2.43635009e+00  2.43635009e+00  2.43646697e+00\n",
      "  4.05961804e+00  4.05961804e+00  4.05990445e+00  4.05990445e+00\n",
      "  4.06010910e+00  4.06010910e+00  4.06023192e+00  4.06023192e+00\n",
      "  4.06027286e+00  6.08973066e+00  6.08973066e+00  6.08989225e+00\n",
      "  6.08989225e+00  6.09001794e+00  6.09001794e+00  6.09010773e+00\n",
      "  6.09010773e+00  6.09016161e+00  6.09016161e+00  6.09017957e+00\n",
      "  8.52579992e+00  8.52579992e+00  8.52589995e+00  8.52589995e+00\n",
      "  8.52598181e+00  8.52598181e+00  8.52604547e+00  8.52604547e+00\n",
      "  8.52609095e+00  8.52609095e+00  8.52611823e+00  8.52611823e+00\n",
      "  8.52612733e+00  1.13678455e+01  1.13678455e+01  1.13679117e+01\n",
      "  1.13679117e+01  1.13679677e+01  1.13679677e+01  1.13680136e+01\n",
      "  1.13680136e+01  1.13680492e+01  1.13680492e+01  1.13680747e+01\n",
      "  1.13680747e+01  1.13680900e+01  1.13680900e+01  1.13680951e+01\n",
      "  1.46158771e+01  1.46158771e+01  1.46159232e+01  1.46159232e+01\n",
      "  1.46159631e+01  1.46159631e+01  1.46159969e+01  1.46159969e+01\n",
      "  1.46160246e+01  1.46160246e+01  1.46160461e+01  1.46160461e+01\n",
      "  1.46160614e+01  1.46160614e+01  1.46160706e+01  1.46160706e+01\n",
      "  1.46160737e+01  1.82699000e+01  1.82699000e+01  1.82699333e+01\n",
      "  1.82699333e+01  1.82699627e+01  1.82699627e+01  1.82699882e+01\n",
      "  1.82699882e+01  1.82700098e+01  1.82700098e+01  1.82700275e+01\n",
      "  1.82700275e+01  1.82700412e+01  1.82700412e+01  1.82700510e+01\n",
      "  1.82700510e+01  1.82700569e+01  1.82700569e+01  1.82700589e+01\n",
      "  2.23300000e+01  2.23300000e+01  2.23301000e+01  2.23301000e+01\n",
      "  2.23301895e+01  2.23301895e+01  2.23302685e+01  2.23302685e+01\n",
      "  2.23303370e+01  2.23303370e+01  2.23303949e+01  2.23303949e+01\n",
      "  2.23304423e+01  2.23304423e+01  2.23304791e+01  2.23304791e+01\n",
      "  2.23305054e+01  2.23305054e+01  2.23305212e+01  2.23305212e+01\n",
      "  2.23305265e+01]\n"
     ]
    }
   ],
   "source": [
    "import numpy as np\n",
    "from sympy.physics.wigner import wigner_3j\n",
    "\n",
    "B = 0.203   # in cm^-1\n",
    "dz = 0.55   # in Debye\n",
    "fz = 10000   # in V/cm\n",
    "conv_to_cm = 1.679201682918921e-05 # converts dz[Debye]*Fz[V/cm] into cm^-1\n",
    "# note on unit conversion: Debye = 1/c * 10^{-21} Coulomb*meter and Coulomb*Volt = Joule\n",
    "\n",
    "energy = lambda J: B*J*(J+1)\n",
    "costheta_me = lambda J1, m1, J2, m2: 2*np.sqrt(np.pi/3.0) * (-1)**m1 * np.sqrt((2*J1+1)*(2*J2+1)*3/(4*np.pi)) \\\n",
    "                                     * wigner_3j(J1, 1, J2, -m1, 0, m2) * wigner_3j(J1, 1, J2, 0, 0, 0)\n",
    "\n",
    "Jmax = 10\n",
    "Jm_quanta = [(J, m) for J in range(Jmax+1) for m in range(-J, J+1)]\n",
    "\n",
    "H0 = np.diag([energy(J) for (J,m) in Jm_quanta])\n",
    "H = np.array([[costheta_me(J1, m1, J2, m2) for (J1, m1) in Jm_quanta] for (J2, m2) in Jm_quanta], dtype=np.float64)\n",
    "\n",
    "Htot = H0 - H * dz * fz * conv_to_cm\n",
    "enr, vec = np.linalg.eigh(Htot)\n",
    "print(enr)"
   ]
  },
  {
   "cell_type": "markdown",
   "metadata": {},
   "source": [
    "Let's repeat one of the above calculations for different values of field and plot the Stark curves - state energies versus field"
   ]
  },
  {
   "cell_type": "code",
   "execution_count": 10,
   "metadata": {},
   "outputs": [
    {
     "data": {
      "text/plain": [
       "[<matplotlib.lines.Line2D at 0x7fb375e3a438>]"
      ]
     },
     "execution_count": 10,
     "metadata": {},
     "output_type": "execute_result"
    },
    {
     "data": {
      "image/png": "[encoded data removed]",
      "text/plain": [
       "<matplotlib.figure.Figure at 0x7fb37921a5f8>"
      ]
     },
     "metadata": {
      "needs_background": "light"
     },
     "output_type": "display_data"
    }
   ],
   "source": [
    "import matplotlib.pyplot as plt\n",
    "\n",
    "stark = []\n",
    "for fz in np.linspace(0, 10, 100): # field in kV\n",
    "    #print(\"do fz =\", fz, \"kV/cm ...\")\n",
    "    Htot = H0 - H * dz * fz*1000 * conv_to_cm\n",
    "    enr, vec = np.linalg.eigh(Htot)\n",
    "    stark.append([fz, *enr])\n",
    "stark = np.array(stark)\n",
    "\n",
    "plt.plot(stark[:,0], stark[:,2])\n",
    "plt.plot(stark[:,0], stark[:,3])\n",
    "plt.plot(stark[:,0], stark[:,4])\n"
   ]
  },
  {
   "cell_type": "code",
   "execution_count": null,
   "metadata": {},
   "outputs": [],
   "source": []
  }
 ],
 "metadata": {
  "kernelspec": {
   "display_name": "Python 3",
   "language": "python",
   "name": "python3"
  },
  "language_info": {
   "codemirror_mode": {
    "name": "ipython",
    "version": 3
   },
   "file_extension": ".py",
   "mimetype": "text/x-python",
   "name": "python",
   "nbconvert_exporter": "python",
   "pygments_lexer": "ipython3",
   "version": "3.6.9"
  }
 },
 "nbformat": 4,
 "nbformat_minor": 4
}
