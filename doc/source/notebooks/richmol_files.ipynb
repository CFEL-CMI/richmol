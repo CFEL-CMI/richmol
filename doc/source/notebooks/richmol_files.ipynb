{
 "metadata": {
  "language_info": {
   "codemirror_mode": {
    "name": "ipython",
    "version": 3
   },
   "file_extension": ".py",
   "mimetype": "text/x-python",
   "name": "python",
   "nbconvert_exporter": "python",
   "pygments_lexer": "ipython3",
   "version": "3.6.9"
  },
  "orig_nbformat": 2,
  "kernelspec": {
   "name": "python369jvsc74a57bd031f2aee4e71d21fbe5cf8b01ff0e069b9275f58929596ceb00d14d90e3e16cd6",
   "display_name": "Python 3.6.9 64-bit"
  },
  "metadata": {
   "interpreter": {
    "hash": "31f2aee4e71d21fbe5cf8b01ff0e069b9275f58929596ceb00d14d90e3e16cd6"
   }
  }
 },
 "nbformat": 4,
 "nbformat_minor": 2,
 "cells": [
  {
   "source": [
    "# Storing/loading data to/from Richmol files"
   ],
   "cell_type": "markdown",
   "metadata": {}
  },
  {
   "source": [
    "Calculated field-free rotational and ro-vibrational enegries together with the matrix elements of Cartesian tensor operators (e.g., dipole moment, polarizability) can be stored in Richmol HDF5 files.\n",
    "\n",
    "Here we demonstrate how to store data into Richmol files and how to load it using `rchm` module."
   ],
   "cell_type": "markdown",
   "metadata": {}
  },
  {
   "cell_type": "code",
   "execution_count": 1,
   "metadata": {},
   "outputs": [],
   "source": [
    "from richmol import rchm"
   ]
  },
  {
   "source": [
    "To start, generate some field-free rotational energies and matrix elements of dipole moment and polarizability for camphor molecule. For details, see \"Rotational dynamics Quickstart\":"
   ],
   "cell_type": "markdown",
   "metadata": {}
  },
  {
   "cell_type": "code",
   "execution_count": 2,
   "metadata": {},
   "outputs": [
    {
     "output_type": "stream",
     "name": "stdout",
     "text": [
      "warning: change molecular frame to inertia axes system to enable symmetry\n"
     ]
    }
   ],
   "source": [
    "from richmol.rot import solve\n",
    "from richmol.rot import LabTensor\n",
    "from richmol.rot import Molecule\n",
    "\n",
    "camphor = Molecule()\n",
    "camphor.XYZ = (\"angstrom\",\n",
    "    \"O\",     -2.547204,    0.187936,   -0.213755,\n",
    "    \"C\",     -1.382858,   -0.147379,   -0.229486,\n",
    "    \"C\",     -0.230760,    0.488337,    0.565230,\n",
    "    \"C\",     -0.768352,   -1.287324,   -1.044279,\n",
    "    \"C\",     -0.563049,    1.864528,    1.124041,\n",
    "    \"C\",      0.716269,   -1.203805,   -0.624360,\n",
    "    \"C\",      0.929548,    0.325749,   -0.438982,\n",
    "    \"C\",      0.080929,   -0.594841,    1.638832,\n",
    "    \"C\",      0.791379,   -1.728570,    0.829268,\n",
    "    \"C\",      2.305990,    0.692768,    0.129924,\n",
    "    \"C\",      0.730586,    1.139634,   -1.733020,\n",
    "    \"H\",     -1.449798,    1.804649,    1.756791,\n",
    "    \"H\",     -0.781306,    2.571791,    0.321167,\n",
    "    \"H\",      0.263569,    2.255213,    1.719313,\n",
    "    \"H\",      1.413749,   -1.684160,   -1.316904,\n",
    "    \"H\",     -0.928638,   -1.106018,   -2.110152,\n",
    "    \"H\",     -1.245108,   -2.239900,   -0.799431,\n",
    "    \"H\",      1.816886,   -1.883799,    1.170885,\n",
    "    \"H\",      0.276292,   -2.687598,    0.915376,\n",
    "    \"H\",     -0.817893,   -0.939327,    2.156614,\n",
    "    \"H\",      0.738119,   -0.159990,    2.396232,\n",
    "    \"H\",      3.085409,    0.421803,   -0.586828,\n",
    "    \"H\",      2.371705,    1.769892,    0.297106,\n",
    "    \"H\",      2.531884,    0.195217,    1.071909,\n",
    "    \"H\",      0.890539,    2.201894,   -1.536852,\n",
    "    \"H\",      1.455250,    0.830868,   -2.487875,\n",
    "    \"H\",     -0.267696,    1.035608,   -2.160680)\n",
    "\n",
    "camphor.dip = [1.21615, -0.30746, 0.01140]\n",
    "\n",
    "camphor.pol = [[115.80434, -0.58739, 0.03276], \\\n",
    "               [-0.58739, 112.28245, 1.36146], \\\n",
    "               [0.03276, 1.36146, 108.47809]]\n",
    "\n",
    "camphor.frame = \"diag(pol)\"\n",
    "camphor.sym = \"D2\"\n",
    "sol = solve(camphor, Jmin=0, Jmax=5, verbose=False)\n",
    "\n",
    "dip = LabTensor(camphor.dip, sol)\n",
    "pol = LabTensor(camphor.pol, sol)"
   ]
  },
  {
   "source": [
    "We can now store molecular information and matrix elements of Cartesian tensor operators into HDF5 file"
   ],
   "cell_type": "markdown",
   "metadata": {}
  },
  {
   "cell_type": "code",
   "execution_count": 3,
   "metadata": {},
   "outputs": [],
   "source": [
    "rchm.store('camphor.h5', camphor, comment=\"S-Camphor structure from the Supersonic expansion FTMW spectra, Kisiel, et al., PCCP 5, 820 (2003)\", replace=True)\n",
    "\n",
    "rchm.store('camphor.h5', dip, comment=\"S-Camphor dipole moment (in atomic units), calculated using DFT\", replace=True)\n",
    "\n",
    "rchm.store('camphor.h5', pol, comment=\"S-Camphor polarizability (in atomic units), calculated using DFT\", replace=True)"
   ]
  },
  {
   "source": [
    "To store the field-free solutions, they must first be transformed into a Cartesian tensor form"
   ],
   "cell_type": "markdown",
   "metadata": {}
  },
  {
   "cell_type": "code",
   "execution_count": 4,
   "metadata": {},
   "outputs": [],
   "source": [
    "h0 = LabTensor(camphor, sol)\n",
    "\n",
    "rchm.store('camphor.h5', h0, comment=\"S-Camphor field-free energies (in cm^-1)\", replace=True)"
   ]
  },
  {
   "source": [
    "To inspect which data groups are stored in file, use function `inspect_file`"
   ],
   "cell_type": "markdown",
   "metadata": {}
  },
  {
   "cell_type": "code",
   "execution_count": 5,
   "metadata": {
    "tags": []
   },
   "outputs": [
    {
     "output_type": "stream",
     "name": "stdout",
     "text": [
      "data group: dip\n\tattribute: Jlist1\n\tattribute: Jlist2\n\tattribute: Us\n\tattribute: Ux\n\tattribute: assign_k1\n\tattribute: assign_k2\n\tattribute: assign_m1\n\tattribute: assign_m2\n\tattribute: cart\n\tattribute: comment\n\tattribute: date\n\tattribute: dim1\n\tattribute: dim2\n\tattribute: dim_k1\n\tattribute: dim_k2\n\tattribute: dim_m1\n\tattribute: dim_m2\n\tattribute: os\n\tattribute: rank\n\tattribute: symlist1\n\tattribute: symlist2\n\tattribute: tens_flat\n\tattribute: __module__\n\tattribute: __dict__\n\tattribute: __weakref__\n\tattribute: __doc__\ndata group: h0\n\tattribute: Jlist1\n\tattribute: Jlist2\n\tattribute: assign_k1\n\tattribute: assign_k2\n\tattribute: assign_m1\n\tattribute: assign_m2\n\tattribute: cart\n\tattribute: comment\n\tattribute: date\n\tattribute: dim1\n\tattribute: dim2\n\tattribute: dim_k1\n\tattribute: dim_k2\n\tattribute: dim_m1\n\tattribute: dim_m2\n\tattribute: os\n\tattribute: rank\n\tattribute: symlist1\n\tattribute: symlist2\n\tattribute: __module__\n\tattribute: __dict__\n\tattribute: __weakref__\n\tattribute: __doc__\ndata group: molecule\n\tattribute: Gmat\n\tattribute: comment\n\tattribute: date\n\tattribute: dip\n\tattribute: inertia\n\tattribute: ipas\n\tattribute: label\n\tattribute: mass\n\tattribute: pol\n\tattribute: xyz\n\tattribute: __module__\n\tattribute: __dict__\n\tattribute: __weakref__\n\tattribute: __doc__\ndata group: pol\n\tattribute: Jlist1\n\tattribute: Jlist2\n\tattribute: Us\n\tattribute: Ux\n\tattribute: assign_k1\n\tattribute: assign_k2\n\tattribute: assign_m1\n\tattribute: assign_m2\n\tattribute: cart\n\tattribute: comment\n\tattribute: date\n\tattribute: dim1\n\tattribute: dim2\n\tattribute: dim_k1\n\tattribute: dim_k2\n\tattribute: dim_m1\n\tattribute: dim_m2\n\tattribute: os\n\tattribute: rank\n\tattribute: symlist1\n\tattribute: symlist2\n\tattribute: tens_flat\n\tattribute: __module__\n\tattribute: __dict__\n\tattribute: __weakref__\n\tattribute: __doc__\n"
     ]
    }
   ],
   "source": [
    "data_groups = rchm.inspect_file('camphor.h5')\n",
    "\n",
    "for name, obj in data_groups.items():\n",
    "    print(\"data group:\", name)\n",
    "    for elem in vars(obj).keys():\n",
    "        print(\"\\tattribute:\", elem)"
   ]
  },
  {
   "source": [
    "Here is an example of how to aceess the molecular data stored in 'molecule' data group"
   ],
   "cell_type": "markdown",
   "metadata": {}
  },
  {
   "cell_type": "code",
   "execution_count": 9,
   "metadata": {},
   "outputs": [
    {
     "output_type": "stream",
     "name": "stdout",
     "text": [
      "date: 2021-04-15 19:01:37\ncomment: b'S-Camphor structure from the Supersonic expansion FTMW spectra, Kisiel, et al., PCCP 5, 820 (2003)'\npolarizability:\n [[ 1.08035306e+02 -8.04509573e-15 -3.48975965e-15]\n [-1.70532612e-14  1.12624870e+02  5.06130530e-15]\n [-5.09201926e-15  8.38035169e-15  1.15904704e+02]]\noriginal polarizability:\n [[ 1.08035306e+02 -8.04509573e-15 -3.48975965e-15]\n [-1.70532612e-14  1.12624870e+02  5.06130530e-15]\n [-5.09201926e-15  8.38035169e-15  1.15904704e+02]]\n"
     ]
    }
   ],
   "source": [
    "mol = data_groups['molecule']\n",
    "\n",
    "print(\"date:\", mol.date)\n",
    "print(\"comment:\", mol.comment)\n",
    "print(\"polarizability:\\n\", mol.pol)\n",
    "\n",
    "print(\"original polarizability:\\n\", camphor.pol)"
   ]
  },
  {
   "cell_type": "code",
   "execution_count": null,
   "metadata": {},
   "outputs": [],
   "source": []
  }
 ]
}