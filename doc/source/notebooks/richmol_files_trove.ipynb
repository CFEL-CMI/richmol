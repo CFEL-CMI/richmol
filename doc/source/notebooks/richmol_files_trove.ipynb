{
 "metadata": {
  "language_info": {
   "codemirror_mode": {
    "name": "ipython",
    "version": 3
   },
   "file_extension": ".py",
   "mimetype": "text/x-python",
   "name": "python",
   "nbconvert_exporter": "python",
   "pygments_lexer": "ipython3",
   "version": "3.6.9"
  },
  "orig_nbformat": 2,
  "kernelspec": {
   "name": "python369jvsc74a57bd031f2aee4e71d21fbe5cf8b01ff0e069b9275f58929596ceb00d14d90e3e16cd6",
   "display_name": "Python 3.6.9 64-bit"
  },
  "metadata": {
   "interpreter": {
    "hash": "31f2aee4e71d21fbe5cf8b01ff0e069b9275f58929596ceb00d14d90e3e16cd6"
   }
  }
 },
 "nbformat": 4,
 "nbformat_minor": 2,
 "cells": [
  {
   "source": [
    "# Loading data from files created by TROVE"
   ],
   "cell_type": "markdown",
   "metadata": {}
  },
  {
   "source": [
    "[TROVE](https://github.com/Trovemaster/TROVE) is a general variational code for accurate calculations of ro-vibrational energies and spectra of polyatomic molecules. It can also calculate the corresponding matrix elements of various Cartesian tensor operators, such as, for example, polarizability, electric field gradient, spin-rotation, quadrupole moment, hyperpolarizability, etc.\n",
    "\n",
    "The matrix elements are stored by TROVE in separate ascii files for different values of quantum number of the total angular momentum $J$. The ro-vibrational energies and matrix elements of Cartesian tensor operators are stored in separate files. These data can be loaded into Richmol using `read_states` and `read_trans` functions"
   ],
   "cell_type": "markdown",
   "metadata": {}
  },
  {
   "cell_type": "code",
   "execution_count": 3,
   "metadata": {},
   "outputs": [],
   "source": [
    "from richmol.field import CarTens"
   ]
  },
  {
   "cell_type": "code",
   "execution_count": 10,
   "metadata": {},
   "outputs": [
    {
     "output_type": "stream",
     "name": "stdout",
     "text": [
      "dict_keys(['filter']) dict_keys(['states', 'filter'])\n"
     ]
    }
   ],
   "source": [
    "def filter(**kwargs):\n",
    "    pass_j = True\n",
    "    pass_sym = True\n",
    "    pass_m = True\n",
    "    if \"J\" in kwargs:\n",
    "        J = kwargs[\"J\"]\n",
    "        if J>10:\n",
    "            pass_j = False\n",
    "    if \"sym\" in kwargs:\n",
    "        sym = kwargs[\"sym\"]\n",
    "        if sym not in (\"A1\", \"A2\"):\n",
    "            pass_sym = False\n",
    "    if \"m\" in kwargs:\n",
    "        m = kwargs[\"m\"]\n",
    "        if m>0:\n",
    "            pass_m = False\n",
    "    return pass_j * pass_sym * pass_m\n",
    "\n",
    "path = \"/home/andrey/projects/richmol/tests/data/h2o_rchm_files_TROVE/\"\n",
    "states_file = path + \"energies_j0_j40_MARVEL_HITRAN.rchm\"\n",
    "states = CarTens(states=states_file, filter=filter)\n"
   ]
  },
  {
   "cell_type": "code",
   "execution_count": 11,
   "metadata": {},
   "outputs": [
    {
     "output_type": "stream",
     "name": "stdout",
     "text": [
      "(0.0, 0.0) ('A1', 'A1') (41, 41)\n(1.0, 1.0) ('A1', 'A1') (22, 22)\n(1.0, 1.0) ('A2', 'A2') (62, 62)\n(10.0, 10.0) ('A1', 'A1') (244, 244)\n(10.0, 10.0) ('A2', 'A2') (213, 213)\n(2.0, 2.0) ('A1', 'A1') (101, 101)\n(2.0, 2.0) ('A2', 'A2') (62, 62)\n(3.0, 3.0) ('A1', 'A1') (81, 81)\n(3.0, 3.0) ('A2', 'A2') (120, 120)\n(4.0, 4.0) ('A1', 'A1') (155, 155)\n(4.0, 4.0) ('A2', 'A2') (117, 117)\n(5.0, 5.0) ('A1', 'A1') (134, 134)\n(5.0, 5.0) ('A2', 'A2') (173, 173)\n(6.0, 6.0) ('A1', 'A1') (200, 200)\n(6.0, 6.0) ('A2', 'A2') (163, 163)\n(7.0, 7.0) ('A1', 'A1') (172, 172)\n(7.0, 7.0) ('A2', 'A2') (207, 207)\n(8.0, 8.0) ('A1', 'A1') (227, 227)\n(8.0, 8.0) ('A2', 'A2') (193, 193)\n(9.0, 9.0) ('A1', 'A1') (196, 196)\n(9.0, 9.0) ('A2', 'A2') (230, 230)\n"
     ]
    }
   ],
   "source": [
    "for J in states.kmat.keys():\n",
    "    for sym in states.kmat[J].keys():\n",
    "        print(J, sym, states.kmat[J][sym][0].shape)"
   ]
  },
  {
   "cell_type": "code",
   "execution_count": 13,
   "metadata": {},
   "outputs": [
    {
     "output_type": "execute_result",
     "data": {
      "text/plain": [
       "array([[    0.        +0.j,     0.        +0.j,     0.        +0.j, ...,\n",
       "            0.        +0.j,     0.        +0.j,     0.        +0.j],\n",
       "       [    0.        +0.j,  1594.746292  +0.j,     0.        +0.j, ...,\n",
       "            0.        +0.j,     0.        +0.j,     0.        +0.j],\n",
       "       [    0.        +0.j,     0.        +0.j,  3151.629847  +0.j, ...,\n",
       "            0.        +0.j,     0.        +0.j,     0.        +0.j],\n",
       "       ...,\n",
       "       [    0.        +0.j,     0.        +0.j,     0.        +0.j, ...,\n",
       "        14945.45473823+0.j,     0.        +0.j,     0.        +0.j],\n",
       "       [    0.        +0.j,     0.        +0.j,     0.        +0.j, ...,\n",
       "            0.        +0.j, 14972.34353584+0.j,     0.        +0.j],\n",
       "       [    0.        +0.j,     0.        +0.j,     0.        +0.j, ...,\n",
       "            0.        +0.j,     0.        +0.j, 14992.06534533+0.j]])"
      ]
     },
     "metadata": {},
     "execution_count": 13
    }
   ],
   "source": [
    "states.tomat(cart='0', form='full')"
   ]
  },
  {
   "cell_type": "code",
   "execution_count": null,
   "metadata": {},
   "outputs": [],
   "source": []
  }
 ]
}