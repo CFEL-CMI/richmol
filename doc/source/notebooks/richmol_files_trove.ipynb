{
 "metadata": {
  "language_info": {
   "codemirror_mode": {
    "name": "ipython",
    "version": 3
   },
   "file_extension": ".py",
   "mimetype": "text/x-python",
   "name": "python",
   "nbconvert_exporter": "python",
   "pygments_lexer": "ipython3",
   "version": "3.8.5"
  },
  "orig_nbformat": 2,
  "kernelspec": {
   "name": "python385jvsc74a57bd031f2aee4e71d21fbe5cf8b01ff0e069b9275f58929596ceb00d14d90e3e16cd6",
   "display_name": "Python 3.8.5 64-bit"
  },
  "metadata": {
   "interpreter": {
    "hash": "31f2aee4e71d21fbe5cf8b01ff0e069b9275f58929596ceb00d14d90e3e16cd6"
   }
  }
 },
 "nbformat": 4,
 "nbformat_minor": 2,
 "cells": [
  {
   "source": [
    "# Loading data from files created by TROVE"
   ],
   "cell_type": "markdown",
   "metadata": {}
  },
  {
   "source": [
    "[TROVE](https://github.com/Trovemaster/TROVE) is a general variational code for accurate calculations of ro-vibrational energies and spectra of polyatomic molecules. It can also calculate the corresponding matrix elements of various Cartesian tensor operators, such as, for example, polarizability, electric field gradient, spin-rotation, quadrupole moment, hyperpolarizability, etc.\n",
    "\n",
    "The matrix elements are stored by TROVE in separate ASCII files for different values of quantum number of the total angular momentum $J$. The ro-vibrational energies and matrix elements of Cartesian tensor operators are stored in separate files. These data can be loaded as `CarTens` object, as demonstrated in the following example"
   ],
   "cell_type": "markdown",
   "metadata": {}
  },
  {
   "cell_type": "code",
   "execution_count": 5,
   "metadata": {},
   "outputs": [],
   "source": [
    "from richmol.field import CarTens"
   ]
  },
  {
   "cell_type": "code",
   "execution_count": 2,
   "metadata": {
    "tags": []
   },
   "outputs": [],
   "source": [
    "def filter(**kwargs):\n",
    "    \"\"\"Function to filter out certain states\n",
    "    in particular, only states that satifsy the following conditions will pe kept:\n",
    "        J<=1 and symmetry in (\"A1\", \"A2\") and m==0 and energy<=6000\n",
    "    \"\"\"\n",
    "    pass_j = True\n",
    "    pass_sym = True\n",
    "    pass_m = True\n",
    "    pass_enr = True\n",
    "    if \"J\" in kwargs:\n",
    "        J = kwargs[\"J\"]\n",
    "        if J>1:\n",
    "            pass_j = False\n",
    "    if \"sym\" in kwargs:\n",
    "        sym = kwargs[\"sym\"]\n",
    "        if sym not in (\"A1\", \"A2\"):\n",
    "            pass_sym = False\n",
    "    if \"m\" in kwargs:\n",
    "        m = round(float(kwargs[\"m\"]),1)\n",
    "        if m>0:\n",
    "            pass_m = False\n",
    "    if \"enr\" in kwargs:\n",
    "        enr = kwargs[\"enr\"]\n",
    "        if enr>6000:\n",
    "            pass_enr = False\n",
    "    return pass_j * pass_sym * pass_m * pass_enr\n",
    "\n",
    "\n",
    "path = \"/home/andrey/projects/richmol/tests/data/h2o_rchm_files_TROVE/\"\n",
    "# states file\n",
    "states_file = path + \"energies_j0_j40_MARVEL_HITRAN.rchm\"\n",
    "# template for generating names of matrix elements files for different bra and ket J quanta\n",
    "matelem_file = path + \"matelem_MU_j<j1>_j<j2>.rchm\"\n",
    "\n",
    "# load stationary states\n",
    "states = CarTens(states_file, bra=filter, ket=filter)\n",
    "\n",
    "# load dipole tensor\n",
    "dipole = CarTens(states_file, matelem=matelem_file, bra=filter, ket=filter)\n"
   ]
  },
  {
   "cell_type": "code",
   "execution_count": 5,
   "metadata": {},
   "outputs": [],
   "source": [
    "dipole.store('water.h5', replace=True)"
   ]
  },
  {
   "cell_type": "code",
   "execution_count": 1,
   "metadata": {},
   "outputs": [],
   "source": [
    "from richmol.field import CarTens\n",
    "\n",
    "def filter(**kwargs):\n",
    "    if \"m\" in kwargs:\n",
    "        m = round(float(kwargs[\"m\"]),0)\n",
    "        return m == m_\n",
    "    else:\n",
    "        return True\n",
    "\n",
    "path = \"/home/andrey/projects/richmol/tests/data/h2o_rchm_files_TROVE/\"\n",
    "# states file\n",
    "states_file = path + \"energies_j0_j40_MARVEL_HITRAN.rchm\"\n",
    "# template for generating names of matrix elements files for different bra and ket J quanta\n",
    "matelem_file = path + \"matelem_MU_j<j1>_j<j2>.rchm\"\n",
    "\n",
    "# load stationary states\n",
    "#states = CarTens(states_file, bra=filter, ket=filter)\n",
    "\n",
    "\n",
    "#Jmax = 5\n",
    "#for m_ in range(-Jmax, Jmax+1):\n",
    "#    print(m_)\n",
    "#    dipole = CarTens(states_file, matelem=matelem_file, bra=filter, ket=filter)\n",
    "#    #fac = -1.0 * DebyeVm_to_invcm()\n",
    "#    #dipole.mul(fac)\n",
    "m_ = 3\n",
    "dipole = CarTens(states_file, matelem=matelem_file, bra=filter, ket=filter)\n"
   ]
  },
  {
   "cell_type": "code",
   "execution_count": 6,
   "metadata": {
    "tags": []
   },
   "outputs": [],
   "source": [
    "mat = dipole.tomat(form=\"full\", sparse=\"coo_matrix\", cart=\"z\")"
   ]
  },
  {
   "cell_type": "code",
   "execution_count": null,
   "metadata": {},
   "outputs": [],
   "source": [
    "print(dipole.quanta_m1)"
   ]
  },
  {
   "cell_type": "code",
   "execution_count": null,
   "metadata": {},
   "outputs": [],
   "source": []
  }
 ]
}