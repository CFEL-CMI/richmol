{
 "metadata": {
  "language_info": {
   "codemirror_mode": {
    "name": "ipython",
    "version": 3
   },
   "file_extension": ".py",
   "mimetype": "text/x-python",
   "name": "python",
   "nbconvert_exporter": "python",
   "pygments_lexer": "ipython3",
   "version": "3.6.9"
  },
  "orig_nbformat": 2,
  "kernelspec": {
   "name": "python369jvsc74a57bd031f2aee4e71d21fbe5cf8b01ff0e069b9275f58929596ceb00d14d90e3e16cd6",
   "display_name": "Python 3.6.9 64-bit"
  },
  "metadata": {
   "interpreter": {
    "hash": "31f2aee4e71d21fbe5cf8b01ff0e069b9275f58929596ceb00d14d90e3e16cd6"
   }
  }
 },
 "nbformat": 4,
 "nbformat_minor": 2,
 "cells": [
  {
   "source": [
    "# Loading data from files created by TROVE"
   ],
   "cell_type": "markdown",
   "metadata": {}
  },
  {
   "source": [
    "[TROVE](https://github.com/Trovemaster/TROVE) is a general variational code for accurate calculations of ro-vibrational energies and spectra of polyatomic molecules. It can also calculate the corresponding matrix elements of various Cartesian tensor operators, such as, for example, polarizability, electric field gradient, spin-rotation, quadrupole moment, hyperpolarizability, etc.\n",
    "\n",
    "The matrix elements are stored by TROVE in separate ascii files for different values of quantum number of the total angular momentum $J$. The ro-vibrational energies and matrix elements of Cartesian tensor operators are stored in separate files. These data can be loaded into Richmol using `read_states` and `read_trans` functions"
   ],
   "cell_type": "markdown",
   "metadata": {}
  },
  {
   "cell_type": "code",
   "execution_count": 1,
   "metadata": {},
   "outputs": [],
   "source": [
    "from richmol.field import CarTens"
   ]
  },
  {
   "cell_type": "code",
   "execution_count": 2,
   "metadata": {
    "tags": []
   },
   "outputs": [
    {
     "output_type": "stream",
     "name": "stdout",
     "text": [
      "name not in fl\n",
      "name not in fl\n",
      "name not in fl\n",
      "name in fl\n",
      "found existing dataset 'self' in file 'tmp.h5', will append it, potentially replacing some data\n",
      "name in fl\n",
      "found existing dataset 'self' in file 'tmp.h5', will append it, potentially replacing some data\n",
      "name in fl\n",
      "found existing dataset 'self' in file 'tmp.h5', will append it, potentially replacing some data\n",
      "name in fl\n",
      "found existing dataset 'self' in file 'tmp.h5', will append it, potentially replacing some data\n",
      "name in fl\n",
      "found existing dataset 'self' in file 'tmp.h5', will append it, potentially replacing some data\n",
      "name in fl\n",
      "found existing dataset 'self' in file 'tmp.h5', will append it, potentially replacing some data\n",
      "name in fl\n",
      "found existing dataset 'self' in file 'tmp.h5', will append it, potentially replacing some data\n",
      "name in fl\n",
      "found existing dataset 'self' in file 'tmp.h5', will append it, potentially replacing some data\n",
      "name in fl\n",
      "found existing dataset 'self' in file 'tmp.h5', will append it, potentially replacing some data\n",
      "name in fl\n",
      "found existing dataset 'self' in file 'tmp.h5', will append it, potentially replacing some data\n"
     ]
    }
   ],
   "source": [
    "def filter(**kwargs):\n",
    "    pass_j = True\n",
    "    pass_sym = True\n",
    "    pass_m = True\n",
    "    if \"J\" in kwargs:\n",
    "        J = kwargs[\"J\"]\n",
    "        if J>1:\n",
    "            pass_j = False\n",
    "    if \"sym\" in kwargs:\n",
    "        sym = kwargs[\"sym\"]\n",
    "        if sym not in (\"A1\", \"A2\"):\n",
    "            pass_sym = False\n",
    "    if \"m\" in kwargs:\n",
    "        m = round(float(kwargs[\"m\"]),1)\n",
    "        if m>0:\n",
    "            pass_m = False\n",
    "    return pass_j * pass_sym * pass_m\n",
    "\n",
    "\n",
    "path = \"/home/andrey/projects/richmol/tests/data/h2o_rchm_files_TROVE/\"\n",
    "states_file = path + \"energies_j0_j40_MARVEL_HITRAN.rchm\"\n",
    "matelem_file = path + \"matelem_MU_j<j1>_j<j2>.rchm\"\n",
    "states = CarTens(states_file, filter=filter, bra=filter, ket=filter)\n",
    "dipole = CarTens(states_file, matelem=matelem_file, bra=filter, ket=filter)\n"
   ]
  },
  {
   "cell_type": "code",
   "execution_count": 3,
   "metadata": {},
   "outputs": [
    {
     "output_type": "stream",
     "name": "stdout",
     "text": [
      "[ 0.  1.  2.  3.  4.  5.  6.  7.  8.  9. 10. 11. 12. 13. 14. 15. 16. 17.\n 18. 19. 20. 21. 22. 23. 24. 25. 26. 27. 28. 29. 30. 31. 32. 33. 34. 35.\n 36. 37. 38. 39. 40.]\n"
     ]
    }
   ],
   "source": [
    "print(dipole.Jlist)"
   ]
  },
  {
   "cell_type": "code",
   "execution_count": 4,
   "metadata": {
    "tags": []
   },
   "outputs": [
    {
     "output_type": "stream",
     "name": "stdout",
     "text": [
      "(0.0, 1.0) ('A1', 'A2') (41, 62)\n(1.0, 1.0) ('A1', 'A2') (22, 62)\n(1.0, 1.0) ('A2', 'A1') (62, 22)\n"
     ]
    }
   ],
   "source": [
    "for J in dipole.kmat.keys():\n",
    "    for sym in dipole.kmat[J].keys():\n",
    "        print(J, sym, dipole.kmat[J][sym][0].shape)\n"
   ]
  },
  {
   "cell_type": "code",
   "execution_count": 5,
   "metadata": {},
   "outputs": [
    {
     "output_type": "execute_result",
     "data": {
      "text/plain": [
       "matrix([[0.+0.00000000e+00j, 0.+0.00000000e+00j, 0.+0.00000000e+00j, ...,\n",
       "         0.+1.00727496e-06j, 0.+2.35090345e-06j, 0.+3.79062373e-06j],\n",
       "        [0.+0.00000000e+00j, 0.+0.00000000e+00j, 0.+0.00000000e+00j, ...,\n",
       "         0.-1.50415950e-06j, 0.-4.81425060e-06j, 0.-5.71077550e-06j],\n",
       "        [0.+0.00000000e+00j, 0.+0.00000000e+00j, 0.+0.00000000e+00j, ...,\n",
       "         0.+1.00172197e-04j, 0.+8.12120807e-05j, 0.-4.19015385e-05j],\n",
       "        ...,\n",
       "        [0.+0.00000000e+00j, 0.+0.00000000e+00j, 0.+0.00000000e+00j, ...,\n",
       "         0.+0.00000000e+00j, 0.+0.00000000e+00j, 0.+0.00000000e+00j],\n",
       "        [0.+0.00000000e+00j, 0.+0.00000000e+00j, 0.+0.00000000e+00j, ...,\n",
       "         0.+0.00000000e+00j, 0.+0.00000000e+00j, 0.+0.00000000e+00j],\n",
       "        [0.+0.00000000e+00j, 0.+0.00000000e+00j, 0.+0.00000000e+00j, ...,\n",
       "         0.+0.00000000e+00j, 0.+0.00000000e+00j, 0.+0.00000000e+00j]])"
      ]
     },
     "metadata": {},
     "execution_count": 5
    }
   ],
   "source": [
    "dipole.tomat(cart='z', form='full')"
   ]
  },
  {
   "cell_type": "code",
   "execution_count": null,
   "metadata": {},
   "outputs": [],
   "source": []
  },
  {
   "cell_type": "code",
   "execution_count": null,
   "metadata": {},
   "outputs": [],
   "source": []
  }
 ]
}