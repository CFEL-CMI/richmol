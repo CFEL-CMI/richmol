{
 "metadata": {
  "language_info": {
   "codemirror_mode": {
    "name": "ipython",
    "version": 3
   },
   "file_extension": ".py",
   "mimetype": "text/x-python",
   "name": "python",
   "nbconvert_exporter": "python",
   "pygments_lexer": "ipython3",
   "version": 3
  },
  "orig_nbformat": 2
 },
 "nbformat": 4,
 "nbformat_minor": 2,
 "cells": [
  {
   "source": [
    "# Loading data from files created by TROVE"
   ],
   "cell_type": "markdown",
   "metadata": {}
  },
  {
   "source": [
    "[TROVE](https://github.com/Trovemaster/TROVE) is a general variational code for accurate calculations of ro-vibrational energies and spectra of polyatomic molecules. It can also calculate the corresponding matrix elements of various Cartesian tensor operators, such as, for example, polarizability, electric field gradient, spin-rotation, quadrupole moment, hyperpolarizability, etc.\n",
    "\n",
    "The matrix elements are stored by TROVE in separate ascii files for different values of quantum number of the total angular momentum $J$. The ro-vibrational energies and matrix elements of Cartesian tensor operators are stored in separate files. These data can be loaded into Richmol using `read_states` and `read_trans` functions"
   ],
   "cell_type": "markdown",
   "metadata": {}
  },
  {
   "cell_type": "code",
   "execution_count": null,
   "metadata": {},
   "outputs": [],
   "source": []
  }
 ]
}