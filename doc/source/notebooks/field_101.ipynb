{
 "cells": [
  {
   "cell_type": "markdown",
   "id": "c29eb925",
   "metadata": {},
   "source": [
    "# Field interaction potential"
   ]
  },
  {
   "cell_type": "markdown",
   "id": "913afb5b",
   "metadata": {},
   "source": [
    "*Authors: Andrey Yachmenev & Cem Saribal*"
   ]
  },
  {
   "cell_type": "markdown",
   "id": "f0256cbe",
   "metadata": {},
   "source": [
    "The interaction of molecule with external field is described in Richmol by a multipole-moment expansion, i.e., as sum of products of tensor operators with external field.\n",
    "\n",
    "Given an array with three elements, corresponding to field's $X$, $Y$, and $Z$ components, the product of this array with a tensor operator (`CarTens` class) will produce the interaction potential. We start from ..."
   ]
  },
  {
   "cell_type": "code",
   "execution_count": 33,
   "id": "c0a91190",
   "metadata": {},
   "outputs": [],
   "source": [
    "from richmol.rot import Molecule, solve, LabTensor\n",
    "import numpy as np\n",
    "\n",
    "water = Molecule()\n",
    "\n",
    "water.XYZ = (\"bohr\",\n",
    "             \"O\",  0.00000000,   0.00000000,   0.12395915,\n",
    "             \"H\",  0.00000000,  -1.43102686,  -0.98366080,\n",
    "             \"H\",  0.00000000,   1.43102686,  -0.98366080)\n",
    "\n",
    "# molecular-frame dipole moment (au)\n",
    "water.dip = [0, 0, -0.7288]\n",
    "\n",
    "# molecular-frame polarizability tensor (au)\n",
    "water.pol = [[9.1369, 0, 0], [0, 9.8701, 0], [0, 0, 9.4486]]\n",
    "\n",
    "Jmax = 2\n",
    "water.sym = \"C2v\"\n",
    "\n",
    "sol = solve(water, Jmax=Jmax)\n",
    "\n",
    "# laboratory-frame dipole moment operator\n",
    "dip = LabTensor(water.dip, sol)\n",
    "\n",
    "# laboratory-frame polarizability tensor\n",
    "pol = LabTensor(water.pol, sol)\n",
    "\n",
    "# field-free Hamiltonian\n",
    "h0 = LabTensor(water, sol)"
   ]
  },
  {
   "cell_type": "markdown",
   "id": "972d0a0b",
   "metadata": {},
   "source": [
    "To compute the interaction Hamiltonian, we can multiply the corresponding tensor with an array of field's $X$, $Y$, and $Z$ components or do the multiplication in place using `field` method"
   ]
  },
  {
   "cell_type": "code",
   "execution_count": 34,
   "id": "d5b1b744",
   "metadata": {},
   "outputs": [
    {
     "name": "stdout",
     "output_type": "stream",
     "text": [
      "H == H2 ?: True\n"
     ]
    }
   ],
   "source": [
    "import numpy as np\n",
    "from richmol.convert_units import AUdip_x_Vm_to_invcm\n",
    "\n",
    "dc_field = [0, 0, 100000] # X, Y, Z components of field in units of V/m\n",
    "\n",
    "# Hamiltonian is dipole times field\n",
    "\n",
    "H = dip * dc_field * AUdip_x_Vm_to_invcm()\n",
    "\n",
    "# alternatively, multiply dipole with field in-place\n",
    "\n",
    "dip.field(dc_field)\n",
    "H2 = dip * AUdip_x_Vm_to_invcm()\n",
    "\n",
    "# compare two ways\n",
    "print(\"H == H2 ?:\", np.allclose(H.tomat(form=\"full\", repres=\"dense\"), H2.tomat(form=\"full\", repres=\"dense\")))"
   ]
  },
  {
   "cell_type": "markdown",
   "id": "9f4ff4ef",
   "metadata": {},
   "source": [
    "In the above example, we used unit-conversion function `AUdip_x_Vm_to_invcm` to convert the product of field, in units of V/m, with dipole moment, in atomic units, into the energy, in units cm$^{-2}$.\n",
    "The same methods described in \"Matrix elements of field tensor operators\" for tensor operators, can be used for the interaction potentials (i.e., products of tensors with fields). In particular for `tomat` method, the `cart` keyword must be omitted"
   ]
  },
  {
   "cell_type": "code",
   "execution_count": 32,
   "id": "00424f51",
   "metadata": {},
   "outputs": [
    {
     "name": "stdout",
     "output_type": "stream",
     "text": [
      "  (0, 1)\t(-0-0.29753135409006326j)\n",
      "  (0, 3)\t0.29753135409006326j\n",
      "  (1, 0)\t0.29753135409006326j\n",
      "  (1, 10)\t-0.20052055607190472j\n",
      "  (1, 11)\t-0.2569462873688082j\n",
      "  (1, 14)\t0.08186217421921829j\n",
      "  (1, 15)\t0.10489788255935244j\n",
      "  (2, 12)\t-0.1417894449657412j\n",
      "  (2, 13)\t-0.18168846219919169j\n",
      "  (2, 16)\t0.1417894449657412j\n",
      "  (2, 17)\t0.18168846219919169j\n",
      "  (3, 0)\t-0.29753135409006326j\n",
      "  (3, 14)\t-0.08186217421921829j\n",
      "  (3, 15)\t-0.10489788255935244j\n",
      "  (3, 18)\t0.20052055607190472j\n",
      "  (3, 19)\t0.2569462873688082j\n",
      "  (4, 8)\t(-9.258728549113566e-50+0.25766971106437786j)\n",
      "  (4, 30)\t(4.370915472751295e-35+0.28226302627159655j)\n",
      "  (4, 32)\t(-1.784418769512764e-35-0.11523339793653577j)\n",
      "  (5, 7)\t(-9.258728549113566e-50+0.25766971106437786j)\n",
      "  (5, 9)\t(-9.258728549113566e-50+0.25766971106437786j)\n",
      "  (5, 31)\t(3.090703970775646e-35+0.1995900999548826j)\n",
      "  (5, 33)\t(-3.090703970775646e-35-0.1995900999548826j)\n",
      "  (6, 8)\t(-9.258728549113566e-50+0.25766971106437786j)\n",
      "  (6, 32)\t(1.784418769512764e-35+0.11523339793653577j)\n",
      "  :\t:\n",
      "  (26, 30)\t(1.9519113634950015e-50+0.12146666666666672j)\n",
      "  (26, 32)\t(2.390593431851467e-50+0.14876567704503177j)\n",
      "  (27, 7)\t(1.784418769512764e-35-0.11523339793653573j)\n",
      "  (27, 9)\t(-1.784418769512764e-35+0.11523339793653573j)\n",
      "  (27, 31)\t(2.390593431851467e-50+0.14876567704503177j)\n",
      "  (27, 33)\t(2.390593431851467e-50+0.14876567704503177j)\n",
      "  (28, 8)\t(3.090703970775646e-35-0.19959009995488253j)\n",
      "  (28, 32)\t(2.390593431851467e-50+0.14876567704503177j)\n",
      "  (28, 34)\t(1.9519113634950015e-50+0.12146666666666672j)\n",
      "  (29, 9)\t(4.370915472751295e-35-0.28226302627159644j)\n",
      "  (29, 33)\t(1.9519113634950018e-50+0.12146666666666674j)\n",
      "  (30, 4)\t(4.3709154727512924e-35-0.28226302627159644j)\n",
      "  (30, 26)\t(-1.9519113634950018e-50-0.12146666666666674j)\n",
      "  (31, 5)\t(3.090703970775644e-35-0.19959009995488253j)\n",
      "  (31, 25)\t(-1.9519113634950015e-50-0.12146666666666672j)\n",
      "  (31, 27)\t(-2.390593431851467e-50-0.14876567704503177j)\n",
      "  (32, 4)\t(-1.784418769512763e-35+0.11523339793653573j)\n",
      "  (32, 6)\t(1.784418769512763e-35-0.11523339793653573j)\n",
      "  (32, 26)\t(-2.390593431851467e-50-0.14876567704503177j)\n",
      "  (32, 28)\t(-2.390593431851467e-50-0.14876567704503177j)\n",
      "  (33, 5)\t(-3.090703970775644e-35+0.19959009995488253j)\n",
      "  (33, 27)\t(-2.390593431851467e-50-0.14876567704503177j)\n",
      "  (33, 29)\t(-1.9519113634950015e-50-0.12146666666666672j)\n",
      "  (34, 6)\t(-4.3709154727512924e-35+0.28226302627159644j)\n",
      "  (34, 28)\t(-1.9519113634950018e-50-0.12146666666666674j)\n"
     ]
    }
   ],
   "source": [
    "H = dip * dc_field\n"
   ]
  },
  {
   "cell_type": "code",
   "execution_count": null,
   "id": "ca7cbb2f",
   "metadata": {},
   "outputs": [],
   "source": []
  }
 ],
 "metadata": {
  "kernelspec": {
   "display_name": "Python 3",
   "language": "python",
   "name": "python3"
  },
  "language_info": {
   "codemirror_mode": {
    "name": "ipython",
    "version": 3
   },
   "file_extension": ".py",
   "mimetype": "text/x-python",
   "name": "python",
   "nbconvert_exporter": "python",
   "pygments_lexer": "ipython3",
   "version": "3.8.5"
  }
 },
 "nbformat": 4,
 "nbformat_minor": 5
}
