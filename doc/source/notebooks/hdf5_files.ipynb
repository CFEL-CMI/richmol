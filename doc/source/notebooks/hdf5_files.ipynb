{
 "metadata": {
  "language_info": {
   "codemirror_mode": {
    "name": "ipython",
    "version": 3
   },
   "file_extension": ".py",
   "mimetype": "text/x-python",
   "name": "python",
   "nbconvert_exporter": "python",
   "pygments_lexer": "ipython3",
   "version": "3.6.9"
  },
  "orig_nbformat": 2,
  "kernelspec": {
   "name": "python369jvsc74a57bd031f2aee4e71d21fbe5cf8b01ff0e069b9275f58929596ceb00d14d90e3e16cd6",
   "display_name": "Python 3.6.9 64-bit"
  },
  "metadata": {
   "interpreter": {
    "hash": "31f2aee4e71d21fbe5cf8b01ff0e069b9275f58929596ceb00d14d90e3e16cd6"
   }
  }
 },
 "nbformat": 4,
 "nbformat_minor": 2,
 "cells": [
  {
   "source": [
    "# Storing/loading data to/from HDF5 files"
   ],
   "cell_type": "markdown",
   "metadata": {}
  },
  {
   "source": [
    "Calculated field-free enegries together with the matrix elements of Cartesian tensor operators (e.g., dipole moment, polarizability) can be stored in HDF5 files.\n",
    "\n",
    "We start from generating some field-free rotational energies and matrix elements of dipole moment and polarizability for camphor molecule. For details, see \"Rotational dynamics Quickstart\":"
   ],
   "cell_type": "markdown",
   "metadata": {}
  },
  {
   "cell_type": "code",
   "execution_count": 1,
   "metadata": {},
   "outputs": [],
   "source": [
    "from richmol.rot import solve, Solution\n",
    "from richmol.rot import LabTensor\n",
    "from richmol.rot import Molecule\n",
    "from richmol.field import CarTens"
   ]
  },
  {
   "cell_type": "code",
   "execution_count": 2,
   "metadata": {},
   "outputs": [],
   "source": [
    "camphor = Molecule()\n",
    "camphor.XYZ = (\"angstrom\",\n",
    "    \"O\",     -2.547204,    0.187936,   -0.213755,\n",
    "    \"C\",     -1.382858,   -0.147379,   -0.229486,\n",
    "    \"C\",     -0.230760,    0.488337,    0.565230,\n",
    "    \"C\",     -0.768352,   -1.287324,   -1.044279,\n",
    "    \"C\",     -0.563049,    1.864528,    1.124041,\n",
    "    \"C\",      0.716269,   -1.203805,   -0.624360,\n",
    "    \"C\",      0.929548,    0.325749,   -0.438982,\n",
    "    \"C\",      0.080929,   -0.594841,    1.638832,\n",
    "    \"C\",      0.791379,   -1.728570,    0.829268,\n",
    "    \"C\",      2.305990,    0.692768,    0.129924,\n",
    "    \"C\",      0.730586,    1.139634,   -1.733020,\n",
    "    \"H\",     -1.449798,    1.804649,    1.756791,\n",
    "    \"H\",     -0.781306,    2.571791,    0.321167,\n",
    "    \"H\",      0.263569,    2.255213,    1.719313,\n",
    "    \"H\",      1.413749,   -1.684160,   -1.316904,\n",
    "    \"H\",     -0.928638,   -1.106018,   -2.110152,\n",
    "    \"H\",     -1.245108,   -2.239900,   -0.799431,\n",
    "    \"H\",      1.816886,   -1.883799,    1.170885,\n",
    "    \"H\",      0.276292,   -2.687598,    0.915376,\n",
    "    \"H\",     -0.817893,   -0.939327,    2.156614,\n",
    "    \"H\",      0.738119,   -0.159990,    2.396232,\n",
    "    \"H\",      3.085409,    0.421803,   -0.586828,\n",
    "    \"H\",      2.371705,    1.769892,    0.297106,\n",
    "    \"H\",      2.531884,    0.195217,    1.071909,\n",
    "    \"H\",      0.890539,    2.201894,   -1.536852,\n",
    "    \"H\",      1.455250,    0.830868,   -2.487875,\n",
    "    \"H\",     -0.267696,    1.035608,   -2.160680)\n",
    "\n",
    "camphor.dip = [1.21615, -0.30746, 0.01140]\n",
    "\n",
    "camphor.pol = [[115.80434, -0.58739, 0.03276], \\\n",
    "               [-0.58739, 112.28245, 1.36146], \\\n",
    "               [0.03276, 1.36146, 108.47809]]\n",
    "\n",
    "camphor.frame = \"diag(pol)\"\n",
    "\n",
    "sol = solve(camphor, Jmin=0, Jmax=5)\n",
    "\n",
    "dip = LabTensor(camphor.dip, sol)\n",
    "pol = LabTensor(camphor.pol, sol)"
   ]
  },
  {
   "source": [
    "Here is how we can store and load `Molecule` object"
   ],
   "cell_type": "markdown",
   "metadata": {}
  },
  {
   "cell_type": "code",
   "execution_count": 3,
   "metadata": {
    "tags": []
   },
   "outputs": [
    {
     "output_type": "stream",
     "name": "stdout",
     "text": [
      "camphor2: Rigid molecule, store date: 2021-04-21 22:58:52, comment: S-Camphor structure from the Supersonic expansion FTMW spectra, Kisiel, et al., PCCP 5, 820 (2003)\ncompare solutions\n0    A 0     0.000000     0.000000     0.000000\n1    A 0     0.076070     0.076070     0.000000\n1    A 1     0.084863     0.084863     0.000000\n1    A 2     0.087741     0.087741     0.000000\n2    A 0     0.227612     0.227612     0.000000\n2    A 1     0.234126     0.234126     0.000000\n2    A 2     0.242759     0.242759     0.000000\n2    A 3     0.269138     0.269138     0.000000\n2    A 4     0.269736     0.269736     0.000000\n3    A 0     0.453583     0.453583     0.000000\n3    A 1     0.457678     0.457678     0.000000\n3    A 2     0.474864     0.474864     0.000000\n3    A 3     0.497349     0.497349     0.000000\n3    A 4     0.500187     0.500187     0.000000\n3    A 5     0.548850     0.548850     0.000000\n3    A 6     0.548929     0.548929     0.000000\n4    A 0     0.752988     0.752988     0.000000\n4    A 1     0.755209     0.755209     0.000000\n4    A 2     0.783441     0.783441     0.000000\n4    A 3     0.801159     0.801159     0.000000\n4    A 4     0.808865     0.808865     0.000000\n4    A 5     0.854125     0.854125     0.000000\n4    A 6     0.854669     0.854669     0.000000\n4    A 7     0.924882     0.924882     0.000000\n4    A 8     0.924891     0.924891     0.000000\n5    A 0     1.125354     1.125354     0.000000\n5    A 1     1.126433     1.126433     0.000000\n5    A 2     1.167533     1.167533     0.000000\n5    A 3     1.180186     1.180186     0.000000\n5    A 4     1.195808     1.195808     0.000000\n5    A 5     1.235838     1.235838     0.000000\n5    A 6     1.237902     1.237902     0.000000\n5    A 7     1.306557     1.306557     0.000000\n5    A 8     1.306635     1.306635     0.000000\n5    A 9     1.397421     1.397421     0.000000\n5    A 10     1.397421     1.397421     0.000000\n"
     ]
    }
   ],
   "source": [
    "# store molecule camphor\n",
    "camphor.store('camphor.h5', comment=\"S-Camphor structure from the Supersonic expansion FTMW spectra, Kisiel, et al., PCCP 5, 820 (2003)\", replace=True)\n",
    "\n",
    "# read molecule into camphor2\n",
    "camphor2 = Molecule()\n",
    "camphor2.read('camphor.h5')\n",
    "print(\"camphor2:\", camphor2.__doc__)\n",
    "\n",
    "# obtain rotational solution for camphor2\n",
    "sol2 = solve(camphor2, Jmin=0, Jmax=5)\n",
    "\n",
    "# compare solutions for camphor and camphor2\n",
    "print(\"compare solutions\")\n",
    "for J in sol.keys():\n",
    "    for sym in sol[J].keys():\n",
    "        for i in range(sol[J][sym].nstates):\n",
    "            enr = sol[J][sym].enr[i]\n",
    "            enr2 = sol2[J][sym].enr[i]\n",
    "            diff = enr - enr2\n",
    "            print(J, \"%4s\"%sym, i, \"%12.6f\"%enr, \"%12.6f\"%enr2, \"%12.6f\"%diff)"
   ]
  },
  {
   "source": [
    "Here is how we can store and load rotational solutions"
   ],
   "cell_type": "markdown",
   "metadata": {}
  },
  {
   "cell_type": "code",
   "execution_count": 4,
   "metadata": {},
   "outputs": [
    {
     "output_type": "stream",
     "name": "stdout",
     "text": [
      "[0.0, 0.0, 0.0]\n[0.0, 0.0, 0.0, 0.0, 0.0, 0.0, 0.0, 0.0, 0.0]\n"
     ]
    }
   ],
   "source": [
    "sol.store('camphor.h5', replace=True)\n",
    "\n",
    "sol2 = Solution()\n",
    "sol2.read('camphor.h5')\n",
    "\n",
    "# compute matrix elements of lab-frame tensors with sol2 solutions\n",
    "dip2 = LabTensor(camphor.dip, sol2)\n",
    "pol2 = LabTensor(camphor.pol, sol2)\n",
    "\n",
    "# compare matrix elements of dipole moment and polarizability obtained with sol and sol2\n",
    "\n",
    "# full matrix representations of dip and dip2 for x, y, and z components\n",
    "dip_mat = [dip.tomat(form='full', cart=cart) for cart in 'xyz']\n",
    "dip2_mat = [dip2.tomat(form='full', cart=cart) for cart in 'xyz']\n",
    "\n",
    "# full matrix representations of pol and pol2 for xx, xy,, xz, yx, ... etc components\n",
    "pol_mat = [pol.tomat(form='full', cart=cart+cart2) for cart in 'xyz' for cart2 in 'xyz']\n",
    "pol2_mat = [pol2.tomat(form='full', cart=cart+cart2) for cart in 'xyz' for cart2 in 'xyz']\n",
    "\n",
    "# compute and print maximal differences\n",
    "import numpy\n",
    "dip_diff = [numpy.max(abs(m-m2)) for m,m2 in zip(dip_mat, dip2_mat)]\n",
    "pol_diff = [numpy.max(abs(m-m2)) for m,m2 in zip(pol_mat, pol2_mat)]\n",
    "\n",
    "print(dip_diff)\n",
    "print(pol_diff)"
   ]
  },
  {
   "source": [
    "... and store/load Cartesian tensor operators"
   ],
   "cell_type": "markdown",
   "metadata": {}
  },
  {
   "cell_type": "code",
   "execution_count": 7,
   "metadata": {
    "tags": []
   },
   "outputs": [
    {
     "output_type": "stream",
     "name": "stdout",
     "text": [
      "[0.0, 0.0, 0.0]\n[0.0, 0.0, 0.0, 0.0, 0.0, 0.0, 0.0, 0.0, 0.0]\n"
     ]
    }
   ],
   "source": [
    "dip.store('camphor.h5', replace=True)\n",
    "pol.store('camphor.h5', replace=True)\n",
    "\n",
    "dip2 = CarTens(filename='camphor.h5', name='dip')\n",
    "\n",
    "pol2 = CarTens(filename='camphor.h5', name='pol')\n",
    "\n",
    "# compare matrix elements of dipole moment and polarizability calculated and loaded form file\n",
    "\n",
    "# full matrix representations of dip and dip2 for x, y, and z components\n",
    "dip_mat = [dip.tomat(form='full', cart=cart) for cart in 'xyz']\n",
    "dip2_mat = [dip2.tomat(form='full', cart=cart) for cart in 'xyz']\n",
    "\n",
    "# full matrix representations of pol and pol2 for xx, xy,, xz, yx, ... etc components\n",
    "pol_mat = [pol.tomat(form='full', cart=cart+cart2) for cart in 'xyz' for cart2 in 'xyz']\n",
    "pol2_mat = [pol2.tomat(form='full', cart=cart+cart2) for cart in 'xyz' for cart2 in 'xyz']\n",
    "\n",
    "# compute and print maximal differences\n",
    "import numpy\n",
    "dip_diff = [numpy.max(abs(m-m2)) for m,m2 in zip(dip_mat, dip2_mat)]\n",
    "pol_diff = [numpy.max(abs(m-m2)) for m,m2 in zip(pol_mat, pol2_mat)]\n",
    "\n",
    "print(dip_diff)\n",
    "print(pol_diff)\n"
   ]
  },
  {
   "source": [
    "The field-free solutions can also be transformed and stored in a Cartesian tensor form"
   ],
   "cell_type": "markdown",
   "metadata": {}
  },
  {
   "cell_type": "code",
   "execution_count": 6,
   "metadata": {},
   "outputs": [
    {
     "output_type": "stream",
     "name": "stdout",
     "text": [
      "[[ 3 -3]\n [ 3 -2]\n [ 3 -1]\n [ 3  0]\n [ 3  1]\n [ 3  2]\n [ 3  3]]\n"
     ]
    }
   ],
   "source": [
    "h0 = LabTensor(camphor, sol2)\n",
    "h0.store('camphor.h5', comment=\"S-Camphor field-free energies (in cm^-1)\", replace=True)\n",
    "\n",
    "h1 = CarTens(filename='camphor.h5', name='h0')\n",
    "print(h1.basis[3]['A'].k.table['prim'])"
   ]
  },
  {
   "cell_type": "code",
   "execution_count": null,
   "metadata": {},
   "outputs": [],
   "source": []
  }
 ]
}