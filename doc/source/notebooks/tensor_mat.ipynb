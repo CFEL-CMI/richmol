{
 "cells": [
  {
   "cell_type": "markdown",
   "id": "d33defb0",
   "metadata": {},
   "source": [
    "# Matrix elements of field tensor operators"
   ]
  },
  {
   "cell_type": "markdown",
   "id": "07ebbd32",
   "metadata": {},
   "source": [
    "*Authors: Andrey Yachmenev & Cem Saribal*"
   ]
  },
  {
   "cell_type": "markdown",
   "id": "642b6299",
   "metadata": {},
   "source": [
    "Here you will learn how to obtain matrix representations of field tensor operators, convert between different forms, and apply filters to select desired subspaces of basis states.\n",
    "\n",
    "For start, let's generate dipole moment and polarizability tensors for water molecule, for details, see \"Rotational dynamics Quickstart\""
   ]
  },
  {
   "cell_type": "code",
   "execution_count": 42,
   "id": "da9ee036",
   "metadata": {},
   "outputs": [],
   "source": [
    "from richmol.rot import Molecule, solve, LabTensor\n",
    "import numpy as np\n",
    "\n",
    "water = Molecule()\n",
    "\n",
    "water.XYZ = (\"bohr\",\n",
    "             \"O\",  0.00000000,   0.00000000,   0.12395915,\n",
    "             \"H\",  0.00000000,  -1.43102686,  -0.98366080,\n",
    "             \"H\",  0.00000000,   1.43102686,  -0.98366080)\n",
    "\n",
    "# molecular-frame dipole moment (au)\n",
    "water.dip = [0, 0, -0.7288]\n",
    "\n",
    "# molecular-frame polarizability tensor (au)\n",
    "water.pol = [[9.1369, 0, 0], [0, 9.8701, 0], [0, 0, 9.4486]]\n",
    "\n",
    "Jmax = 2\n",
    "water.sym = \"C2v\"\n",
    "\n",
    "sol = solve(water, Jmax=Jmax)\n",
    "\n",
    "# laboratory-frame dipole moment operator\n",
    "dip = LabTensor(water.dip, sol)\n",
    "\n",
    "# laboratory-frame polarizability tensor\n",
    "pol = LabTensor(water.pol, sol)\n",
    "\n",
    "# field-free Hamiltonian\n",
    "h0 = LabTensor(water, sol)"
   ]
  },
  {
   "cell_type": "markdown",
   "id": "273f7853",
   "metadata": {},
   "source": [
    "## Getting matrix elements"
   ]
  },
  {
   "cell_type": "markdown",
   "id": "4aacfd24",
   "metadata": {},
   "source": [
    "You can get the full matrix representation of a tensor by calling `tomat` method, where you can specify the form of the output matrix (`form` keyword) as well as the desired Cartesian component of tensor (`cart` keyword). For example, 2D matrix representations of the $X$, $Y$, and $Z$ dipole moment components can be obtained as follows"
   ]
  },
  {
   "cell_type": "code",
   "execution_count": 43,
   "id": "a2a3cba5",
   "metadata": {},
   "outputs": [
    {
     "name": "stdout",
     "output_type": "stream",
     "text": [
      "matrix elements of mu_x operator\n",
      "  (0, 1)\t(-0-0.29753135409006326j)\n",
      "  (0, 3)\t0.29753135409006326j\n",
      "  (1, 0)\t0.29753135409006326j\n",
      "  (1, 10)\t-0.20052055607190472j\n",
      "  (1, 11)\t-0.2569462873688082j\n",
      "  (1, 14)\t0.08186217421921829j\n",
      "  (1, 15)\t0.10489788255935244j\n",
      "  (2, 12)\t-0.1417894449657412j\n",
      "  (2, 13)\t-0.18168846219919169j\n",
      "  (2, 16)\t0.1417894449657412j\n",
      "  (2, 17)\t0.18168846219919169j\n",
      "  (3, 0)\t-0.29753135409006326j\n",
      "  (3, 14)\t-0.08186217421921829j\n",
      "  (3, 15)\t-0.10489788255935244j\n",
      "  (3, 18)\t0.20052055607190472j\n",
      "  (3, 19)\t0.2569462873688082j\n",
      "  (4, 8)\t(-9.258728549113566e-50+0.25766971106437786j)\n",
      "  (4, 30)\t(4.370915472751295e-35+0.28226302627159655j)\n",
      "  (4, 32)\t(-1.784418769512764e-35-0.11523339793653577j)\n",
      "  (5, 7)\t(-9.258728549113566e-50+0.25766971106437786j)\n",
      "  (5, 9)\t(-9.258728549113566e-50+0.25766971106437786j)\n",
      "  (5, 31)\t(3.090703970775646e-35+0.1995900999548826j)\n",
      "  (5, 33)\t(-3.090703970775646e-35-0.1995900999548826j)\n",
      "  (6, 8)\t(-9.258728549113566e-50+0.25766971106437786j)\n",
      "  (6, 32)\t(1.784418769512764e-35+0.11523339793653577j)\n",
      "  :\t:\n",
      "  (26, 30)\t(1.9519113634950015e-50+0.12146666666666672j)\n",
      "  (26, 32)\t(2.390593431851467e-50+0.14876567704503177j)\n",
      "  (27, 7)\t(1.784418769512764e-35-0.11523339793653573j)\n",
      "  (27, 9)\t(-1.784418769512764e-35+0.11523339793653573j)\n",
      "  (27, 31)\t(2.390593431851467e-50+0.14876567704503177j)\n",
      "  (27, 33)\t(2.390593431851467e-50+0.14876567704503177j)\n",
      "  (28, 8)\t(3.090703970775646e-35-0.19959009995488253j)\n",
      "  (28, 32)\t(2.390593431851467e-50+0.14876567704503177j)\n",
      "  (28, 34)\t(1.9519113634950015e-50+0.12146666666666672j)\n",
      "  (29, 9)\t(4.370915472751295e-35-0.28226302627159644j)\n",
      "  (29, 33)\t(1.9519113634950018e-50+0.12146666666666674j)\n",
      "  (30, 4)\t(4.3709154727512924e-35-0.28226302627159644j)\n",
      "  (30, 26)\t(-1.9519113634950018e-50-0.12146666666666674j)\n",
      "  (31, 5)\t(3.090703970775644e-35-0.19959009995488253j)\n",
      "  (31, 25)\t(-1.9519113634950015e-50-0.12146666666666672j)\n",
      "  (31, 27)\t(-2.390593431851467e-50-0.14876567704503177j)\n",
      "  (32, 4)\t(-1.784418769512763e-35+0.11523339793653573j)\n",
      "  (32, 6)\t(1.784418769512763e-35-0.11523339793653573j)\n",
      "  (32, 26)\t(-2.390593431851467e-50-0.14876567704503177j)\n",
      "  (32, 28)\t(-2.390593431851467e-50-0.14876567704503177j)\n",
      "  (33, 5)\t(-3.090703970775644e-35+0.19959009995488253j)\n",
      "  (33, 27)\t(-2.390593431851467e-50-0.14876567704503177j)\n",
      "  (33, 29)\t(-1.9519113634950015e-50-0.12146666666666672j)\n",
      "  (34, 6)\t(-4.3709154727512924e-35+0.28226302627159644j)\n",
      "  (34, 28)\t(-1.9519113634950018e-50-0.12146666666666674j)\n"
     ]
    }
   ],
   "source": [
    "mu_x = dip.tomat(form=\"full\", cart=\"x\")\n",
    "mu_y = dip.tomat(form=\"full\", cart=\"y\")\n",
    "mu_z = dip.tomat(form=\"full\", cart=\"z\")\n",
    "\n",
    "print(\"matrix elements of mu_x operator\")\n",
    "print(mu_x)"
   ]
  },
  {
   "cell_type": "markdown",
   "id": "a00a336c",
   "metadata": {},
   "source": [
    "For many tensor operators selection rules are such that only certain $J$ quanta and certain symmetries are coupled. For example, for the dipole moment operator it holds $|J' - J|\\leq 1$, also in the $C_{2v}$ molecular symmetry group $A_1$ symmetry states are coupled only with $A_2$ and $B_1$ only with $B_2$.\n",
    "It is therefore sometimes convenient to use block representation of tensor matrix elements, where only non-zero blocks, corresponding to different pairs of bra and ket $J$ quanta and symmetries, are stored. This representation can be obtained using `tomat` method with `form=\"block\"` keyword (whcih is a default value)"
   ]
  },
  {
   "cell_type": "code",
   "execution_count": 47,
   "id": "33639580",
   "metadata": {},
   "outputs": [
    {
     "name": "stdout",
     "output_type": "stream",
     "text": [
      "matrix elements of mu_x operator\n",
      "(J', J) = (0, 1) (sym', sym) = ('A1', 'A2') \n",
      "   (0, 0)\t(-0-0.29753135409006326j)\n",
      "  (0, 2)\t0.29753135409006326j\n",
      "(J', J) = (1, 2) (sym', sym) = ('A2', 'A1') \n",
      "   (0, 0)\t-0.20052055607190472j\n",
      "  (0, 1)\t-0.2569462873688082j\n",
      "  (0, 4)\t0.08186217421921829j\n",
      "  (0, 5)\t0.10489788255935244j\n",
      "  (1, 2)\t-0.1417894449657412j\n",
      "  (1, 3)\t-0.18168846219919169j\n",
      "  (1, 6)\t0.1417894449657412j\n",
      "  (1, 7)\t0.18168846219919169j\n",
      "  (2, 4)\t-0.08186217421921829j\n",
      "  (2, 5)\t-0.10489788255935244j\n",
      "  (2, 8)\t0.20052055607190472j\n",
      "  (2, 9)\t0.2569462873688082j\n",
      "(J', J) = (1, 2) (sym', sym) = ('B1', 'B2') \n",
      "   (0, 0)\t(4.370915472751295e-35+0.28226302627159655j)\n",
      "  (0, 2)\t(-1.784418769512764e-35-0.11523339793653577j)\n",
      "  (1, 1)\t(3.090703970775646e-35+0.1995900999548826j)\n",
      "  (1, 3)\t(-3.090703970775646e-35-0.1995900999548826j)\n",
      "  (2, 2)\t(1.784418769512764e-35+0.11523339793653577j)\n",
      "  (2, 4)\t(-4.370915472751295e-35-0.28226302627159655j)\n",
      "(J', J) = (1, 2) (sym', sym) = ('B2', 'B1') \n",
      "   (0, 0)\t(-4.370915472751295e-35-0.28226302627159655j)\n",
      "  (0, 2)\t(1.784418769512764e-35+0.11523339793653577j)\n",
      "  (1, 1)\t(-3.090703970775646e-35-0.1995900999548826j)\n",
      "  (1, 3)\t(3.090703970775646e-35+0.1995900999548826j)\n",
      "  (2, 2)\t(-1.784418769512764e-35-0.11523339793653577j)\n",
      "  (2, 4)\t(4.370915472751295e-35+0.28226302627159655j)\n",
      "(J', J) = (2, 1) (sym', sym) = ('A1', 'A2') \n",
      "   (0, 0)\t(5.323729573622488e-66+0.20052055607190464j)\n",
      "  (1, 0)\t(-4.154631792546443e-66+0.25694628736880815j)\n",
      "  (2, 1)\t(3.7644452827118294e-66+0.14178944496574117j)\n",
      "  (3, 1)\t(-2.9377683138428125e-66+0.18168846219919166j)\n",
      "  (4, 0)\t(-2.173403497323291e-66-0.08186217421921826j)\n",
      "  (4, 2)\t(2.173403497323291e-66+0.08186217421921826j)\n",
      "  (5, 0)\t(1.6961213268139004e-66-0.10489788255935242j)\n",
      "  (5, 2)\t(-1.6961213268139004e-66+0.10489788255935242j)\n",
      "  (6, 1)\t(-3.7644452827118294e-66-0.14178944496574117j)\n",
      "  (7, 1)\t(2.9377683138428125e-66-0.18168846219919166j)\n",
      "  (8, 2)\t(-5.323729573622488e-66-0.20052055607190464j)\n",
      "  (9, 2)\t(4.154631792546443e-66-0.25694628736880815j)\n",
      "(J', J) = (2, 1) (sym', sym) = ('B2', 'B1') \n",
      "   (0, 0)\t(4.3709154727512924e-35-0.28226302627159644j)\n",
      "  (1, 1)\t(3.090703970775644e-35-0.19959009995488253j)\n",
      "  (2, 0)\t(-1.784418769512763e-35+0.11523339793653573j)\n",
      "  (2, 2)\t(1.784418769512763e-35-0.11523339793653573j)\n",
      "  (3, 1)\t(-3.090703970775644e-35+0.19959009995488253j)\n",
      "  (4, 2)\t(-4.3709154727512924e-35+0.28226302627159644j)\n",
      "(J', J) = (2, 1) (sym', sym) = ('B1', 'B2') \n",
      "   (0, 0)\t(-4.370915472751295e-35+0.28226302627159644j)\n",
      "  (1, 1)\t(-3.090703970775646e-35+0.19959009995488253j)\n",
      "  (2, 0)\t(1.784418769512764e-35-0.11523339793653573j)\n",
      "  (2, 2)\t(-1.784418769512764e-35+0.11523339793653573j)\n",
      "  (3, 1)\t(3.090703970775646e-35-0.19959009995488253j)\n",
      "  (4, 2)\t(4.370915472751295e-35-0.28226302627159644j)\n",
      "(J', J) = (1, 1) (sym', sym) = ('B1', 'B2') \n",
      "   (0, 1)\t(-9.258728549113566e-50+0.25766971106437786j)\n",
      "  (1, 0)\t(-9.258728549113566e-50+0.25766971106437786j)\n",
      "  (1, 2)\t(-9.258728549113566e-50+0.25766971106437786j)\n",
      "  (2, 1)\t(-9.258728549113566e-50+0.25766971106437786j)\n",
      "(J', J) = (1, 1) (sym', sym) = ('B2', 'B1') \n",
      "   (0, 1)\t(9.258728549113566e-50-0.25766971106437786j)\n",
      "  (1, 0)\t(9.258728549113566e-50-0.25766971106437786j)\n",
      "  (1, 2)\t(9.258728549113566e-50-0.25766971106437786j)\n",
      "  (2, 1)\t(9.258728549113566e-50-0.25766971106437786j)\n",
      "(J', J) = (2, 2) (sym', sym) = ('A2', 'A1') \n",
      "   (0, 2)\t(3.97818378697277e-33-0.19151645504095033j)\n",
      "  (0, 3)\t(-3.97818378697277e-33+0.14945919808761246j)\n",
      "  (1, 0)\t(3.978183786972769e-33-0.19151645504095033j)\n",
      "  (1, 1)\t(-3.978183786972769e-33+0.14945919808761243j)\n",
      "  (1, 4)\t(4.87226019054807e-33-0.23455879609850178j)\n",
      "  (1, 5)\t(-4.87226019054807e-33+0.18304938634010295j)\n",
      "  (2, 2)\t(4.87226019054807e-33-0.23455879609850178j)\n",
      "  (2, 3)\t(-4.87226019054807e-33+0.18304938634010295j)\n",
      "  (2, 6)\t(4.87226019054807e-33-0.23455879609850178j)\n",
      "  (2, 7)\t(-4.87226019054807e-33+0.18304938634010295j)\n",
      "  (3, 4)\t(4.87226019054807e-33-0.23455879609850178j)\n",
      "  (3, 5)\t(-4.87226019054807e-33+0.18304938634010295j)\n",
      "  (3, 8)\t(3.978183786972769e-33-0.19151645504095033j)\n",
      "  (3, 9)\t(-3.978183786972769e-33+0.14945919808761243j)\n",
      "  (4, 6)\t(3.97818378697277e-33-0.19151645504095033j)\n",
      "  (4, 7)\t(-3.97818378697277e-33+0.14945919808761246j)\n",
      "(J', J) = (2, 2) (sym', sym) = ('A1', 'A2') \n",
      "   (0, 1)\t(4.234699198297538e-33+0.19151645504095033j)\n",
      "  (1, 1)\t(-4.234699198297538e-33-0.14945919808761246j)\n",
      "  (2, 0)\t(4.234699198297538e-33+0.1915164550409503j)\n",
      "  (2, 2)\t(5.186426125000984e-33+0.23455879609850175j)\n",
      "  (3, 0)\t(-4.234699198297538e-33-0.14945919808761243j)\n",
      "  (3, 2)\t(-5.186426125000984e-33-0.18304938634010295j)\n",
      "  (4, 1)\t(5.186426125000984e-33+0.23455879609850175j)\n",
      "  (4, 3)\t(5.186426125000984e-33+0.23455879609850175j)\n",
      "  (5, 1)\t(-5.186426125000984e-33-0.18304938634010295j)\n",
      "  (5, 3)\t(-5.186426125000984e-33-0.18304938634010295j)\n",
      "  (6, 2)\t(5.186426125000984e-33+0.23455879609850175j)\n",
      "  (6, 4)\t(4.234699198297538e-33+0.1915164550409503j)\n",
      "  (7, 2)\t(-5.186426125000984e-33-0.18304938634010295j)\n",
      "  (7, 4)\t(-4.234699198297538e-33-0.14945919808761243j)\n",
      "  (8, 3)\t(4.234699198297538e-33+0.19151645504095033j)\n",
      "  (9, 3)\t(-4.234699198297538e-33-0.14945919808761246j)\n",
      "(J', J) = (2, 2) (sym', sym) = ('B2', 'B1') \n",
      "   (0, 1)\t(-1.9519113634950018e-50-0.12146666666666674j)\n",
      "  (1, 0)\t(-1.9519113634950015e-50-0.12146666666666672j)\n",
      "  (1, 2)\t(-2.390593431851467e-50-0.14876567704503177j)\n",
      "  (2, 1)\t(-2.390593431851467e-50-0.14876567704503177j)\n",
      "  (2, 3)\t(-2.390593431851467e-50-0.14876567704503177j)\n",
      "  (3, 2)\t(-2.390593431851467e-50-0.14876567704503177j)\n",
      "  (3, 4)\t(-1.9519113634950015e-50-0.12146666666666672j)\n",
      "  (4, 3)\t(-1.9519113634950018e-50-0.12146666666666674j)\n",
      "(J', J) = (2, 2) (sym', sym) = ('B1', 'B2') \n",
      "   (0, 1)\t(1.9519113634950018e-50+0.12146666666666674j)\n",
      "  (1, 0)\t(1.9519113634950015e-50+0.12146666666666672j)\n",
      "  (1, 2)\t(2.390593431851467e-50+0.14876567704503177j)\n",
      "  (2, 1)\t(2.390593431851467e-50+0.14876567704503177j)\n",
      "  (2, 3)\t(2.390593431851467e-50+0.14876567704503177j)\n",
      "  (3, 2)\t(2.390593431851467e-50+0.14876567704503177j)\n",
      "  (3, 4)\t(1.9519113634950015e-50+0.12146666666666672j)\n",
      "  (4, 3)\t(1.9519113634950018e-50+0.12146666666666674j)\n",
      "(J', J) = (1, 0) (sym', sym) = ('A2', 'A1') \n",
      "   (0, 0)\t0.29753135409006326j\n",
      "  (2, 0)\t-0.29753135409006326j\n"
     ]
    }
   ],
   "source": [
    "mu_x = dip.tomat(form=\"block\", cart=\"x\")\n",
    "mu_y = dip.tomat(form=\"block\", cart=\"y\")\n",
    "mu_z = dip.tomat(form=\"block\", cart=\"z\")\n",
    "\n",
    "print(\"matrix elements of mu_x operator\")\n",
    "for (J1, J2) in mu_x.keys():\n",
    "    for (sym1, sym2) in mu_x[(J1, J2)].keys():\n",
    "        mat = mu_x[(J1, J2)][(sym1, sym2)]\n",
    "        # you may notice |J1-J2|<=1 and A1<->A2, B1<->B2 selection rules\n",
    "        print(\"(J', J) =\", (J1, J2), \"(sym', sym) =\", (sym1, sym2), \"\\n\", mat)"
   ]
  },
  {
   "cell_type": "markdown",
   "id": "9ef18c3f",
   "metadata": {},
   "source": [
    "By default, the output matrix (or matrix blocks in dict values when `form=\"block\"`) is a `scipy.sparse.spmatrix` sparse object, which you can convert to an array by using the standard `toarray()` method. You can also directly get dense matrix representation from `tomat` by specifying `repres=\"dense\"` keyword"
   ]
  },
  {
   "cell_type": "code",
   "execution_count": 48,
   "id": "425552a6",
   "metadata": {},
   "outputs": [
    {
     "name": "stdout",
     "output_type": "stream",
     "text": [
      "2D, sparse == dense ?: True\n",
      "block (0, 1, 'A1', 'A2') sparse == dense ?: True\n",
      "block (1, 2, 'A2', 'A1') sparse == dense ?: True\n",
      "block (1, 2, 'B1', 'B2') sparse == dense ?: True\n",
      "block (1, 2, 'B2', 'B1') sparse == dense ?: True\n",
      "block (2, 1, 'A1', 'A2') sparse == dense ?: True\n",
      "block (2, 1, 'B2', 'B1') sparse == dense ?: True\n",
      "block (2, 1, 'B1', 'B2') sparse == dense ?: True\n",
      "block (1, 1, 'B1', 'B2') sparse == dense ?: True\n",
      "block (1, 1, 'B2', 'B1') sparse == dense ?: True\n",
      "block (2, 2, 'A2', 'A1') sparse == dense ?: True\n",
      "block (2, 2, 'A1', 'A2') sparse == dense ?: True\n",
      "block (2, 2, 'B2', 'B1') sparse == dense ?: True\n",
      "block (2, 2, 'B1', 'B2') sparse == dense ?: True\n",
      "block (1, 0, 'A2', 'A1') sparse == dense ?: True\n"
     ]
    }
   ],
   "source": [
    "# 2D matrix form\n",
    "mu_x = dip.tomat(form=\"full\", cart=\"x\") # sparse matrix\n",
    "mu_x2 = dip.tomat(form=\"full\", repres=\"dense\", cart=\"x\") # dense matrix\n",
    "\n",
    "# compare two results for 2D matrix form\n",
    "print(\"2D, sparse == dense ?:\", np.allclose(mu_x.toarray(), mu_x2))\n",
    "\n",
    "# block form\n",
    "mu_x = dip.tomat(form=\"block\", cart=\"x\") # blocks are sparse matrices\n",
    "mu_x2 = dip.tomat(form=\"block\", repres=\"dense\", cart=\"x\") # blocks are dense matrices\n",
    "\n",
    "# compare two results for block matrix form\n",
    "for (J1, J2) in mu_x.keys():\n",
    "    for (sym1, sym2) in mu_x[(J1, J2)].keys():\n",
    "        mat = mu_x[(J1, J2)][(sym1, sym2)].toarray()\n",
    "        mat2 = mu_x2[(J1, J2)][(sym1, sym2)]\n",
    "        print(\"block\", (J1, J2, sym1, sym2), \"sparse == dense ?:\", np.allclose(mat, mat2))"
   ]
  },
  {
   "cell_type": "markdown",
   "id": "189c7aad",
   "metadata": {},
   "source": [
    "You may choose any sparse representation of the `tomat` output matrix (or matrix blocks in dict values when `form=\"block\"`) that is supported by `scipy.sparse` module"
   ]
  },
  {
   "cell_type": "code",
   "execution_count": 49,
   "id": "b9ac219f",
   "metadata": {},
   "outputs": [
    {
     "name": "stdout",
     "output_type": "stream",
     "text": [
      "2D, format: csr\n",
      "2D, format: csc\n",
      "2D, format: coo\n",
      "block (0, 1, 'A1', 'A2') format: lil\n",
      "block (1, 2, 'A2', 'A1') format: lil\n",
      "block (1, 2, 'B1', 'B2') format: lil\n",
      "block (1, 2, 'B2', 'B1') format: lil\n",
      "block (2, 1, 'A1', 'A2') format: lil\n",
      "block (2, 1, 'B2', 'B1') format: lil\n",
      "block (2, 1, 'B1', 'B2') format: lil\n",
      "block (1, 1, 'B1', 'B2') format: lil\n",
      "block (1, 1, 'B2', 'B1') format: lil\n",
      "block (2, 2, 'A2', 'A1') format: lil\n",
      "block (2, 2, 'A1', 'A2') format: lil\n",
      "block (2, 2, 'B2', 'B1') format: lil\n",
      "block (2, 2, 'B1', 'B2') format: lil\n",
      "block (1, 0, 'A2', 'A1') format: lil\n"
     ]
    }
   ],
   "source": [
    "mu_x = dip.tomat(form=\"full\", repres=\"csr_matrix\", cart=\"x\") # csr matrix\n",
    "print(\"2D, format:\", mu_x.getformat())\n",
    "\n",
    "mu_x = dip.tomat(form=\"full\", repres=\"csc_matrix\", cart=\"x\") # csc matrix\n",
    "print(\"2D, format:\", mu_x.getformat())\n",
    "\n",
    "mu_x = dip.tomat(form=\"full\", repres=\"coo_matrix\", cart=\"x\") # coo matrix\n",
    "print(\"2D, format:\", mu_x.getformat())\n",
    "\n",
    "mu_x = dip.tomat(form=\"block\", repres=\"lil_matrix\", cart=\"x\") # blocks are lil matrices\n",
    "for (J1, J2) in mu_x.keys():\n",
    "    for (sym1, sym2) in mu_x[(J1, J2)].keys():\n",
    "        print(\"block\", (J1, J2, sym1, sym2), \"format:\", mu_x[(J1, J2)][(sym1, sym2)].getformat())"
   ]
  },
  {
   "cell_type": "markdown",
   "id": "59288e99",
   "metadata": {},
   "source": [
    "You can also convert between 2D and block matrix forms using `block_form` and `full_form` methods"
   ]
  },
  {
   "cell_type": "code",
   "execution_count": 50,
   "id": "11bf2b7c",
   "metadata": {},
   "outputs": [
    {
     "name": "stdout",
     "output_type": "stream",
     "text": [
      "block (0, 1, 'A1', 'A2') mu_x_block == mu_x_block2 ?: True\n",
      "block (1, 2, 'A2', 'A1') mu_x_block == mu_x_block2 ?: True\n",
      "block (1, 2, 'B1', 'B2') mu_x_block == mu_x_block2 ?: True\n",
      "block (1, 2, 'B2', 'B1') mu_x_block == mu_x_block2 ?: True\n",
      "block (2, 1, 'A1', 'A2') mu_x_block == mu_x_block2 ?: True\n",
      "block (2, 1, 'B2', 'B1') mu_x_block == mu_x_block2 ?: True\n",
      "block (2, 1, 'B1', 'B2') mu_x_block == mu_x_block2 ?: True\n",
      "block (1, 1, 'B1', 'B2') mu_x_block == mu_x_block2 ?: True\n",
      "block (1, 1, 'B2', 'B1') mu_x_block == mu_x_block2 ?: True\n",
      "block (2, 2, 'A2', 'A1') mu_x_block == mu_x_block2 ?: True\n",
      "block (2, 2, 'A1', 'A2') mu_x_block == mu_x_block2 ?: True\n",
      "block (2, 2, 'B2', 'B1') mu_x_block == mu_x_block2 ?: True\n",
      "block (2, 2, 'B1', 'B2') mu_x_block == mu_x_block2 ?: True\n",
      "block (1, 0, 'A2', 'A1') mu_x_block == mu_x_block2 ?: True\n"
     ]
    }
   ],
   "source": [
    "# generate 2D matrix from `dip`\n",
    "mu_x_2d = dip.tomat(form=\"full\", repres=\"csr_matrix\", cart=\"x\")\n",
    "\n",
    "# convert `mu_x_2d` matrix to block form\n",
    "mu_x_block1 = dip.block_form(mu_x_2d)\n",
    "\n",
    "# generate block matrix from `dip`\n",
    "mu_x_block2 = dip.tomat(form=\"block\", repres=\"csr_matrix\", cart=\"x\")\n",
    "\n",
    "# compare two block matrices\n",
    "for (J1, J2) in mu_x_block.keys():\n",
    "    for (sym1, sym2) in mu_x_block[(J1, J2)].keys():\n",
    "        mat = mu_x_block[(J1, J2)][(sym1, sym2)]\n",
    "        mat2 = mu_x_block2[(J1, J2)][(sym1, sym2)]\n",
    "        print(\"block\", (J1, J2, sym1, sym2), \"mu_x_block == mu_x_block2 ?:\", np.allclose(mat.toarray(), mat2.toarray()))"
   ]
  },
  {
   "cell_type": "code",
   "execution_count": 51,
   "id": "3113acd9",
   "metadata": {},
   "outputs": [
    {
     "name": "stdout",
     "output_type": "stream",
     "text": [
      "mu_x_2d == mu_x_2d_2 ?: True\n"
     ]
    }
   ],
   "source": [
    "# generate block matrix from `dip`\n",
    "mu_x_block = dip.tomat(form=\"block\", repres=\"csr_matrix\", cart=\"x\")\n",
    "\n",
    "# convert `mu_x_block` to 2D form\n",
    "mu_x_2d = dip.full_form(mu_x_block)\n",
    "\n",
    "# generate 2D matrix from `dip`\n",
    "mu_x_2d_2 = dip.tomat(form=\"full\", repres=\"csr_matrix\", cart=\"x\")\n",
    "\n",
    "print(\"mu_x_2d == mu_x_2d_2 ?:\", np.allclose(mu_x_2d.toarray(), mu_x_2d_2.toarray()))"
   ]
  },
  {
   "cell_type": "markdown",
   "id": "5d4191a4",
   "metadata": {},
   "source": [
    "## Getting assignments"
   ]
  },
  {
   "cell_type": "code",
   "execution_count": 55,
   "id": "94e0cc93",
   "metadata": {},
   "outputs": [],
   "source": [
    "#TODO"
   ]
  },
  {
   "cell_type": "markdown",
   "id": "c6cefe11",
   "metadata": {},
   "source": [
    "## Selecting subspaces of states"
   ]
  },
  {
   "cell_type": "code",
   "execution_count": 54,
   "id": "33950564",
   "metadata": {},
   "outputs": [],
   "source": [
    "#TODO"
   ]
  }
 ],
 "metadata": {
  "kernelspec": {
   "display_name": "Python 3",
   "language": "python",
   "name": "python3"
  },
  "language_info": {
   "codemirror_mode": {
    "name": "ipython",
    "version": 3
   },
   "file_extension": ".py",
   "mimetype": "text/x-python",
   "name": "python",
   "nbconvert_exporter": "python",
   "pygments_lexer": "ipython3",
   "version": "3.8.5"
  }
 },
 "nbformat": 4,
 "nbformat_minor": 5
}
