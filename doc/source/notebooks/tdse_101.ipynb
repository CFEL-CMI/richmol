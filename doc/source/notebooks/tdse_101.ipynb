{
 "cells": [
  {
   "cell_type": "markdown",
   "id": "ef8fd10c",
   "metadata": {},
   "source": [
    "# TDSE"
   ]
  },
  {
   "cell_type": "markdown",
   "id": "f0710245",
   "metadata": {},
   "source": [
    "We solve the time-dependent Schrödinger equation using the time-discretization method, by propagating the wavepacket or several wavepackets at the same time on the ordered grid of time steps. When the Hamiltonian can be split into a zero-order diagonal part and a perturbation, a split-operator technique can be used. For propagation, we use the Lanczos method, as implemented internally and using the [Expokit](https://www.maths.uq.edu.au/expokit/) Fortran library.\n",
    "\n",
    "To initialize the TDSE solver, provide initial time `t_start`, terminal time `t_end`, time step `dt`, units of time `t_units`, and units of energy (Hamiltonian matrix) `enr_units`."
   ]
  },
  {
   "cell_type": "code",
   "execution_count": 19,
   "id": "3d93e006",
   "metadata": {},
   "outputs": [],
   "source": [
    "from richmol.tdse import TDSE\n",
    "\n",
    "tdse = TDSE(t_start=0, t_end=200, dt=0.01, t_units=\"ps\", enr_units=\"invcm\")"
   ]
  },
  {
   "cell_type": "markdown",
   "id": "3e17a004",
   "metadata": {},
   "source": [
    "The time grid can be generated using `time_grid` method, currently only equidistant grid is implemented. In the future, the type of grid can be set by providing a `grid_type` argument and external field."
   ]
  },
  {
   "cell_type": "code",
   "execution_count": 20,
   "id": "ce58d7f4",
   "metadata": {},
   "outputs": [
    {
     "name": "stdout",
     "output_type": "stream",
     "text": [
      "[5.00000e-03 1.50000e-02 2.50000e-02 ... 1.99975e+02 1.99985e+02\n",
      " 1.99995e+02]\n",
      "min: 0.005 mat: 199.995 len 20000\n"
     ]
    }
   ],
   "source": [
    "print(tdse.time_grid())\n",
    "print(\"min:\", min(tdse.time_grid()), \"mat:\", max(tdse.time_grid()), \"len\", len(tdse.time_grid()))"
   ]
  },
  {
   "cell_type": "markdown",
   "id": "fed18c6d",
   "metadata": {},
   "source": [
    "## Initial state vectors"
   ]
  },
  {
   "cell_type": "markdown",
   "id": "9c3efeca",
   "metadata": {},
   "source": [
    "The initial wavepacket or set of wavepackets can be generated using `init_state` method, which takes as arguments Hamiltonian and temperature and returns a set of Hamiltonian's eigenfunctions weighted by a Boltzmann factor. If temperature is set to zero, only single ground state eigenvector is returned, if temperature is `None`, all eigenvectors without weights are returned. One can specify `thresh` argument to control the number of initial states with significant population. Only states (in ascending energy order) will be considered for which the sum of the normalized Boltzmann weights - 1 > `thresh`. One can also specify the zero-point energy  using `zpe` argument, by default the zero-point energy is set to the lowest eigenvalue.\n",
    "\n",
    "To proceed, let's generate the molecular rotational solutions and matrix elements for OCS molecule"
   ]
  },
  {
   "cell_type": "code",
   "execution_count": 21,
   "id": "57a7417c",
   "metadata": {},
   "outputs": [],
   "source": [
    "from richmol.rot import Molecule, solve, LabTensor\n",
    "from richmol.convert_units import AUdip_x_Vm_to_invcm, AUpol_x_Vm_to_invcm\n",
    "\n",
    "ocs = Molecule()\n",
    "\n",
    "ocs.XYZ = (\"angstrom\",\n",
    "           \"C\",  0.0,  0.0,  -0.522939783141,\n",
    "           \"O\",  0.0,  0.0,  -1.680839357,\n",
    "           \"S\",  0.0,  0.0,  1.037160128)\n",
    "\n",
    "# molecular-frame dipole moment (in au)\n",
    "ocs.dip = [0, 0, -0.31093]\n",
    "\n",
    "# molecular-frame polarizability tensor (in au)\n",
    "ocs.pol = [[25.5778097, 0, 0], [0, 25.5778097, 0], [0, 0, 52.4651140]]\n",
    "\n",
    "Jmax = 5\n",
    "sol = solve(ocs, Jmax=Jmax)\n",
    "\n",
    "# laboratory-frame dipole moment operator\n",
    "dip = LabTensor(ocs.dip, sol)\n",
    "\n",
    "# laboratory-frame polarizability tensor\n",
    "pol = LabTensor(ocs.pol, sol)\n",
    "\n",
    "# field-free Hamiltonian\n",
    "h0 = LabTensor(ocs, sol)\n",
    "\n",
    "# matrix elements of cos(theta)\n",
    "cos = LabTensor(\"costheta\", sol) \n",
    "\n",
    "# matrix elements of cos^2(theta)-1/3\n",
    "cos2 = LabTensor(\"cos2theta\", sol)"
   ]
  },
  {
   "cell_type": "markdown",
   "id": "5d47118d",
   "metadata": {},
   "source": [
    "The initial state vectors at different temperatures can be generated as"
   ]
  },
  {
   "cell_type": "code",
   "execution_count": 23,
   "id": "0c981da0",
   "metadata": {},
   "outputs": [
    {
     "name": "stdout",
     "output_type": "stream",
     "text": [
      "thresh 0.001\n",
      "T = 0  no. states = 1\n",
      "T = 0.5  no. states = 13\n",
      "T = 1  no. states = 24\n",
      "T = 2  no. states = 35\n",
      "T = 10  no. states = 35\n",
      "\n",
      "thresh 0.1\n",
      "T = 0  no. states = 1\n",
      "T = 0.5  no. states = 3\n",
      "T = 1  no. states = 8\n",
      "T = 2  no. states = 15\n",
      "T = 10  no. states = 30\n"
     ]
    }
   ],
   "source": [
    "# with default `thresh` = 1e-3\n",
    "print(f\"thresh {1e-3}\")\n",
    "for temp in (0, 0.5, 1, 2, 10):\n",
    "    vecs = tdse.init_state(h0, temp=temp)\n",
    "    print(f\"T = {temp}  no. states = {len(vecs)}\")\n",
    "\n",
    "# with `thresh` = 1e-1 - neglect more states than above\n",
    "print(f\"\\nthresh {1e-1}\")\n",
    "for temp in (0, 0.5, 1, 2, 10):\n",
    "    vecs = tdse.init_state(h0, temp=temp, thresh=1e-1)\n",
    "    print(f\"T = {temp}  no. states = {len(vecs)}\")"
   ]
  },
  {
   "cell_type": "markdown",
   "id": "af0f8aa4",
   "metadata": {},
   "source": [
    "In some cases when a dc field is combined with a microwave or a laser field, the initial molecular states are the so-called pendular states, which are the eigenstates of a dc-interaction Hamiltonian. They can be generated using `init_state` function as well"
   ]
  },
  {
   "cell_type": "code",
   "execution_count": 24,
   "id": "0d64b5af",
   "metadata": {},
   "outputs": [
    {
     "name": "stdout",
     "output_type": "stream",
     "text": [
      "T = 0  no. states = 1\n",
      "T = 0.5  no. states = 13\n",
      "T = 1  no. states = 24\n",
      "T = 2  no. states = 35\n",
      "T = 10  no. states = 35\n"
     ]
    }
   ],
   "source": [
    "# dc field\n",
    "dc = [1000, 0, 400000] # X, Y, Z components in V/m\n",
    "\n",
    "fac1 = AUdip_x_Vm_to_invcm() # converts dipole(au) * field(V/m) into energy(cm^-1)\n",
    "\n",
    "# dc-field interaction Hamiltonian\n",
    "H = h0 - fac1 * dip * dc\n",
    "\n",
    "for temp in (0, 0.5, 1, 2, 10):\n",
    "    vecs = tdse.init_state(H, temp=temp)\n",
    "    print(f\"T = {temp}  no. states = {len(vecs)}\")"
   ]
  },
  {
   "cell_type": "markdown",
   "id": "f71288f1",
   "metadata": {},
   "source": [
    "## Time propagation"
   ]
  },
  {
   "cell_type": "markdown",
   "id": "a30c0fbf",
   "metadata": {},
   "source": [
    "`update` method propagates wavepacket from one time point to another. It takes as arguments Hamiltonian and set of wavepacket vectors and returns updated wavepacket vectors and time. In the following example we use `update` to calculated dynamics of OCS in oscillating laser field"
   ]
  },
  {
   "cell_type": "code",
   "execution_count": 29,
   "id": "23c864c8",
   "metadata": {},
   "outputs": [
    {
     "name": "stdout",
     "output_type": "stream",
     "text": [
      "number of initial vectors 1\n",
      "time 0.005 ps\n",
      "time 10.005 ps\n",
      "time 20.005 ps\n",
      "time 30.005 ps\n",
      "time 40.005 ps\n",
      "time 50.005 ps\n",
      "time 60.005 ps\n",
      "time 70.005 ps\n",
      "time 80.005 ps\n",
      "time 90.005 ps\n"
     ]
    },
    {
     "data": {
      "image/png": "[encoded data removed]",
      "text/plain": [
       "<Figure size 432x288 with 1 Axes>"
      ]
     },
     "metadata": {
      "needs_background": "light"
     },
     "output_type": "display_data"
    }
   ],
   "source": [
    "import numpy as np\n",
    "from scipy.constants import speed_of_light\n",
    "import matplotlib.pyplot as plt\n",
    "\n",
    "# set up 800 nm 10ps long Gaussian pulse\n",
    "nm = 1e-9\n",
    "omega = 800 * nm # in nm\n",
    "omega = 2 * np.pi * speed_of_light / omega * 1e-12  # in 1/ps\n",
    "FWHM = 10 # ps\n",
    "t0 = 2.5 * FWHM / 2\n",
    "amp = 1e10 # in V/m\n",
    "field = lambda t: [0, 0, amp * np.exp(-4*np.log(2)*(t-t0)**2/FWHM**2) * np.cos(omega*t)]\n",
    "\n",
    "# molecule-laser interaction Hamiltonian\n",
    "H = -1/2 * pol * AUpol_x_Vm_to_invcm() # `AUpol_x_Vm_to_invcm` converts polarizability(au) * field(V/m) into energy(cm^-1)\n",
    "\n",
    "# set up propagation parameters, from time 0 to 100 ps, with a time step of 10 fs\n",
    "tdse = TDSE(t_start=0, t_end=100, dt=0.01, t_units=\"ps\", enr_units=\"invcm\")\n",
    "\n",
    "# initial vector - rotational ground state (at T=0 K)\n",
    "temp = 0\n",
    "vecs = tdse.init_state(h0, temp=temp)\n",
    "print(f\"number of initial vectors {len(vecs)}\")\n",
    "\n",
    "# matrix elements of cos^2(theta) in sparse matrix form - dynamics observable\n",
    "cos2mat = cos2.tomat(form=\"full\", cart=\"0\")\n",
    "cos2_expval = [] # array to keep expectation values of cos^2(theta) on time grid\n",
    "\n",
    "# run time propagation\n",
    "\n",
    "for i, t in enumerate(tdse.time_grid()):\n",
    "\n",
    "    # multiply Hamiltonian with field\n",
    "    H.field(field(t), thresh=1e3) # field below 1e3 V/m consider as zero\n",
    "\n",
    "    # update vector\n",
    "    vecs, t_ = tdse.update(H+h0, vecs=vecs, matvec_lib='scipy')\n",
    "    #vecs, t_ = tdse.update(H, H0=h0, vecs=vecs, matvec_lib='scipy') # for split-operator approach\n",
    "\n",
    "    # expectation value of cos^2(theta)\n",
    "    expval = sum( np.dot( np.conj(vecs[i][:]), cos2mat.dot(vecs[i][:]) ) for i in range(len(vecs)) ) + 1/3\n",
    "    cos2_expval.append(expval.real)\n",
    "\n",
    "    if i % 1000 == 0:\n",
    "        print(f\"time {t} ps\")\n",
    "\n",
    "# plot expectation values of cos^2(theta)\n",
    "f = np.array([field(t)[2] for t in tdse.time_grid()])\n",
    "plt.plot(tdse.time_grid(), f/np.max(f), 'gray', linewidth=2, label=f\"pulse / {round(np.max(f)/1e2, 1)} V/cm\")\n",
    "plt.plot(tdse.time_grid(), cos2_expval, linewidth=2, label=\"$\\cos^2\\\\theta$\")\n",
    "plt.title(f\"Alignment of OCS at T = {temp} K, Gaussian pulse, FWHM {FWHM} ps, 800 nm\")\n",
    "plt.xlabel(\"time in ps\")\n",
    "plt.legend()\n",
    "plt.show()"
   ]
  },
  {
   "cell_type": "markdown",
   "id": "19c84802",
   "metadata": {},
   "source": [
    "To invoke the split-operator approach, the diagonal zero-order Hamiltonian `h0` should be passed into `update` as a keyword argument \"H0\", i.e. `tdse.update(H, H0=h0, vecs=vecs)` instead of `tdse.update(H+h0, vecs=vecs)`"
   ]
  },
  {
   "cell_type": "code",
   "execution_count": null,
   "id": "c76a384e",
   "metadata": {},
   "outputs": [],
   "source": []
  }
 ],
 "metadata": {
  "kernelspec": {
   "display_name": "Python 3",
   "language": "python",
   "name": "python3"
  },
  "language_info": {
   "codemirror_mode": {
    "name": "ipython",
    "version": 3
   },
   "file_extension": ".py",
   "mimetype": "text/x-python",
   "name": "python",
   "nbconvert_exporter": "python",
   "pygments_lexer": "ipython3",
   "version": "3.8.5"
  }
 },
 "nbformat": 4,
 "nbformat_minor": 5
}
