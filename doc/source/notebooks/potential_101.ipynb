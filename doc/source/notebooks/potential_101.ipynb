{
 "cells": [
  {
   "cell_type": "markdown",
   "id": "abf22e34",
   "metadata": {},
   "source": [
    "# Molecule-field interaction potential"
   ]
  },
  {
   "cell_type": "markdown",
   "id": "c6cc8e3e",
   "metadata": {},
   "source": [
    "The molecule-field interaction Hamiltonian can be constructed as a sum of products of various interaction tensors (multipoles) with external electric and/or magnetic field. The interaction tensors can be computed using the basis of rotational solutions, see \"Rotational dynamics Quickstart\" and  \"Rotational solutions and matrix elements\", or using the ro-vibrational solutions via external programs, such as [TROVE](https://github.com/Trovemaster/TROVE).\n",
    "\n",
    "We start from computing the rotational solutions and matrix elements for water molecule"
   ]
  },
  {
   "cell_type": "code",
   "execution_count": 1,
   "id": "591142cc",
   "metadata": {},
   "outputs": [
    {
     "name": "stderr",
     "output_type": "stream",
     "text": [
      "WARNING:absl:No GPU/TPU found, falling back to CPU. (Set TF_CPP_MIN_LOG_LEVEL=0 and rerun for more info.)\n"
     ]
    }
   ],
   "source": [
    "from richmol.rot import Molecule, solve, LabTensor\n",
    "import numpy as np\n",
    "\n",
    "water = Molecule()\n",
    "\n",
    "water.XYZ = (\"bohr\",\n",
    "             \"O\",  0.00000000,   0.00000000,   0.12395915,\n",
    "             \"H\",  0.00000000,  -1.43102686,  -0.98366080,\n",
    "             \"H\",  0.00000000,   1.43102686,  -0.98366080)\n",
    "\n",
    "# molecular-frame dipole moment (au)\n",
    "water.dip = [0, 0, -0.7288]\n",
    "\n",
    "# molecular-frame polarizability tensor (au)\n",
    "water.pol = [[9.1369, 0, 0], [0, 9.8701, 0], [0, 0, 9.4486]]\n",
    "\n",
    "Jmax = 10\n",
    "water.sym = \"C2v\"\n",
    "\n",
    "sol = solve(water, Jmax=Jmax)\n",
    "\n",
    "# laboratory-frame dipole moment operator\n",
    "dip = LabTensor(water.dip, sol)\n",
    "\n",
    "# laboratory-frame polarizability tensor\n",
    "pol = LabTensor(water.pol, sol)\n",
    "\n",
    "# field-free Hamiltonian\n",
    "h0 = LabTensor(water, sol)"
   ]
  },
  {
   "cell_type": "code",
   "execution_count": null,
   "id": "d27e11a3",
   "metadata": {},
   "outputs": [],
   "source": []
  }
 ],
 "metadata": {
  "kernelspec": {
   "display_name": "Python 3",
   "language": "python",
   "name": "python3"
  },
  "language_info": {
   "codemirror_mode": {
    "name": "ipython",
    "version": 3
   },
   "file_extension": ".py",
   "mimetype": "text/x-python",
   "name": "python",
   "nbconvert_exporter": "python",
   "pygments_lexer": "ipython3",
   "version": "3.8.5"
  }
 },
 "nbformat": 4,
 "nbformat_minor": 5
}
