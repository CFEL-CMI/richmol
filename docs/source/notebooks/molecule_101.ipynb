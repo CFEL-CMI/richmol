{
 "cells": [
  {
   "cell_type": "markdown",
   "id": "96fb1971",
   "metadata": {},
   "source": [
    "# Molecule input"
   ]
  },
  {
   "cell_type": "markdown",
   "id": "11e771f3",
   "metadata": {},
   "source": [
    "One can define molecule using one of the following ways\n",
    "\n",
    "1. Provide Cartesian coordinates of atoms, dipole moment, polarizability, etc., referring to the same (user-defined) coordinate frame. These can be almost routinely obtained from quantum chemical calculations.\n",
    "\n",
    "2. Provide spectroscopic constants ($A$, $B$, $C$, $\\Delta_{J}$, $\\Delta_{J,K}$ ...) and dipole moment, polarizability, etc., in the coordinate frame of principal axes of inertia (PAI).\n",
    "\n",
    "3. Provide spectroscopic constants ($A$, $B$, $C$, $\\Delta_{J}$, $\\Delta_{J,K}$ ...) and dipole moment, polarizability, etc., which are not in the PAI frame. In this case, Cartesian coordinates of atoms defined with respect to the same frame as dipole moment, polarizability, etc., must be provided, although they will be used only for 'rotating' the coordinate frame to the PAI system."
   ]
  },
  {
   "cell_type": "code",
   "execution_count": 37,
   "id": "8839ccb7",
   "metadata": {},
   "outputs": [],
   "source": [
    "from richmol.rot import Molecule, mol_tensor"
   ]
  },
  {
   "cell_type": "markdown",
   "id": "3e0323af",
   "metadata": {},
   "source": [
    "## Cartesian data"
   ]
  },
  {
   "cell_type": "markdown",
   "id": "ec6e4fae",
   "metadata": {},
   "source": [
    "Here is an example for water molecule using data obtained from a quantum chemical calculation"
   ]
  },
  {
   "cell_type": "code",
   "execution_count": 38,
   "id": "273165b2",
   "metadata": {},
   "outputs": [
    {
     "name": "stdout",
     "output_type": "stream",
     "text": [
      "Masses and Cartesian coordinates of atoms\n",
      "O 15.99491462 [0.         0.         0.06559636]\n",
      "H 1.0078250322 [ 0.         -0.7572668  -0.52053088]\n",
      "H 1.0078250322 [ 0.          0.7572668  -0.52053088]\n"
     ]
    }
   ],
   "source": [
    "water = Molecule()\n",
    "\n",
    "# Cartesian coordinates of atoms\n",
    "water.XYZ = (\"bohr\",\n",
    "             \"O\",  0.00000000,   0.00000000,   0.12395915,\n",
    "             \"H\",  0.00000000,  -1.43102686,  -0.98366080,\n",
    "             \"H\",  0.00000000,   1.43102686,  -0.98366080)\n",
    "\n",
    "# dipole moment (au)\n",
    "water.dip = [0, 0, -0.7288]\n",
    "\n",
    "# polarizability tensor (au)\n",
    "water.pol = [[9.1369, 0, 0], [0, 9.8701, 0], [0, 0, 9.4486]]\n",
    "\n",
    "print(\"Masses and Cartesian coordinates of atoms\")\n",
    "for atom in water.XYZ:\n",
    "    print(atom['label'], atom['mass'], atom['xyz'])"
   ]
  },
  {
   "cell_type": "markdown",
   "id": "8e2bc6fe",
   "metadata": {},
   "source": [
    "By default, calculations are carried out for the main isotopologue. To specify a non-standard isotope, put the corresponding isotope number next to the atom label, for example, \"O18\" for oxygen-18 or \"H2\" for deuterium"
   ]
  },
  {
   "cell_type": "code",
   "execution_count": 39,
   "id": "a9d00d4e",
   "metadata": {},
   "outputs": [
    {
     "name": "stdout",
     "output_type": "stream",
     "text": [
      "Masses and Cartesian coordinates of atoms\n",
      "O18 17.999159613 [0.         0.         0.06559636]\n",
      "H2 2.0141017781 [ 0.         -0.7572668  -0.52053088]\n",
      "H2 2.0141017781 [ 0.          0.7572668  -0.52053088]\n"
     ]
    }
   ],
   "source": [
    "# example of D2^{18}O\n",
    "D2_18O = Molecule()\n",
    "D2_18O.XYZ = (\"bohr\",\n",
    "             \"O18\",  0.00000000,   0.00000000,   0.12395915,\n",
    "             \"H2\",   0.00000000,  -1.43102686,  -0.98366080,\n",
    "             \"H2\",   0.00000000,   1.43102686,  -0.98366080)\n",
    "\n",
    "print(\"Masses and Cartesian coordinates of atoms\")\n",
    "for atom in D2_18O.XYZ:\n",
    "    print(atom['label'], atom['mass'], atom['xyz'])"
   ]
  },
  {
   "cell_type": "markdown",
   "id": "bdd3328b",
   "metadata": {},
   "source": [
    "One can also read/store the geometry from/to XYZ file"
   ]
  },
  {
   "cell_type": "code",
   "execution_count": 40,
   "id": "51d85c01",
   "metadata": {},
   "outputs": [
    {
     "name": "stdout",
     "output_type": "stream",
     "text": [
      "Masses and Cartesian coordinates of atoms\n",
      "O 15.99491462 [0.         0.         0.06559636]\n",
      "H 1.0078250322 [ 0.         -0.7572668  -0.52053088]\n",
      "H 1.0078250322 [ 0.          0.7572668  -0.52053088]\n"
     ]
    }
   ],
   "source": [
    "# store Cartesian coordinates of atoms into XYZ file\n",
    "water.store_xyz(\"water.xyz\", \"some comment line\")\n",
    "\n",
    "# read Cartesian coordinates of atoms from XYZ file\n",
    "water2 = Molecule()\n",
    "water2.XYZ = \"water.xyz\"\n",
    "\n",
    "print(\"Masses and Cartesian coordinates of atoms\")\n",
    "for atom in water2.XYZ:\n",
    "    print(atom['label'], atom['mass'], atom['xyz'])"
   ]
  },
  {
   "cell_type": "markdown",
   "id": "da208908",
   "metadata": {},
   "source": [
    "## Coordinate frame"
   ]
  },
  {
   "cell_type": "markdown",
   "id": "519af8ce",
   "metadata": {},
   "source": [
    "The molecular frame embedding, i.e., orientation of the $x$, $y$, $z$ axes with respect to molecule, can be altered using `frame`. The tensor properties `dip` for dipole moment and `pol` for polarizability tensor (and few others) will be automatically rotated to a new coordinate frame whenever the latter is changed.\n",
    "\n",
    "The frame can be defined by its name, e.g., `frame=\"ipas\"`. One can use the name of a `Molecule` attribute containing a (3x3) arbitrary rotation matrix, e.g., `water.rotmat=[[0,0,1],[1,0,0],[0,1,0]]`; `frame=\"rotmat\"`. A third option is to combine a linear operation with the name of an attribute, e.g., `water.pol = [[9.1369,0.3,-0.01],[0.3, 9.8701,0],[-0.01,0,9.4486]]`; `frame=\"diag(pol)\"` will rotate frame to the principal axes of polarizability (i.e., frame where `water.pol` tensor becomes diagonal).\n",
    "Axes permutation is also a frame rotation, e.g., `frame=\"zxy\"` performs (123) permutation of the axes.\n",
    "Several examples are shown below."
   ]
  },
  {
   "cell_type": "code",
   "execution_count": 41,
   "id": "5b2aa8db",
   "metadata": {},
   "outputs": [
    {
     "name": "stdout",
     "output_type": "stream",
     "text": [
      "coordinates of atoms\n",
      " [('O', 15.99491462, [ 0.        ,  0.06559636,  0.        ])\n",
      " ('H',  1.00782503, [-0.7572668 , -0.52053088,  0.        ])\n",
      " ('H',  1.00782503, [ 0.7572668 , -0.52053088,  0.        ])]\n",
      "dipole moment\n",
      " [ 0.     -0.7288  0.    ]\n",
      "polarizability\n",
      " [[9.8701 0.     0.    ]\n",
      " [0.     9.4486 0.    ]\n",
      " [0.     0.     9.1369]]\n",
      "inertia tensor\n",
      " [[ 0.61496945 -0.         -0.        ]\n",
      " [-0.          1.1558806  -0.        ]\n",
      " [-0.         -0.          1.77085004]]\n"
     ]
    }
   ],
   "source": [
    "# change frame to inertial principal axes system (ipas)\n",
    "water.frame = \"ipas\"\n",
    "\n",
    "# or equivalently\n",
    "water.frame = \"diag(inertia)\" # reads as: frame where the inertia tensor is diagonal\n",
    "\n",
    "print(\"coordinates of atoms\\n\", water.XYZ)\n",
    "print(\"dipole moment\\n\", water.dip)\n",
    "print(\"polarizability\\n\", water.pol)\n",
    "\n",
    "print(\"inertia tensor\\n\", water.inertia)"
   ]
  },
  {
   "cell_type": "markdown",
   "id": "ddb1ed33",
   "metadata": {},
   "source": [
    "Multiple frame operations can be combined together, for example, we can rotate to the inertial principal axes system and then permute $x$ and $z$ axes"
   ]
  },
  {
   "cell_type": "code",
   "execution_count": 42,
   "id": "61742f65",
   "metadata": {},
   "outputs": [
    {
     "name": "stdout",
     "output_type": "stream",
     "text": [
      "coordinates of atoms\n",
      " [('O', 15.99491462, [ 0.        ,  0.06559636,  0.        ])\n",
      " ('H',  1.00782503, [ 0.        , -0.52053088, -0.7572668 ])\n",
      " ('H',  1.00782503, [ 0.        , -0.52053088,  0.7572668 ])]\n",
      "dipole moment\n",
      " [ 0.     -0.7288  0.    ]\n",
      "polarizability\n",
      " [[9.1369 0.     0.    ]\n",
      " [0.     9.4486 0.    ]\n",
      " [0.     0.     9.8701]]\n",
      "inertia tensor\n",
      " [[ 1.77085004 -0.         -0.        ]\n",
      " [-0.          1.1558806  -0.        ]\n",
      " [-0.         -0.          0.61496945]]\n"
     ]
    }
   ],
   "source": [
    "water.frame = \"ipas\"\n",
    "water.frame = \"zyx\"\n",
    "\n",
    "# or equivalently in one line (with operations performed form right to left)\n",
    "water.frame = \"zyx,ipas\"\n",
    "\n",
    "print(\"coordinates of atoms\\n\", water.XYZ)\n",
    "print(\"dipole moment\\n\", water.dip)\n",
    "print(\"polarizability\\n\", water.pol)\n",
    "\n",
    "print(\"inertia tensor\\n\", water.inertia)"
   ]
  },
  {
   "cell_type": "markdown",
   "id": "c3f6491e",
   "metadata": {},
   "source": [
    "The principal axes system can be defined with respect to any rank-2 symmetric matrix. For example, in many cases it is convenient to choose molecular frame such that polarizability tensor becomes diagonal"
   ]
  },
  {
   "cell_type": "code",
   "execution_count": 43,
   "id": "8b5916c4",
   "metadata": {},
   "outputs": [
    {
     "name": "stdout",
     "output_type": "stream",
     "text": [
      "coordinates of atoms\n",
      " [('O', 15.99491462, [ 0.        ,  0.06559636,  0.        ])\n",
      " ('H',  1.00782503, [ 0.        , -0.52053088, -0.7572668 ])\n",
      " ('H',  1.00782503, [ 0.        , -0.52053088,  0.7572668 ])]\n",
      "dipole moment\n",
      " [ 0.     -0.7288  0.    ]\n",
      "polarizability\n",
      " [[9.1369 0.     0.    ]\n",
      " [0.     9.4486 0.    ]\n",
      " [0.     0.     9.8701]]\n"
     ]
    }
   ],
   "source": [
    "water.frame = \"diag(pol)\" # reads as: frame where tensor 'pol' is diagonal\n",
    "\n",
    "print(\"coordinates of atoms\\n\", water.XYZ)\n",
    "print(\"dipole moment\\n\", water.dip)\n",
    "print(\"polarizability\\n\", water.pol)"
   ]
  },
  {
   "cell_type": "markdown",
   "id": "21c19bd7",
   "metadata": {},
   "source": [
    "We can also define a custom rotation matrix or principal axis matrix, as demonstrated below"
   ]
  },
  {
   "cell_type": "code",
   "execution_count": 44,
   "id": "b4ab745e",
   "metadata": {},
   "outputs": [],
   "source": [
    "import numpy as np\n",
    "import scipy.linalg as la\n",
    "\n",
    "# generate random matrix\n",
    "mat = np.random.rand(3,3)\n",
    "\n",
    "# random rotation matrix\n",
    "water.custom_rot = la.expm((mat - mat.T)/2)\n",
    "\n",
    "# random symmetric matrix\n",
    "water.custom_pam = (mat + mat.T)/2\n",
    "\n",
    "# use 'custom_rot' (orthogonal) matrix to rotate the frame\n",
    "water.frame = \"custom_rot\"\n",
    "\n",
    "# alternatively use 'custom_pam' (symmetric) matrix as principal axes matrix\n",
    "water.frame = \"diag(custom_pam)\""
   ]
  },
  {
   "cell_type": "markdown",
   "id": "d8631f75",
   "metadata": {},
   "source": [
    "Multiple occurences of `frame` assignments lead to the accumulation of corresponding frame transformations. Use `frame=None` or `frame=\"None\"` to reset the frame to the one defined by the input Cartesian coordinates of atoms"
   ]
  },
  {
   "cell_type": "code",
   "execution_count": 45,
   "id": "90571f19",
   "metadata": {},
   "outputs": [
    {
     "name": "stdout",
     "output_type": "stream",
     "text": [
      "[('O', 15.99491462, [ 0.        ,  0.06559636,  0.        ])\n",
      " ('H',  1.00782503, [ 0.        , -0.52053088, -0.7572668 ])\n",
      " ('H',  1.00782503, [ 0.        , -0.52053088,  0.7572668 ])]\n"
     ]
    }
   ],
   "source": [
    "water.frame = \"diag(inertia)\" # rotate to ipas\n",
    "water.frame = \"zxy\" # then permute axes (123)\n",
    "\n",
    "# now we want to permute axes (23) in the original frame, reset frame rotation\n",
    "water.frame = None\n",
    "water.frame = \"xzy\"\n",
    "\n",
    "# or equivalently in one line\n",
    "water.frame = \"xzy,None\"\n",
    "\n",
    "print(water.XYZ)"
   ]
  },
  {
   "cell_type": "markdown",
   "id": "a7fa688c",
   "metadata": {},
   "source": [
    "Only certain molecule properties (such as `dip`, `pol`, `inertia`, `XYZ`, and few others) are automatically rotated when the frame is altered. This is demonstrated in the following example"
   ]
  },
  {
   "cell_type": "code",
   "execution_count": 46,
   "id": "8a924879",
   "metadata": {},
   "outputs": [
    {
     "name": "stdout",
     "output_type": "stream",
     "text": [
      "vec\n",
      " [3. 2. 1.]\n",
      "mat\n",
      " [[9. 8. 7.]\n",
      " [6. 5. 4.]\n",
      " [3. 2. 1.]]\n",
      "dip\n",
      " [-0.7288  0.      0.    ]\n"
     ]
    }
   ],
   "source": [
    "water.vec = [1,2,3]\n",
    "water.mat = [[1,2,3],[4,5,6],[7,8,9]]\n",
    "\n",
    "water.frame = \"zyx,null\"\n",
    "\n",
    "# axes permutation (13) does not affect vec and mat, but dip\n",
    "print(\"vec\\n\", water.vec)\n",
    "print(\"mat\\n\", water.mat)\n",
    "print(\"dip\\n\", water.dip)"
   ]
  },
  {
   "cell_type": "markdown",
   "id": "05a82ac2",
   "metadata": {},
   "source": [
    "To declare a custom Cartesian tensor which is dynamically rotated to a new frame, use `mol_tensor` function"
   ]
  },
  {
   "cell_type": "code",
   "execution_count": 47,
   "id": "114125f4",
   "metadata": {},
   "outputs": [
    {
     "name": "stdout",
     "output_type": "stream",
     "text": [
      "vec\n",
      " [3. 2. 1.]\n",
      "mat\n",
      " [[9. 8. 7.]\n",
      " [6. 5. 4.]\n",
      " [3. 2. 1.]]\n",
      "dip\n",
      " [-0.7288  0.      0.    ]\n",
      "\n",
      "new vec\n",
      " [9. 8. 7.]\n",
      "new mat\n",
      " [[19. 18. 17.]\n",
      " [16. 15. 14.]\n",
      " [13. 12. 11.]]\n"
     ]
    }
   ],
   "source": [
    "water.vec = mol_tensor([1,2,3])\n",
    "water.mat = mol_tensor([[1,2,3],[4,5,6],[7,8,9]])\n",
    "\n",
    "water.frame = \"zyx,null\"\n",
    "\n",
    "# axes permutation (13) now affects also vec and mat\n",
    "print(\"vec\\n\", water.vec)\n",
    "print(\"mat\\n\", water.mat)\n",
    "print(\"dip\\n\", water.dip)\n",
    "\n",
    "# we can then change vec and mat values, they will still be dynamically rotated\n",
    "water.vec = [7,8,9]\n",
    "water.mat = [[11,12,13],[14,15,16],[17,18,19]]\n",
    "\n",
    "print(\"\\nnew vec\\n\", water.vec)\n",
    "print(\"new mat\\n\", water.mat)"
   ]
  },
  {
   "cell_type": "markdown",
   "id": "0f2a943d",
   "metadata": {},
   "source": [
    "## Rotational constants"
   ]
  },
  {
   "cell_type": "markdown",
   "id": "71dba9f1",
   "metadata": {},
   "source": [
    "The rotational constants $B_x$, $B_y$, $B_z$ (in units of cm$^{-1}$) can be calculated from the input molecular geometry using `B`. This will work only when the molecular frame is set to the inertial principal axes system, i.e., when the inertia tensor is diagonal"
   ]
  },
  {
   "cell_type": "code",
   "execution_count": 48,
   "id": "034e4b04",
   "metadata": {},
   "outputs": [
    {
     "name": "stdout",
     "output_type": "stream",
     "text": [
      "[9.519512542010801, 14.584230612810305, 27.412141069544163]\n",
      "[27.412141069544163, 14.584230612810305, 9.519512542010801]\n"
     ]
    }
   ],
   "source": [
    "water.frame = \"diag(pol)\" # frame where polarizability tensor is diagonal\n",
    "print(water.B) # works, because inertia tensor happens to be diagonal in the selected frame\n",
    "\n",
    "water.frame = \"diag(inertia)\"\n",
    "print(water.B) # the rotational constants in the inertia frame will be sorted in ascending order"
   ]
  },
  {
   "cell_type": "markdown",
   "id": "5df077f8",
   "metadata": {},
   "source": [
    "`B` can be also used to assign user-defined values to the rotational constants, for example, experimental values. Once assigned, `B` will always return the user-defined values. To access the values of rotational constants calculated from molecular geometry, use `B_geom`"
   ]
  },
  {
   "cell_type": "code",
   "execution_count": 49,
   "id": "b908f165",
   "metadata": {},
   "outputs": [
    {
     "name": "stdout",
     "output_type": "stream",
     "text": [
      "water.B  [27.412141069544163, 14.584230612810305, 9.519512542010801]\n",
      "water.B  [27.877, 14.512, 9.285]\n",
      "water.B_geom  [27.412141069544163, 14.584230612810305, 9.519512542010801]\n"
     ]
    }
   ],
   "source": [
    "print(\"water.B \", water.B)\n",
    "water.B = (27.877, 14.512, 9.285) # user-defined rotational constants in units of cm^-1\n",
    "print(\"water.B \", water.B)\n",
    "print(\"water.B_geom \", water.B_geom)"
   ]
  },
  {
   "cell_type": "markdown",
   "id": "c803c27a",
   "metadata": {},
   "source": [
    "***************************\n",
    "\n",
    "**Important**: If rotational constants were assigned to user-defined values, the rotational Hamiltonian is built using these values and not the molecular geometry input\n",
    "\n",
    "***************************"
   ]
  },
  {
   "cell_type": "markdown",
   "id": "e8a0b241",
   "metadata": {},
   "source": [
    "For linear and spherical-top molecules, use `B` to print and assign the rotational constant"
   ]
  },
  {
   "cell_type": "code",
   "execution_count": 50,
   "id": "4d6a7cd1",
   "metadata": {},
   "outputs": [
    {
     "name": "stdout",
     "output_type": "stream",
     "text": [
      "[0.20286, 0.20286, 0]\n",
      "[0.20317859211971495, 0.20317859211971495, 0]\n",
      "molecule is linear ?: True\n"
     ]
    }
   ],
   "source": [
    "ocs = Molecule()\n",
    "ocs.B = 0.20286 # experimental value\n",
    "print(ocs.B)\n",
    "\n",
    "ocs.XYZ = (\"angstrom\", \"C\", 0, 0, 0, \"S\", 0, 0, -1.56, \"O\", 0, 0, 1.16)\n",
    "print(ocs.B_geom) # calculated value\n",
    "\n",
    "print(\"molecule is linear ?:\", ocs.linear()) # True if molecule is linear"
   ]
  },
  {
   "cell_type": "markdown",
   "id": "c126c398",
   "metadata": {},
   "source": [
    "If molecular geometry is specified, the user-assigned rotational constants are always verified to agree within the 5% difference with the values calculated from the input molecular geometry. Here is an example of an error when the assigned and calculated constants do not match"
   ]
  },
  {
   "cell_type": "code",
   "execution_count": 51,
   "id": "16547fd1",
   "metadata": {},
   "outputs": [
    {
     "name": "stdout",
     "output_type": "stream",
     "text": [
      "inertia frame\n",
      "calculated Bx, By, Bz [27.412141069544163, 14.584230612810305, 9.519512542010801]\n"
     ]
    },
    {
     "ename": "ValueError",
     "evalue": "input rotational constants disagree much with geometry\n        inp          calc       inp-calc\nBx    27.877000    27.412141     0.464859\nBy     9.285000    14.584231    -5.299231\nBz    14.512000     9.519513     4.992487",
     "output_type": "error",
     "traceback": [
      "\u001b[0;31m---------------------------------------------------------------------------\u001b[0m",
      "\u001b[0;31mValueError\u001b[0m                                Traceback (most recent call last)",
      "\u001b[0;32m<ipython-input-51-a0f2da6fa694>\u001b[0m in \u001b[0;36m<module>\u001b[0;34m\u001b[0m\n\u001b[1;32m     11\u001b[0m \u001b[0mprint\u001b[0m\u001b[0;34m(\u001b[0m\u001b[0;34m\"inertia frame\"\u001b[0m\u001b[0;34m)\u001b[0m\u001b[0;34m\u001b[0m\u001b[0;34m\u001b[0m\u001b[0m\n\u001b[1;32m     12\u001b[0m \u001b[0mprint\u001b[0m\u001b[0;34m(\u001b[0m\u001b[0;34m\"calculated Bx, By, Bz\"\u001b[0m\u001b[0;34m,\u001b[0m \u001b[0mwater2\u001b[0m\u001b[0;34m.\u001b[0m\u001b[0mB_geom\u001b[0m\u001b[0;34m)\u001b[0m\u001b[0;34m\u001b[0m\u001b[0;34m\u001b[0m\u001b[0m\n\u001b[0;32m---> 13\u001b[0;31m \u001b[0mprint\u001b[0m\u001b[0;34m(\u001b[0m\u001b[0;34m\"input Bx, By, Bz     \"\u001b[0m\u001b[0;34m,\u001b[0m \u001b[0mwater2\u001b[0m\u001b[0;34m.\u001b[0m\u001b[0mB\u001b[0m\u001b[0;34m)\u001b[0m\u001b[0;34m\u001b[0m\u001b[0;34m\u001b[0m\u001b[0m\n\u001b[0m",
      "\u001b[0;32m~/.local/lib/python3.8/site-packages/richmol-0.1a1-py3.8-linux-x86_64.egg/richmol/rot/molecule.py\u001b[0m in \u001b[0;36mB\u001b[0;34m(self)\u001b[0m\n\u001b[1;32m    316\u001b[0m         \"\"\"\n\u001b[1;32m    317\u001b[0m         \u001b[0;32mtry\u001b[0m\u001b[0;34m:\u001b[0m\u001b[0;34m\u001b[0m\u001b[0;34m\u001b[0m\u001b[0m\n\u001b[0;32m--> 318\u001b[0;31m             \u001b[0mself\u001b[0m\u001b[0;34m.\u001b[0m\u001b[0mcheck_B\u001b[0m\u001b[0;34m(\u001b[0m\u001b[0;34m)\u001b[0m\u001b[0;34m\u001b[0m\u001b[0;34m\u001b[0m\u001b[0m\n\u001b[0m\u001b[1;32m    319\u001b[0m             \u001b[0;32mreturn\u001b[0m \u001b[0mself\u001b[0m\u001b[0;34m.\u001b[0m\u001b[0mB_exp\u001b[0m\u001b[0;34m\u001b[0m\u001b[0;34m\u001b[0m\u001b[0m\n\u001b[1;32m    320\u001b[0m         \u001b[0;32mexcept\u001b[0m \u001b[0mAttributeError\u001b[0m\u001b[0;34m:\u001b[0m\u001b[0;34m\u001b[0m\u001b[0;34m\u001b[0m\u001b[0m\n",
      "\u001b[0;32m~/.local/lib/python3.8/site-packages/richmol-0.1a1-py3.8-linux-x86_64.egg/richmol/rot/molecule.py\u001b[0m in \u001b[0;36mcheck_B\u001b[0;34m(self)\u001b[0m\n\u001b[1;32m    346\u001b[0m             err = \"\\n\".join( abc + \" %12.6f\"%e + \" %12.6f\"%c + \" %12.6f\"%(e-c) \\\n\u001b[1;32m    347\u001b[0m                              for abc,e,c in zip((\"Bx\",\"By\",\"Bz\"), B_exp, B_geom) )\n\u001b[0;32m--> 348\u001b[0;31m             raise ValueError(f\"input rotational constants disagree much with geometry\\n\" + \\\n\u001b[0m\u001b[1;32m    349\u001b[0m                 f\"        inp          calc       inp-calc\\n\" + err) from None\n\u001b[1;32m    350\u001b[0m         \u001b[0;32mreturn\u001b[0m\u001b[0;34m\u001b[0m\u001b[0;34m\u001b[0m\u001b[0m\n",
      "\u001b[0;31mValueError\u001b[0m: input rotational constants disagree much with geometry\n        inp          calc       inp-calc\nBx    27.877000    27.412141     0.464859\nBy     9.285000    14.584231    -5.299231\nBz    14.512000     9.519513     4.992487"
     ]
    }
   ],
   "source": [
    "water2 = Molecule()\n",
    "water2.B = (27.877, 9.285, 14.512) # user-defined rotational constants in units of cm^-1\n",
    "\n",
    "water2.XYZ = (\"bohr\",\n",
    "              \"O\",  0.00000000,   0.00000000,   0.12395915,\n",
    "              \"H\",  0.00000000,  -1.43102686,  -0.98366080,\n",
    "              \"H\",  0.00000000,   1.43102686,  -0.98366080)\n",
    "\n",
    "\n",
    "water2.frame = 'ipas' # inertia principal axes system\n",
    "print(\"inertia frame\")\n",
    "print(\"calculated Bx, By, Bz\", water2.B_geom)\n",
    "print(\"input Bx, By, Bz     \", water2.B)"
   ]
  },
  {
   "cell_type": "markdown",
   "id": "e5b71be1",
   "metadata": {},
   "source": [
    "This can be fixed, for example, if we swap $y$ and $z$ axes"
   ]
  },
  {
   "cell_type": "code",
   "execution_count": 52,
   "id": "16096789",
   "metadata": {},
   "outputs": [
    {
     "name": "stdout",
     "output_type": "stream",
     "text": [
      "inertia frame\n",
      "calculated Bx, By, Bz [27.412141069544163, 9.519512542010801, 14.584230612810305]\n",
      "input Bx, By, Bz      [27.877, 9.285, 14.512]\n"
     ]
    }
   ],
   "source": [
    "water2.frame = 'xzy,ipas'\n",
    "print(\"inertia frame\")\n",
    "print(\"calculated Bx, By, Bz\", water2.B_geom)\n",
    "print(\"input Bx, By, Bz     \", water2.B)"
   ]
  },
  {
   "cell_type": "markdown",
   "id": "74ceecfe",
   "metadata": {},
   "source": [
    "## Centrifugal distortion constants"
   ]
  },
  {
   "cell_type": "markdown",
   "id": "0834608b",
   "metadata": {},
   "source": [
    "The following Watson-type asymmetric top Hamiltonians in the $A$ or $S$ standard reduced form are implemented (they can also be easily modified and extended to incorporate higher-order terms)\n",
    "\n",
    "* A-form: $H_A = H_\\text{rigrot} - \\Delta_{J} J^{4} - \\Delta_{JK} J^{2} J_{z}^{2} - \\Delta_{K} J_{z}^{4} - \\frac{1}{2}  [ \\delta_{J} J^{2} + \\delta_{K} J_{z}^{2}, J_{+}^{2} + J_{-}^{2} ]_{+} + H_{J} J^{6} + H_{JK} J^{4} J_{z}^{2} + H_{KJ} J^{2} J_{z}^{4} + H_{K} J_{z}^{6} + \\frac{1}{2} [ \\phi_{J} J^{4} + \\phi_{JK} J^{2} J_{z}^{2} + \\phi_{K} J_{z}^{4}, J_{+}^{2} + J_{-}^{2} ]_{+}$\n",
    "\n",
    "* S-form: $H_S = H_\\text{rigrot} - \\Delta_{J} J^{4} - \\Delta_{JK} J^{2} J_{z}^{2} - \\Delta_{K} J_{z}^{4} + d_{1} J^{2} (J_{+}^{2} + J_{-}^{2}) + d_{2} (J_{+}^{4} + J_{-}^{4}) + H_{J} J^{6} + H_{JK} J^{4} J_{z}^{2} + H_{KJ} J^{2} J_{z}^{4} + H_{K} J_{z}^{6} + h_{1} J^{4} (J_{+}^{2} + J_{-}^{2}) + h_{2} J^{2} (J_{+}^{4} + J_{-}^{4}) + h_{3} (J_{+}^{6} + J_{-}^{6})$\n",
    "\n",
    "The type of Watson reduction can be specified using `watson`. The centrifugal constants are defined as molecule attributes `DeltaJ`, `DeltaJK`, `DeltaK`, `deltaJ`, `deltaK`, `HJ`, `HJK`, `HKJ`, `HK`, `phiJ`, `phiJK`, `phiK`, `d1`, `d2`, `h1`, `h2`, `h3`. Here is an example of setting Watson *A*-type Hamiltonian for water using values from NIST"
   ]
  },
  {
   "cell_type": "code",
   "execution_count": 36,
   "id": "e816e24c",
   "metadata": {},
   "outputs": [],
   "source": [
    "from richmol.rot.molecule import Molecule\n",
    "from richmol.rot.solution import solve\n",
    "from richmol.convert_units import MHz_to_invcm\n",
    "import sys\n",
    "\n",
    "# NIST values of rotational constants for H2O (in MHz)\n",
    "\n",
    "water = Molecule()\n",
    "water.B = MHz_to_invcm(835840.288, 435351.717, 278138.700)\n",
    "\n",
    "water.watson = 'watson_a' # or 'watson_s' for S-type\n",
    "\n",
    "water.DeltaJ = 37.59422 * MHz_to_invcm()\n",
    "water.DeltaJK = -172.9128 * MHz_to_invcm()\n",
    "water.DeltaK = 973.29052 * MHz_to_invcm()\n",
    "water.deltaJ = 15.210402 * MHz_to_invcm()\n",
    "water.deltaK = 41.0502 * MHz_to_invcm()\n",
    "water.HJ = 1.56556e-2 * MHz_to_invcm()\n",
    "water.HJK = -4.2081e-2 * MHz_to_invcm()\n",
    "water.HKJ = -5.09508e-1 * MHz_to_invcm()\n",
    "water.HK = 3.733028 * MHz_to_invcm()\n",
    "water.phiJ = 7.79579e-3 * MHz_to_invcm()\n",
    "water.phiJK = -2.5165e-2 * MHz_to_invcm()\n",
    "water.phiK = 1.0971 * MHz_to_invcm()"
   ]
  },
  {
   "cell_type": "code",
   "execution_count": null,
   "id": "a5b085e5",
   "metadata": {},
   "outputs": [],
   "source": []
  }
 ],
 "metadata": {
  "kernelspec": {
   "display_name": "Python 3",
   "language": "python",
   "name": "python3"
  },
  "language_info": {
   "codemirror_mode": {
    "name": "ipython",
    "version": 3
   },
   "file_extension": ".py",
   "mimetype": "text/x-python",
   "name": "python",
   "nbconvert_exporter": "python",
   "pygments_lexer": "ipython3",
   "version": "3.8.5"
  }
 },
 "nbformat": 4,
 "nbformat_minor": 5
}
