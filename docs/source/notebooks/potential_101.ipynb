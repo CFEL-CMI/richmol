{
 "cells": [
  {
   "cell_type": "markdown",
   "id": "abf22e34",
   "metadata": {},
   "source": [
    "# Molecule-field interaction potential"
   ]
  },
  {
   "cell_type": "markdown",
   "id": "c6cc8e3e",
   "metadata": {},
   "source": [
    "The molecule-field interaction Hamiltonian can be constructed as a sum of products of interaction tensors (dipole, moment, polarizability, hyperpolarizability, quadrupole moment, etc.) with external electric and/or magnetic field. The interaction tensors can be computed using the basis of molecular rotational states, see \"Rotational dynamics Quickstart\" and  \"Rotational solutions and matrix elements\", or using the molecular vibrational or ro-vibrational solutions obtained in other programs, such as, for example, [TROVE](https://github.com/Trovemaster/TROVE).\n",
    "\n",
    "We start from computing the rotational solutions and matrix elements for water molecule"
   ]
  },
  {
   "cell_type": "code",
   "execution_count": 1,
   "id": "591142cc",
   "metadata": {},
   "outputs": [
    {
     "name": "stderr",
     "output_type": "stream",
     "text": [
      "WARNING:absl:No GPU/TPU found, falling back to CPU. (Set TF_CPP_MIN_LOG_LEVEL=0 and rerun for more info.)\n"
     ]
    }
   ],
   "source": [
    "from richmol.rot import Molecule, solve, LabTensor\n",
    "import numpy as np\n",
    "\n",
    "water = Molecule()\n",
    "\n",
    "water.XYZ = (\"bohr\",\n",
    "             \"O\",  0.00000000,   0.00000000,   0.12395915,\n",
    "             \"H\",  0.00000000,  -1.43102686,  -0.98366080,\n",
    "             \"H\",  0.00000000,   1.43102686,  -0.98366080)\n",
    "\n",
    "# molecular-frame dipole moment (au)\n",
    "water.dip = [0, 0, -0.7288]\n",
    "\n",
    "# molecular-frame polarizability tensor (au)\n",
    "water.pol = [[9.1369, 0, 0], [0, 9.8701, 0], [0, 0, 9.4486]]\n",
    "\n",
    "water.frame=\"ipas\"\n",
    "\n",
    "Jmax = 10\n",
    "water.sym = \"C2v\"\n",
    "\n",
    "sol = solve(water, Jmax=Jmax)\n",
    "\n",
    "# laboratory-frame dipole moment operator\n",
    "dip = LabTensor(water.dip, sol)\n",
    "\n",
    "# laboratory-frame polarizability tensor\n",
    "pol = LabTensor(water.pol, sol)\n",
    "\n",
    "# field-free Hamiltonian\n",
    "h0 = LabTensor(water, sol)"
   ]
  },
  {
   "cell_type": "markdown",
   "id": "1706bb18",
   "metadata": {},
   "source": [
    "In the dipole approximation, the interaction of a molecule with field $E(t)$ can be described by a Hamiltonian $H(t) = H_0 -\\sum_{a=x,y,z}\\mu_a E_a(t) -\\frac{1}{2}\\sum_{a,b=x,y,z}\\alpha_{a,b} E_a(t)E_b(t) - ...$, where $H_0$ is the molecular field-free Hamiltonian and $\\mu_a$ and $\\alpha_{a,b}$ denote laboratory-frame dipole moment and polarizability, respectively. Here is an example how we can do it for water molecule `dip`, `pol` and `h0` tensors computed above"
   ]
  },
  {
   "cell_type": "code",
   "execution_count": 2,
   "id": "e87694fc",
   "metadata": {},
   "outputs": [],
   "source": [
    "from richmol.convert_units import AUdip_x_Vm_to_invcm, AUpol_x_Vm_to_invcm\n",
    "\n",
    "# X, Y, Z components of field\n",
    "field = [1000, 0, 5000] # field in units of V/m\n",
    "\n",
    "fac1 = AUdip_x_Vm_to_invcm() # converts dipole(au) * field(V/m) into energy(cm^-1)\n",
    "fac2 = AUdip_x_Vm_to_invcm() # converts polarizability(au) * field(V/m)**2 into energy(cm^-1)\n",
    "\n",
    "# field-interaction Hamiltonian\n",
    "Hp = -fac1 * dip * field - 1/2 * fac2 * pol * field\n",
    "\n",
    "# total Hamiltonian\n",
    "H = h0 + Hp"
   ]
  },
  {
   "cell_type": "markdown",
   "id": "f0e6de9d",
   "metadata": {},
   "source": [
    "The product of a tensor with field each time generates a new tensor object, which sometimes, when the field is updated too often, can be inefficient. Instead, one can multiply tensor with field in-place"
   ]
  },
  {
   "cell_type": "code",
   "execution_count": 3,
   "id": "5852441d",
   "metadata": {},
   "outputs": [],
   "source": [
    "fac1 = AUdip_x_Vm_to_invcm() # converts dipole(au) * field(V/m) into energy(cm^-1)\n",
    "fac2 = AUdip_x_Vm_to_invcm() # converts polarizability(au) * field(V/m)**2 into energy(cm^-1)\n",
    "\n",
    "Hdip = -fac1 * dip\n",
    "Hpol = - 1/2 * fac2 * pol\n",
    "\n",
    "for fz in np.linspace(0, 100000, 10):\n",
    "    field = [1000, 0, fz]\n",
    "    Hdip.field(field)\n",
    "    Hpol.field(field)\n",
    "    H = h0 + Hdip + Hpol"
   ]
  },
  {
   "cell_type": "markdown",
   "id": "c9632f1f",
   "metadata": {},
   "source": [
    "Hamiltonian has almost all properties of a tensor object. For example, one can use `tomat` method to obtain its matrix elements. Here is how we can use `tomat` to compute Stark energies for different field strengths by diagonalizing the matrix representation of Hamiltonian"
   ]
  },
  {
   "cell_type": "code",
   "execution_count": 4,
   "id": "14607bd5",
   "metadata": {},
   "outputs": [
    {
     "name": "stdout",
     "output_type": "stream",
     "text": [
      "run Fz = 0.0\n",
      "run Fz = 11111.111111111111\n",
      "run Fz = 22222.222222222223\n",
      "run Fz = 33333.333333333336\n",
      "run Fz = 44444.444444444445\n",
      "run Fz = 55555.555555555555\n",
      "run Fz = 66666.66666666667\n",
      "run Fz = 77777.77777777778\n",
      "run Fz = 88888.88888888889\n",
      "run Fz = 100000.0\n"
     ]
    }
   ],
   "source": [
    "fac1 = AUdip_x_Vm_to_invcm() # converts dipole(au) * field(V/m) into energy(cm^-1)\n",
    "\n",
    "Hdip = -fac1 * dip\n",
    "\n",
    "enr = []\n",
    "\n",
    "for fz in np.linspace(0, 100000, 10):\n",
    "    print(f\"run Fz = {fz}\")\n",
    "    field = [0, 0, fz]\n",
    "    Hdip.field(field)\n",
    "    H = h0 + Hdip\n",
    "    e, v = np.linalg.eigh(H.tomat(form=\"full\", repres=\"dense\"))\n",
    "    enr.append(e)"
   ]
  },
  {
   "cell_type": "markdown",
   "id": "47ba7a69",
   "metadata": {},
   "source": [
    "Plot Stark energies and assignment for a selected state"
   ]
  },
  {
   "cell_type": "code",
   "execution_count": 9,
   "id": "6ff46b2c",
   "metadata": {},
   "outputs": [
    {
     "data": {
      "image/png": "[encoded data removed]",
      "text/plain": [
       "<Figure size 432x288 with 1 Axes>"
      ]
     },
     "metadata": {
      "needs_background": "light"
     },
     "output_type": "display_data"
    }
   ],
   "source": [
    "import matplotlib.pyplot as plt\n",
    "\n",
    "enr = np.array(enr)\n",
    "assign, _ = h0.assign(form=\"full\")\n",
    "\n",
    "# print Stark curve and assignment for selected state index\n",
    "\n",
    "state_index = 14\n",
    "state_assign = f\"J = {assign['J'][state_index]}, \" + \\\n",
    "               f\"sym = {assign['sym'][state_index]}, \" + \\\n",
    "               f\"m = {assign['m'][state_index]}, \" + \\\n",
    "               f\"k = {assign['k'][state_index]}\"\n",
    "\n",
    "plt.plot(np.linspace(0, 100000, 10), enr[:, state_index])\n",
    "plt.suptitle(state_assign)\n",
    "plt.show()"
   ]
  },
  {
   "cell_type": "code",
   "execution_count": null,
   "id": "46e27048",
   "metadata": {},
   "outputs": [],
   "source": []
  }
 ],
 "metadata": {
  "kernelspec": {
   "display_name": "Python 3",
   "language": "python",
   "name": "python3"
  },
  "language_info": {
   "codemirror_mode": {
    "name": "ipython",
    "version": 3
   },
   "file_extension": ".py",
   "mimetype": "text/x-python",
   "name": "python",
   "nbconvert_exporter": "python",
   "pygments_lexer": "ipython3",
   "version": "3.8.5"
  }
 },
 "nbformat": 4,
 "nbformat_minor": 5
}
