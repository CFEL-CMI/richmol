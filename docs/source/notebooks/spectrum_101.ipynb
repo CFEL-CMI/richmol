{
 "cells": [
  {
   "cell_type": "markdown",
   "id": "6a119d1c",
   "metadata": {},
   "source": [
    "# Spectra"
   ]
  },
  {
   "cell_type": "markdown",
   "id": "17906b91",
   "metadata": {},
   "source": [
    "Here you will learn how to obtain field-free and -dressed molecular spectra. First Richmol's `spectrum` module is imported:"
   ]
  },
  {
   "cell_type": "code",
   "execution_count": 1,
   "id": "b28c5315-0724-480c-aae3-222e7ea0fdef",
   "metadata": {},
   "outputs": [
    {
     "name": "stderr",
     "output_type": "stream",
     "text": [
      "WARNING:absl:No GPU/TPU found, falling back to CPU. (Set TF_CPP_MIN_LOG_LEVEL=0 and rerun for more info.)\n"
     ]
    }
   ],
   "source": [
    "from richmol import spectrum"
   ]
  },
  {
   "cell_type": "markdown",
   "id": "e5122e68-615d-4443-b765-ff80e62395d6",
   "metadata": {},
   "source": [
    "A new-format Richmol file, containing energies of field-free states and matrix elements of field tensor operators for water, is downloaded from `zenodo`:"
   ]
  },
  {
   "cell_type": "code",
   "execution_count": 2,
   "id": "1f33d4b2",
   "metadata": {},
   "outputs": [
    {
     "name": "stdout",
     "output_type": "stream",
     "text": [
      "download richmol file from https://zenodo.org/record/4986069/files/h2o_p48_j40_emax4000_rovib.h5\n",
      "download complete\n"
     ]
    }
   ],
   "source": [
    "import urllib.request\n",
    "import os\n",
    "import h5py\n",
    "\n",
    "# GET RICHMOL FILE\n",
    "richmol_file = \"h2o_p48_j40_emax4000_rovib.h5\"\n",
    "if not os.path.exists(richmol_file):\n",
    "    url = \"https://zenodo.org/record/4986069/files/h2o_p48_j40_emax4000_rovib.h5\"\n",
    "    print(f\"download richmol file from {url}\")\n",
    "    urllib.request.urlretrieve(url, \"h2o_p48_j40_emax4000_rovib.h5\")\n",
    "    print(\"download complete\")"
   ]
  },
  {
   "cell_type": "markdown",
   "id": "c4a12eaa-6cce-4ffb-b31e-0083fd200bc4",
   "metadata": {},
   "source": [
    "This new-format Richmol file contains following datasets:"
   ]
  },
  {
   "cell_type": "code",
   "execution_count": 3,
   "id": "c951cad7-0343-4b6b-821f-96735d3abd08",
   "metadata": {},
   "outputs": [
    {
     "name": "stdout",
     "output_type": "stream",
     "text": [
      "Available datasets\n",
      "'dipole'\n",
      "\t Cartesian tensor operator, store date: 2021-06-18 17:57:50, comment: electric dipole moment in Debye, dipole moment surface: [DOI:10.1063/1.5043545]\n",
      "'h0'\n",
      "\t Cartesian tensor operator, store date: 2021-06-18 17:56:49, comment: Authors: Andrey Yachmenev (CFEL/DESY) and Sergei Yurchenko (UCL/London). TROVE variationally calculated of ro-vibrational energies and transitions for water H_2^16O. The data is truncated at energies below 4000 cm^-1. Basis: P48, J: 0..40, PES: [DOI:10.1098/rsta.2017.0149]. Calculated ro-vibrational energies substituted by empirical values from [DOI:10.1016/j.jqsrt.2012.10.002] where available. This data was produced in the following works [DOI:10.1103/PhysRevResearch.2.023091], [DOI:10.1039/D0CP01667E]. Notes on state assignment: the k-group rovibrational assignment is given by a string containing rovibrational quanta in the following order 'k tau v1 v2 v3 rot_sym vib_sym repl', where k and tau are rotational quantum numbers, v1, v2, v3 are vibrational quanta, rot_sym, vib_sym are symmetries of rotational and vibrational components, respectively, and repl = 'm' or 'c' means that the corresponding energy value was substituted by an empirical value form MARVEL analysis (repl='m') or left as calculated (repl='c').\n",
      "'quad'\n",
      "\t Cartesian tensor operator, store date: 2021-06-18 17:59:36, comment: electric quadrupole moment in atomic units, ab initio surface: CCSD(T)/aug-cc-pwCVQZ using CFOUR [DOI:10.1103/PhysRevResearch.2.023091]\n"
     ]
    }
   ],
   "source": [
    "with h5py.File(richmol_file, \"r\") as fl:\n",
    "    print(\"Available datasets\")\n",
    "    for key, val in fl.items():\n",
    "        print(f\"'{key}'\")                   # dataset name\n",
    "        print(\"\\t\", val.attrs[\"__doc__\"])   # dataset description"
   ]
  },
  {
   "cell_type": "markdown",
   "id": "f930d0cd",
   "metadata": {},
   "source": [
    "## Field-free spectrum"
   ]
  },
  {
   "cell_type": "markdown",
   "id": "fc5022e3",
   "metadata": {},
   "source": [
    "The field-free spectrum of the electric dipole moment of water is obtained."
   ]
  },
  {
   "cell_type": "markdown",
   "id": "d70dff5e",
   "metadata": {},
   "source": [
    "### Initialization"
   ]
  },
  {
   "cell_type": "markdown",
   "id": "05d3958a",
   "metadata": {},
   "source": [
    "For initialization of a `FieldFreeSpec` object, the path to the Richmol file itself and the names of datasets containing field-free states and matrix elements of field tensor operator of interest need to be given. Furthermore, the keyword arguments `type` (coupling moment type), `order` (coupling moment order) and `units` (coupling moment units) can be used. These keyword arguments ensure application of correct selection rules, absorption intensity function and unit conversion factors during computations. To narrow down molecular states of interest, the keyword arguments `j_max` (maxiumum value of J / F quantum number) and `e_max` (maximum value of energy) are available:"
   ]
  },
  {
   "cell_type": "code",
   "execution_count": 4,
   "id": "9b7f9c87",
   "metadata": {},
   "outputs": [],
   "source": [
    "# INITIALIZATION\n",
    "free_spec = spectrum.FieldFreeSpec(\n",
    "    richmol_file,\n",
    "    names = ['h0', 'dipole'],\n",
    "    type = 'elec',\n",
    "    order = 'dip',\n",
    "    units = 'Debye',\n",
    "    j_max = 10,\n",
    "    e_max = 1e4\n",
    ")"
   ]
  },
  {
   "cell_type": "markdown",
   "id": "759d2b4b",
   "metadata": {},
   "source": [
    "When intializing a `FieldFreeSpec` object from old-format Richmol files, the keyword argument `names` is replaced by the keyword argument `matelem`, which represents the path to old-format Richmol files containing matrix elements of the field tensor operator of interest. Note that in this case the argument `richmol_file` represents the path to an old-format Richmol file containing energies of field-free states.\n",
    "\n",
    "During intialization a path to a spectrum file, into which important results will be written, is created:"
   ]
  },
  {
   "cell_type": "code",
   "execution_count": 5,
   "id": "a6744aec-03c1-40fc-a43a-73a2aff6b65e",
   "metadata": {},
   "outputs": [
    {
     "name": "stdout",
     "output_type": "stream",
     "text": [
      "spectrum file :  dip_jmax10.0.hdf5\n"
     ]
    }
   ],
   "source": [
    "print('spectrum file : ', free_spec.out_f)"
   ]
  },
  {
   "cell_type": "markdown",
   "id": "3a2e3255",
   "metadata": {},
   "source": [
    "### Linestrength"
   ]
  },
  {
   "cell_type": "markdown",
   "id": "a317ada2",
   "metadata": {},
   "source": [
    "To obtain linestrengths the `linestr()` function is called. The keywword argument `thresh` is used to define the linestrength threshold below which to neglect transitions:"
   ]
  },
  {
   "cell_type": "code",
   "execution_count": 6,
   "id": "da11c39b",
   "metadata": {},
   "outputs": [
    {
     "name": "stdout",
     "output_type": "stream",
     "text": [
      "\n",
      "  COMPUTED ASSIGNMENTS ...\n",
      "\n",
      "      filename = h2o_p48_j40_emax4000_rovib.h5\n",
      "      j_min = 0.0\n",
      "      j_max = 10.0\n",
      "      e_max = 10000.0\n",
      "\n",
      "  COMPUTED LINESTRENGTHS ...\n",
      "\n",
      "      filename = h2o_p48_j40_emax4000_rovib.h5\n",
      "      type = elec\n",
      "      order = dip\n",
      "      linestr_thresh = 1e-20\n"
     ]
    }
   ],
   "source": [
    "# LINESTRENGTH\n",
    "free_spec.linestr(thresh=1e-20)"
   ]
  },
  {
   "cell_type": "markdown",
   "id": "ebb88c34",
   "metadata": {},
   "source": [
    "Computed assignments and linestrengths have now been written to datasets of the groups 'assign' and 'spec' of the spectrum file."
   ]
  },
  {
   "cell_type": "markdown",
   "id": "5b7bb1d8",
   "metadata": {},
   "source": [
    "### Absorption intensity"
   ]
  },
  {
   "cell_type": "markdown",
   "id": "4dce088b",
   "metadata": {},
   "source": [
    "Finally the absorption intensities can be computed by calling the function `abs_intens()`. The keyword arguments `abun` (natural terrestrial isotopic abundance), `temp` (temperature), `part_sum` (total internal partition sum) and `thresh` (absorption intensity threshold below which to neglect transitions) can be used to obtain a customized solution.\n",
    "\n",
    "In this computational step transitions and their corresponding absorption intensities can additionaly be filtered to ones liking (e.g. into transitions, which are allowed / forbidden w.r.t. nuclear spin). To do so, just pass the keyword argument `filter`, which represents a list containing filtering functions making use of the keyword arguments `sym` (total symmetry of states) and `qstr` (string containing other physical quanities of states). By default no filtering will be applied:"
   ]
  },
  {
   "cell_type": "code",
   "execution_count": 7,
   "id": "aec4eb48",
   "metadata": {},
   "outputs": [
    {
     "name": "stdout",
     "output_type": "stream",
     "text": [
      "\n",
      "  COMPUTED ABSORPTION INTENSITIES ...\n",
      "\n",
      "      type = elec\n",
      "      order = dip\n",
      "      units = Debye\n",
      "      abun = 1.0\n",
      "      temp = 296.0\n",
      "      part_sum = 174.5813\n",
      "\n",
      "  FILTERED ABSORPTION INTENSITIES ...\n",
      "\n",
      "      abs_intens_thresh = 1e-36\n",
      "      filters = ['all_']\n",
      "\n",
      "  PLOTTED ABSORPTION INTENSITIES ...\n",
      "\n",
      "      abs_intens_thresh = 1e-36\n",
      "      filters = ['all_']\n",
      "\n"
     ]
    }
   ],
   "source": [
    "# ABSORPTION INTENSITY\n",
    "temp = 296.0\n",
    "part_sum = 174.5813\n",
    "free_spec.abs_intens(temp, part_sum, abun=1.0, thresh=1e-36)"
   ]
  },
  {
   "cell_type": "markdown",
   "id": "02b77f4a",
   "metadata": {},
   "source": [
    "The datasets of the group 'spec' of the spectrum file have now been updated with the computed absorption intensities. Since no filters were applied here, a new contiguous dataset 'all_', which contains the whole spectrum, has been created. Also an absorption intensity plot has been saved to the current working directory.\n",
    "\n",
    "To show absorption intensities in this example, a plot is created manually:"
   ]
  },
  {
   "cell_type": "code",
   "execution_count": 8,
   "id": "d68c6261-836c-42b3-b620-bc68bb61cb50",
   "metadata": {},
   "outputs": [
    {
     "data": {
      "image/png": "[encoded data removed]",
      "text/plain": [
       "<Figure size 432x288 with 1 Axes>"
      ]
     },
     "metadata": {
      "needs_background": "light"
     },
     "output_type": "display_data"
    }
   ],
   "source": [
    "import matplotlib.pyplot as plt\n",
    "\n",
    "# PLOT\n",
    "with h5py.File(free_spec.out_f, 'r') as spec_file:\n",
    "    spec = spec_file['all_'][:]\n",
    "    plt.scatter(spec['freq'], spec['intens'])\n",
    "plt.xlabel(r'frequency ($cm^{-1}$)')\n",
    "plt.ylabel(r'intensity ($cm^{-1}$/($molecule \\cdot cm^{-2}$))')\n",
    "plt.yscale('log')\n",
    "plt.ylim(bottom = free_spec.abs_intens_thresh)\n",
    "plt.title('absorption intensities')\n",
    "plt.show()"
   ]
  },
  {
   "cell_type": "code",
   "execution_count": null,
   "id": "2a7474f3-e7b1-43c9-8097-1f44570bbd33",
   "metadata": {},
   "outputs": [],
   "source": []
  }
 ],
 "metadata": {
  "kernelspec": {
   "display_name": "Richmol",
   "language": "python",
   "name": "richmol"
  },
  "language_info": {
   "codemirror_mode": {
    "name": "ipython",
    "version": 3
   },
   "file_extension": ".py",
   "mimetype": "text/x-python",
   "name": "python",
   "nbconvert_exporter": "python",
   "pygments_lexer": "ipython3",
   "version": "3.6.13"
  }
 },
 "nbformat": 4,
 "nbformat_minor": 5
}
