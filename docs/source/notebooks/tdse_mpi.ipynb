{
 "cells": [
  {
   "cell_type": "markdown",
   "id": "3df36071-f711-41d1-b202-b3b5aa274e58",
   "metadata": {},
   "source": [
    "# TDSE with MPI"
   ]
  },
  {
   "cell_type": "markdown",
   "id": "79a53c29-2d9e-410a-b5e7-7068f3b1b0a7",
   "metadata": {},
   "source": [
    "Here you will learn how to speed up you `TDSE` code using MPI. First a new-format Richmol file, containing energies of field-free states and matrix elements of field tensor operators for water, is downloaded from `zenodo`:"
   ]
  },
  {
   "cell_type": "code",
   "execution_count": 1,
   "id": "9d4ed92f-236f-4809-8fad-b085195010d2",
   "metadata": {},
   "outputs": [],
   "source": [
    "import urllib.request\n",
    "import os\n",
    "import h5py\n",
    "\n",
    "# GET RICHMOL FILE\n",
    "richmol_file = \"h2o_p48_j40_emax4000_rovib.h5\"\n",
    "if not os.path.exists(richmol_file):\n",
    "    url = \"https://zenodo.org/record/4986069/files/h2o_p48_j40_emax4000_rovib.h5\"\n",
    "    print(f\"download richmol file from {url}\")\n",
    "    urllib.request.urlretrieve(url, \"h2o_p48_j40_emax4000_rovib.h5\")\n",
    "    print(\"download complete\")"
   ]
  },
  {
   "cell_type": "markdown",
   "id": "c81acf58-3968-4332-9fb5-a9359e9bd46c",
   "metadata": {},
   "source": [
    "## Time-propagation without MPI"
   ]
  },
  {
   "cell_type": "markdown",
   "id": "7add257f-f030-477b-87e7-9b6aaf26e8a9",
   "metadata": {},
   "source": [
    "Consider the interaction between electric dipole moment and external dc field. The needed cartesian tensor operators and external field are initialized:"
   ]
  },
  {
   "cell_type": "code",
   "execution_count": 2,
   "id": "43b7ee81-800d-489b-87c6-83db0dc6df66",
   "metadata": {},
   "outputs": [
    {
     "name": "stderr",
     "output_type": "stream",
     "text": [
      "WARNING:absl:No GPU/TPU found, falling back to CPU. (Set TF_CPP_MIN_LOG_LEVEL=0 and rerun for more info.)\n"
     ]
    }
   ],
   "source": [
    "from richmol.field import CarTens\n",
    "from richmol.convert_units import Debye_x_Vm_to_invcm\n",
    "\n",
    "h0 = CarTens(richmol_file, name='h0')\n",
    "mu = CarTens(richmol_file, name='dipole') \\\n",
    "    * (-0.5 * Debye_x_Vm_to_invcm())\n",
    "\n",
    "# INITIALIZE EXTERNAL DC FIELD\n",
    "field = lambda t : [0, 0, t * 1e5 ] # (V/m)"
   ]
  },
  {
   "cell_type": "markdown",
   "id": "c0ef4058-6488-4453-92bb-8999a773be69",
   "metadata": {},
   "source": [
    "A `TDSE` solver and initial state vectors, spanning the space of field-free states, are initialized:"
   ]
  },
  {
   "cell_type": "code",
   "execution_count": 3,
   "id": "6fcfc327-3574-4a25-920b-d9a72d908b6d",
   "metadata": {},
   "outputs": [
    {
     "name": "stdout",
     "output_type": "stream",
     "text": [
      "single process propagates 8995 vecs\n"
     ]
    }
   ],
   "source": [
    "from richmol.tdse import TDSE\n",
    "\n",
    "# INITIALIZE TDSE AND STATES\n",
    "tdse = TDSE(t_start=0, t_end=1, dt=0.01, t_units=\"ps\", enr_units=\"invcm\")\n",
    "vecs = tdse.init_state(h0, temp=None)\n",
    "print(\"single process propagates {} vecs\".format(len(vecs)))"
   ]
  },
  {
   "cell_type": "markdown",
   "id": "abeef1b6-427d-4934-a377-a1e209c79fb7",
   "metadata": {},
   "source": [
    "The initial states are propagated in time:"
   ]
  },
  {
   "cell_type": "code",
   "execution_count": 4,
   "id": "bd556802-27c0-4be3-a6b3-492fa9e5e07a",
   "metadata": {},
   "outputs": [
    {
     "name": "stdout",
     "output_type": "stream",
     "text": [
      "runtime without MPI : 79.436 sec\n"
     ]
    }
   ],
   "source": [
    "import time\n",
    "\n",
    "time_0 = time.time()\n",
    "for i, t in enumerate(tdse.time_grid()):\n",
    "    vecs_, _ = tdse.update(\n",
    "        mu.field(field(t)), H0=h0, vecs=vecs, matvec_lib='scipy'\n",
    "    )\n",
    "    vecs = vecs_\n",
    "runtime = time.time() - time_0\n",
    "print('runtime without MPI : {} sec'.format(round(runtime, 3)))"
   ]
  },
  {
   "cell_type": "markdown",
   "id": "7c70c02e-14d3-4b6c-a812-c9c7017e9563",
   "metadata": {},
   "source": [
    "## Time-propagation with MPI"
   ]
  },
  {
   "cell_type": "markdown",
   "id": "dc213b2b-c8c4-4c86-a64c-233f57e94aa3",
   "metadata": {},
   "source": [
    "The next code block can be ignored, since it is only needed to intialize an MPI environment in jupyter lab. Similarly, in the following code blocks the lines containing `%%px` can be ignored. To run your own script in an MPI environment simply execute it with `mpirun -n <n_tasks> python3 <script_name>`."
   ]
  },
  {
   "cell_type": "code",
   "execution_count": 5,
   "id": "86a8b57c-c668-461a-9cbc-833b8eb6bb79",
   "metadata": {},
   "outputs": [],
   "source": [
    "# IGNORE THIS BLOCK\n",
    "import ipyparallel\n",
    "cluster = ipyparallel.Client()"
   ]
  },
  {
   "cell_type": "markdown",
   "id": "25780752-a038-49a0-93f2-5e06923de630",
   "metadata": {},
   "source": [
    "Initialize MPI varibales, cartesian tensor operators and external field:"
   ]
  },
  {
   "cell_type": "code",
   "execution_count": 7,
   "id": "42b131a4-6334-4302-9744-3e6ec5e7ef8e",
   "metadata": {},
   "outputs": [
    {
     "name": "stdout",
     "output_type": "stream",
     "text": [
      "[stdout:0] world size :  16\n"
     ]
    }
   ],
   "source": [
    "%%px\n",
    "\n",
    "from mpi4py import MPI\n",
    "from richmol.field import CarTens\n",
    "from richmol.convert_units import Debye_x_Vm_to_invcm\n",
    "\n",
    "# INITIALIZE MPI VARIABLES\n",
    "comm = MPI.COMM_WORLD\n",
    "rank = comm.Get_rank()\n",
    "world_size = comm.Get_size()\n",
    "if rank == 0:\n",
    "    print('world size : ', world_size)\n",
    "\n",
    "# INITIALIZE CARTESIAN TENSOR OPERATORS\n",
    "richmol_file = \"h2o_p48_j40_emax4000_rovib.h5\"\n",
    "h0 = CarTens(richmol_file, name='h0')\n",
    "mu = CarTens(richmol_file, name='dipole') \\\n",
    "    * (-0.5 * Debye_x_Vm_to_invcm())\n",
    "\n",
    "# INITIALIZE EXTERNAL DC FIELD\n",
    "field = lambda t : [0, 0, t * 1e5 ] # (V/m)"
   ]
  },
  {
   "cell_type": "markdown",
   "id": "8138737e-3d59-4bf8-be23-843cc7dce4f3",
   "metadata": {},
   "source": [
    "A `TDSE` solver and initial state vectors, spanning the space of field-free states, are initialized. This time, however, initial state vectors are distributed over the MPI environment:"
   ]
  },
  {
   "cell_type": "code",
   "execution_count": 8,
   "id": "bf9d67a6-0d7a-4c20-8570-acf9d184cb2d",
   "metadata": {},
   "outputs": [
    {
     "name": "stdout",
     "output_type": "stream",
     "text": [
      "[stdout:0] process with `rank` = '0' propagates 563 states\n",
      "[stdout:1] process with `rank` = '1' propagates 563 states\n",
      "[stdout:2] process with `rank` = '2' propagates 563 states\n",
      "[stdout:3] process with `rank` = '3' propagates 563 states\n",
      "[stdout:4] process with `rank` = '4' propagates 563 states\n",
      "[stdout:5] process with `rank` = '5' propagates 563 states\n",
      "[stdout:6] process with `rank` = '6' propagates 563 states\n",
      "[stdout:7] process with `rank` = '7' propagates 563 states\n",
      "[stdout:8] process with `rank` = '8' propagates 563 states\n",
      "[stdout:9] process with `rank` = '9' propagates 563 states\n",
      "[stdout:10] process with `rank` = '10' propagates 563 states\n",
      "[stdout:11] process with `rank` = '11' propagates 563 states\n",
      "[stdout:12] process with `rank` = '12' propagates 563 states\n",
      "[stdout:13] process with `rank` = '13' propagates 563 states\n",
      "[stdout:14] process with `rank` = '14' propagates 563 states\n",
      "[stdout:15] process with `rank` = '15' propagates 550 states\n"
     ]
    }
   ],
   "source": [
    "%%px\n",
    "\n",
    "from richmol.tdse import TDSE\n",
    "\n",
    "# INITIALIZE TDSE AND STATES\n",
    "tdse = TDSE(t_start=0, t_end=1, dt=0.01, t_units=\"ps\", enr_units=\"invcm\")\n",
    "vecs = tdse.init_state(h0, temp=None)\n",
    "\n",
    "# DISTRIBUTE INITIAL STATES\n",
    "n_vecs = int(len(vecs) / world_size + 1)\n",
    "if not rank == (world_size - 1):\n",
    "    vecs = vecs[rank * n_vecs : (rank + 1) * n_vecs]\n",
    "else:\n",
    "    vecs = vecs[rank * n_vecs :]\n",
    "print(\"process with `rank` = '{}' propagates {} states\".format(rank, len(vecs)))"
   ]
  },
  {
   "cell_type": "markdown",
   "id": "85de730f-aa65-48f6-b975-ed7534a54c5d",
   "metadata": {},
   "source": [
    "The intial states are propagated in time:"
   ]
  },
  {
   "cell_type": "code",
   "execution_count": 9,
   "id": "c566630f-88a3-4270-83e7-531397e0f8ec",
   "metadata": {},
   "outputs": [
    {
     "name": "stdout",
     "output_type": "stream",
     "text": [
      "[stdout:0] runtime with MPI : 22.315 sec\n"
     ]
    }
   ],
   "source": [
    "%%px\n",
    "\n",
    "import time\n",
    "\n",
    "comm.Barrier()\n",
    "time_0 = time.time()\n",
    "for i, t in enumerate(tdse.time_grid()):\n",
    "    vecs_, _ = tdse.update(\n",
    "        mu.field(field(t)), H0=h0, vecs=vecs, matvec_lib='scipy'\n",
    "    )\n",
    "    vecs = vecs_\n",
    "comm.Barrier()\n",
    "runtime = time.time() - time_0\n",
    "if rank == 0:\n",
    "    print('runtime with MPI : {} sec'.format(round(runtime, 3)))"
   ]
  },
  {
   "cell_type": "code",
   "execution_count": null,
   "id": "042762a6-a2d0-46c2-abb1-d17d769e66c4",
   "metadata": {},
   "outputs": [],
   "source": []
  }
 ],
 "metadata": {
  "kernelspec": {
   "display_name": "Richmol",
   "language": "python",
   "name": "richmol"
  },
  "language_info": {
   "codemirror_mode": {
    "name": "ipython",
    "version": 3
   },
   "file_extension": ".py",
   "mimetype": "text/x-python",
   "name": "python",
   "nbconvert_exporter": "python",
   "pygments_lexer": "ipython3",
   "version": "3.6.13"
  }
 },
 "nbformat": 4,
 "nbformat_minor": 5
}
