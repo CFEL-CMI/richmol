{
 "cells": [
  {
   "cell_type": "markdown",
   "id": "3df36071-f711-41d1-b202-b3b5aa274e58",
   "metadata": {},
   "source": [
    "# TDSE with MPI"
   ]
  },
  {
   "cell_type": "markdown",
   "id": "79a53c29-2d9e-410a-b5e7-7068f3b1b0a7",
   "metadata": {},
   "source": [
    "Here you will learn how to speed up you `TDSE` code using MPI. First a new-format Richmol file, containing energies of field-free states and matrix elements of field tensor operators for water, is downloaded from `zenodo`:"
   ]
  },
  {
   "cell_type": "code",
   "execution_count": 1,
   "id": "9d4ed92f-236f-4809-8fad-b085195010d2",
   "metadata": {},
   "outputs": [],
   "source": [
    "import urllib.request\n",
    "import os\n",
    "import h5py\n",
    "\n",
    "# GET RICHMOL FILE\n",
    "richmol_file = \"h2o_p48_j40_emax4000_rovib.h5\"\n",
    "if not os.path.exists(richmol_file):\n",
    "    url = \"https://zenodo.org/record/4986069/files/h2o_p48_j40_emax4000_rovib.h5\"\n",
    "    print(f\"download richmol file from {url}\")\n",
    "    urllib.request.urlretrieve(url, \"h2o_p48_j40_emax4000_rovib.h5\")\n",
    "    print(\"download complete\")"
   ]
  },
  {
   "cell_type": "markdown",
   "id": "ecba2f01-cc94-4474-812a-7fa9bed7f777",
   "metadata": {},
   "source": [
    "This new-format Richmol file contains following datasets:"
   ]
  },
  {
   "cell_type": "code",
   "execution_count": 2,
   "id": "646b9702-64cb-4ff3-9efa-812a03b29f26",
   "metadata": {},
   "outputs": [
    {
     "name": "stdout",
     "output_type": "stream",
     "text": [
      "Available datasets\n",
      "'dipole'\n",
      "\t Cartesian tensor operator, store date: 2021-06-18 17:57:50, comment: electric dipole moment in Debye, dipole moment surface: [DOI:10.1063/1.5043545]\n",
      "'h0'\n",
      "\t Cartesian tensor operator, store date: 2021-06-18 17:56:49, comment: Authors: Andrey Yachmenev (CFEL/DESY) and Sergei Yurchenko (UCL/London). TROVE variationally calculated of ro-vibrational energies and transitions for water H_2^16O. The data is truncated at energies below 4000 cm^-1. Basis: P48, J: 0..40, PES: [DOI:10.1098/rsta.2017.0149]. Calculated ro-vibrational energies substituted by empirical values from [DOI:10.1016/j.jqsrt.2012.10.002] where available. This data was produced in the following works [DOI:10.1103/PhysRevResearch.2.023091], [DOI:10.1039/D0CP01667E]. Notes on state assignment: the k-group rovibrational assignment is given by a string containing rovibrational quanta in the following order 'k tau v1 v2 v3 rot_sym vib_sym repl', where k and tau are rotational quantum numbers, v1, v2, v3 are vibrational quanta, rot_sym, vib_sym are symmetries of rotational and vibrational components, respectively, and repl = 'm' or 'c' means that the corresponding energy value was substituted by an empirical value form MARVEL analysis (repl='m') or left as calculated (repl='c').\n",
      "'quad'\n",
      "\t Cartesian tensor operator, store date: 2021-06-18 17:59:36, comment: electric quadrupole moment in atomic units, ab initio surface: CCSD(T)/aug-cc-pwCVQZ using CFOUR [DOI:10.1103/PhysRevResearch.2.023091]\n"
     ]
    }
   ],
   "source": [
    "with h5py.File(richmol_file, \"r\") as fl:\n",
    "    print(\"Available datasets\")\n",
    "    for key, val in fl.items():\n",
    "        print(f\"'{key}'\")                   # dataset name\n",
    "        print(\"\\t\", val.attrs[\"__doc__\"])   # dataset description"
   ]
  },
  {
   "cell_type": "markdown",
   "id": "548ca69b-a283-437d-b295-82034f7c27a0",
   "metadata": {},
   "source": [
    "Consider the interaction between electric dipole moment and external dc field:"
   ]
  },
  {
   "cell_type": "code",
   "execution_count": 24,
   "id": "689f7861-9f20-4243-9b60-a6221a478671",
   "metadata": {},
   "outputs": [],
   "source": [
    "from richmol.field import CarTens\n",
    "from richmol.convert_units import Debye_x_Vm_to_invcm\n",
    "\n",
    "# INITIALIZE CARTESIAN TENSOR OPERATORS\n",
    "def filt(**kwargs):\n",
    "    pass_J, pass_enr = True, True\n",
    "    if 'J' in kwargs:\n",
    "        pass_J = kwargs['J'] <= 5\n",
    "    if 'enr' in kwargs:\n",
    "        pass_enr = kwargs['enr'] <= 1e3\n",
    "    return pass_J and pass_enr\n",
    "h0 = CarTens(richmol_file, name='h0', bra=filt, ket=filt)\n",
    "mu = CarTens(richmol_file, name='dipole', bra=filt, ket=filt) \\\n",
    "    * (-0.5 * Debye_x_Vm_to_invcm())\n",
    "\n",
    "# INITIALIZE EXTERNAL DC FIELD\n",
    "field = lambda t : [0, 0, t * 1e5 ] # (V/m)"
   ]
  },
  {
   "cell_type": "markdown",
   "id": "c81acf58-3968-4332-9fb5-a9359e9bd46c",
   "metadata": {},
   "source": [
    "## Time-propagation without MPI"
   ]
  },
  {
   "cell_type": "markdown",
   "id": "c0ef4058-6488-4453-92bb-8999a773be69",
   "metadata": {},
   "source": [
    "A `TDSE` solver and initial state vectors, spanning the space of field-free states, are initialized:"
   ]
  },
  {
   "cell_type": "code",
   "execution_count": 36,
   "id": "6fcfc327-3574-4a25-920b-d9a72d908b6d",
   "metadata": {},
   "outputs": [
    {
     "name": "stdout",
     "output_type": "stream",
     "text": [
      "number of states to propagate :  286\n"
     ]
    }
   ],
   "source": [
    "from richmol.tdse import TDSE\n",
    "import time\n",
    "\n",
    "# INITIALIZE TDSE AND STATES\n",
    "tdse = TDSE(t_start=0, t_end=1, dt=0.1, t_units=\"ps\", enr_units=\"invcm\")\n",
    "vecs = tdse.init_state(h0, temp=None)\n",
    "print('number of states to propagate : ', vecs.shape[0])"
   ]
  },
  {
   "cell_type": "markdown",
   "id": "abeef1b6-427d-4934-a377-a1e209c79fb7",
   "metadata": {},
   "source": [
    "The initial states are propagated in time:"
   ]
  },
  {
   "cell_type": "code",
   "execution_count": 37,
   "id": "bd556802-27c0-4be3-a6b3-492fa9e5e07a",
   "metadata": {},
   "outputs": [
    {
     "name": "stdout",
     "output_type": "stream",
     "text": [
      "runtime without MPI : 24.2 sec\n"
     ]
    }
   ],
   "source": [
    "time_evolution = [vecs]\n",
    "time_0 = time.time()\n",
    "for i, t in enumerate(tdse.time_grid()):\n",
    "    vecs_, _ = tdse.update(\n",
    "        mu*field(t), H0=h0, vecs=time_evolution[i], matvec_lib='scipy'\n",
    "    )\n",
    "    time_evolution.append(vecs_)\n",
    "runtime = time.time() - time_0\n",
    "print('runtime without MPI : {} sec'.format(round(runtime, 3)))"
   ]
  },
  {
   "cell_type": "markdown",
   "id": "7c70c02e-14d3-4b6c-a812-c9c7017e9563",
   "metadata": {},
   "source": [
    "## Time-propagation with MPI"
   ]
  },
  {
   "cell_type": "markdown",
   "id": "48a1a53e-99ba-4e0e-9df8-ecc4382b6ed6",
   "metadata": {},
   "source": [
    "A `TDSE` solver is initialized (the previously computed initial state vectors are used):"
   ]
  },
  {
   "cell_type": "code",
   "execution_count": 40,
   "id": "bf9d67a6-0d7a-4c20-8570-acf9d184cb2d",
   "metadata": {},
   "outputs": [],
   "source": [
    "# INITIALIZE TDSE\n",
    "tdse = TDSE(t_start=0, t_end=1, dt=0.1, t_units=\"ps\", enr_units=\"invcm\")"
   ]
  },
  {
   "cell_type": "markdown",
   "id": "85de730f-aa65-48f6-b975-ed7534a54c5d",
   "metadata": {},
   "source": [
    "The intial states are propagated in time:"
   ]
  },
  {
   "cell_type": "code",
   "execution_count": 46,
   "id": "c566630f-88a3-4270-83e7-531397e0f8ec",
   "metadata": {},
   "outputs": [
    {
     "name": "stderr",
     "output_type": "stream",
     "text": [
      "UsageError: Cell magic `%%px` not found.\n"
     ]
    }
   ],
   "source": [
    "%%px\n",
    "\n",
    "from mpi4py import MPI\n",
    "\n",
    "# INITIALIZE MPI VARIABLES\n",
    "comm = MPI.COMM_WORLD\n",
    "rank = comm.Get_rank()\n",
    "world_size = comm.Get_size()\n",
    "print('world size : ', world_size)"
   ]
  },
  {
   "cell_type": "code",
   "execution_count": null,
   "id": "6edff298-c735-408d-b123-106372c7b556",
   "metadata": {},
   "outputs": [],
   "source": []
  }
 ],
 "metadata": {
  "kernelspec": {
   "display_name": "Richmol",
   "language": "python",
   "name": "richmol"
  },
  "language_info": {
   "codemirror_mode": {
    "name": "ipython",
    "version": 3
   },
   "file_extension": ".py",
   "mimetype": "text/x-python",
   "name": "python",
   "nbconvert_exporter": "python",
   "pygments_lexer": "ipython3",
   "version": "3.6.13"
  }
 },
 "nbformat": 4,
 "nbformat_minor": 5
}
