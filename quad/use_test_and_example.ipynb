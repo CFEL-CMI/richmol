{
 "cells": [
  {
   "cell_type": "code",
   "execution_count": 1,
   "id": "b4b75eff-6c53-4220-93ab-fe7b7e8bcae6",
   "metadata": {},
   "outputs": [],
   "source": [
    "from richmol_quad import lebedev, lebedev_npoints\n",
    "import numpy as np\n",
    "from scipy.special import sph_harm"
   ]
  },
  {
   "cell_type": "markdown",
   "id": "bb799fb3-ed93-44ad-9700-2f247c391b34",
   "metadata": {},
   "source": [
    "**Use `lebedev_npoints` to obtain number of quadrature points given quadrature order**"
   ]
  },
  {
   "cell_type": "code",
   "execution_count": 2,
   "id": "673e42f4-ce06-416b-aa82-3641491eab0c",
   "metadata": {},
   "outputs": [
    {
     "name": "stdout",
     "output_type": "stream",
     "text": [
      "npoints = lebedev_npoints(order)\n",
      "\n",
      "Wrapper for ``lebedev_npoints``.\n",
      "\n",
      "Parameters\n",
      "----------\n",
      "order : input int\n",
      "\n",
      "Returns\n",
      "-------\n",
      "npoints : int\n",
      "\n"
     ]
    }
   ],
   "source": [
    "print(lebedev_npoints.__doc__)"
   ]
  },
  {
   "cell_type": "code",
   "execution_count": 3,
   "id": "a0241ea9-c505-4d7b-919c-6902d1562b01",
   "metadata": {},
   "outputs": [
    {
     "name": "stdout",
     "output_type": "stream",
     "text": [
      "{0: 6, 1: 6, 2: 14, 3: 26, 4: 38, 5: 50, 6: 74, 7: 86, 8: 110, 9: 146, 10: 170, 11: 194, 12: 230, 13: 266, 14: 302, 15: 350, 16: 434, 17: 590, 18: 770, 19: 974, 20: 1202, 21: 1454, 22: 1730, 23: 2030, 24: 2354, 25: 2702, 26: 3074, 27: 3470, 28: 3890, 29: 4334, 30: 4802, 31: 5294, 32: 5810}\n"
     ]
    }
   ],
   "source": [
    "npoints = {order: lebedev_npoints(order) for order in range(33)}\n",
    "print(npoints)"
   ]
  },
  {
   "cell_type": "markdown",
   "id": "178f361a-ebf0-4083-9eb6-f27d36dd2b76",
   "metadata": {},
   "source": [
    "**Use `lebedev` to obtain Lebedev quadrature given the number of points**"
   ]
  },
  {
   "cell_type": "code",
   "execution_count": 4,
   "id": "204ea4df-a437-4b3c-808e-66620252aba7",
   "metadata": {},
   "outputs": [
    {
     "name": "stdout",
     "output_type": "stream",
     "text": [
      "grid,weight = lebedev(npoints)\n",
      "\n",
      "Wrapper for ``lebedev``.\n",
      "\n",
      "Parameters\n",
      "----------\n",
      "npoints : input int\n",
      "\n",
      "Returns\n",
      "-------\n",
      "grid : rank-2 array('d') with bounds (2,npoints)\n",
      "weight : rank-1 array('d') with bounds (npoints)\n",
      "\n"
     ]
    }
   ],
   "source": [
    "print(lebedev.__doc__)"
   ]
  },
  {
   "cell_type": "code",
   "execution_count": 6,
   "id": "aeb9f233-0672-4d9d-9ce5-3ec973d5e88c",
   "metadata": {},
   "outputs": [],
   "source": [
    "(theta, phi), weights = lebedev(npoints[17])"
   ]
  },
  {
   "cell_type": "code",
   "execution_count": 7,
   "id": "3646e547-7212-46e9-881b-54312ed6fae8",
   "metadata": {},
   "outputs": [
    {
     "name": "stdout",
     "output_type": "stream",
     "text": [
      "[0.0, 3.141592653589793]\n",
      "[-3.0804907695216515, 3.141592653589793]\n"
     ]
    }
   ],
   "source": [
    "print([np.min(theta), np.max(theta)])\n",
    "print([np.min(phi), np.max(phi)])"
   ]
  },
  {
   "cell_type": "markdown",
   "id": "6d69c9c5-45cd-434e-9de6-4df9558538e2",
   "metadata": {},
   "source": [
    "**Test quadrature by integrating overlap of spherical harmonics**"
   ]
  },
  {
   "cell_type": "code",
   "execution_count": 8,
   "id": "270f1d65-2652-43fa-a1b8-29ec950f82df",
   "metadata": {},
   "outputs": [],
   "source": [
    "ylm = np.array([sph_harm(m, l, phi, theta) for l in range(10) for m in range(-l, l+1)])"
   ]
  },
  {
   "cell_type": "code",
   "execution_count": 9,
   "id": "337904a1-d54c-4839-ab1b-1b417284f672",
   "metadata": {},
   "outputs": [],
   "source": [
    "ovlp = np.einsum('ig,jg,g->ij', np.conj(ylm), ylm, weights)"
   ]
  },
  {
   "cell_type": "code",
   "execution_count": 11,
   "id": "2e949745-aa68-4e47-a1b9-fc8fad0e0779",
   "metadata": {},
   "outputs": [
    {
     "data": {
      "text/plain": [
       "5.773159728050814e-15"
      ]
     },
     "execution_count": 11,
     "metadata": {},
     "output_type": "execute_result"
    }
   ],
   "source": [
    "np.max(np.abs(ovlp - np.eye(ovlp.shape[0]))) # check if overlap is identity matrix"
   ]
  },
  {
   "cell_type": "code",
   "execution_count": null,
   "id": "ca3a676e-9859-4590-b9e7-2f6b8eb506f4",
   "metadata": {},
   "outputs": [],
   "source": []
  }
 ],
 "metadata": {
  "kernelspec": {
   "display_name": "Python 3",
   "language": "python",
   "name": "python3"
  },
  "language_info": {
   "codemirror_mode": {
    "name": "ipython",
    "version": 3
   },
   "file_extension": ".py",
   "mimetype": "text/x-python",
   "name": "python",
   "nbconvert_exporter": "python",
   "pygments_lexer": "ipython3",
   "version": "3.8.12"
  }
 },
 "nbformat": 4,
 "nbformat_minor": 5
}
